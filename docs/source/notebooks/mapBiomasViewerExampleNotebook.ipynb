{
 "cells": [
  {
   "cell_type": "markdown",
   "metadata": {},
   "source": [
    "# Visualizing MapBiomas Datasets\n",
    "\n",
    "* MapBiomas datasets are available as an EE asset as part of the awesome GEE community catelogue\n",
    "* See https://gee-community-catalog.org/projects/mapbiomas/ for source documentation\n",
    "\n",
    "\n",
    "\n",
    "Copyright 2024 Ian Housman, Maria Olga Borja\n",
    "\n",
    "Licensed under the Apache License, Version 2.0 (the \"License\");\n",
    "you may not use this file except in compliance with the License.\n",
    "You may obtain a copy of the License at\n",
    "\n",
    "   http://www.apache.org/licenses/LICENSE-2.0\n",
    "\n",
    "Unless required by applicable law or agreed to in writing, software\n",
    "distributed under the License is distributed on an \"AS IS\" BASIS,\n",
    "WITHOUT WARRANTIES OR CONDITIONS OF ANY KIND, either express or implied.\n",
    "See the License for the specific language governing permissions and\n",
    "limitations under the License.\n",
    "\n",
    "[![github](https://img.shields.io/badge/-see%20sources-white?logo=github&labelColor=555)](https://github.com/gee-community/geeviz/blob/master/examples/mapBiomasViewerExampleNotebook.ipynb) \n",
    "[![github](https://colab.research.google.com/assets/colab-badge.svg)](https://colab.research.google.com/github/gee-community/geeViz/blob/master/examples/mapBiomasViewerExampleNotebook.ipynb)"
   ]
  },
  {
   "cell_type": "code",
   "execution_count": 1,
   "metadata": {},
   "outputs": [
    {
     "name": "stdout",
     "output_type": "stream",
     "text": [
      "Initializing GEE\n",
      "Cached project id file path: C:\\Users\\ihousman\\.config\\earthengine\\credentials.proj_id\n",
      "Cached project id: lcms-292214\n"
     ]
    },
    {
     "name": "stderr",
     "output_type": "stream",
     "text": [
      "*** Earth Engine *** Share your feedback by taking our Annual Developer Satisfaction Survey: https://google.qualtrics.com/jfe/form/SV_0JLhFqfSY1uiEaW?source=Init\n"
     ]
    },
    {
     "name": "stdout",
     "output_type": "stream",
     "text": [
      "Successfully initialized\n",
      "geeViz package folder: c:\\Users\\ihousman\\AppData\\Local\\Programs\\Python\\Python311\\Lib\\site-packages\\geeViz\n",
      "done\n"
     ]
    }
   ],
   "source": [
    "try:\n",
    "    import  geeViz.geeView as geeView\n",
    "except:\n",
    "    !python -m pip install geeViz\n",
    "    import  geeViz.geeView as geeView\n",
    "\n",
    "# Module to help with class codes, names, colors and collapsing levels of MapBiomas data\n",
    "import geeViz.examples.mapBiomasLookup as mbl\n",
    "\n",
    "ee = geeView.ee\n",
    "Map = geeView.Map\n",
    "\n",
    "print('done')"
   ]
  },
  {
   "cell_type": "markdown",
   "metadata": {},
   "source": [
    "## Make a basic viewer\n",
    "\n",
    "* Source information can be found here: https://gee-community-catalog.org/projects/mapbiomas\n",
    "* This example mosaics most available MapBiomas data\n",
    "* geeViz will automatically generate legends and query lookups using `\"autoViz\" : True` in the visualization params\n",
    "* Once the map loads, you can annimate the time series using the time lapse controls\n",
    "* Double-clicking on the map will show the values for the pixel you clicked on"
   ]
  },
  {
   "cell_type": "code",
   "execution_count": 2,
   "metadata": {},
   "outputs": [
    {
     "name": "stdout",
     "output_type": "stream",
     "text": [
      "Setting click query crs to: EPSG:4326\n",
      "Setting click query scale to: 30\n",
      "Adding layer: MapBiomas LULC\n",
      "Starting webmap\n",
      "Using default refresh token for geeView\n",
      "Local web server at: http://localhost:8001/geeView/ already serving.\n",
      "cwd a:\\GEE\\gee_py_modules_package\\geeViz\\examples\n",
      "geeView URL: http://localhost:8001/geeView/?projectID=lcms-292214&accessToken=ya29.a0AeDClZBoV6RTt-kTHktaitp6cLCRopannvKr9B7F9QimHl9HpH7bQSlKU53sXETcKcw5F5qayQER5a-NS3bhiUocGlPCAoK0T4OH6kON4zdkFLv-ZFMB3-S0Hl34cOsGuljb25SUEJoSZ09ieUHPNmSPqKCvGV0V8dVSB4myMtwaCgYKATsSARESFQHGX2MiBg28W2WOQErk15VfYCK2tQ0178&accessTokenCreationTime=1732571109268\n"
     ]
    },
    {
     "data": {
      "text/html": [
       "\n",
       "        <iframe\n",
       "            width=\"100%\"\n",
       "            height=\"525px\"\n",
       "            src=\"http://localhost:8001/geeView/?projectID=lcms-292214&accessToken=ya29.a0AeDClZBoV6RTt-kTHktaitp6cLCRopannvKr9B7F9QimHl9HpH7bQSlKU53sXETcKcw5F5qayQER5a-NS3bhiUocGlPCAoK0T4OH6kON4zdkFLv-ZFMB3-S0Hl34cOsGuljb25SUEJoSZ09ieUHPNmSPqKCvGV0V8dVSB4myMtwaCgYKATsSARESFQHGX2MiBg28W2WOQErk15VfYCK2tQ0178&accessTokenCreationTime=1732571109268\"\n",
       "            frameborder=\"0\"\n",
       "            allowfullscreen\n",
       "            \n",
       "        ></iframe>\n",
       "        "
      ],
      "text/plain": [
       "<IPython.lib.display.IFrame at 0x1f0dbc3d810>"
      ]
     },
     "metadata": {},
     "output_type": "display_data"
    }
   ],
   "source": [
    "# Datasets available here: https://gee-community-catalog.org/projects/mapbiomas/\n",
    "Map.clearMap()\n",
    "\n",
    "\n",
    "# Specify which years to show\n",
    "years = list(range(1985, 2023 + 1))\n",
    "\n",
    "\n",
    "# Specify projection to use for zonal summaries and map querying\n",
    "# Be sure to leave one of scale or transform as None\n",
    "crs = \"EPSG:4326\"\n",
    "transform = None\n",
    "scale = 30\n",
    "\n",
    "# Choose which level to show (1-4)\n",
    "# Only 1 and 2 work with on-the-fly Sankey charts\n",
    "remap_level = 1\n",
    "\n",
    "\n",
    "Map.setQueryCRS(crs)\n",
    "if transform == None:\n",
    "    Map.setQueryScale(scale)\n",
    "else:\n",
    "    Map.setQueryTransform(transform)\n",
    "\n",
    "\n",
    "# Bring in land use land cover datasets and mosaic them\n",
    "paths = [\n",
    "    \"projects/mapbiomas-public/assets/bolivia/collection2/mapbiomas_bolivia_collection2_integration_v1\",  # 1985-2023\n",
    "    \"projects/mapbiomas-public/assets/peru/collection2/mapbiomas_peru_collection2_integration_v1\",  # 1985-2022\n",
    "    \"projects/mapbiomas-public/assets/colombia/collection1/mapbiomas_colombia_collection1_integration_v1\",  # 1985-2022\n",
    "    \"projects/mapbiomas-public/assets/ecuador/collection1/mapbiomas_ecuador_collection1_integration_v1\",  # 1985-2022\n",
    "    \"projects/mapbiomas-public/assets/venezuela/collection1/mapbiomas_venezuela_collection1_integration_v1\",  # 1985-2022\n",
    "    \"projects/mapbiomas-public/assets/paraguay/collection1/mapbiomas_paraguay_collection1_integration_v1\",  # 1985-2022\n",
    "    \"projects/mapbiomas-public/assets/brazil/lulc/collection9/mapbiomas_collection90_integration_v1\",  # 1985-2023\n",
    "    \"projects/mapbiomas-raisg/public/collection5/mapbiomas_raisg_panamazonia_collection5_integration_v1\",  # 1985-2022\n",
    "    \"projects/MapBiomas_Pampa/public/collection3/mapbiomas_uruguay_collection1_integration_v1\",  # 1985-2022\n",
    "    \"projects/mapbiomas-public/assets/chile/collection1/mapbiomas_chile_collection1_integration_v1\",  # 2000-2022\n",
    "    \"projects/mapbiomas-public/assets/argentina/collection1/mapbiomas_argentina_collection1_integration_v1\",  # 1998-2022\n",
    "]\n",
    "\n",
    "stack = ee.ImageCollection([ee.Image(p).byte() for p in paths]).toBands()\n",
    "\n",
    "# View palettes source here:\n",
    "# var palettes = require('users/mapbiomas/modules:Palettes.js');\n",
    "\n",
    "\n",
    "out_band_name = \"lulc\"\n",
    "\n",
    "\n",
    "# Bring in the names, values, and palette\n",
    "remap_info = mbl.getLevelNRemap(remap_level, out_band_name)\n",
    "\n",
    "\n",
    "# Function to convert a given band into a time-enabled image object\n",
    "def setupLulc(yr):\n",
    "\n",
    "    img = stack.select([f\".*_{yr}\"]).reduce(ee.Reducer.firstNonNull()).remap(remap_info[\"remap_from\"], remap_info[\"remap_to\"]).rename([out_band_name]).set(\"system:time_start\", ee.Date.fromYMD(yr, 6, 1).millis())\n",
    "    img = img.set(remap_info[\"viz_dict\"])\n",
    "    return img\n",
    "\n",
    "\n",
    "# Convert the image stack into an image collection\n",
    "lulcC = ee.ImageCollection([setupLulc(yr) for yr in years])\n",
    "\n",
    "# Add the collection to the map\n",
    "Map.addLayer(lulcC, {\"autoViz\": True}, \"MapBiomas LULC\")\n",
    "\n",
    "## Set up the map\n",
    "\n",
    "Map.turnOnInspector()\n",
    "Map.setCenter(-62.8, -3, 4)\n",
    "\n",
    "Map.view()\n"
   ]
  },
  {
   "cell_type": "markdown",
   "metadata": {},
   "source": [
    "## Calculating and Exporting Statistics¶\n",
    "\n",
    "* geeViz streamlines calculating and exporting statistics \n",
    "* Once the map loads, you can use the `TOOLS` under `Area Tools` to generate charts\n",
    "* Charts can be downloaded as a PNG and the underlying data can be downloaded as a CSV"
   ]
  },
  {
   "cell_type": "code",
   "execution_count": 5,
   "metadata": {},
   "outputs": [
    {
     "name": "stdout",
     "output_type": "stream",
     "text": [
      "Adding layer: MapBiomas LULC\n",
      "Adding layer: Global Country Boundaries\n",
      "Adding layer: MapBiomas Territories\n",
      "Starting webmap\n",
      "Using default refresh token for geeView\n",
      "Local web server at: http://localhost:8001/geeView/ already serving.\n",
      "cwd a:\\GEE\\gee_py_modules_package\\geeViz\\examples\n",
      "geeView URL: http://localhost:8001/geeView/?projectID=lcms-292214&accessToken=ya29.a0AcM612x6ne6BHe3XY7j9ocdXwWB_PEPsf231RSnHcDZIYEbXeST4S3SN-B8GrtpqX_fMLOLXcuM6IG2sj-nyV0WjKFU-eGMLcx25tS8NC42Z2KEGm_LkmlI-88hMcTSDCYVB1c1Qx5Rcy_1_fu8ZQpdTgS-2uRyaVIEER3BVqesaCgYKAVQSARESFQHGX2MiStNTxFwZi9bxifrWLjqNnQ0178\n"
     ]
    },
    {
     "data": {
      "text/html": [
       "\n",
       "        <iframe\n",
       "            width=\"100%\"\n",
       "            height=\"525px\"\n",
       "            src=\"http://localhost:8001/geeView/?projectID=lcms-292214&accessToken=ya29.a0AcM612x6ne6BHe3XY7j9ocdXwWB_PEPsf231RSnHcDZIYEbXeST4S3SN-B8GrtpqX_fMLOLXcuM6IG2sj-nyV0WjKFU-eGMLcx25tS8NC42Z2KEGm_LkmlI-88hMcTSDCYVB1c1Qx5Rcy_1_fu8ZQpdTgS-2uRyaVIEER3BVqesaCgYKAVQSARESFQHGX2MiStNTxFwZi9bxifrWLjqNnQ0178\"\n",
       "            frameborder=\"0\"\n",
       "            allowfullscreen\n",
       "            \n",
       "        ></iframe>\n",
       "        "
      ],
      "text/plain": [
       "<IPython.lib.display.IFrame at 0x18f16295790>"
      ]
     },
     "metadata": {},
     "output_type": "display_data"
    }
   ],
   "source": [
    "Map.clearMapLayers()\n",
    "Map.turnOffLayersWhenTimeLapseIsOn = False # Set this to False to avoid layers automatically turning off when a time lapse is turned on\n",
    "\n",
    "Map.addLayer(lulcC, {'autoViz':True,'years':years,'canAreaChart':True,'areaChartParams':{'crs':crs,'scale':scale,'transform':transform}}, \"MapBiomas LULC\" )\n",
    "\n",
    "# Add country boundaries as a layer to select with\n",
    "countries = ee.FeatureCollection(\"FAO/GAUL_SIMPLIFIED_500m/2015/level0\")\n",
    "Map.addSelectLayer(countries, {}, \"Global Country Boundaries\")\n",
    "\n",
    "assetTerritories = ee.FeatureCollection(\"users/joaovsiqueira1/MAPBIOMAS/ti_uc\")\n",
    "Map.addSelectLayer(assetTerritories, {}, \"MapBiomas Territories\")\n",
    "\n",
    "\n",
    "Map.turnOnAutoAreaCharting()\n",
    "Map.view()"
   ]
  },
  {
   "cell_type": "markdown",
   "metadata": {},
   "source": [
    "## Create Sankey Charts\n",
    "\n",
    "* You can also create Sankey charts and download transition matrices with geeViz\n",
    "* Once the map loads, you can use the `TOOLS` under `Area Tools` to generate charts\n",
    "* You can customize the years to include in the sankey charts under the `Area Tools Parameters` -> `Transition Charting Periods`\n",
    "* Charts can be downloaded as a PNG and the underlying data can be downloaded as a CSV"
   ]
  },
  {
   "cell_type": "code",
   "execution_count": 3,
   "metadata": {},
   "outputs": [
    {
     "name": "stdout",
     "output_type": "stream",
     "text": [
      "Adding layer: MapBiomas LULC\n",
      "Adding layer: Global Country Boundaries\n",
      "Adding layer: MapBiomas Territories\n",
      "Starting webmap\n",
      "Using default refresh token for geeView\n",
      "Local web server at: http://localhost:8001/geeView/ already serving.\n",
      "cwd a:\\GEE\\gee_py_modules_package\\geeViz\\examples\n",
      "geeView URL: http://localhost:8001/geeView/?projectID=lcms-292214&accessToken=ya29.a0AcM612zpiC1nWa7Q2n38SOHQdKW5xdZ5JiFJ1rtNUdM3a2YEw7zvXxMSLpW8loQT6dzHsY1sJZxYs30i5_Tlm2PZc860gyG8nfWsq-WtmVNYoeXqm6EJ0N3GDiKJBK2SZXrlhoWfODqskUCNduAdlfCTnGCUMii6JNcKAVg8U64aCgYKAQUSARESFQHGX2Mi23EXnCDVC9LkY4WTMHWm-Q0178\n"
     ]
    },
    {
     "data": {
      "text/html": [
       "\n",
       "        <iframe\n",
       "            width=\"100%\"\n",
       "            height=\"525px\"\n",
       "            src=\"http://localhost:8001/geeView/?projectID=lcms-292214&accessToken=ya29.a0AcM612zpiC1nWa7Q2n38SOHQdKW5xdZ5JiFJ1rtNUdM3a2YEw7zvXxMSLpW8loQT6dzHsY1sJZxYs30i5_Tlm2PZc860gyG8nfWsq-WtmVNYoeXqm6EJ0N3GDiKJBK2SZXrlhoWfODqskUCNduAdlfCTnGCUMii6JNcKAVg8U64aCgYKAQUSARESFQHGX2Mi23EXnCDVC9LkY4WTMHWm-Q0178\"\n",
       "            frameborder=\"0\"\n",
       "            allowfullscreen\n",
       "            \n",
       "        ></iframe>\n",
       "        "
      ],
      "text/plain": [
       "<IPython.lib.display.IFrame at 0x18f15ecc250>"
      ]
     },
     "metadata": {},
     "output_type": "display_data"
    }
   ],
   "source": [
    "Map.clearMapLayers()\n",
    "\n",
    "# Only allow Sankey charts for levels <=2\n",
    "sankey = True\n",
    "if remap_level > 2:\n",
    "    sankey = False\n",
    "\n",
    "Map.addTimeLapse(lulcC, {'autoViz':True,'years':years,'canAreaChart':True,'areaChartParams':{'line':True,'sankey':sankey,'crs':crs,'transform':transform,'scale':scale}}, 'MapBiomas LULC' )\n",
    "\n",
    "countries = ee.FeatureCollection(\"FAO/GAUL_SIMPLIFIED_500m/2015/level0\")\n",
    "Map.addSelectLayer(countries, {}, \"Global Country Boundaries\")\n",
    "\n",
    "assetTerritories = ee.FeatureCollection(\"users/joaovsiqueira1/MAPBIOMAS/ti_uc\")\n",
    "Map.addSelectLayer(assetTerritories, {}, \"MapBiomas Territories\")\n",
    "\n",
    "Map.turnOnAutoAreaCharting()\n",
    "Map.view()"
   ]
  }
 ],
 "metadata": {
  "kernelspec": {
   "display_name": "Python 3",
   "language": "python",
   "name": "python3"
  },
  "language_info": {
   "codemirror_mode": {
    "name": "ipython",
    "version": 3
   },
   "file_extension": ".py",
   "mimetype": "text/x-python",
   "name": "python",
   "nbconvert_exporter": "python",
   "pygments_lexer": "ipython3",
   "version": "3.11.4"
  }
 },
 "nbformat": 4,
 "nbformat_minor": 2
}
