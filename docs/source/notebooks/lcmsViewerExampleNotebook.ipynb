{
  "cells": [
    {
      "attachments": {},
      "cell_type": "markdown",
      "id": "bbe2fd7d",
      "metadata": {},
      "source": [
        "# LCMS Viewer Intro Notebook\n",
        "* Based on https://github.com/google/earthengine-community/blob/master/datasets/scripts/LCMS_Visualization.js\n",
        "Copyright 2024 The Google Earth Engine Community Authors\n",
        " \t\n",
        "Licensed under the Apache License, Version 2.0 (the \"License\");\n",
        "you may not use this file except in compliance with the License.\n",
        "You may obtain a copy of the License at\n",
        "https://www.apache.org/licenses/LICENSE-2.0\n",
        "Unless required by applicable law or agreed to in writing, software\n",
        "distributed under the License is distributed on an \"AS IS\" BASIS,\n",
        "WITHOUT WARRANTIES OR CONDITIONS OF ANY KIND, either express or implied.\n",
        "See the License for the specific language governing permissions and\n",
        "limitations under the License.\n",
        " \t\n",
        "* Example script for visualizing LCMS change summaries, land cover, and land use.\n",
        "* A more in-depth visualization of LCMS products is available at: [https://apps.fs.usda.gov/lcms-viewer/index.html](https://apps.fs.usda.gov/lcms-viewer/index.html)      \n",
        "* Contact sm.fs.lcms@usda.gov with any questions or specific data requests.\n",
        "\n",
        "\n",
        "\n",
        "[![github](https://img.shields.io/badge/-see%20sources-white?logo=github&labelColor=555)](https://github.com/gee-community/geeviz/blob/master/examples/lcmsViewerExampleNotebook.ipynb) \n",
        "[![github](https://colab.research.google.com/assets/colab-badge.svg)](https://colab.research.google.com/github/gee-community/geeViz/blob/master/examples/lcmsViewerExampleNotebook.ipynb)"
      ]
    },
    {
      "cell_type": "code",
      "execution_count": 4,
      "id": "96b6b059",
      "metadata": {},
      "outputs": [
        {
          "name": "stdout",
          "output_type": "stream",
          "text": [
            "Done\n"
          ]
        }
      ],
      "source": [
        "#Boiler plate\n",
        "#Import modules\n",
        "import os,sys\n",
        "sys.path.append(os.getcwd())\n",
        "\n",
        "\n",
        "try:\n",
        "    from  geeViz.geeView import *\n",
        "except:\n",
        "    !python -m pip install geeViz\n",
        "    from  geeViz.geeView import *\n",
        "\n",
        "\n",
        "print('Done')"
      ]
    },
    {
      "cell_type": "markdown",
      "id": "e1f868b5",
      "metadata": {},
      "source": [
        "## First, we'll take a look at the foundation of the `geeViz.geeView` module - the LCMS Data Explorer\n",
        "\n",
        "* This viewer framework serves as the foundation for this module"
      ]
    },
    {
      "cell_type": "code",
      "execution_count": null,
      "id": "d25f5f74",
      "metadata": {
        "scrolled": false
      },
      "outputs": [
        {
          "data": {
            "text/html": [
              "\n",
              "        <iframe\n",
              "            width=\"100%\"\n",
              "            height=\"500px\"\n",
              "            src=\"https://apps.fs.usda.gov/lcms-viewer/\"\n",
              "            frameborder=\"0\"\n",
              "            allowfullscreen\n",
              "            \n",
              "        ></iframe>\n",
              "        "
            ],
            "text/plain": [
              "<IPython.lib.display.IFrame at 0x177ee05ec50>"
            ]
          },
          "execution_count": 2,
          "metadata": {},
          "output_type": "execute_result"
        }
      ],
      "source": [
        "#This notebook breaks down various pieces of LCMS data visualization available in this interactive viewer\n",
        "IFrame(src='https://apps.fs.usda.gov/lcms-viewer/', width='100%', height='500px')"
      ]
    },
    {
      "cell_type": "markdown",
      "id": "5b52f31c",
      "metadata": {},
      "source": [
        "## Create your own LCMS Viewer\n",
        "\n",
        "* You can create your own instance of the LCMS Data Explorer using `geeViz.geeView`"
      ]
    },
    {
      "cell_type": "code",
      "execution_count": 6,
      "id": "3b8e4a60",
      "metadata": {},
      "outputs": [],
      "source": [
        "#Clear any layers added to Map object\n",
        "#If map is not cleared, layers are simply appended to the existing list of layers if layers have been added previously\n",
        "Map.clearMap()\n",
        "\n",
        "#############################################################################\n",
        "### Define visualization parameters ###\n",
        "#############################################################################\n",
        "startYear = 1985;\n",
        "endYear = 2022;\n",
        "lossYearPalette = ['ffffe5', 'fff7bc', 'fee391', 'fec44f', 'fe9929',\n",
        "                   'ec7014', 'cc4c02']\n",
        "gainYearPalette = ['c5ee93', '00a398']\n",
        "durationPalette = ['BD1600', 'E2F400','0C2780']\n",
        "\n",
        "lossYearViz = {'min': startYear, 'max': endYear, 'palette': lossYearPalette};\n",
        "gainYearViz = {'min': startYear, 'max': endYear, 'palette': gainYearPalette};\n",
        "durationViz = {'min': 1, 'max': 5, 'palette': durationPalette};\n",
        "\n",
        "#############################################################################\n",
        "### Define functions ###\n",
        "#############################################################################\n",
        "\n",
        "#Convert given code to year that number was present in the image.\n",
        "def getMostRecentChange(c, code):\n",
        "\tdef wrapper(img):\n",
        "\t\tyr = ee.Date(img.get('system:time_start')).get('year')\n",
        "\t\treturn ee.Image(yr).int16().rename(['year']).updateMask(img.eq(code)).copyProperties(img,['system:time_start'])\n",
        "\treturn c.map(wrapper)"
      ]
    },
    {
      "cell_type": "code",
      "execution_count": 7,
      "id": "a66edc91",
      "metadata": {},
      "outputs": [
        {
          "name": "stderr",
          "output_type": "stream",
          "text": [
            "c:\\Users\\ihousman\\AppData\\Local\\Programs\\Python\\Python311\\Lib\\site-packages\\ee\\deprecation.py:202: DeprecationWarning: \n",
            "\n",
            "Attention required for USFS/GTAC/LCMS/v2022-8! You are using a deprecated asset.\n",
            "To ensure continued functionality, please update it.\n",
            "Learn more: https://developers.google.com/earth-engine/datasets/catalog/USFS_GTAC_LCMS_v2022-8\n",
            "\n",
            "  warnings.warn(warning, category=DeprecationWarning)\n"
          ]
        },
        {
          "name": "stdout",
          "output_type": "stream",
          "text": [
            "Available study areas: ['CONUS', 'PRUSVI', 'SEAK']\n",
            "Available LCMS products ['Change', 'Land_Cover', 'Land_Use', 'Change_Raw_Probability_Slow_Loss', 'Change_Raw_Probability_Fast_Loss', 'Change_Raw_Probability_Gain', 'Land_Cover_Raw_Probability_Trees', 'Land_Cover_Raw_Probability_Tall-Shrubs-and-Trees-Mix', 'Land_Cover_Raw_Probability_Shrubs-and-Trees-Mix', 'Land_Cover_Raw_Probability_Grass-Forb-Herb-and-Trees-Mix', 'Land_Cover_Raw_Probability_Barren-and-Trees-Mix', 'Land_Cover_Raw_Probability_Tall-Shrubs', 'Land_Cover_Raw_Probability_Shrubs', 'Land_Cover_Raw_Probability_Grass-Forb-Herb-and-Shrubs-Mix', 'Land_Cover_Raw_Probability_Barren-and-Shrubs-Mix', 'Land_Cover_Raw_Probability_Grass-Forb-Herb', 'Land_Cover_Raw_Probability_Barren-and-Grass-Forb-Herb-Mix', 'Land_Cover_Raw_Probability_Barren-or-Impervious', 'Land_Cover_Raw_Probability_Snow-or-Ice', 'Land_Cover_Raw_Probability_Water', 'Land_Use_Raw_Probability_Agriculture', 'Land_Use_Raw_Probability_Developed', 'Land_Use_Raw_Probability_Forest', 'Land_Use_Raw_Probability_Non-Forest-Wetland', 'Land_Use_Raw_Probability_Other', 'Land_Use_Raw_Probability_Rangeland-or-Pasture', 'QA_Bits']\n",
            "Learn more about visualization of LCMS products here https://apps.fs.usda.gov/lcms-viewer/\n"
          ]
        }
      ],
      "source": [
        "#############################################################################\n",
        "### Bring in LCMS annual outputs ###\n",
        "#############################################################################\n",
        "\n",
        "lcms = ee.ImageCollection('USFS/GTAC/LCMS/v2022-8')\n",
        "bandNames =  lcms.first().bandNames().getInfo()\n",
        "print('Available study areas:', lcms.aggregate_histogram('study_area').keys().getInfo())\n",
        "print('Available LCMS products',bandNames);\n",
        "print('Learn more about visualization of LCMS products here', 'https://apps.fs.usda.gov/lcms-viewer/')\n",
        "\n",
        "#Filter out study area\n",
        "# lcms = lcms.filter(ee.Filter.eq('study_area','CONUS'))\n",
        "\n",
        "#Set up time periods to compare land cover and land use\n",
        "earlySpan = [startYear, startYear+4]\n",
        "lateSpan = [endYear-4, endYear]\n"
      ]
    },
    {
      "attachments": {},
      "cell_type": "markdown",
      "id": "b9aa0633",
      "metadata": {},
      "source": [
        "---\n",
        "* Raw LCMS outputs are available for more customized analysis\n",
        "* Double click anywhere within CONUS to plot the time series of raw LCMS outputs"
      ]
    },
    {
      "cell_type": "code",
      "execution_count": 8,
      "id": "d2b5d196",
      "metadata": {},
      "outputs": [
        {
          "name": "stdout",
          "output_type": "stream",
          "text": [
            "Adding layer: Raw LCMS Land Use Model Probability\n",
            "Adding layer: Raw LCMS Land Cover Model Probability\n",
            "Adding layer: Raw LCMS Change Model Probability\n",
            "Setting default query date format to: YYYY\n",
            "Starting webmap\n",
            "Using default refresh token for geeView\n",
            "Local web server at: http://localhost:8001/geeView/ already serving.\n",
            "cwd a:\\GEE\\gee_py_modules_package\\geeViz\\examples\n",
            "geeView URL: http://localhost:8001/geeView/?projectID=lcms-292214&accessToken=ya29.a0AcM612y-wMlkXgO_OFkZr_Lacz34yFleugdxgOurv_dsLeXSWXK-EChFophmj9oxlcyQW3N2YTzC_TzY8SxmdqXpklggko8X1EFWM8FEm8gQ0y9bcyFJd1zbM1jUOJbTTzV44mJ7oDhGeJA0m95KLMvtcErfKf0OkT1pgNBcVVsaCgYKAZgSARESFQHGX2Mik1zFDPF9TgvOZ--wV79HUw0178\n"
          ]
        },
        {
          "data": {
            "text/html": [
              "\n",
              "        <iframe\n",
              "            width=\"100%\"\n",
              "            height=\"525px\"\n",
              "            src=\"http://localhost:8001/geeView/?projectID=lcms-292214&accessToken=ya29.a0AcM612y-wMlkXgO_OFkZr_Lacz34yFleugdxgOurv_dsLeXSWXK-EChFophmj9oxlcyQW3N2YTzC_TzY8SxmdqXpklggko8X1EFWM8FEm8gQ0y9bcyFJd1zbM1jUOJbTTzV44mJ7oDhGeJA0m95KLMvtcErfKf0OkT1pgNBcVVsaCgYKAZgSARESFQHGX2Mik1zFDPF9TgvOZ--wV79HUw0178\"\n",
              "            frameborder=\"0\"\n",
              "            allowfullscreen\n",
              "            \n",
              "        ></iframe>\n",
              "        "
            ],
            "text/plain": [
              "<IPython.lib.display.IFrame at 0x1c9d1707c50>"
            ]
          },
          "metadata": {},
          "output_type": "display_data"
        }
      ],
      "source": [
        "#############################################################################\n",
        "### Add full raw model outputs ###\n",
        "#############################################################################\n",
        "Map.clearMap()\n",
        "#Separate products\n",
        "raw_change = lcms.select(['Change_Raw_.*'])\n",
        "raw_land_cover = lcms.select(['Land_Cover_Raw_.*'])\n",
        "raw_land_use = lcms.select(['Land_Use_Raw_.*'])\n",
        "\n",
        "#Shorten names\n",
        "raw_change_bns = [bn for bn in bandNames if bn.find('Change_Raw_') > -1]\n",
        "raw_land_cover_bns = [bn for bn in bandNames if bn.find('Land_Cover_Raw_') > -1]\n",
        "raw_land_use_bns = [bn for bn in bandNames if bn.find('Land_Use_Raw_') > -1]\n",
        "\n",
        "raw_change_bns_short = [i.split('_Probability_')[-1] for i in raw_change_bns]\n",
        "raw_land_cover_bns_short = [i.split('_Probability_')[-1] for i in raw_land_cover_bns]\n",
        "raw_land_use_bns_short = [i.split('_Probability_')[-1] for i in raw_land_use_bns]\n",
        "\n",
        "raw_change = raw_change.select(raw_change_bns,raw_change_bns_short)\n",
        "raw_land_cover = raw_land_cover.select(raw_land_cover_bns,raw_land_cover_bns_short)\n",
        "raw_land_use = raw_land_use.select(raw_land_use_bns,raw_land_use_bns_short)\n",
        "\n",
        "\n",
        "#Add to map\n",
        "Map.addLayer(raw_land_use,{'reducer':ee.Reducer.max(),'min':0,'max':30,'opacity':1,'addToLegend':False},'Raw LCMS Land Use Model Probability',True) \n",
        "Map.addLayer(raw_land_cover,{'reducer':ee.Reducer.max(),'min':0,'max':30,'opacity':1,'addToLegend':False},'Raw LCMS Land Cover Model Probability',True) \n",
        "Map.addLayer(raw_change,{'reducer':ee.Reducer.max(),'min':0,'max':30,'bands':'Fast_Loss,Gain,Slow_Loss','opacity':1,'addToLegend':False},'Raw LCMS Change Model Probability',True) \n",
        "\n",
        "\n",
        "Map.centerObject(lcms.first())\n",
        "Map.turnOnInspector()\n",
        "Map.setQueryDateFormat('YYYY')\n",
        "Map.view()\n"
      ]
    },
    {
      "cell_type": "code",
      "execution_count": 9,
      "id": "2e1b871a",
      "metadata": {},
      "outputs": [
        {
          "name": "stdout",
          "output_type": "stream",
          "text": [
            "Adding layer: Early Land Use Mode (1985-1989)\n",
            "Adding layer: Recent Land Use Mode (2018-2022)\n",
            "Adding layer: Early Land Cover Mode (1985-1989)\n",
            "Adding layer: Recent Land Cover Mode (2018-2022)\n",
            "Setting default query date format to: YYYY\n",
            "Starting webmap\n",
            "Using default refresh token for geeView\n",
            "Local web server at: http://localhost:8001/geeView/ already serving.\n",
            "cwd a:\\GEE\\gee_py_modules_package\\geeViz\\examples\n",
            "geeView URL: http://localhost:8001/geeView/?projectID=lcms-292214&accessToken=ya29.a0AcM612zDgRjgEmDi_yYVNIvaVY2azV8cVYE6ETwGhWAsQQ1CzIwHreik7o0TClPAyf9Okm6xURUPlDUyxkodC15EDFza8rYZUEk61FhReaxwzrdMOUL5_HU6aO0OOvHpQxlWjqmBS9rcU8_iLAB27qv9vvosyhFo8fyHpjDDcXgaCgYKAb8SARESFQHGX2MionRzqxWQQ-3VjFP8htnWOA0178\n"
          ]
        },
        {
          "data": {
            "text/html": [
              "\n",
              "        <iframe\n",
              "            width=\"100%\"\n",
              "            height=\"525px\"\n",
              "            src=\"http://localhost:8001/geeView/?projectID=lcms-292214&accessToken=ya29.a0AcM612zDgRjgEmDi_yYVNIvaVY2azV8cVYE6ETwGhWAsQQ1CzIwHreik7o0TClPAyf9Okm6xURUPlDUyxkodC15EDFza8rYZUEk61FhReaxwzrdMOUL5_HU6aO0OOvHpQxlWjqmBS9rcU8_iLAB27qv9vvosyhFo8fyHpjDDcXgaCgYKAb8SARESFQHGX2MionRzqxWQQ-3VjFP8htnWOA0178\"\n",
              "            frameborder=\"0\"\n",
              "            allowfullscreen\n",
              "            \n",
              "        ></iframe>\n",
              "        "
            ],
            "text/plain": [
              "<IPython.lib.display.IFrame at 0x1c9d2fa3490>"
            ]
          },
          "metadata": {},
          "output_type": "display_data"
        }
      ],
      "source": [
        "Map.clearMap()\n",
        "#############################################################################\n",
        "### Visualize Land Use change ###\n",
        "#############################################################################\n",
        "lu = lcms.select(['Land_Use'])\n",
        "earlyLu = lu.filter(ee.Filter.calendarRange(earlySpan[0], earlySpan[1], 'year'))\n",
        "lateLu = lu.filter(ee.Filter.calendarRange(lateSpan[0], lateSpan[1], 'year'))\n",
        "Map.addLayer(earlyLu, {'reducer':ee.Reducer.mode(),'autoViz':True}, 'Early Land Use Mode ({}-{})'.format(earlySpan[0],earlySpan[1]), True)\n",
        "Map.addLayer(lateLu, {'reducer':ee.Reducer.mode(),'autoViz':True,'opacity':0}, 'Recent Land Use Mode ({}-{})'.format(lateSpan[0],lateSpan[1]), True);\n",
        "\n",
        "\n",
        "\n",
        "#############################################################################\n",
        "### Visualize Land Cover change ###\n",
        "#############################################################################\n",
        "lc = lcms.select(['Land_Cover'])\n",
        "earlyLc = lc.filter(ee.Filter.calendarRange(earlySpan[0], earlySpan[1], 'year'))\n",
        "lateLc = lc.filter(ee.Filter.calendarRange(lateSpan[0], lateSpan[1], 'year'))\n",
        "Map.addLayer(earlyLc, {'reducer':ee.Reducer.mode(),'autoViz':True}, 'Early Land Cover Mode ({}-{})'.format(earlySpan[0],earlySpan[1]), True);\n",
        "Map.addLayer(lateLc, {'reducer':ee.Reducer.mode(),'autoViz':True,'opacity':0}, 'Recent Land Cover Mode ({}-{})'.format(lateSpan[0],lateSpan[1]), True);\n",
        "\n",
        "\n",
        "Map.turnOnInspector()\n",
        "Map.setQueryDateFormat('YYYY')\n",
        "Map.view()"
      ]
    },
    {
      "cell_type": "code",
      "execution_count": 10,
      "id": "0f6f5115",
      "metadata": {},
      "outputs": [
        {
          "name": "stdout",
          "output_type": "stream",
          "text": [
            "Adding layer: Most Recent Slow Loss Year\n",
            "Adding layer: Most Recent Fast Loss Year\n",
            "Adding layer: Most Recent Gain Year\n",
            "Adding layer: Slow Loss Duration\n",
            "Adding layer: Fast Loss Duration\n",
            "Adding layer: Gain Duration\n",
            "Starting webmap\n",
            "Using default refresh token for geeView\n",
            "Local web server at: http://localhost:8001/geeView/ already serving.\n",
            "cwd a:\\GEE\\gee_py_modules_package\\geeViz\\examples\n",
            "geeView URL: http://localhost:8001/geeView/?projectID=lcms-292214&accessToken=ya29.a0AcM612xoftpqheIuHbi9bcWDlmIZ5O9-c9ZwgSBhcAeoIFQL5OuPmgdeReJmy6bCQ9byq4mgyDibRB-EAyImkDoZ4WhcailRq4XoMqD21af80vhmzxv4mBKOlmOhs1ShH5yfgXR-C36i97o5a6gejqxD8Ft2nCxob-x7w9j7y3AaCgYKAXQSARESFQHGX2Midz2BZdheheSq91hgy_2OMQ0178\n"
          ]
        },
        {
          "data": {
            "text/html": [
              "\n",
              "        <iframe\n",
              "            width=\"100%\"\n",
              "            height=\"525px\"\n",
              "            src=\"http://localhost:8001/geeView/?projectID=lcms-292214&accessToken=ya29.a0AcM612xoftpqheIuHbi9bcWDlmIZ5O9-c9ZwgSBhcAeoIFQL5OuPmgdeReJmy6bCQ9byq4mgyDibRB-EAyImkDoZ4WhcailRq4XoMqD21af80vhmzxv4mBKOlmOhs1ShH5yfgXR-C36i97o5a6gejqxD8Ft2nCxob-x7w9j7y3AaCgYKAXQSARESFQHGX2Midz2BZdheheSq91hgy_2OMQ0178\"\n",
              "            frameborder=\"0\"\n",
              "            allowfullscreen\n",
              "            \n",
              "        ></iframe>\n",
              "        "
            ],
            "text/plain": [
              "<IPython.lib.display.IFrame at 0x1c9d2cc1c10>"
            ]
          },
          "metadata": {},
          "output_type": "display_data"
        }
      ],
      "source": [
        "Map.clearMap()\n",
        "#############################################################################\n",
        "### Visualize Change products ###\n",
        "#############################################################################\n",
        "\n",
        "#Select the change band. Land_Cover and Land_Use are also available.\n",
        "change = lcms.select(['Change'])\n",
        "\n",
        "#Convert to year collection for a given code.\n",
        "slowLossYears = getMostRecentChange(change, 2)\n",
        "fastLossYears = getMostRecentChange(change, 3)\n",
        "gainYears = getMostRecentChange(change, 4)\n",
        "\n",
        "#Find the most recent year.\n",
        "mostRecentSlowLossYear = slowLossYears.max()\n",
        "mostRecentFastLossYear = fastLossYears.max()\n",
        "mostRecentGainYear = gainYears.max()\n",
        "\n",
        "#Find the duration.\n",
        "slowLossDuration = slowLossYears.count()\n",
        "fastLossDuration = fastLossYears.count()\n",
        "gainDuration = gainYears.count()\n",
        "\n",
        "#Add year summaries to the map.\n",
        "Map.addLayer(mostRecentSlowLossYear, lossYearViz, 'Most Recent Slow Loss Year', True)\n",
        "Map.addLayer(mostRecentFastLossYear, lossYearViz, 'Most Recent Fast Loss Year', True)\n",
        "Map.addLayer(mostRecentGainYear, gainYearViz, 'Most Recent Gain Year', True)\n",
        "\n",
        "#Add durations to the map.\n",
        "Map.addLayer(slowLossDuration,durationViz, 'Slow Loss Duration', False);\n",
        "Map.addLayer(fastLossDuration,durationViz, 'Fast Loss Duration', False);\n",
        "Map.addLayer(gainDuration,durationViz, 'Gain Duration', False);\n",
        "\n",
        "\n",
        "Map.turnOnInspector()\n",
        "Map.view()"
      ]
    },
    {
      "cell_type": "markdown",
      "id": "32294d54",
      "metadata": {},
      "source": [
        "## Time lapses enable quick visualization of multi-temporal `imageCollections`"
      ]
    },
    {
      "cell_type": "code",
      "execution_count": 11,
      "id": "f7b4824e",
      "metadata": {},
      "outputs": [
        {
          "name": "stdout",
          "output_type": "stream",
          "text": [
            "Adding layer: LCMS Change Time Lapse\n",
            "Setting default query date format to: YYYY\n",
            "Starting webmap\n",
            "Using default refresh token for geeView\n",
            "Local web server at: http://localhost:8001/geeView/ already serving.\n",
            "cwd a:\\GEE\\gee_py_modules_package\\geeViz\\examples\n",
            "geeView URL: http://localhost:8001/geeView/?projectID=lcms-292214&accessToken=ya29.a0AcM612wkLZ5nkrRefktkInWr4bG1xoFijDRm4zKqEkOSY5SlJkshjY8c8xPH0opFivgsSvpi-zs-EMn4cghA5Q9vvm7dszHkaSY2xuMWT94ACWv_8wy0D-nhVOi29Oo5fQ5wmHrYHpnRzBiH6SF3RyS-9rr7i3VwptGM3yc1aokaCgYKAUQSARESFQHGX2MiEKkp7i2adXQeQErg-zELAw0178\n"
          ]
        },
        {
          "data": {
            "text/html": [
              "\n",
              "        <iframe\n",
              "            width=\"100%\"\n",
              "            height=\"525px\"\n",
              "            src=\"http://localhost:8001/geeView/?projectID=lcms-292214&accessToken=ya29.a0AcM612wkLZ5nkrRefktkInWr4bG1xoFijDRm4zKqEkOSY5SlJkshjY8c8xPH0opFivgsSvpi-zs-EMn4cghA5Q9vvm7dszHkaSY2xuMWT94ACWv_8wy0D-nhVOi29Oo5fQ5wmHrYHpnRzBiH6SF3RyS-9rr7i3VwptGM3yc1aokaCgYKAUQSARESFQHGX2MiEKkp7i2adXQeQErg-zELAw0178\"\n",
              "            frameborder=\"0\"\n",
              "            allowfullscreen\n",
              "            \n",
              "        ></iframe>\n",
              "        "
            ],
            "text/plain": [
              "<IPython.lib.display.IFrame at 0x1c9d2cbbf10>"
            ]
          },
          "metadata": {},
          "output_type": "display_data"
        }
      ],
      "source": [
        "# Since any collection can be viewed as a time lapse, let's bring in the change outputs as a timelapse\n",
        "# These can take time to load since each frame is an individual tile map service\n",
        "Map.clearMap()\n",
        "justChange = change.map(lambda img:img.updateMask(ee.Image(img.gt(1).And(img.lt(5))).copyProperties(lcms.first())))\n",
        "Map.addTimeLapse(justChange,{'autoViz':True},'LCMS Change Time Lapse',False)\n",
        "\n",
        "Map.setQueryDateFormat('YYYY')\n",
        "Map.turnOnInspector()\n",
        "Map.view()"
      ]
    }
  ],
  "metadata": {
    "kernelspec": {
      "display_name": "Python 3 (ipykernel)",
      "language": "python",
      "name": "python3"
    },
    "language_info": {
      "codemirror_mode": {
        "name": "ipython",
        "version": 3
      },
      "file_extension": ".py",
      "mimetype": "text/x-python",
      "name": "python",
      "nbconvert_exporter": "python",
      "pygments_lexer": "ipython3",
      "version": "3.11.4"
    }
  },
  "nbformat": 4,
  "nbformat_minor": 5
}
