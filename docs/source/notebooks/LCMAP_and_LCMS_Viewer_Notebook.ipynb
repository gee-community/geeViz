{
  "cells": [
    {
      "attachments": {},
      "cell_type": "markdown",
      "id": "ff459534",
      "metadata": {},
      "source": [
        "## LCMAP and LCMS Outputs Viewer\n",
        "* This script provides a view of LCMAP and LCMS GEE collections to help understand the strengths of each\n",
        "* It displays the land cover and land use products as well as change products from each program\n",
        "____\n",
        "\n",
        "Copyright 2024 Ian Housman\n",
        "\n",
        "Licensed under the Apache License, Version 2.0 (the \"License\");\n",
        "you may not use this file except in compliance with the License.\n",
        "You may obtain a copy of the License at\n",
        "\n",
        "   http://www.apache.org/licenses/LICENSE-2.0\n",
        "\n",
        "Unless required by applicable law or agreed to in writing, software\n",
        "distributed under the License is distributed on an \"AS IS\" BASIS,\n",
        "WITHOUT WARRANTIES OR CONDITIONS OF ANY KIND, either express or implied.\n",
        "See the License for the specific language governing permissions and\n",
        "limitations under the License.\n",
        "\n",
        "\n",
        "<p><a href=\"https://colab.research.google.com/github/gee-community/geeViz/blob/master/examples/LCMAP_and_LCMS_Viewer_Notebook.ipynb\" target=\"_parent\"><img alt=\"Open in Colab\" src=\"https://colab.research.google.com/assets/colab-badge.svg\"></a></p>"
      ]
    },
    {
      "cell_type": "code",
      "execution_count": 4,
      "id": "1245c2d1",
      "metadata": {
        "scrolled": false
      },
      "outputs": [
        {
          "name": "stdout",
          "output_type": "stream",
          "text": [
            "Done\n"
          ]
        }
      ],
      "source": [
        "import os,sys\n",
        "sys.path.append(os.getcwd())\n",
        "\n",
        "#Module imports\n",
        "try:\n",
        "    import geeViz.getImagesLib as getImagesLib\n",
        "except:\n",
        "    !python -m pip install geeViz\n",
        "    import geeViz.getImagesLib as getImagesLib\n",
        "\n",
        "\n",
        "import geeViz.changeDetectionLib as changeDetectionLib\n",
        "ee = getImagesLib.ee\n",
        "Map = getImagesLib.Map\n",
        "\n",
        "print('Done')"
      ]
    },
    {
      "cell_type": "code",
      "execution_count": 12,
      "id": "6ec8ed53",
      "metadata": {
        "scrolled": false
      },
      "outputs": [
        {
          "name": "stdout",
          "output_type": "stream",
          "text": [
            "Done\n"
          ]
        }
      ],
      "source": [
        "# User Parameters\n",
        "\n",
        "# Define the early time period \n",
        "preStartYear = 1985\n",
        "preEndYear = 1990\n",
        "\n",
        "# Define the more recent time period\n",
        "postStartYear = 2020\n",
        "postEndYear = 2022\n",
        "\n",
        "# Specify whether to add time lapses of products. If True, loading the viewer will take much much much much longer\n",
        "addTimelapses = False\n",
        "\n",
        "print('Done')"
      ]
    },
    {
      "attachments": {},
      "cell_type": "markdown",
      "id": "13abaf4c",
      "metadata": {},
      "source": [
        "### Bring in LCMAP outputs\n",
        "* This part was adapted from info available in the awesome-gee-community-datasets https://samapriya.github.io/awesome-gee-community-datasets/projects/lcmap/\n",
        "* Playground example: https://code.earthengine.google.com/791aa894ce0abfe1a9eb1dc478bbc5d7\n",
        "* Their outputs are divided into LC (land cover) and SC (spectral change)\n",
        "* More details about their different products can be found here: https://www.sciencedirect.com/science/article/pii/S003442571930375X\n",
        "* LCMAP methods can be found here: https://www.sciencedirect.com/science/article/pii/S003442571930375X\n",
        "* LCMAP data can be downloaded from: https://www.usgs.gov/core-science-systems/eros/lcmap/lcmap-data-access\n",
        "* LCMAP data can also be viewed here: https://eros.usgs.gov/lcmap/viewer/"
      ]
    },
    {
      "cell_type": "code",
      "execution_count": 8,
      "id": "0026345a",
      "metadata": {
        "scrolled": false
      },
      "outputs": [
        {
          "name": "stdout",
          "output_type": "stream",
          "text": [
            "Done\n"
          ]
        }
      ],
      "source": [
        "lcachg = ee.ImageCollection(\"projects/sat-io/open-datasets/LCMAP/LCACHG\")\n",
        "lcpconf = ee.ImageCollection(\"projects/sat-io/open-datasets/LCMAP/LCPCONF\")\n",
        "lcpri = ee.ImageCollection(\"projects/sat-io/open-datasets/LCMAP/LCPRI\")\n",
        "lcsconf = ee.ImageCollection(\"projects/sat-io/open-datasets/LCMAP/LCSCONF\")\n",
        "lcsec = ee.ImageCollection(\"projects/sat-io/open-datasets/LCMAP/LCSEC\")\n",
        "sclast = ee.ImageCollection(\"projects/sat-io/open-datasets/LCMAP/SCLAST\")\n",
        "scmag = ee.ImageCollection(\"projects/sat-io/open-datasets/LCMAP/SCMAG\")\n",
        "scmqa = ee.ImageCollection(\"projects/sat-io/open-datasets/LCMAP/SCMQA\")\n",
        "scstab = ee.ImageCollection(\"projects/sat-io/open-datasets/LCMAP/SCSTAB\")\n",
        "sctime = ee.ImageCollection(\"projects/sat-io/open-datasets/LCMAP/SCTIME\")\n",
        "\n",
        "# Manually pull in color palettes from Gena's color palette json\n",
        "# palettes = require('users/gena/packages:palettes')\n",
        "# Available here: https://github.com/gee-community/ee-palettes\n",
        "lcpri_palette = ['E60000','A87000','E3E3C2','1D6330','476BA1','BAD9EB','FFFFFF','B3B0A3','A201FF']\n",
        "lc_names = ['Developed','Cropland','Grass/Shrub','Tree Cover','Water','Wetlands','Ice/Snow','Barren','Class Change']\n",
        "\n",
        "# Set up the LCMAP land cover legend and lookup tables\n",
        "lc_legend_dict = {}\n",
        "lc_lookup_dict = {}\n",
        "for i in range(0,len(lc_names )):\n",
        "  lc_legend_dict[str(i+1) + '- '+lc_names[i]] =lcpri_palette[i] \n",
        "  lc_lookup_dict[i+1] = str(i+1) + '- '+lc_names[i]\n",
        "\n",
        "#Other palettes found in the Playground example script\n",
        "# lcsec_palette = ['E60000','A87000','E3E3C2','1D6330','476BA1','BAD9EB','FFFFFF','B3B0A3']\n",
        "lcachg_palette = ['E60000','A87000','E3E3C2','1D6330','476BA1','BAD9EB','FFFFFF','B3B0A3','A201FF']\n",
        "# sclast_palette = ['FFC7AA','F87E45','CC764E','86A7B6','46A4EE','7954C8','7A24AA','432172']\n",
        "# scstab_palette = ['BA4E16','EE964D','FFE29C','F4FBC1','E1F3C3','BCE6CA','46989C']\n",
        "# scmqa_palette = ['000000','A900E6','DF73FF','F5F5E3','DB8A00','924900','9C9C9C','FFFFFF']\n",
        "\n",
        "print('Done')"
      ]
    },
    {
      "attachments": {},
      "cell_type": "markdown",
      "id": "62df699c",
      "metadata": {},
      "source": [
        "### Bring in LCMS GEE collections\n",
        "* LCMS' homepage can be found here: https://data.fs.usda.gov/geodata/rastergateway/LCMS/index.php\n",
        "* LCMS methods are described here: https://data.fs.usda.gov/geodata/rastergateway/LCMS/LCMS_v2021-7_Methods.pdf\n",
        "* LCMS data can also be viewed and downloaded here: https://apps.fs.usda.gov/lcms-viewer\n",
        "* LCMS GEE data collections are available at:\n",
        "    * https://developers.google.com/earth-engine/datasets/catalog/USFS_GTAC_LCMS_v2021-7 (CONUS and Southeastern AK)\n",
        "    * https://developers.google.com/earth-engine/datasets/catalog/USFS_GTAC_LCMS_v2020-6 (Puerto Rico and US Virgin Islands\n",
        "* An in-depth look at the model predictor variables that go into making LCMS maps can be found here:\n",
        "    * https://apps.fs.usda.gov/lcms-viewer/lcms-base-learner.html"
      ]
    },
    {
      "cell_type": "code",
      "execution_count": 9,
      "id": "a3234d4c",
      "metadata": {
        "scrolled": false
      },
      "outputs": [
        {
          "name": "stdout",
          "output_type": "stream",
          "text": [
            "Done\n"
          ]
        }
      ],
      "source": [
        "lcms = ee.ImageCollection(\"USFS/GTAC/LCMS/v2022-8\")\n",
        "print('Done')"
      ]
    },
    {
      "cell_type": "code",
      "execution_count": 10,
      "id": "ab46aaea",
      "metadata": {
        "scrolled": true
      },
      "outputs": [
        {
          "name": "stdout",
          "output_type": "stream",
          "text": [
            "Adding layer: LCMS Land Cover\n",
            "Adding layer: LCMS Land Use\n",
            "Setting default query date format to: YYYY\n",
            "Starting webmap\n",
            "Using default refresh token for geeView\n",
            "Local web server at: http://localhost:8001/geeView/ already serving.\n",
            "cwd a:\\GEE\\gee_py_modules_package\\geeViz\\examples\n",
            "geeView URL: http://localhost:8001/geeView/?projectID=rcr-gee-2&accessToken=ya29.a0AfB_byAEIHAt8xz3Om23_DPD9m5LbAEvx3foL4jEmhI_9H8HdIwZAg5m6qU9k-ff73hhlHdGudZnyypusYutTC12WUDnY0DejP2r-Q-nVCaEbAVTe__AOvzrA6Sc_HGw1BxkgIUnuzYU5prqdF_ehqFPLcqHA53eZy28ry7vEf30aCgYKAUkSARASFQHGX2MiS7shHseCRgPvY1r7JE6x9Q0179\n"
          ]
        },
        {
          "data": {
            "text/html": [
              "\n",
              "        <iframe\n",
              "            width=\"100%\"\n",
              "            height=\"525px\"\n",
              "            src=\"http://localhost:8001/geeView/?projectID=rcr-gee-2&accessToken=ya29.a0AfB_byAEIHAt8xz3Om23_DPD9m5LbAEvx3foL4jEmhI_9H8HdIwZAg5m6qU9k-ff73hhlHdGudZnyypusYutTC12WUDnY0DejP2r-Q-nVCaEbAVTe__AOvzrA6Sc_HGw1BxkgIUnuzYU5prqdF_ehqFPLcqHA53eZy28ry7vEf30aCgYKAUkSARASFQHGX2MiS7shHseCRgPvY1r7JE6x9Q0179\"\n",
              "            frameborder=\"0\"\n",
              "            allowfullscreen\n",
              "            \n",
              "        ></iframe>\n",
              "        "
            ],
            "text/plain": [
              "<IPython.lib.display.IFrame at 0x1bfd7c9d550>"
            ]
          },
          "metadata": {},
          "output_type": "display_data"
        }
      ],
      "source": [
        "# Add time lapses\n",
        "\n",
        "#First clear the map in case it has been populated with layers/commands earlier\n",
        "Map.clearMap()\n",
        "\n",
        "# Map.addTimeLapse(lcpri,lc_viz,'LCMAP Primary Land Cover')\n",
        "# Map.addTimeLapse(lcsec,lc_viz,'LCMAP Secondary Land Cover')\n",
        "Map.addTimeLapse(lcms.select(['Land_Cover']),{'autoViz':True},'LCMS Land Cover')\n",
        "Map.addTimeLapse(lcms.select(['Land_Use']),{'autoViz':True},'LCMS Land Use')\n",
        "\n",
        "Map.centerObject(ee.Geometry.Polygon(\n",
        "        [[-115.39350883763947, 36.32737127837443],\n",
        "          [-115.39350883763947, 35.90803695452136],\n",
        "          [-114.27015678685822, 35.90803695452136],\n",
        "          [-114.27015678685822, 36.32737127837443]], None, False))\n",
        "\n",
        "Map.turnOnInspector()\n",
        "Map.setQueryDateFormat('YYYY')\n",
        "Map.view()"
      ]
    },
    {
      "cell_type": "code",
      "execution_count": 14,
      "id": "e2a9f76b",
      "metadata": {
        "scrolled": false
      },
      "outputs": [
        {
          "ename": "SyntaxError",
          "evalue": "invalid syntax. Perhaps you forgot a comma? (1211558155.py, line 18)",
          "output_type": "error",
          "traceback": [
            "\u001b[1;36m  Cell \u001b[1;32mIn[14], line 18\u001b[1;36m\u001b[0m\n\u001b[1;33m    lcms_pre = ee.Image(lcms.filter(ee.Filter.calendarRange(preStartYear,preEndYear,'year'))\u001b[0m\n\u001b[1;37m                        ^\u001b[0m\n\u001b[1;31mSyntaxError\u001b[0m\u001b[1;31m:\u001b[0m invalid syntax. Perhaps you forgot a comma?\n"
          ]
        }
      ],
      "source": [
        "#This section adds the land cover and land use maps from LCMAP and LCMS\n",
        "\n",
        "#First clear the map in case it has been populated with layers/commands earlier\n",
        "Map.clearMap()\n",
        "\n",
        "# Set up some visualization dictionaries\n",
        "lc_viz = {'min':1,'max':9,'palette':lcpri_palette,'classLegendDict':lc_legend_dict,'queryDict':lc_lookup_dict}\n",
        "loss_viz = {'min':1985,'max':2022,'palette':changeDetectionLib.lossYearPalette}\n",
        "gain_viz = {'min':1985,'max':2022,'palette':changeDetectionLib.gainYearPalette}\n",
        "change_viz = {'min':1985,'max':2022,'palette':['00F','F0F']}\n",
        "\n",
        "\n",
        "# Pull the LCMAP pre and post land cover data\n",
        "lcmap_pre = lcpri.filter(ee.Filter.calendarRange(preStartYear,preEndYear,'year'))\n",
        "lcmap_post = lcpri.filter(ee.Filter.calendarRange(postStartYear,postEndYear,'year'))\n",
        "\n",
        "# Pull the LCMS pre and post land cover data\n",
        "lcms_pre = lcms.filter(ee.Filter.calendarRange(preStartYear,preEndYear,'year'))\n",
        "lcms_post = lcms.filter(ee.Filter.calendarRange(postStartYear,postEndYear,'year'))\n",
        "\n",
        "\n",
        "\n",
        "# Add time lapses of LCMAP and LCMS land cover products if specified\n",
        "if addTimelapses:\n",
        "  Map.addTimeLapse(lcachg,lc_viz,'LCMAP LC Change')\n",
        "  Map.addTimeLapse(lcpri,lc_viz,'LCMAP Primary Land Cover')\n",
        "  Map.addTimeLapse(lcsec,lc_viz,'LCMAP Secondary Land Cover')\n",
        "  Map.addTimeLapse(lcms.select(['Land_Cover']),{'autoViz':True},'LCMS Land Cover')\n",
        "  Map.addTimeLapse(lcms.select(['Land_Use']),{'autoViz':True},'LCMS Land Use')\n",
        "\n",
        "# Add the early and recent land cover and land use mode maps\n",
        "# LCMAP's LC outputs combine land cover and land use, so cross-walking these non-mutually exclusive classes to those of LCMS can pose challenges\n",
        "# However, take note how well LCMAP maps agriculture and developed areas - it is much cleaner and seems much more accurate than LCMS.\n",
        "# LCMAP does about as well as LCMS at mapping trees. They both do fairly well in sparse tree cover areas.\n",
        "# Since wetlands are not exclusive of any land cover or land use, it is difficult to tell what land cover is over areas classified by LCMAP as wetland\n",
        "# This is also true of LCMS' non forest wetland land use class - there are areas of rangeland and agriculture that could fall into non forest wetland\n",
        "# One area the LCMS land cover maps do better is with water. \n",
        "# LCMAP LC outputs tend to not change the water extent of fluctuating waterbodies very quickly\n",
        "Map.addLayer(lcmap_pre,lc_viz, 'LCMAP LC {}-{} mode'.format(preStartYear,preEndYear),False)\n",
        "Map.addLayer(lcmap_post,lc_viz, 'LCMAP LC {}-{} mode'.format(postStartYear,postEndYear),False)\n",
        "\n",
        "for t in ['Cover','Use']:\n",
        "  Map.addLayer(lcms_pre.select(['Land_{}'.format(t)]),{'reducer':ee.Reducer.mode(),'autoViz':True}, 'LCMS L{} {}-{} mode'.format(t[0],preStartYear,preEndYear),False)\n",
        "  Map.addLayer(lcms_post.select(['Land_{}'.format(t)]),{'reducer':ee.Reducer.mode(),'autoViz':True}, 'LCMS L{} {}-{} mode'.format(t[0],postStartYear,postEndYear),False)\n",
        "\n",
        "Map.turnOnInspector()\n",
        "\n",
        "Map.view()"
      ]
    },
    {
      "cell_type": "code",
      "execution_count": 8,
      "id": "6ede8ab3",
      "metadata": {
        "scrolled": false
      },
      "outputs": [
        {
          "name": "stdout",
          "output_type": "stream",
          "text": [
            "Adding layer: LCMS Most Recent Fast Loss Year\n",
            "Adding layer: LCMS Most Recent Slow Loss Year\n",
            "Adding layer: LCMS Most Recent Gain Year\n",
            "Adding layer: LCMAP Most Recent SC Date\n",
            "Starting webmap\n",
            "Using default refresh token for geeView: C:\\Users\\ihousman/.config/earthengine/credentials\n",
            "Local web server at: http://localhost:8001/geeView/ already serving.\n",
            "cwd a:\\GEE\\gee_py_modules_package\\geeViz\\examples\n"
          ]
        },
        {
          "data": {
            "text/html": [
              "\n",
              "        <iframe\n",
              "            width=\"100%\"\n",
              "            height=\"525px\"\n",
              "            src=\"http://localhost:8001/geeView/?accessToken=ya29.a0AfB_byDHdXiCAgQxC9-UfQV6CuRTWZ1zXZly8OulhM6uq8EzzObsA8sQjTG7C5P0JAm6zo9QHL7mnV4rm8JErOINMIWHmynln-FXQESOOAwN2_uMfXFNrwScPfx9g9M3gnzXGUTdfAP13-r003rRO5VpnFmkkwEpSqUjm-IhMbyOaCgYKAaQSARESFQGOcNnCYWVHe3RmCnSboOPhaNhlCg0179\"\n",
              "            frameborder=\"0\"\n",
              "            allowfullscreen\n",
              "            \n",
              "        ></iframe>\n",
              "        "
            ],
            "text/plain": [
              "<IPython.lib.display.IFrame at 0x2720aea7d90>"
            ]
          },
          "metadata": {},
          "output_type": "display_data"
        }
      ],
      "source": [
        "# This section adds the change maps from LCMAP and LCMS\n",
        "\n",
        "#First clear the map in case it has been populated with layers/commands earlier\n",
        "Map.clearMap()\n",
        "\n",
        "# Function for getting a precise change break date from CCDC-based outputs\n",
        "def getYrMskPrecise(img):\n",
        "  yr = ee.Date(img.get('system:time_start')).get('year')\n",
        "  return ee.Image(yr).add(img.divide(365)).float().updateMask(img.mask())\n",
        "\n",
        "# Function for getting a more general integer year date of change\n",
        "def getYrMsk(img):\n",
        "  yr = ee.Date(img.get('system:time_start')).get('year')\n",
        "  return ee.Image(yr).int16().updateMask(img.mask())\n",
        "\n",
        "# Find the most recent LCMAP spectral change date (YYYY.dd where .dd is the fraction of the year the break occurred)\n",
        "lcmap_change_yr  = sctime.map(getYrMskPrecise).max()\n",
        "\n",
        "# Pull apart LCMS fast and slow loss and find the most recent year of each \n",
        "lcms_fast_loss_yr = lcms.select(['Change']).map(lambda img:getYrMsk(img.updateMask(img.eq(3)))).max()\n",
        "lcms_slow_loss_yr = lcms.select(['Change']).map(lambda img:getYrMsk(img.updateMask(img.eq(2)))).max()\n",
        "lcms_gain_yr = lcms.select(['Change']).map(lambda img:getYrMsk(img.updateMask(img.eq(4)))).max()\n",
        "\n",
        "\n",
        "# As of version 2020.5, LCMS produces vegetation cover slow loss, fast loss, and gain change outputs. \n",
        "# LCMAP version 1.0 produces several change outputs based on the spectral change detected by CCDC\n",
        "# The most analagous change product is the spectral change time (SCTIME)\n",
        "Map.addLayer(lcms_fast_loss_yr,loss_viz,'LCMS Most Recent Fast Loss Year',True)\n",
        "Map.addLayer(lcms_slow_loss_yr,loss_viz,'LCMS Most Recent Slow Loss Year',True)\n",
        "Map.addLayer(lcms_gain_yr,gain_viz,'LCMS Most Recent Gain Year',True)\n",
        "\n",
        "Map.addLayer(lcmap_change_yr,change_viz,'LCMAP Most Recent SC Date',True)\n",
        "\n",
        "Map.centerObject(ee.Geometry.Polygon(\n",
        "        [[[-106.91206352513947, 41.00173645518866],\n",
        "          [-106.91206352513947, 39.97403423419109],\n",
        "          [-105.34101860326447, 39.97403423419109],\n",
        "          [-105.34101860326447, 41.00173645518866]]], None, False))\n",
        "\n",
        "\n",
        "Map.turnOnInspector()\n",
        "Map.view()"
      ]
    }
  ],
  "metadata": {
    "kernelspec": {
      "display_name": "Python 3",
      "language": "python",
      "name": "python3"
    },
    "language_info": {
      "codemirror_mode": {
        "name": "ipython",
        "version": 3
      },
      "file_extension": ".py",
      "mimetype": "text/x-python",
      "name": "python",
      "nbconvert_exporter": "python",
      "pygments_lexer": "ipython3",
      "version": "3.11.4"
    },
    "vscode": {
      "interpreter": {
        "hash": "369f2c481f4da34e4445cda3fffd2e751bd1c4d706f27375911949ba6bb62e1c"
      }
    }
  },
  "nbformat": 4,
  "nbformat_minor": 5
}
