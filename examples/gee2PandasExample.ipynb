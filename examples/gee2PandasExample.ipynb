{
 "cells": [
  {
   "attachments": {},
   "cell_type": "markdown",
   "id": "3d8516ba",
   "metadata": {},
   "source": [
    "# Examples of how to work between GEE and Pandas\n",
    "Copyright 2025 Ian Housman\n",
    "\n",
    "   Licensed under the Apache License, Version 2.0 (the \"License\");\n",
    "   you may not use this file except in compliance with the License.\n",
    "   You may obtain a copy of the License at\n",
    "\n",
    "       http://www.apache.org/licenses/LICENSE-2.0\n",
    "\n",
    "   Unless required by applicable law or agreed to in writing, software\n",
    "   distributed under the License is distributed on an \"AS IS\" BASIS,\n",
    "   WITHOUT WARRANTIES OR CONDITIONS OF ANY KIND, either express or implied.\n",
    "   See the License for the specific language governing permissions and\n",
    "   limitations under the License.\n",
    "\n",
    "\n",
    "* Example of the functionality of gee2Pandas module\n",
    "* Use this module to go between local data and GEE for more general data science/statistical analysis\n",
    "\n",
    "\n",
    "[![github](https://img.shields.io/badge/-see%20sources-white?logo=github&labelColor=555)](https://github.com/gee-community/geeviz/blob/master/examples/gee2PandasExample.ipynb) \n",
    "[![github](https://colab.research.google.com/assets/colab-badge.svg)](https://colab.research.google.com/github/gee-community/geeViz/blob/master/examples/gee2PandasExample.ipynb)"
   ]
  },
  {
   "cell_type": "code",
   "execution_count": null,
   "id": "145cfa94",
   "metadata": {},
   "outputs": [],
   "source": [
    "# Import Modules\n",
    "try:\n",
    "    import geeViz.getImagesLib as gil\n",
    "except:\n",
    "    !python -m pip install geeViz\n",
    "    import geeViz.getImagesLib as gil\n",
    "\n",
    "import  geeViz.foliumView as fv\n",
    "import geeViz.gee2Pandas as g2p\n",
    "import pandas as pd\n",
    "import matplotlib.pyplot as plt\n",
    "import numpy\n",
    "ee = fv.ee\n",
    "\n",
    "# Choose whether to use Folium-based map or geeView (syntax remains the same)\n",
    "# Map = fv.foliumMapper()\n",
    "Map = gil.Map\n",
    "\n",
    "Map.port = 1233\n",
    "print('done')"
   ]
  },
  {
   "cell_type": "code",
   "execution_count": null,
   "id": "151174d6",
   "metadata": {},
   "outputs": [],
   "source": [
    "# Set up study area and bring in some Sentinel 2 data for pre and post years\n",
    "Map.clearMap()\n",
    "# Map.setMapArg('tiles',\"cartodb positron\")\n",
    "studyArea = ee.Geometry.Polygon(\n",
    "        [[[-113.21807278537877, 41.786028237932015],\n",
    "          [-113.21807278537877, 40.595571243156144],\n",
    "          [-111.82280911350377, 40.595571243156144],\n",
    "          [-111.82280911350377, 41.786028237932015]]], None, False)\n",
    "\n",
    "preYear = 2022\n",
    "postYear = 2023\n",
    "startJulian = 160\n",
    "endJulian = 190\n",
    "s2s  = gil.getProcessedSentinel2Scenes(studyArea,preYear-1,postYear+1,startJulian,endJulian)\n",
    "post = s2s.filter(ee.Filter.calendarRange(postYear,postYear,'year')).median()\n",
    "postWater = gil.simpleWaterMask(post).rename(['Water'])\n",
    "post = post.addBands(postWater)\n",
    "\n",
    "Map.addLayer(post,gil.vizParamsFalse,'S2 Median {}'.format(postYear),False)\n",
    "Map.addLayer(postWater,{'palette':'888,00F'},'S2 Water {}'.format(postYear))\n",
    "pre = s2s.filter(ee.Filter.calendarRange(preYear,preYear,'year')).median()\n",
    "preWater = gil.simpleWaterMask(pre).rename(['Water'])\n",
    "pre = pre.addBands(preWater)\n",
    "\n",
    "waterTransitionClasses=preWater.add(1).multiply(10).add(postWater).rename('Water_Transition_{}-{}'.format(preYear,postYear))\n",
    "Map.addLayer(waterTransitionClasses,{'min':1,'max':21,'palette':'0F0,00F'},'Water_Transition_{}-{}'.format(preYear,postYear))\n",
    "Map.addLayer(pre,gil.vizParamsFalse,'S2 Median {}'.format(preYear))\n",
    "Map.addLayer(preWater,{'palette':'888,00F'},'S2 Water {}'.format(preYear))\n",
    "Map.centerObject(studyArea)\n",
    "\n",
    "Map.addLayer(studyArea,{'strokeColor':'F00','strokeWidth':10},'Study Area')\n",
    "# print(Map.mapArgs)\n",
    "Map.view()"
   ]
  },
  {
   "cell_type": "code",
   "execution_count": null,
   "id": "8daf03c9",
   "metadata": {},
   "outputs": [],
   "source": [
    "# Format a stack raster and get a csv local table\n",
    "nSamples = 500\n",
    "Map.clearMap()\n",
    "preBns = pre.bandNames().map(lambda bn:ee.String(bn).cat('_yr{}_jd{}-{}'.format(preYear,startJulian,endJulian)))\n",
    "postBns = post.bandNames().map(lambda bn:ee.String(bn).cat('_yr{}_jd{}-{}'.format(postYear,startJulian,endJulian)))\n",
    "stack = pre.rename(preBns).addBands(post.rename(postBns)).addBands(waterTransitionClasses)\n",
    "sample =ee.FeatureCollection.randomPoints(studyArea, nSamples, 0, 50)\n",
    "\n",
    "Map.addLayer(sample.map(lambda f:ee.Feature(f).buffer(10).bounds()),{},'Sample')\n",
    "\n",
    "outDir = '/tmp'\n",
    "if not g2p.os.path.exists(outDir):g2p.os.makedirs(outDir)\n",
    "out_csv = g2p.os.path.join(outDir,'gee2Pandas_test_csv.csv')\n",
    "g2p.geeToLocalZonalStats(sample,stack,out_csv,reducer=ee.Reducer.first(),scale=10,crs='EPSG:5070',transform=None,tileScale=4,overwrite=False,maxNumberOfFeatures=5000)\n",
    "Map.view()"
   ]
  },
  {
   "cell_type": "code",
   "execution_count": null,
   "id": "e5ee4c87",
   "metadata": {},
   "outputs": [],
   "source": [
    "# Visualize xy scatter of pre and post years for some bands\n",
    "t = pd.read_csv(out_csv)\n",
    "plotBandNames = ['NBR','NDMI']\n",
    "for plotBandName in plotBandNames:\n",
    "    preColumn = '{}_yr{}_jd{}-{}'.format(plotBandName,preYear,startJulian,endJulian)\n",
    "    postColumn = '{}_yr{}_jd{}-{}'.format(plotBandName,postYear,startJulian,endJulian)\n",
    "    waterColumn = 'Water_yr{}_jd{}-{}'.format(postYear,startJulian,endJulian)\n",
    "    # display(t)\n",
    "    columns = t.columns\n",
    "\n",
    "    fig, ax = plt.subplots()\n",
    "    scat = ax.scatter(t[preColumn],t[postColumn],c=t[waterColumn],alpha=0.2)\n",
    "    ax.set_xlabel(preColumn)\n",
    "    ax.set_ylabel(postColumn)                                                                                                                                                                                                                                                                                                                                                                                                                                                                                                                                                                                                                                                                                                                                                                                                                                                                                                                                                                                                                                                                                                                                                                                                                                                                                                                                                                                                                                                                                                                                                                                                                                                                                                                                                                                                                                                                                                                                                                                                                                                                                                                                                                                                                                                                                                                                                                                                                                                                                                                                                                                                                                                                                                                                                                                                                                                                                                                                                                                                                                                                                                                                                                                                                                                                                                                                                                                                                                                                                                                                                                                                                                                                                                                                                                                                                                                                                                                                                                                                                                                                                                                                                                                                                                                                                                                                                                                                                                                                                                                                            \n",
    "    plt.show()\n"
   ]
  },
  {
   "cell_type": "code",
   "execution_count": null,
   "id": "a59a6afa",
   "metadata": {},
   "outputs": [],
   "source": [
    "# Now go from a local csv to a GEE featureCollection\n",
    "fc = g2p.tableToFeatureCollection(out_csv)\n",
    "Map.clearMap()\n",
    "Map.addLayer(fc,{'styleParams':{'pointSize':2,'color':'0DF'}},'Test Sample')\n",
    "Map.turnOnInspector()\n",
    "Map.centerObject(fc)\n",
    "Map.view()"
   ]
  },
  {
   "cell_type": "code",
   "execution_count": null,
   "id": "402eac6e",
   "metadata": {},
   "outputs": [],
   "source": [
    "\n"
   ]
  }
 ],
 "metadata": {
  "kernelspec": {
   "display_name": "Python 3 (ipykernel)",
   "language": "python",
   "name": "python3"
  },
  "language_info": {
   "codemirror_mode": {
    "name": "ipython",
    "version": 3
   },
   "file_extension": ".py",
   "mimetype": "text/x-python",
   "name": "python",
   "nbconvert_exporter": "python",
   "pygments_lexer": "ipython3",
   "version": "3.11.4"
  }
 },
 "nbformat": 4,
 "nbformat_minor": 5
}
