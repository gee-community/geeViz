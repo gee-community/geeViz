{
  "cells": [
    {
      "attachments": {},
      "cell_type": "markdown",
      "id": "884438f5",
      "metadata": {},
      "source": [
        "# Visualize LandTrendr Outputs\n",
        "\n",
        "* Example of how to visualize LandTrendr outputs using the Python visualization tools\n",
        "* Takes pre-exported LT stack output and provides a visualization of loss and gain years, duration, and magnitude\n",
        "\n",
        "Copyright 2025 Ian Housman\n",
        "\n",
        "Licensed under the Apache License, Version 2.0 (the \"License\");\n",
        "you may not use this file except in compliance with the License.\n",
        "You may obtain a copy of the License at\n",
        "\n",
        "   http://www.apache.org/licenses/LICENSE-2.0\n",
        "\n",
        "Unless required by applicable law or agreed to in writing, software\n",
        "distributed under the License is distributed on an \"AS IS\" BASIS,\n",
        "WITHOUT WARRANTIES OR CONDITIONS OF ANY KIND, either express or implied.\n",
        "See the License for the specific language governing permissions and\n",
        "limitations under the License.\n",
        "\n",
        "\n",
        "\n",
        "[![github](https://img.shields.io/badge/-see%20sources-white?logo=github&labelColor=555)](https://github.com/gee-community/geeviz/blob/master/examples/LANDTRENDRVizNotebook.ipynb) \n",
        "[![github](https://colab.research.google.com/assets/colab-badge.svg)](https://colab.research.google.com/github/gee-community/geeViz/blob/master/examples/LANDTRENDRVizNotebook.ipynb)"
      ]
    },
    {
      "cell_type": "code",
      "execution_count": 2,
      "id": "26c53654",
      "metadata": {
        "scrolled": true
      },
      "outputs": [
        {
          "name": "stdout",
          "output_type": "stream",
          "text": [
            "Initializing GEE\n",
            "Successfully initialized\n",
            "done\n"
          ]
        }
      ],
      "source": [
        "import os,sys\n",
        "sys.path.append(os.getcwd())\n",
        "\n",
        "#Module imports\n",
        "try:\n",
        "    import geeViz.getImagesLib as gil\n",
        "except:\n",
        "    !python -m pip install geeViz\n",
        "    import geeViz.getImagesLib as gil\n",
        "\n",
        "\n",
        "import geeViz.changeDetectionLib as cdl\n",
        "ee = gil.ee\n",
        "\n",
        "#Set up to mapper objects to use\n",
        "#Can use the default one first\n",
        "Map = gil.Map\n",
        "\n",
        "\n",
        "print('done')"
      ]
    },
    {
      "cell_type": "markdown",
      "id": "d9d932ff",
      "metadata": {},
      "source": [
        "## Set up parameters\n",
        "* We will first set up several parameters to help us visualize LandTrendr outputs\n"
      ]
    },
    {
      "cell_type": "code",
      "execution_count": 25,
      "id": "b09edad2",
      "metadata": {
        "scrolled": false
      },
      "outputs": [],
      "source": [
        "# Define user parameters:\n",
        "\n",
        "# Specify which years to look at\n",
        "# Available years are 1984-2021\n",
        "startYear = 1984\n",
        "endYear = 2024\n",
        "\n",
        "# Which property stores which band/index LandTrendr was run across\n",
        "bandPropertyName = \"band\"\n",
        "\n",
        "# Specify which bands to run across\n",
        "# Set to None to run all available bands\n",
        "# Available bands include: ['NBR', 'NDMI', 'NDSI', 'NDVI', 'blue', 'brightness', 'green', 'greenness', 'nir', 'red', 'swir1', 'swir2', 'tcAngleBG', 'wetness']\n",
        "bandNames = None\n",
        "\n",
        "# Specify if output is an array image or not\n",
        "arrayMode = True\n"
      ]
    },
    {
      "cell_type": "markdown",
      "id": "662040f8",
      "metadata": {},
      "source": [
        "## Visualize and Inspect LandTrendr Annual Fitted Time Series\n",
        "\n",
        "* First, we'll convert the raw array image outputs into collection of fitted, magnitude, slope, duration, etc values for each year\n",
        "* We will visualize the standard deviation of the tasseled cap brightness, greenness, and wetness values on the map, but all annual fitted values will be available for querying when you double-click the map\n",
        "\n",
        "* Note: layer drawing and querying can be slow since all LandTrendr post-processing computation is being performed in GEE on-th-fly.\n"
      ]
    },
    {
      "cell_type": "code",
      "execution_count": null,
      "id": "62534162",
      "metadata": {
        "scrolled": true
      },
      "outputs": [
        {
          "name": "stdout",
          "output_type": "stream",
          "text": [
            "Available bands/indices: ['NBR', 'NDMI', 'NDSI', 'NDVI', 'blue', 'brightness', 'green', 'greenness', 'nir', 'red', 'swir1', 'swir2', 'tcAngleBG', 'wetness']\n",
            "{'band': 'NBR', 'bestModelProportion': 0.75, 'endJulian_firstPeriod': 244, 'endJulian_secondPeriod': 244, 'endYear': 2024, 'maxSegments': 9, 'minObservationsNeeded': 6, 'pvalThreshold': 0.05, 'recoveryThreshold': 0.25, 'spikeThreshold': 0.9, 'startJulian_firstPeriod': 151, 'startJulian_secondPeriod': 182, 'startYear': 1984, 'vertexCountOvershoot': 3}\n",
            "Adding layer: LandTrendr Fitted\n",
            "Setting default query date format to: YYYY\n",
            "Starting webmap\n",
            "Using default refresh token for geeView\n",
            "Local web server at: http://localhost:8001/geeView/ already serving.\n",
            "cwd c:\\RCR\\geeVizBuilder\\geeViz\\examples\n",
            "geeView URL: http://localhost:8001/geeView/?projectID=rcr-gee&accessToken=ya29.a0AeXRPp6FTRMwsLoSXTvE2W6FPZeW5pm3VYQb2QyWtw1iDSTcAGeoaL8j1wK_D8_xRfLtM2YU_UG5Cgu98IkLbBJNle0VYnMZZUpexUtm23sybgb4iza4y1ICEvIAMX7iUD5oX4xK4hJMaNxZa11nLkBC9mKEH1AWiXWo8dYM-6_cb6dAjsOIaCgYKAfkSARASFQHGX2MiJrjWJ3Aeba_r02LT59FhNQ0187&accessTokenCreationTime=1743467494181\n"
          ]
        },
        {
          "data": {
            "text/html": [
              "\n",
              "        <iframe\n",
              "            width=\"100%\"\n",
              "            height=\"525px\"\n",
              "            src=\"http://localhost:8001/geeView/?projectID=rcr-gee&accessToken=ya29.a0AeXRPp6FTRMwsLoSXTvE2W6FPZeW5pm3VYQb2QyWtw1iDSTcAGeoaL8j1wK_D8_xRfLtM2YU_UG5Cgu98IkLbBJNle0VYnMZZUpexUtm23sybgb4iza4y1ICEvIAMX7iUD5oX4xK4hJMaNxZa11nLkBC9mKEH1AWiXWo8dYM-6_cb6dAjsOIaCgYKAfkSARASFQHGX2MiJrjWJ3Aeba_r02LT59FhNQ0187&accessTokenCreationTime=1743467494181\"\n",
              "            frameborder=\"0\"\n",
              "            allowfullscreen\n",
              "            \n",
              "        ></iframe>\n",
              "        "
            ],
            "text/plain": [
              "<IPython.lib.display.IFrame at 0x19f5c0fd320>"
            ]
          },
          "metadata": {},
          "output_type": "display_data"
        }
      ],
      "source": [
        "Map.clearMap()\n",
        "# Bring in LCMS LandTrendr outputs (see other examples that include LCMS final data)\n",
        "lt = ee.ImageCollection(\"projects/lcms-tcc-shared/assets/CONUS/Base-Learners/LandTrendr-Collection\")\n",
        "print(\n",
        "    \"Available bands/indices:\",\n",
        "    lt.aggregate_histogram(bandPropertyName).keys().getInfo(),\n",
        ")\n",
        "\n",
        "lt_props = lt.first().toDictionary().getInfo()\n",
        "print(lt_props)\n",
        "\n",
        "# Convert stacked outputs into collection of fitted, magnitude, slope, duration, etc values for each year\n",
        "# Divide by 10000 (0.0001) so values are back to original values (0-1 or -1-1)\n",
        "lt_fit = cdl.batchSimpleLTFit(\n",
        "    lt,\n",
        "    startYear,\n",
        "    endYear,\n",
        "    None,\n",
        "    bandPropertyName,\n",
        "    arrayMode,\n",
        "    lt_props[\"maxSegments\"],\n",
        "    0.0001,\n",
        ")\n",
        "\n",
        "# Vizualize image collection for charting \n",
        "# We will visualize the standard deviation of the tasseled cap brightness, greenness, and wetness values on the map, but all annual fitted values will be available for querying when you double-click the map\n",
        "Map.addLayer(lt_fit.select(['.*_LT_fitted']), {\"reducer\":ee.Reducer.stdDev(),\"bands\":\"brightness_LT_fitted,greenness_LT_fitted,wetness_LT_fitted\",\"min\": 0,'max':0.2}, \"LandTrendr Fitted\")\n",
        "\n",
        "Map.setQueryDateFormat(\"YYYY\")\n",
        "Map.turnOnInspector()\n",
        "Map.setCenter(-110,41,6)\n",
        "Map.view()\n"
      ]
    },
    {
      "cell_type": "markdown",
      "id": "c1fb9823",
      "metadata": {},
      "source": [
        "### LandTrendr Change Detection\n",
        "\n",
        "* Since LandTrendr divides the annual time series into linear segments, it is easy to use the output to perform a basic change detection\n",
        "* This example will show you how to threshold the change in NBR segments and show the year, magnitude, and duration from the corresponding segment with the largest change\n",
        "\n",
        "* Take note how the different change types have different durations.\n",
        "\n",
        "* Note: layer drawing and querying can be slow since all LandTrendr post-processing computation is being performed in GEE on-th-fly."
      ]
    },
    {
      "cell_type": "code",
      "execution_count": 37,
      "id": "8a49bd8c",
      "metadata": {
        "scrolled": true
      },
      "outputs": [
        {
          "name": "stdout",
          "output_type": "stream",
          "text": [
            "Converting LandTrendr from array output to Gain & Loss\n",
            "Adding layer: LandTrendr NBR Loss Year\n",
            "Adding layer: LandTrendr NBR Loss Magnitude\n",
            "Adding layer: LandTrendr NBR Loss Duration\n",
            "Adding layer: LandTrendr NBR Gain Year\n",
            "Adding layer: LandTrendr NBR Gain Magnitude\n",
            "Adding layer: LandTrendr NBR Gain Duration\n",
            "Setting default query date format to: YYYY\n",
            "Starting webmap\n",
            "Using default refresh token for geeView\n",
            "Local web server at: http://localhost:8001/geeView/ already serving.\n",
            "cwd c:\\RCR\\geeVizBuilder\\geeViz\\examples\n",
            "geeView URL: http://localhost:8001/geeView/?projectID=rcr-gee&accessToken=ya29.a0AeXRPp4hisZDncz0qy9jnQjGXMaZB6JP58aU9Ki-wabDCaMhzHSLR_nImlV7cUbFEGyVmC4rWHdCzqN9pdId7Dzv95VSKgTmDVXJHhfg0iQQ---ExFE_m1ZthvzVqw0h75LUlE3unOSVfL4SCqL0SBlW8HXXin0A3ifFOe8CAYR9XJd-MH9faCgYKAdMSARASFQHGX2Mi5Y1z5lTbb4QJ3pj-3EXWhw0187&accessTokenCreationTime=1743468092725\n"
          ]
        },
        {
          "data": {
            "text/html": [
              "\n",
              "        <iframe\n",
              "            width=\"100%\"\n",
              "            height=\"525px\"\n",
              "            src=\"http://localhost:8001/geeView/?projectID=rcr-gee&accessToken=ya29.a0AeXRPp4hisZDncz0qy9jnQjGXMaZB6JP58aU9Ki-wabDCaMhzHSLR_nImlV7cUbFEGyVmC4rWHdCzqN9pdId7Dzv95VSKgTmDVXJHhfg0iQQ---ExFE_m1ZthvzVqw0h75LUlE3unOSVfL4SCqL0SBlW8HXXin0A3ifFOe8CAYR9XJd-MH9faCgYKAdMSARASFQHGX2Mi5Y1z5lTbb4QJ3pj-3EXWhw0187&accessTokenCreationTime=1743468092725\"\n",
              "            frameborder=\"0\"\n",
              "            allowfullscreen\n",
              "            \n",
              "        ></iframe>\n",
              "        "
            ],
            "text/plain": [
              "<IPython.lib.display.IFrame at 0x19f5c0ff310>"
            ]
          },
          "metadata": {},
          "output_type": "display_data"
        }
      ],
      "source": [
        "####################################################################################################\n",
        "#Clear the map in case it has been populated with layers/commands earlier\n",
        "Map.clearMap()\n",
        "\n",
        "\n",
        "# How many significant loss and/or gain segments to include\n",
        "# Do not make less than 1\n",
        "# If you only want the first loss and/or gain, choose 1\n",
        "# Generally any past 2 are noise\n",
        "howManyToPull = 1\n",
        "\n",
        "# Parameters to identify suitable LANDTRENDR segments\n",
        "\n",
        "# Thresholds to identify loss in vegetation\n",
        "# Any segment that has a change magnitude or slope less than both of these thresholds is omitted\n",
        "lossMagThresh = -0.15\n",
        "lossSlopeThresh = -0.1\n",
        "\n",
        "\n",
        "# Thresholds to identify gain in vegetation\n",
        "# Any segment that has a change magnitude or slope greater than both of these thresholds is omitted\n",
        "gainMagThresh = 0.1\n",
        "gainSlopeThresh = 0.1\n",
        "\n",
        "\n",
        "slowLossDurationThresh = 3\n",
        "\n",
        "# Choose from: 'newest','oldest','largest','smallest','steepest','mostGradual','shortest','longest'\n",
        "chooseWhichLoss = 'largest'\n",
        "chooseWhichGain = 'largest'\n",
        "\n",
        "# Choose band or index\n",
        "# NBR, NDMI, and NDVI tend to work best\n",
        "if bandNames == None:\n",
        "    bandNames = [\"NBR\"]\n",
        "\n",
        "# Number of years of duration to separate between slow and fast loss (>= this number will be called slow loss)\n",
        "slowLossDurationThresh = 3\n",
        "\n",
        "# Which segment to show change from\n",
        "# Choose from: 'newest','oldest','largest','smallest','steepest','mostGradual','shortest','longest'\n",
        "chooseWhichLoss = \"largest\"\n",
        "chooseWhichGain = \"largest\"\n",
        "howManyToPull = 1\n",
        "\n",
        "\n",
        "# Iterate across each band to look for areas of change\n",
        "\n",
        "for bandName in bandNames:\n",
        "    # Do basic change detection with raw LT output\n",
        "    ltt = lt.filter(ee.Filter.eq(bandPropertyName, bandName)).mosaic()\n",
        "    ltt = cdl.multLT(ltt, cdl.changeDirDict[bandName] * 0.0001)\n",
        "\n",
        "    \n",
        "\n",
        "    lossGainDict = cdl.convertToLossGain(\n",
        "        ltt,\n",
        "        format=\"arrayLandTrendr\",\n",
        "        lossMagThresh=lossMagThresh,\n",
        "        lossSlopeThresh=lossSlopeThresh,\n",
        "        gainMagThresh=gainMagThresh,\n",
        "        gainSlopeThresh=gainSlopeThresh,\n",
        "        slowLossDurationThresh=slowLossDurationThresh,\n",
        "        chooseWhichLoss=chooseWhichLoss,\n",
        "        chooseWhichGain=chooseWhichGain,\n",
        "        howManyToPull=howManyToPull,\n",
        "    )\n",
        "    lossGainStack = cdl.LTLossGainExportPrep(lossGainDict, indexName=bandName, multBy=1)\n",
        "    cdl.addLossGainToMap(\n",
        "        lossGainStack,\n",
        "        startYear,\n",
        "        endYear,\n",
        "        lossMagThresh - 0.7,\n",
        "        lossMagThresh,\n",
        "        gainMagThresh,\n",
        "        gainMagThresh + 0.7,\n",
        "    )\n",
        "####################################################################################################\n",
        "####################################################################################################\n",
        "# View map\n",
        "Map.setQueryDateFormat(\"YYYY\")\n",
        "Map.turnOnInspector()\n",
        "Map.setCenter(-110,41,6)\n",
        "Map.view()"
      ]
    }
  ],
  "metadata": {
    "kernelspec": {
      "display_name": "venv",
      "language": "python",
      "name": "python3"
    },
    "language_info": {
      "codemirror_mode": {
        "name": "ipython",
        "version": 3
      },
      "file_extension": ".py",
      "mimetype": "text/x-python",
      "name": "python",
      "nbconvert_exporter": "python",
      "pygments_lexer": "ipython3",
      "version": "3.13.2"
    }
  },
  "nbformat": 4,
  "nbformat_minor": 5
}
