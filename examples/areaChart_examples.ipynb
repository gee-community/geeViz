{
 "cells": [
  {
   "cell_type": "markdown",
   "metadata": {},
   "source": [
    "# Visualizing Area Summaries\n",
    "\n",
    "* It can be difficult to easily summarize GEE imageCollections and images over an area in an interactive environment\n",
    "* geeViz's area charting methods allow for easy interactive charting with minimal additional code\n",
    "* This notebook shows several examples of different ways of using the area charting methods with GEE images and imageCollections\n",
    "\n",
    "\n",
    "\n",
    "Copyright 2025 Ian Housman\n",
    "\n",
    "Licensed under the Apache License, Version 2.0 (the \"License\");\n",
    "you may not use this file except in compliance with the License.\n",
    "You may obtain a copy of the License at\n",
    "\n",
    "   http://www.apache.org/licenses/LICENSE-2.0\n",
    "\n",
    "Unless required by applicable law or agreed to in writing, software\n",
    "distributed under the License is distributed on an \"AS IS\" BASIS,\n",
    "WITHOUT WARRANTIES OR CONDITIONS OF ANY KIND, either express or implied.\n",
    "See the License for the specific language governing permissions and\n",
    "limitations under the License.\n",
    "\n",
    "[![github](https://img.shields.io/badge/-see%20sources-white?logo=github&labelColor=555)](https://github.com/gee-community/geeviz/blob/master/examples/areaChart_examples.ipynb) \n",
    "[![github](https://colab.research.google.com/assets/colab-badge.svg)](https://colab.research.google.com/github/gee-community/geeViz/blob/master/examples/areaChart_examples.ipynb)"
   ]
  },
  {
   "cell_type": "code",
   "execution_count": null,
   "metadata": {},
   "outputs": [],
   "source": [
    "#Import modules\n",
    "try:\n",
    "    import  geeViz.geeView as geeView\n",
    "except:\n",
    "    !python -m pip install geeViz\n",
    "    import  geeViz.geeView as geeView\n",
    "\n",
    "import geeViz.getImagesLib as gil\n",
    "import pandas as pd\n",
    "ee = geeView.ee\n",
    "Map = geeView.Map\n",
    "Map.clearMap()\n",
    "print('done')"
   ]
  },
  {
   "cell_type": "markdown",
   "metadata": {},
   "source": [
    "* There are many different formats of data geeViz's area charting module can handle\n",
    "* The most common is charting the percent or area in hectares or acres of thematic classes of an image collection\n",
    "* If an imageCollection has `class_values`, `class_names`, `class_palette` properties for its images, all charts will automatically be populated with those names and colors\n",
    "\n",
    "* First, we will look at these properties for a couple available images and image collections"
   ]
  },
  {
   "cell_type": "code",
   "execution_count": null,
   "metadata": {},
   "outputs": [],
   "source": [
    "lcms = ee.ImageCollection(\"USFS/GTAC/LCMS/v2023-9\")\n",
    "nlcd = ee.ImageCollection(\"USGS/NLCD_RELEASES/2021_REL/NLCD\").select(['landcover'])\n",
    "def get_props_dataFrames(props,bandNames = None):\n",
    "    props = {k:i for k,i in props.items() if k.find('_class_')>-1}\n",
    "\n",
    "    if bandNames == None:\n",
    "        bandNames = list(set([k.split('_class_')[0] for k in props.keys()]))\n",
    "    out = {}\n",
    "    for bn in bandNames:\n",
    "        print(bn)\n",
    "        df = pd.DataFrame({'Values':props[f'{bn}_class_values'],\n",
    "                           'Names':props[f'{bn}_class_names'],\n",
    "                           'Colors':props[f'{bn}_class_palette']})\n",
    "        display(df)\n",
    "        out[bn]=df\n",
    "    # return out\n",
    "lcms_props = lcms.first().toDictionary().getInfo()\n",
    "nlcd_props = nlcd.first().toDictionary().getInfo()\n",
    "\n",
    "\n",
    "lcms_thematic_bandNames = lcms.select(['Change','Land_Cover','Land_Use']).first().bandNames().getInfo()\n",
    "\n",
    "nlcd_landcover_bandNames = ['landcover']\n",
    "\n",
    "get_props_dataFrames(lcms_props,lcms_thematic_bandNames)\n",
    "get_props_dataFrames(nlcd_props,nlcd_landcover_bandNames)\n",
    "\n",
    "\n",
    "# Shorten NLCD class names for later use\n",
    "nlcd_class_names_key = f'{nlcd_landcover_bandNames[0]}_class_names'\n",
    "nlcd_class_names_shortened = [nm.split(':')[0] for nm in nlcd_props[nlcd_class_names_key]]\n",
    "nlcd_props_shortened_names = nlcd_props\n",
    "nlcd_props_shortened_names[nlcd_class_names_key] = nlcd_class_names_shortened\n",
    "\n",
    "print('Shortened NLCD class names:')\n",
    "get_props_dataFrames(nlcd_props_shortened_names,nlcd_landcover_bandNames)"
   ]
  },
  {
   "cell_type": "markdown",
   "metadata": {},
   "source": [
    "## Basic Area Charting\n",
    "\n",
    "* This example will show the most basic method for adding area chart layers\n",
    "\n",
    "* By setting `\"canAreaChart\":True`, the layer will be added to area charting. Available properties (shown above) will be used to set up names and colors\n",
    "\n",
    "* There are many options for area charting. Most of these options are provided as a dictionary using the `areaChartParams` key. This example shows two different `chartType`s \n",
    "\n",
    "* Using the `Map.turnOnAutoAreaCharting()` method will turn on autmatic area charting. This will use the map extent as the summary area.\n",
    "\n",
    "* Additional methods are `Map.turnOnSelectionAreaCharting()` and `Map.turnOnUserDefinedAreaCharting()` for turning on different methods of providing areas to summarize. You can also change the method being used in the geeView UI under `Tools -> Area Tools`"
   ]
  },
  {
   "cell_type": "code",
   "execution_count": null,
   "metadata": {},
   "outputs": [],
   "source": [
    "Map.clearMap()\n",
    "\n",
    "\n",
    "Map.addLayer(lcms.select(['Land_Cover']),{'autoViz':True,'canAreaChart':True,'areaChartParams':{'chartType':'stacked-line'}},'LCMS Land Cover')\n",
    "Map.addLayer(nlcd.select(['landcover']),{'autoViz':True,'canAreaChart':True,'areaChartParams':{'chartType':'stacked-bar'}},'NLCD Land Cover')\n",
    "\n",
    "\n",
    "\n",
    "Map.turnOnAutoAreaCharting()\n",
    "Map.view()"
   ]
  },
  {
   "cell_type": "markdown",
   "metadata": {},
   "source": [
    "## Line and Sankey Charts\n",
    "\n",
    "* For thematic imageCollections, line and sankey charts are supported\n",
    "\n",
    "* You can specify one or both within the `areaChartParams` dictionary. By default, line is chosen. (e.g. `\"areaChartParams\":{\"sankey\":True}`)\n",
    "\n",
    "* Note that sankey charts work well at showing transitions between classes. Since the number of transition classes is the number of classes<sup>2</sup>, if there are many classes, sankey charting will be quite slow and may error out.\n",
    "\n",
    "* For sankey charting, you can specify transition periods in the code using the `sankeyTransitionPeriods` key in `areaChartParams` (e.g. `\"sankeyTransitionPeriods\":[[1985,1987],[2000,2002],[2020,2022]]`), or leave it blank and geeViz will try to figure out a good set given the years of the provided imageCollection. Note that if you add imageCollections with different time extents, geeViz will take the intersection for the default years. You can add and change the periods in the geeView UI as well under `Tools -> Area Tools -> Area Tools Parameters` "
   ]
  },
  {
   "cell_type": "code",
   "execution_count": null,
   "metadata": {},
   "outputs": [],
   "source": [
    "Map.clearMap()\n",
    "\n",
    "Map.addLayer(lcms.select(['Change']),{'autoViz':True,'canAreaChart':True,'areaChartParams':{'sankey':True}},'LCMS Change')\n",
    "\n",
    "Map.addLayer(lcms.select(['Land_Cover']),{'autoViz':True,'canAreaChart':True,'areaChartParams':{'sankey':True}},'LCMS Land Cover')\n",
    "\n",
    "Map.addLayer(lcms.select(['Land_Use']),{'autoViz':True,'canAreaChart':True,'areaChartParams':{'sankey':True}},'LCMS Land Use')\n",
    "\n",
    "\n",
    "Map.turnOnAutoAreaCharting()\n",
    "Map.view()"
   ]
  },
  {
   "cell_type": "markdown",
   "metadata": {},
   "source": [
    "*  Adding a layer to line and sankey charting is done as follows\n",
    "\n",
    "* Any time you specify `'line':True,'sankey':True`, both line and sankey charts will be created \n",
    "\n",
    "* This can slow things down a lot if many layers are visible. Also, moving the map, pausing for a second or two, and then moving the map again, many times, can create a long queue and delay charting."
   ]
  },
  {
   "cell_type": "code",
   "execution_count": null,
   "metadata": {},
   "outputs": [],
   "source": [
    "Map.clearMap()\n",
    "\n",
    "Map.addLayer(lcms.select(['Change']),{'autoViz':True,'canAreaChart':True,'areaChartParams':{'line':True,'sankey':True}},'LCMS Change')\n",
    "\n",
    "Map.addLayer(lcms.select(['Land_Cover']),{'autoViz':True,'canAreaChart':True,'areaChartParams':{'line':True,'sankey':True}},'LCMS Land Cover')\n",
    "\n",
    "Map.addLayer(lcms.select(['Land_Use']),{'autoViz':True,'canAreaChart':True,'areaChartParams':{'line':True,'sankey':True}},'LCMS Land Use')\n",
    "\n",
    "\n",
    "Map.turnOnAutoAreaCharting()\n",
    "Map.view()"
   ]
  },
  {
   "cell_type": "markdown",
   "metadata": {},
   "source": [
    "## Ways of adding area charting layers\n",
    "* There are two methods for adding area chart layers. The first is shown above, where when adding a layer using `Map.addLayer`, specify `\"canAreaChart\":True`. With this method, if a layer is visible, it will be included in area charting.\n",
    "* There are instances where you would like to summarize layers, but may not want them on the map or it is impossible to visualize all the thematic bands you'd like to chart. In this instance, you can use the `Map.addAreaChartLayer` method.\n",
    "* If you use the `Map.addAreaChartLayer` method, you will need to use the `Map.populateAreaChartLayerSelect()` method to instantiate a selection menu for choosing which area chart layers should be charted. \n",
    "* In this example, we will summarize all thematic classes in LCMS in a single graph. This cannot be displayed on a map, but is an interesting way to look at the summarized data in charts\n",
    "\n",
    "* Note that the dictionary of parameters is more or less the same as what you would put in the `\"areaChartParams\"` if you were to use the `Map.addLayer` method. \n",
    "\n",
    "* Note that while multi thematic band image collections can be charted in a single line chart, sankey charts can only support one band per chart. If a multi thematic band image collection is given with `\"sankey\":True` (as is the case in this example), separate sankey charts will be created for each band."
   ]
  },
  {
   "cell_type": "code",
   "execution_count": null,
   "metadata": {},
   "outputs": [],
   "source": [
    "Map.clearMap()\n",
    "\n",
    "Map.addLayer(lcms.select(['Change_Raw_Probability.*']),{'reducer':ee.Reducer.stdDev(),'min':0,'max':10},'LCMS Change Prob')\n",
    "\n",
    "Map.addAreaChartLayer(lcms,{'line':True},'LCMS All Thematic Classes Line',False)\n",
    "\n",
    "Map.addAreaChartLayer(lcms,{'sankey':True},'LCMS All Thematic Classes Sankey',True)\n",
    "\n",
    "Map.populateAreaChartLayerSelect()\n",
    "Map.turnOnAutoAreaCharting()\n",
    "\n",
    "Map.view()"
   ]
  },
  {
   "cell_type": "markdown",
   "metadata": {},
   "source": [
    "## Charting Non-Thematic Data\n",
    "\n",
    "* You can chart continuous data as well. By default, a `ee.Reducer.mean()` will be used. You can use any reducer that returns a single value per image-band (e.g. `ee.Reducer.min()`, `ee.Reducer.max()`, `ee.Reducer.stdDev()`, `ee.Reducer.mode()`, and not `ee.Reducer.percentile([0,50,100])`). \n",
    "\n",
    "* You can specify this using `\"areaChartParams\":{\"reducer\":ee.Reducer.mean()}`\n",
    "\n",
    "* Optionally, you can provide a color palette to be used. Each band will be assigned to a color in the order given\n",
    "\n",
    "* Notice in the example, the reducer for what is shown on the map is different from the zonal summary reducer. In this example, on the map the standard deviation of the probability is shown to highlight likely change, while the average over the area is shown in the chart since that is a more appropriate representation of probability over an area. "
   ]
  },
  {
   "cell_type": "code",
   "execution_count": null,
   "metadata": {},
   "outputs": [],
   "source": [
    "Map.clearMap()\n",
    "\n",
    "Map.addLayer(lcms.select(['Change_Raw_Probability.*']),\n",
    "             {'reducer':ee.Reducer.stdDev(),'min':0,'max':10,'canAreaChart':True,'areaChartParams':{'palette':'f39268,d54309,00a398'}},'LCMS Change Prob')\n",
    "\n",
    "\n",
    "Map.turnOnAutoAreaCharting()\n",
    "Map.view()"
   ]
  },
  {
   "cell_type": "markdown",
   "metadata": {},
   "source": [
    "## Charting Images\n",
    "\n",
    "* You can also chart images\n",
    "* It will behave in a similar fashion to imageCollections, but will show a bar chart\n",
    "* Placing names for bar charts can be challenging if the names are very long. geeViz will automatically change the bar chart to be a horizontal bar chart if long names are detected. This still does not ensure the bar charts are readable (as is the case in this example). Shortening class names is the easiest method to address this issue (shown by splitting the full NLCD landcover name with `:` and take the first part earlier in this notebook).\n",
    "* If using `\"autoViz\":True`, be sure to copy the `_class_` properties back in\n"
   ]
  },
  {
   "cell_type": "code",
   "execution_count": null,
   "metadata": {},
   "outputs": [],
   "source": [
    "Map.clearMap()\n",
    "\n",
    "\n",
    "Map.addLayer(lcms.select(['Land_Cover']),{'autoViz':True,'canAreaChart':True},'LCMS Land Cover')\n",
    "Map.addLayer(lcms.select(['Land_Cover']).mode().set(lcms.first().toDictionary()),{'autoViz':True,'canAreaChart':True},'LCMS Land Cover Mode')\n",
    "\n",
    "Map.addLayer(nlcd.select(['landcover']),{'autoViz':True,'canAreaChart':True},'NLCD Land Cover')\n",
    "Map.addLayer(nlcd.select(['landcover']).mode().set(nlcd.first().toDictionary()),{'autoViz':True,'canAreaChart':True},'NLCD Land Cover Mode')\n",
    "\n",
    "# Use the shortened class names to clean up chart\n",
    "Map.addLayer(nlcd.select(['landcover']).mode().set(nlcd_props_shortened_names),{'autoViz':True,'canAreaChart':True},'NLCD Land Cover Mode Shortened Names')\n",
    "\n",
    "\n",
    "\n",
    "\n",
    "\n",
    "Map.turnOnAutoAreaCharting()\n",
    "Map.view()"
   ]
  },
  {
   "cell_type": "markdown",
   "metadata": {},
   "source": [
    "## Charting Images Without Color and Name Properties\n",
    "\n",
    "* Sometimes you will have an image you add to the map with a min, max, and palette in the viz params that are thematic  or ordinal thematic data. If those images have no class_names, etc properties set, geeViz will try to render the chart properly using the given min, max, and palette if you specify `\"areaChartParams\":{\"reducer\":ee.Reducer.frequencyHistogram()}\n"
   ]
  },
  {
   "cell_type": "code",
   "execution_count": null,
   "metadata": {},
   "outputs": [],
   "source": [
    "\n",
    "Map.clearMap()\n",
    "\n",
    "def getMostRecentChange(c, code):\n",
    "    def wrapper(img):\n",
    "        yr = ee.Date(img.get(\"system:time_start\")).get(\"year\")\n",
    "        return (\n",
    "            ee.Image(yr)\n",
    "            .int16()\n",
    "            .rename([\"year\"])\n",
    "            .updateMask(img.eq(code))\n",
    "            .copyProperties(img, [\"system:time_start\"])\n",
    "        )\n",
    "\n",
    "    return c.map(wrapper)\n",
    "\n",
    "mostRecentFastLossYear = getMostRecentChange(lcms.select(['Change']),3).max()\n",
    "\n",
    "Map.addLayer(mostRecentFastLossYear, {'min':1985,'max':2023,'palette':[\"ffffe5\", \"fff7bc\", \"fee391\", \"fec44f\", \"fe9929\", \"ec7014\", \"cc4c02\"],'canAreaChart':True,'areaChartParams':{'reducer':ee.Reducer.frequencyHistogram()}}, \"Most Recent Fast Loss Year\", True)\n",
    "\n",
    "Map.turnOnAutoAreaCharting()\n",
    "Map.view()"
   ]
  },
  {
   "cell_type": "markdown",
   "metadata": {},
   "source": [
    "## Charting Time Lapses \n",
    "\n",
    "* Time lapses also support area charting. All functionality is the same as the `Map.addLayer` methods.\n",
    "\n",
    "* Band names can be specified in the `areaChartParams`. If they are not specified, but `bands` is specified in the visualization parameters, those bands will be used instead. Otherwise, all bands will be shown. \n"
   ]
  },
  {
   "cell_type": "code",
   "execution_count": null,
   "metadata": {},
   "outputs": [],
   "source": [
    "Map.clearMap()\n",
    "\n",
    "composites = ee.ImageCollection(\"projects/lcms-tcc-shared/assets/CONUS/Composites/Composite-Collection-yesL7\")\n",
    "\n",
    "years = list(range(1985,2024))\n",
    "\n",
    "# Need to mosaic the tiled outputs for each year\n",
    "composites = [composites.filter(ee.Filter.calendarRange(yr,yr,'year')).mosaic().set('system:time_start',ee.Date.fromYMD(yr,6,1).millis()) for yr in years]\n",
    "composites = ee.ImageCollection(composites)\n",
    "\n",
    "# Set up visualization parameters\n",
    "viz = gil.vizParamsFalse10k\n",
    "viz['canAreaChart']=True\n",
    "viz['areaChartParams']={'bandNames':'blue,green,red,nir,swir1,swir2','palette':'00D,0D0,D00,D0D,0DD'}\n",
    "Map.addTimeLapse(composites,gil.vizParamsFalse10k,'Composites')\n",
    "\n",
    "Map.turnOnAutoAreaCharting()\n",
    "Map.view()"
   ]
  },
  {
   "cell_type": "markdown",
   "metadata": {},
   "source": [
    "## Charting Thematic Data without set properties\n",
    "\n",
    "* You can chart thematic datasets that lack values, names, and palette properties by specifying the `ee.Reducer.frequencyHistogram()` as the reducer\n",
    "\n",
    "* This is not the best method however. Charts will lack descriptive class names and colors\n",
    "\n"
   ]
  },
  {
   "cell_type": "code",
   "execution_count": null,
   "metadata": {},
   "outputs": [],
   "source": [
    "# LCMAP example\n",
    "Map.clearMap()\n",
    "\n",
    "\n",
    "lcpri = ee.ImageCollection(\"projects/sat-io/open-datasets/LCMAP/LCPRI\").select(['b1'],['LC'])\n",
    "\n",
    "\n",
    "Map.addTimeLapse(lcpri,{'min':1,'max':9,'canAreaChart':True,\"areaChartParams\":{'reducer':ee.Reducer.frequencyHistogram()}},'LCMAP LC Primary')\n",
    "\n",
    "Map.turnOnAutoAreaCharting()\n",
    "Map.view()\n"
   ]
  },
  {
   "cell_type": "markdown",
   "metadata": {},
   "source": [
    "### Setting properties for charting\n",
    "\n",
    "* The easiest way to chart thematic data where each class has a number, name, and color, but lack the preset properties, is to set them on-the-fly\n",
    "\n",
    "* These properties can then be used for charting and map rendering"
   ]
  },
  {
   "cell_type": "code",
   "execution_count": null,
   "metadata": {},
   "outputs": [],
   "source": [
    "# LCMAP example\n",
    "Map.clearMap()\n",
    "\n",
    "lcpri_palette = ['E60000','A87000','E3E3C2','1D6330','476BA1','BAD9EB','FFFFFF','B3B0A3','A201FF']\n",
    "lc_names = ['Developed','Cropland','Grass/Shrub','Tree Cover','Water','Wetlands','Ice/Snow','Barren','Class Change']\n",
    "lc_numbers = list(range(1,len(lcpri_palette)+1))\n",
    "\n",
    "lcpri = ee.ImageCollection(\"projects/sat-io/open-datasets/LCMAP/LCPRI\").select(['b1'],['LC'])\n",
    "\n",
    "lcpri = lcpri.map(lambda img:img.set({'LC_class_values':lc_numbers,'LC_class_names':lc_names,'LC_class_palette':lcpri_palette}))\n",
    "\n",
    "\n",
    "Map.addTimeLapse(lcpri,{'autoViz':True,'canAreaChart':True,'areaChartParams':{'line':True,'sankey':True}},'LCMAP LC Primary')\n",
    "\n",
    "Map.turnOnAutoAreaCharting()\n",
    "Map.view()"
   ]
  },
  {
   "cell_type": "markdown",
   "metadata": {},
   "source": [
    "## Comparing map output versions\n",
    "\n",
    "* One common task is to understand the differences between 2 or more model runs. This can be challenging.\n",
    "\n",
    "* This example will show three versions of LCMS products and how they relate\n",
    "\n",
    "* This approach makes comparing the maps and their respective class counts relatively easy\n",
    "\n",
    "* This idea could be adapted to comparing different thematic or continuous outputs"
   ]
  },
  {
   "cell_type": "code",
   "execution_count": null,
   "metadata": {},
   "outputs": [],
   "source": [
    "Map.clearMap()\n",
    "\n",
    "# Bring in 3 different LCMS versions\n",
    "lcms_2020 = ee.ImageCollection(\"USFS/GTAC/LCMS/v2020-5\").filter('study_area==\"CONUS\"')\n",
    "lcms_2021 = ee.ImageCollection(\"USFS/GTAC/LCMS/v2021-7\").filter('study_area==\"CONUS\"')\n",
    "lcms_2022 = ee.ImageCollection(\"USFS/GTAC/LCMS/v2022-8\").filter('study_area==\"CONUS\"')\n",
    "lcms_2023 = ee.ImageCollection(\"USFS/GTAC/LCMS/v2023-9\").filter('study_area==\"CONUS\"')\n",
    "\n",
    "# Choose a year to compare (any year 1985-2020)\n",
    "year = 2010\n",
    "\n",
    "# Filter off the image and set that image to the version year\n",
    "lcms_2020 = lcms_2020.filter(ee.Filter.calendarRange(year,year,'year')).first().set({'year':2020,'system:time_start':ee.Date.fromYMD(2020,6,1).millis()})\n",
    "lcms_2021 = lcms_2021.filter(ee.Filter.calendarRange(year,year,'year')).first().set({'year':2021,'system:time_start':ee.Date.fromYMD(2021,6,1).millis()})\n",
    "lcms_2022 = lcms_2022.filter(ee.Filter.calendarRange(year,year,'year')).first().set({'year':2022,'system:time_start':ee.Date.fromYMD(2022,6,1).millis()})\n",
    "lcms_2023 = lcms_2023.filter(ee.Filter.calendarRange(year,year,'year')).first().set({'year':2023,'system:time_start':ee.Date.fromYMD(2023,6,1).millis()})\n",
    "\n",
    "# Construct the image collection\n",
    "c = ee.ImageCollection([lcms_2020,lcms_2021,lcms_2022,lcms_2023])\n",
    "\n",
    "# Add the collection as a timelapse\n",
    "# Will need to specify the transition years as the years used for each image, otherwise geeViz will default to only showing the first and last year\n",
    "# Note that if you specify the sankey transition periods, any periods you enter in the geeViz UI will not be used for that layer\n",
    "for bn in ['Change','Land_Cover','Land_Use']:\n",
    "  Map.addTimeLapse(c.select([bn]),{'autoViz':True,'canAreaChart':True,'areaChartParams':{'sankey':True,\n",
    "                                                                            'sankeyTransitionPeriods':[[2020,2020],[2021,2021],[2022,2022],[2023,2023]]\n",
    "                                                                            }}, f\"LCMS {bn.replace('_',' ')} Comparison {year}\")\n",
    "\n",
    "Map.turnOnAutoAreaCharting()\n",
    "Map.view()"
   ]
  },
  {
   "cell_type": "markdown",
   "metadata": {},
   "source": [
    "## Other charting summary zone selection methods\n",
    "\n",
    "* All examples have simply used the map extent as the zone to chart\n",
    "\n",
    "* There are other methods available\n",
    "\n",
    "* This example will show how to add a featureCollection to interactively select areas to summarize\n",
    "\n",
    "* All area selection will happen in the geeViz UI, under `Tools -> Area Tools -> Select an Area on Map`\n",
    "\n",
    "* This example also demonstrates the use of the stacked bar `chartType` and turning off the first and last MTBS burn severity classes in the chart\n",
    "\n"
   ]
  },
  {
   "cell_type": "code",
   "execution_count": null,
   "metadata": {},
   "outputs": [],
   "source": [
    "Map.clearMap()\n",
    "\n",
    "\n",
    "for bn in ['Change','Land_Cover','Land_Use']:\n",
    "  Map.addLayer(lcms.select([bn]),{'autoViz':True,'canAreaChart':True}, f\"LCMS {bn.replace('_',' ')}  \")\n",
    "\n",
    "\n",
    "# Bring in MTBS burn boundaries\n",
    "mtbsBoundaries = ee.FeatureCollection(\"USFS/GTAC/MTBS/burned_area_boundaries/v1\")\n",
    "mtbsBoundaries = mtbsBoundaries.map(\n",
    "    lambda f: f.set(\"system:time_start\", f.get(\"Ig_Date\"))\n",
    ")\n",
    "# Bring in MTBS burn severity mosaics\n",
    "mtbsSeverity = ee.ImageCollection(\"USFS/GTAC/MTBS/annual_burn_severity_mosaics/v1\").filter(ee.Filter.stringContains('system:index','_CONUS_'))\n",
    "Map.addLayer(mtbsSeverity,{'autoViz':True,'canAreaChart':True,'areaChartParams':{'chartType':'stacked-bar',\"visible\": [False, True, True, True, True, True, False],}}, \"MTBS Burn Severity\")\n",
    "\n",
    "# For area charting you can select areas to chart a number of ways. One method is using a map layer that is selectable by clicking on each feature.\n",
    "Map.addSelectLayer(\n",
    "    mtbsBoundaries,\n",
    "    {\n",
    "        \"strokeColor\": \"00F\",\n",
    "        \"selectLayerNameProperty\": \"Incid_Name\",\n",
    "    },\n",
    "    \"MTBS Fire Boundaries\"\n",
    ")\n",
    "\n",
    "Map.turnOnSelectionAreaCharting()\n",
    "Map.view()\n"
   ]
  }
 ],
 "metadata": {
  "kernelspec": {
   "display_name": "venv",
   "language": "python",
   "name": "python3"
  },
  "language_info": {
   "codemirror_mode": {
    "name": "ipython",
    "version": 3
   },
   "file_extension": ".py",
   "mimetype": "text/x-python",
   "name": "python",
   "nbconvert_exporter": "python",
   "pygments_lexer": "ipython3",
   "version": "3.12.0"
  }
 },
 "nbformat": 4,
 "nbformat_minor": 2
}
