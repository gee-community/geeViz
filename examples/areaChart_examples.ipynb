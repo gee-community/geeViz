{
 "cells": [
  {
   "cell_type": "markdown",
   "metadata": {},
   "source": [
    "## Examples of how to utilize the area charting capabilities of geeViz\n",
    "\n",
    "* It can be difficult to easily summarize GEE imageCollections and images in an interactive environment\n",
    "* geeViz's area charting methods allow for easy interactive charting with minimal additional code\n",
    "* This notebook shows several examples of different ways of using the area charting methods with GEE images and imageCollections\n",
    "\n",
    "\n",
    "\n",
    "Copyright 2024 Ian Housman\n",
    "\n",
    "Licensed under the Apache License, Version 2.0 (the \"License\");\n",
    "you may not use this file except in compliance with the License.\n",
    "You may obtain a copy of the License at\n",
    "\n",
    "   http://www.apache.org/licenses/LICENSE-2.0\n",
    "\n",
    "Unless required by applicable law or agreed to in writing, software\n",
    "distributed under the License is distributed on an \"AS IS\" BASIS,\n",
    "WITHOUT WARRANTIES OR CONDITIONS OF ANY KIND, either express or implied.\n",
    "See the License for the specific language governing permissions and\n",
    "limitations under the License.\n",
    "\n",
    "<table align=\"left\">\n",
    "    <td>\n",
    "      <a href=\"https://colab.research.google.com/github/gee-community/geeViz/blob/master/examples/areaChart_examples.ipynb\">\n",
    "        <img src=\"https://cloud.google.com/ml-engine/images/colab-logo-32px.png\" alt=\"Colab logo\"> Run in Colab\n",
    "      </a>\n",
    "    </td>\n",
    "</table>"
   ]
  },
  {
   "cell_type": "code",
   "execution_count": 1,
   "metadata": {},
   "outputs": [
    {
     "name": "stdout",
     "output_type": "stream",
     "text": [
      "Initializing GEE\n"
     ]
    },
    {
     "name": "stderr",
     "output_type": "stream",
     "text": [
      "c:\\Users\\ihousman\\AppData\\Local\\Programs\\Python\\Python311\\Lib\\site-packages\\google\\auth\\_default.py:78: UserWarning: Your application has authenticated using end user credentials from Google Cloud SDK without a quota project. You might receive a \"quota exceeded\" or \"API not enabled\" error. See the following page for troubleshooting: https://cloud.google.com/docs/authentication/adc-troubleshooting/user-creds. \n",
      "  warnings.warn(_CLOUD_SDK_CREDENTIALS_WARNING)\n"
     ]
    },
    {
     "name": "stdout",
     "output_type": "stream",
     "text": [
      "Cached project id file path: C:\\Users\\ihousman\\.config\\earthengine\\credentials.proj_id\n",
      "Cached project id: lcms-292214\n",
      "Successfully initialized\n",
      "geeViz package folder: c:\\Users\\ihousman\\AppData\\Local\\Programs\\Python\\Python311\\Lib\\site-packages\\geeViz\n",
      "done\n"
     ]
    }
   ],
   "source": [
    "#Import modules\n",
    "try:\n",
    "    import  geeViz.geeView as geeView\n",
    "except:\n",
    "    !python -m pip install geeViz\n",
    "    import  geeViz.geeView as geeView\n",
    "\n",
    "import geeViz.getImagesLib as gil\n",
    "import pandas as pd\n",
    "ee = geeView.ee\n",
    "Map = geeView.Map\n",
    "Map.clearMap()\n",
    "print('done')"
   ]
  },
  {
   "cell_type": "markdown",
   "metadata": {},
   "source": [
    "* There are many different formats of data geeViz's area charting module can handle\n",
    "* The most common is charting the percent or area in hectares or acres of thematic classes of an image collection\n",
    "* If an imageCollection has `class_values`, `class_names`, `class_palette` properties for its images, all charts will automatically be populated with those names and colors\n",
    "\n",
    "* First, we will look at these properties for a couple available images and image collections"
   ]
  },
  {
   "cell_type": "code",
   "execution_count": 22,
   "metadata": {},
   "outputs": [
    {
     "name": "stdout",
     "output_type": "stream",
     "text": [
      "Change\n"
     ]
    },
    {
     "data": {
      "text/html": [
       "<div>\n",
       "<style scoped>\n",
       "    .dataframe tbody tr th:only-of-type {\n",
       "        vertical-align: middle;\n",
       "    }\n",
       "\n",
       "    .dataframe tbody tr th {\n",
       "        vertical-align: top;\n",
       "    }\n",
       "\n",
       "    .dataframe thead th {\n",
       "        text-align: right;\n",
       "    }\n",
       "</style>\n",
       "<table border=\"1\" class=\"dataframe\">\n",
       "  <thead>\n",
       "    <tr style=\"text-align: right;\">\n",
       "      <th></th>\n",
       "      <th>Values</th>\n",
       "      <th>Names</th>\n",
       "      <th>Colors</th>\n",
       "    </tr>\n",
       "  </thead>\n",
       "  <tbody>\n",
       "    <tr>\n",
       "      <th>0</th>\n",
       "      <td>1</td>\n",
       "      <td>Stable</td>\n",
       "      <td>3d4551</td>\n",
       "    </tr>\n",
       "    <tr>\n",
       "      <th>1</th>\n",
       "      <td>2</td>\n",
       "      <td>Slow Loss</td>\n",
       "      <td>f39268</td>\n",
       "    </tr>\n",
       "    <tr>\n",
       "      <th>2</th>\n",
       "      <td>3</td>\n",
       "      <td>Fast Loss</td>\n",
       "      <td>d54309</td>\n",
       "    </tr>\n",
       "    <tr>\n",
       "      <th>3</th>\n",
       "      <td>4</td>\n",
       "      <td>Gain</td>\n",
       "      <td>00a398</td>\n",
       "    </tr>\n",
       "    <tr>\n",
       "      <th>4</th>\n",
       "      <td>5</td>\n",
       "      <td>Non-Processing Area Mask</td>\n",
       "      <td>1b1716</td>\n",
       "    </tr>\n",
       "  </tbody>\n",
       "</table>\n",
       "</div>"
      ],
      "text/plain": [
       "   Values                     Names  Colors\n",
       "0       1                    Stable  3d4551\n",
       "1       2                 Slow Loss  f39268\n",
       "2       3                 Fast Loss  d54309\n",
       "3       4                      Gain  00a398\n",
       "4       5  Non-Processing Area Mask  1b1716"
      ]
     },
     "metadata": {},
     "output_type": "display_data"
    },
    {
     "name": "stdout",
     "output_type": "stream",
     "text": [
      "Land_Cover\n"
     ]
    },
    {
     "data": {
      "text/html": [
       "<div>\n",
       "<style scoped>\n",
       "    .dataframe tbody tr th:only-of-type {\n",
       "        vertical-align: middle;\n",
       "    }\n",
       "\n",
       "    .dataframe tbody tr th {\n",
       "        vertical-align: top;\n",
       "    }\n",
       "\n",
       "    .dataframe thead th {\n",
       "        text-align: right;\n",
       "    }\n",
       "</style>\n",
       "<table border=\"1\" class=\"dataframe\">\n",
       "  <thead>\n",
       "    <tr style=\"text-align: right;\">\n",
       "      <th></th>\n",
       "      <th>Values</th>\n",
       "      <th>Names</th>\n",
       "      <th>Colors</th>\n",
       "    </tr>\n",
       "  </thead>\n",
       "  <tbody>\n",
       "    <tr>\n",
       "      <th>0</th>\n",
       "      <td>1</td>\n",
       "      <td>Trees</td>\n",
       "      <td>005e00</td>\n",
       "    </tr>\n",
       "    <tr>\n",
       "      <th>1</th>\n",
       "      <td>2</td>\n",
       "      <td>Tall Shrubs &amp; Trees Mix (SEAK Only)</td>\n",
       "      <td>008000</td>\n",
       "    </tr>\n",
       "    <tr>\n",
       "      <th>2</th>\n",
       "      <td>3</td>\n",
       "      <td>Shrubs &amp; Trees Mix</td>\n",
       "      <td>00cc00</td>\n",
       "    </tr>\n",
       "    <tr>\n",
       "      <th>3</th>\n",
       "      <td>4</td>\n",
       "      <td>Grass/Forb/Herb &amp; Trees Mix</td>\n",
       "      <td>b3ff1a</td>\n",
       "    </tr>\n",
       "    <tr>\n",
       "      <th>4</th>\n",
       "      <td>5</td>\n",
       "      <td>Barren &amp; Trees Mix</td>\n",
       "      <td>99ff99</td>\n",
       "    </tr>\n",
       "    <tr>\n",
       "      <th>5</th>\n",
       "      <td>6</td>\n",
       "      <td>Tall Shrubs (SEAK Only)</td>\n",
       "      <td>b30088</td>\n",
       "    </tr>\n",
       "    <tr>\n",
       "      <th>6</th>\n",
       "      <td>7</td>\n",
       "      <td>Shrubs</td>\n",
       "      <td>e68a00</td>\n",
       "    </tr>\n",
       "    <tr>\n",
       "      <th>7</th>\n",
       "      <td>8</td>\n",
       "      <td>Grass/Forb/Herb &amp; Shrubs Mix</td>\n",
       "      <td>ffad33</td>\n",
       "    </tr>\n",
       "    <tr>\n",
       "      <th>8</th>\n",
       "      <td>9</td>\n",
       "      <td>Barren &amp; Shrubs Mix</td>\n",
       "      <td>ffe0b3</td>\n",
       "    </tr>\n",
       "    <tr>\n",
       "      <th>9</th>\n",
       "      <td>10</td>\n",
       "      <td>Grass/Forb/Herb</td>\n",
       "      <td>ffff00</td>\n",
       "    </tr>\n",
       "    <tr>\n",
       "      <th>10</th>\n",
       "      <td>11</td>\n",
       "      <td>Barren &amp; Grass/Forb/Herb Mix</td>\n",
       "      <td>aa7700</td>\n",
       "    </tr>\n",
       "    <tr>\n",
       "      <th>11</th>\n",
       "      <td>12</td>\n",
       "      <td>Barren or Impervious</td>\n",
       "      <td>d3bf9b</td>\n",
       "    </tr>\n",
       "    <tr>\n",
       "      <th>12</th>\n",
       "      <td>13</td>\n",
       "      <td>Snow or Ice</td>\n",
       "      <td>ffffff</td>\n",
       "    </tr>\n",
       "    <tr>\n",
       "      <th>13</th>\n",
       "      <td>14</td>\n",
       "      <td>Water</td>\n",
       "      <td>4780f3</td>\n",
       "    </tr>\n",
       "    <tr>\n",
       "      <th>14</th>\n",
       "      <td>15</td>\n",
       "      <td>Non-Processing Area Mask</td>\n",
       "      <td>1b1716</td>\n",
       "    </tr>\n",
       "  </tbody>\n",
       "</table>\n",
       "</div>"
      ],
      "text/plain": [
       "    Values                                Names  Colors\n",
       "0        1                                Trees  005e00\n",
       "1        2  Tall Shrubs & Trees Mix (SEAK Only)  008000\n",
       "2        3                   Shrubs & Trees Mix  00cc00\n",
       "3        4          Grass/Forb/Herb & Trees Mix  b3ff1a\n",
       "4        5                   Barren & Trees Mix  99ff99\n",
       "5        6              Tall Shrubs (SEAK Only)  b30088\n",
       "6        7                               Shrubs  e68a00\n",
       "7        8         Grass/Forb/Herb & Shrubs Mix  ffad33\n",
       "8        9                  Barren & Shrubs Mix  ffe0b3\n",
       "9       10                      Grass/Forb/Herb  ffff00\n",
       "10      11         Barren & Grass/Forb/Herb Mix  aa7700\n",
       "11      12                 Barren or Impervious  d3bf9b\n",
       "12      13                          Snow or Ice  ffffff\n",
       "13      14                                Water  4780f3\n",
       "14      15             Non-Processing Area Mask  1b1716"
      ]
     },
     "metadata": {},
     "output_type": "display_data"
    },
    {
     "name": "stdout",
     "output_type": "stream",
     "text": [
      "Land_Use\n"
     ]
    },
    {
     "data": {
      "text/html": [
       "<div>\n",
       "<style scoped>\n",
       "    .dataframe tbody tr th:only-of-type {\n",
       "        vertical-align: middle;\n",
       "    }\n",
       "\n",
       "    .dataframe tbody tr th {\n",
       "        vertical-align: top;\n",
       "    }\n",
       "\n",
       "    .dataframe thead th {\n",
       "        text-align: right;\n",
       "    }\n",
       "</style>\n",
       "<table border=\"1\" class=\"dataframe\">\n",
       "  <thead>\n",
       "    <tr style=\"text-align: right;\">\n",
       "      <th></th>\n",
       "      <th>Values</th>\n",
       "      <th>Names</th>\n",
       "      <th>Colors</th>\n",
       "    </tr>\n",
       "  </thead>\n",
       "  <tbody>\n",
       "    <tr>\n",
       "      <th>0</th>\n",
       "      <td>1</td>\n",
       "      <td>Agriculture</td>\n",
       "      <td>efff6b</td>\n",
       "    </tr>\n",
       "    <tr>\n",
       "      <th>1</th>\n",
       "      <td>2</td>\n",
       "      <td>Developed</td>\n",
       "      <td>ff2ff8</td>\n",
       "    </tr>\n",
       "    <tr>\n",
       "      <th>2</th>\n",
       "      <td>3</td>\n",
       "      <td>Forest</td>\n",
       "      <td>1b9d0c</td>\n",
       "    </tr>\n",
       "    <tr>\n",
       "      <th>3</th>\n",
       "      <td>4</td>\n",
       "      <td>Non-Forest Wetland</td>\n",
       "      <td>97ffff</td>\n",
       "    </tr>\n",
       "    <tr>\n",
       "      <th>4</th>\n",
       "      <td>5</td>\n",
       "      <td>Other</td>\n",
       "      <td>a1a1a1</td>\n",
       "    </tr>\n",
       "    <tr>\n",
       "      <th>5</th>\n",
       "      <td>6</td>\n",
       "      <td>Rangeland or Pasture</td>\n",
       "      <td>c2b34a</td>\n",
       "    </tr>\n",
       "    <tr>\n",
       "      <th>6</th>\n",
       "      <td>7</td>\n",
       "      <td>Non-Processing Area Mask</td>\n",
       "      <td>1b1716</td>\n",
       "    </tr>\n",
       "  </tbody>\n",
       "</table>\n",
       "</div>"
      ],
      "text/plain": [
       "   Values                     Names  Colors\n",
       "0       1               Agriculture  efff6b\n",
       "1       2                 Developed  ff2ff8\n",
       "2       3                    Forest  1b9d0c\n",
       "3       4        Non-Forest Wetland  97ffff\n",
       "4       5                     Other  a1a1a1\n",
       "5       6      Rangeland or Pasture  c2b34a\n",
       "6       7  Non-Processing Area Mask  1b1716"
      ]
     },
     "metadata": {},
     "output_type": "display_data"
    },
    {
     "name": "stdout",
     "output_type": "stream",
     "text": [
      "landcover\n"
     ]
    },
    {
     "data": {
      "text/html": [
       "<div>\n",
       "<style scoped>\n",
       "    .dataframe tbody tr th:only-of-type {\n",
       "        vertical-align: middle;\n",
       "    }\n",
       "\n",
       "    .dataframe tbody tr th {\n",
       "        vertical-align: top;\n",
       "    }\n",
       "\n",
       "    .dataframe thead th {\n",
       "        text-align: right;\n",
       "    }\n",
       "</style>\n",
       "<table border=\"1\" class=\"dataframe\">\n",
       "  <thead>\n",
       "    <tr style=\"text-align: right;\">\n",
       "      <th></th>\n",
       "      <th>Values</th>\n",
       "      <th>Names</th>\n",
       "      <th>Colors</th>\n",
       "    </tr>\n",
       "  </thead>\n",
       "  <tbody>\n",
       "    <tr>\n",
       "      <th>0</th>\n",
       "      <td>11</td>\n",
       "      <td>Open water: areas of open water, generally wit...</td>\n",
       "      <td>466b9f</td>\n",
       "    </tr>\n",
       "    <tr>\n",
       "      <th>1</th>\n",
       "      <td>12</td>\n",
       "      <td>Perennial ice/snow: areas characterized by a p...</td>\n",
       "      <td>d1def8</td>\n",
       "    </tr>\n",
       "    <tr>\n",
       "      <th>2</th>\n",
       "      <td>21</td>\n",
       "      <td>Developed, open space: areas with a mixture of...</td>\n",
       "      <td>dec5c5</td>\n",
       "    </tr>\n",
       "    <tr>\n",
       "      <th>3</th>\n",
       "      <td>22</td>\n",
       "      <td>Developed, low intensity: areas with a mixture...</td>\n",
       "      <td>d99282</td>\n",
       "    </tr>\n",
       "    <tr>\n",
       "      <th>4</th>\n",
       "      <td>23</td>\n",
       "      <td>Developed, medium intensity: areas with a mixt...</td>\n",
       "      <td>eb0000</td>\n",
       "    </tr>\n",
       "    <tr>\n",
       "      <th>5</th>\n",
       "      <td>24</td>\n",
       "      <td>Developed high intensity: highly developed are...</td>\n",
       "      <td>ab0000</td>\n",
       "    </tr>\n",
       "    <tr>\n",
       "      <th>6</th>\n",
       "      <td>31</td>\n",
       "      <td>Barren land (rock/sand/clay): areas of bedrock...</td>\n",
       "      <td>b3ac9f</td>\n",
       "    </tr>\n",
       "    <tr>\n",
       "      <th>7</th>\n",
       "      <td>41</td>\n",
       "      <td>Deciduous forest: areas dominated by trees gen...</td>\n",
       "      <td>68ab5f</td>\n",
       "    </tr>\n",
       "    <tr>\n",
       "      <th>8</th>\n",
       "      <td>42</td>\n",
       "      <td>Evergreen forest: areas dominated by trees gen...</td>\n",
       "      <td>1c5f2c</td>\n",
       "    </tr>\n",
       "    <tr>\n",
       "      <th>9</th>\n",
       "      <td>43</td>\n",
       "      <td>Mixed forest: areas dominated by trees general...</td>\n",
       "      <td>b5c58f</td>\n",
       "    </tr>\n",
       "    <tr>\n",
       "      <th>10</th>\n",
       "      <td>52</td>\n",
       "      <td>Shrub/scrub: areas dominated by shrubs less th...</td>\n",
       "      <td>ccb879</td>\n",
       "    </tr>\n",
       "    <tr>\n",
       "      <th>11</th>\n",
       "      <td>71</td>\n",
       "      <td>Grassland/herbaceous: areas dominated by grama...</td>\n",
       "      <td>dfdfc2</td>\n",
       "    </tr>\n",
       "    <tr>\n",
       "      <th>12</th>\n",
       "      <td>81</td>\n",
       "      <td>Pasture/hay: areas of grasses, legumes, or gra...</td>\n",
       "      <td>dcd939</td>\n",
       "    </tr>\n",
       "    <tr>\n",
       "      <th>13</th>\n",
       "      <td>82</td>\n",
       "      <td>Cultivated crops: areas used for the productio...</td>\n",
       "      <td>ab6c28</td>\n",
       "    </tr>\n",
       "    <tr>\n",
       "      <th>14</th>\n",
       "      <td>90</td>\n",
       "      <td>Woody wetlands: areas where forest or shrublan...</td>\n",
       "      <td>b8d9eb</td>\n",
       "    </tr>\n",
       "    <tr>\n",
       "      <th>15</th>\n",
       "      <td>95</td>\n",
       "      <td>Emergent herbaceous wetlands: areas where pere...</td>\n",
       "      <td>6c9fb8</td>\n",
       "    </tr>\n",
       "  </tbody>\n",
       "</table>\n",
       "</div>"
      ],
      "text/plain": [
       "    Values                                              Names  Colors\n",
       "0       11  Open water: areas of open water, generally wit...  466b9f\n",
       "1       12  Perennial ice/snow: areas characterized by a p...  d1def8\n",
       "2       21  Developed, open space: areas with a mixture of...  dec5c5\n",
       "3       22  Developed, low intensity: areas with a mixture...  d99282\n",
       "4       23  Developed, medium intensity: areas with a mixt...  eb0000\n",
       "5       24  Developed high intensity: highly developed are...  ab0000\n",
       "6       31  Barren land (rock/sand/clay): areas of bedrock...  b3ac9f\n",
       "7       41  Deciduous forest: areas dominated by trees gen...  68ab5f\n",
       "8       42  Evergreen forest: areas dominated by trees gen...  1c5f2c\n",
       "9       43  Mixed forest: areas dominated by trees general...  b5c58f\n",
       "10      52  Shrub/scrub: areas dominated by shrubs less th...  ccb879\n",
       "11      71  Grassland/herbaceous: areas dominated by grama...  dfdfc2\n",
       "12      81  Pasture/hay: areas of grasses, legumes, or gra...  dcd939\n",
       "13      82  Cultivated crops: areas used for the productio...  ab6c28\n",
       "14      90  Woody wetlands: areas where forest or shrublan...  b8d9eb\n",
       "15      95  Emergent herbaceous wetlands: areas where pere...  6c9fb8"
      ]
     },
     "metadata": {},
     "output_type": "display_data"
    }
   ],
   "source": [
    "lcms = ee.ImageCollection(\"USFS/GTAC/LCMS/v2023-9\")\n",
    "nlcd = ee.ImageCollection(\"USGS/NLCD_RELEASES/2021_REL/NLCD\").select(['landcover'])\n",
    "def get_props_dataFrames(props,bandNames = None):\n",
    "    props = {k:i for k,i in props.items() if k.find('_class_')>-1}\n",
    "\n",
    "    if bandNames == None:\n",
    "        bandNames = list(set([k.split('_class_')[0] for k in props.keys()]))\n",
    "    out = {}\n",
    "    for bn in bandNames:\n",
    "        print(bn)\n",
    "        df = pd.DataFrame({'Values':props[f'{bn}_class_values'],\n",
    "                           'Names':props[f'{bn}_class_names'],\n",
    "                           'Colors':props[f'{bn}_class_palette']})\n",
    "        display(df)\n",
    "        out[bn]=df\n",
    "    # return out\n",
    "lcms_props = lcms.first().toDictionary().getInfo()\n",
    "nlcd_props = nlcd.first().toDictionary().getInfo()\n",
    "\n",
    "lcms_thematic_bandNames = lcms.select(['Change','Land_Cover','Land_Use']).first().bandNames().getInfo()\n",
    "\n",
    "nlcd_landcover_bandNames = ['landcover']\n",
    "get_props_dataFrames(lcms_props,lcms_thematic_bandNames)\n",
    "get_props_dataFrames(nlcd_props,nlcd_landcover_bandNames)\n"
   ]
  },
  {
   "cell_type": "markdown",
   "metadata": {},
   "source": [
    "Basic Area Charting\n",
    "\n",
    "* This example will show the most basic method for adding area chart layers\n",
    "\n",
    "* By setting `\"canAreaChart\":True`, the layer will be added to area charting. Available properties (shown above) will be used to set up names and colors\n",
    "\n",
    "* Using the `Map.turnOnAutoAreaCharting()` method will turn on autmatic area charting. This will use the map extent as the summary area.\n",
    "\n",
    "* Additional methods are `Map.turnOnSelectionAreaCharting()` and `Map.turnOnUserDefinedAreaCharting()` for turning on different methods of providing areas to summarize. You can also change the method being used in the geeView UI under `Tools -> Area Tools`"
   ]
  },
  {
   "cell_type": "code",
   "execution_count": 23,
   "metadata": {},
   "outputs": [
    {
     "name": "stdout",
     "output_type": "stream",
     "text": [
      "Adding layer: LCMS Land Cover\n",
      "Adding layer: NLCD Land Cover\n",
      "Starting webmap\n",
      "Using default refresh token for geeView\n"
     ]
    },
    {
     "name": "stderr",
     "output_type": "stream",
     "text": [
      "c:\\Users\\ihousman\\AppData\\Local\\Programs\\Python\\Python311\\Lib\\site-packages\\google\\auth\\_default.py:78: UserWarning: Your application has authenticated using end user credentials from Google Cloud SDK without a quota project. You might receive a \"quota exceeded\" or \"API not enabled\" error. See the following page for troubleshooting: https://cloud.google.com/docs/authentication/adc-troubleshooting/user-creds. \n",
      "  warnings.warn(_CLOUD_SDK_CREDENTIALS_WARNING)\n"
     ]
    },
    {
     "name": "stdout",
     "output_type": "stream",
     "text": [
      "Local web server at: http://localhost:8001/geeView/ already serving.\n",
      "cwd a:\\GEE\\gee_py_modules_package\\geeViz\\examples\n",
      "geeView URL: http://localhost:8001/geeView/?projectID=lcms-292214&accessToken=ya29.a0Ad52N39SglXjM0114cPWCNemYhXYzH9kY2Q2pYsbB4BS-VIKPbJhqzPEthR_QlJbFpxYYi2mkEdOVvg4crvDB_3GLVkjf6Eeg1fv9mY_lW_fLvA_41RsGMK8P6oCN5WeLWZTKYd4vCx-CTFJIASFvUknysgRGS6i_0dPrCgaCgYKASsSARESFQHGX2MilaPXbbRcMH9WTZnwKi2tPQ0174\n"
     ]
    },
    {
     "data": {
      "text/html": [
       "\n",
       "        <iframe\n",
       "            width=\"100%\"\n",
       "            height=\"525px\"\n",
       "            src=\"http://localhost:8001/geeView/?projectID=lcms-292214&accessToken=ya29.a0Ad52N39SglXjM0114cPWCNemYhXYzH9kY2Q2pYsbB4BS-VIKPbJhqzPEthR_QlJbFpxYYi2mkEdOVvg4crvDB_3GLVkjf6Eeg1fv9mY_lW_fLvA_41RsGMK8P6oCN5WeLWZTKYd4vCx-CTFJIASFvUknysgRGS6i_0dPrCgaCgYKASsSARESFQHGX2MilaPXbbRcMH9WTZnwKi2tPQ0174\"\n",
       "            frameborder=\"0\"\n",
       "            allowfullscreen\n",
       "            \n",
       "        ></iframe>\n",
       "        "
      ],
      "text/plain": [
       "<IPython.lib.display.IFrame at 0x27ce595fcd0>"
      ]
     },
     "metadata": {},
     "output_type": "display_data"
    }
   ],
   "source": [
    "Map.clearMap()\n",
    "\n",
    "\n",
    "Map.addLayer(lcms.select(['Land_Cover']),{'autoViz':True,'canAreaChart':True},'LCMS Land Cover')\n",
    "Map.addLayer(nlcd.select(['landcover']),{'autoViz':True,'canAreaChart':True},'NLCD Land Cover')\n",
    "\n",
    "\n",
    "Map.populateAreaChartLayerSelect()\n",
    "Map.turnOnAutoAreaCharting()\n",
    "Map.view()"
   ]
  },
  {
   "cell_type": "markdown",
   "metadata": {},
   "source": [
    "Line and Sankey Charts\n",
    "\n",
    "* For thematic imageCollections, line and sankey charts are supported\n",
    "\n",
    "* You can specify one or both within the `areaChartParams` dictionary. By default, line is chosen. (e.g. `\"areaChartParams\":{\"sankey\":True}`)\n",
    "\n",
    "* Note that sankey charts work well at showing transitions between classes. Since the number of transition classes is the number of classes<sup>2</sup>, if there are many classes, sankey charting will be quite slow and may error out.\n",
    "\n",
    "* For sankey charting, you can specify transition periods in the code using the `sankeyTransitionPeriods` key in `areaChartParams` (e.g. `\"sankeyTransitionPeriods\":[[1985,1987],[2000,2002],[2020,2022]]`), or leave it blank and geeViz will try to figure out a good set given the years of the provided imageCollection. Note that if you add imageCollections with different time extents, geeViz will take the intersection for the default years. You can add and change the periods in the geeView UI as well under `Tools -> Area Tools -> Area Tools Parameters` "
   ]
  },
  {
   "cell_type": "code",
   "execution_count": 24,
   "metadata": {},
   "outputs": [
    {
     "name": "stdout",
     "output_type": "stream",
     "text": [
      "Adding layer: LCMS Change\n",
      "Adding layer: LCMS Land Cover\n",
      "Adding layer: LCMS Land Use\n",
      "Starting webmap\n",
      "Using default refresh token for geeView\n",
      "Local web server at: http://localhost:8001/geeView/ already serving.\n",
      "cwd a:\\GEE\\gee_py_modules_package\\geeViz\\examples\n",
      "geeView URL: http://localhost:8001/geeView/?projectID=lcms-292214&accessToken=ya29.a0Ad52N39cNxuWwIpcp0RfhvymqTVnOfOVPswSICrhi5FwVqSD_7vILxqWxzZe43mmWKlx8pKFRyuqXeA3_SCWNDxdx-LRhhlB8Bd48Ao_1o5b1Ez9t5vbUVbxko6u-ZdmMzSb9ahQ0Ujv-Y8NfZZCWs4GxM_2Ww1FIHJ1qgcaCgYKAeQSARESFQHGX2MirnqC36jj_kDznje5QFTq6g0174\n"
     ]
    },
    {
     "data": {
      "text/html": [
       "\n",
       "        <iframe\n",
       "            width=\"100%\"\n",
       "            height=\"525px\"\n",
       "            src=\"http://localhost:8001/geeView/?projectID=lcms-292214&accessToken=ya29.a0Ad52N39cNxuWwIpcp0RfhvymqTVnOfOVPswSICrhi5FwVqSD_7vILxqWxzZe43mmWKlx8pKFRyuqXeA3_SCWNDxdx-LRhhlB8Bd48Ao_1o5b1Ez9t5vbUVbxko6u-ZdmMzSb9ahQ0Ujv-Y8NfZZCWs4GxM_2Ww1FIHJ1qgcaCgYKAeQSARESFQHGX2MirnqC36jj_kDznje5QFTq6g0174\"\n",
       "            frameborder=\"0\"\n",
       "            allowfullscreen\n",
       "            \n",
       "        ></iframe>\n",
       "        "
      ],
      "text/plain": [
       "<IPython.lib.display.IFrame at 0x27ce5f20f50>"
      ]
     },
     "metadata": {},
     "output_type": "display_data"
    }
   ],
   "source": [
    "Map.clearMap()\n",
    "\n",
    "Map.addLayer(lcms.select(['Change']),{'autoViz':True,'canAreaChart':True,'areaChartParams':{'sankey':True}},'LCMS Change')\n",
    "\n",
    "Map.addLayer(lcms.select(['Land_Cover']),{'autoViz':True,'canAreaChart':True,'areaChartParams':{'sankey':True}},'LCMS Land Cover')\n",
    "\n",
    "Map.addLayer(lcms.select(['Land_Use']),{'autoViz':True,'canAreaChart':True,'areaChartParams':{'sankey':True}},'LCMS Land Use')\n",
    "\n",
    "Map.populateAreaChartLayerSelect()\n",
    "Map.turnOnAutoAreaCharting()\n",
    "Map.view()"
   ]
  },
  {
   "cell_type": "markdown",
   "metadata": {},
   "source": [
    "Adding a layer to line and sankey charting is done as follows\n",
    "\n",
    "* Any time you specify `'line':True,'sankey':True`, both line and sankey charts will be created \n",
    "\n",
    "* This can slow things down a lot if many layers are visible. Also, moving the map, pausing for a second or two, and then moving the map again, many times, can create a long queue and delay charting."
   ]
  },
  {
   "cell_type": "code",
   "execution_count": 5,
   "metadata": {},
   "outputs": [
    {
     "name": "stdout",
     "output_type": "stream",
     "text": [
      "Adding layer: LCMS Change\n",
      "Adding layer: LCMS Land Cover\n",
      "Adding layer: LCMS Land Use\n",
      "Starting webmap\n",
      "Using default refresh token for geeView\n",
      "Local web server at: http://localhost:8001/geeView/ already serving.\n",
      "cwd a:\\GEE\\gee_py_modules_package\\geeViz\\examples\n",
      "geeView URL: http://localhost:8001/geeView/?projectID=lcms-292214&accessToken=ya29.a0Ad52N3819DZUk2nB8FdnVdeS0nRxqDhZias9XCg7GZRXgfPWuBt8apxwMARhzvMb5ZPHf9j3qWO-e88d7SHYkHNjP2u7_oqMQaHvmxW_wt8lOu4zAWr1QN4e51Jw2coJ9NgmS2CwLUjcVdHgyXMQYYp08KUt9BdaC-oTplUaCgYKAdUSARESFQHGX2Mis0WoLCPBU3JT6G9_DJKWQQ0174\n"
     ]
    },
    {
     "data": {
      "text/html": [
       "\n",
       "        <iframe\n",
       "            width=\"100%\"\n",
       "            height=\"525px\"\n",
       "            src=\"http://localhost:8001/geeView/?projectID=lcms-292214&accessToken=ya29.a0Ad52N3819DZUk2nB8FdnVdeS0nRxqDhZias9XCg7GZRXgfPWuBt8apxwMARhzvMb5ZPHf9j3qWO-e88d7SHYkHNjP2u7_oqMQaHvmxW_wt8lOu4zAWr1QN4e51Jw2coJ9NgmS2CwLUjcVdHgyXMQYYp08KUt9BdaC-oTplUaCgYKAdUSARESFQHGX2Mis0WoLCPBU3JT6G9_DJKWQQ0174\"\n",
       "            frameborder=\"0\"\n",
       "            allowfullscreen\n",
       "            \n",
       "        ></iframe>\n",
       "        "
      ],
      "text/plain": [
       "<IPython.lib.display.IFrame at 0x27ce3cf6fd0>"
      ]
     },
     "metadata": {},
     "output_type": "display_data"
    }
   ],
   "source": [
    "Map.clearMap()\n",
    "\n",
    "Map.addLayer(lcms.select(['Change']),{'autoViz':True,'canAreaChart':True,'areaChartParams':{'line':True,'sankey':True}},'LCMS Change')\n",
    "\n",
    "Map.addLayer(lcms.select(['Land_Cover']),{'autoViz':True,'canAreaChart':True,'areaChartParams':{'line':True,'sankey':True}},'LCMS Land Cover')\n",
    "\n",
    "Map.addLayer(lcms.select(['Land_Use']),{'autoViz':True,'canAreaChart':True,'areaChartParams':{'line':True,'sankey':True}},'LCMS Land Use')\n",
    "\n",
    "Map.populateAreaChartLayerSelect()\n",
    "Map.turnOnAutoAreaCharting()\n",
    "Map.view()"
   ]
  },
  {
   "cell_type": "markdown",
   "metadata": {},
   "source": [
    "Ways of adding area charting layers\n",
    "* There are two methods for adding area chart layers. The first is shown above, where when adding a layer using `Map.addLayer`, specify `\"canAreaChart\":True`. With this method, if a layer is visible, it will be included in area charting.\n",
    "* There are instances where you would like to summarize layers, but may not want them on the map or it is impossible to visualize all the thematic bands you'd like to chart. In this instance, you can use the `Map.addAreaChartLayer` method.\n",
    "* If you use the `Map.addAreaChartLayer` method, you will need to use the `Map.populateAreaChartLayerSelect()` method to instantiate a selection menu for choosing which area chart layers should be charted. \n",
    "* In this example, we will summarize all thematic classes in LCMS in a single graph. This cannot be displayed on a map, but is an interesting way to look at the summarized data in charts\n",
    "\n",
    "* Note that the dictionary of parameters is more or less the same as what you would put in the `\"areaChartParams\"` if you were to use the `Map.addLayer` method. \n",
    "\n",
    "* Note that while multi thematic band image collections can be charted in a single line chart, sankey charts can only support one band per chart. If a multi thematic band image collection is given with `\"sankey\":True`, separate sankey charts will be created for each band."
   ]
  },
  {
   "cell_type": "code",
   "execution_count": 6,
   "metadata": {},
   "outputs": [
    {
     "name": "stdout",
     "output_type": "stream",
     "text": [
      "Adding layer: LCMS Change Prob\n",
      "Adding area chart layer: LCMS All Thematic Classes Line\n",
      "Adding area chart layer: LCMS All Thematic Classes Sankey\n",
      "Starting webmap\n",
      "Using default refresh token for geeView\n",
      "Local web server at: http://localhost:8001/geeView/ already serving.\n",
      "cwd a:\\GEE\\gee_py_modules_package\\geeViz\\examples\n",
      "geeView URL: http://localhost:8001/geeView/?projectID=lcms-292214&accessToken=ya29.a0AXooCgtd2VbsC6Gjr9GTcE2TkNqSF64UFRK_UBY1H6z3sQj88GkjgSaTybY_YMjTC5Q2yqSTrjRThWHw7I5CjHzRANs32TyQlj3ZF6Wd8fASaEiFN3S7RVXdv3VO3dOURG23fvZKZXl6M_zRzz9KRaL0-hGNo7Dda6QViU0aCgYKAXESARESFQHGX2Mib-ReN4miLoPRNofFkzbyvg0174\n"
     ]
    },
    {
     "data": {
      "text/html": [
       "\n",
       "        <iframe\n",
       "            width=\"100%\"\n",
       "            height=\"525px\"\n",
       "            src=\"http://localhost:8001/geeView/?projectID=lcms-292214&accessToken=ya29.a0AXooCgtd2VbsC6Gjr9GTcE2TkNqSF64UFRK_UBY1H6z3sQj88GkjgSaTybY_YMjTC5Q2yqSTrjRThWHw7I5CjHzRANs32TyQlj3ZF6Wd8fASaEiFN3S7RVXdv3VO3dOURG23fvZKZXl6M_zRzz9KRaL0-hGNo7Dda6QViU0aCgYKAXESARESFQHGX2Mib-ReN4miLoPRNofFkzbyvg0174\"\n",
       "            frameborder=\"0\"\n",
       "            allowfullscreen\n",
       "            \n",
       "        ></iframe>\n",
       "        "
      ],
      "text/plain": [
       "<IPython.lib.display.IFrame at 0x27cbd5a01d0>"
      ]
     },
     "metadata": {},
     "output_type": "display_data"
    }
   ],
   "source": [
    "Map.clearMap()\n",
    "\n",
    "Map.addLayer(lcms.select(['Change_Raw_Probability.*']),{'reducer':ee.Reducer.stdDev(),'min':0,'max':10},'LCMS Change Prob')\n",
    "\n",
    "Map.addAreaChartLayer(lcms,{'line':True},'LCMS All Thematic Classes Line',False)\n",
    "\n",
    "Map.addAreaChartLayer(lcms,{'sankey':True},'LCMS All Thematic Classes Sankey',True)\n",
    "\n",
    "Map.populateAreaChartLayerSelect()\n",
    "Map.turnOnAutoAreaCharting()\n",
    "Map.view()"
   ]
  },
  {
   "cell_type": "markdown",
   "metadata": {},
   "source": [
    "Charting Non-Thematic Data\n",
    "\n",
    "* You can chart continuous data as well. By default, a `ee.Reducer.mean()` will be used. You can use any reducer that returns a single value per image-band (e.g. `ee.Reducer.min()`, `ee.Reducer.max()`, `ee.Reducer.stdDev()` and not `ee.Reducer.percentile([0,50,100])`). \n",
    "\n",
    "* You can specify this using `\"areaChartParams\":{\"reducer\":ee.Reducer.mean()}`\n",
    "\n",
    "* Optionally, you can provide a color palette to be used. Each band will be assigned to a color in the order given\n",
    "\n",
    "* Notice in the example, the reducer for what is shown on the map is different from the zonal summary reducer. In this example, on the map the standard deviation of the probability is shown, while the average over the area is shown in the chart. "
   ]
  },
  {
   "cell_type": "code",
   "execution_count": 8,
   "metadata": {},
   "outputs": [
    {
     "name": "stdout",
     "output_type": "stream",
     "text": [
      "Adding layer: LCMS Change Prob\n",
      "Starting webmap\n",
      "Using default refresh token for geeView\n",
      "Local web server at: http://localhost:8001/geeView/ already serving.\n",
      "cwd a:\\GEE\\gee_py_modules_package\\geeViz\\examples\n",
      "geeView URL: http://localhost:8001/geeView/?projectID=lcms-292214&accessToken=ya29.a0Ad52N3_3NlAoKI2LSip3I_kTz1XPt_73yjFtSxDdZFCuxkhHPqUlTTy77mwxw5TyDzjI8qRnvFZ9WnzuayDd22tQMjzH7wf_27IGkRD-lIbkwxySgI8_PTsV9Wz5lFDoymamhNM3t5woJo2ZirRmJ6ohY9ve-F-KSM-RszUaCgYKAWESARESFQHGX2MidlPWZja9AE1wM9Tgqh7Qkg0174\n"
     ]
    },
    {
     "data": {
      "text/html": [
       "\n",
       "        <iframe\n",
       "            width=\"100%\"\n",
       "            height=\"525px\"\n",
       "            src=\"http://localhost:8001/geeView/?projectID=lcms-292214&accessToken=ya29.a0Ad52N3_3NlAoKI2LSip3I_kTz1XPt_73yjFtSxDdZFCuxkhHPqUlTTy77mwxw5TyDzjI8qRnvFZ9WnzuayDd22tQMjzH7wf_27IGkRD-lIbkwxySgI8_PTsV9Wz5lFDoymamhNM3t5woJo2ZirRmJ6ohY9ve-F-KSM-RszUaCgYKAWESARESFQHGX2MidlPWZja9AE1wM9Tgqh7Qkg0174\"\n",
       "            frameborder=\"0\"\n",
       "            allowfullscreen\n",
       "            \n",
       "        ></iframe>\n",
       "        "
      ],
      "text/plain": [
       "<IPython.lib.display.IFrame at 0x27ce58f6e10>"
      ]
     },
     "metadata": {},
     "output_type": "display_data"
    }
   ],
   "source": [
    "Map.clearMap()\n",
    "\n",
    "Map.addLayer(lcms.select(['Change_Raw_Probability.*']),\n",
    "             {'reducer':ee.Reducer.stdDev(),'min':0,'max':10,'canAreaChart':True,'areaChartParams':{'palette':'f39268,d54309,00a398'}},'LCMS Change Prob')\n",
    "\n",
    "\n",
    "Map.turnOnAutoAreaCharting()\n",
    "Map.view()"
   ]
  },
  {
   "cell_type": "markdown",
   "metadata": {},
   "source": [
    "Charting Images\n",
    "\n",
    "* You can also chart images\n",
    "* It will behave in a similar fashion to imageCollections, but will show a bar chart\n",
    "\n",
    "* If using `\"autoViz\":True`, be sure to copy the `_class_` properties back in\n"
   ]
  },
  {
   "cell_type": "code",
   "execution_count": 9,
   "metadata": {},
   "outputs": [
    {
     "name": "stdout",
     "output_type": "stream",
     "text": [
      "Adding layer: LCMS Land Cover\n",
      "Adding layer: LCMS Land Cover Mode\n",
      "Adding layer: NLCD Land Cover\n",
      "Adding layer: NLCD Land Cover Mode\n",
      "Starting webmap\n",
      "Using default refresh token for geeView\n",
      "Local web server at: http://localhost:8001/geeView/ already serving.\n",
      "cwd a:\\GEE\\gee_py_modules_package\\geeViz\\examples\n",
      "geeView URL: http://localhost:8001/geeView/?projectID=lcms-292214&accessToken=ya29.a0Ad52N3-fdsivAVgdj8kt1oC1qQZtBdIsnJAfjXDLVeNt8kJQEgAnFqymlUb-pxp6cTIBrXqCf8Xh0LevSNdo2L7XjaV5nVmgxoqHrzN2t_XOu20CCwB-GAo4XZ2V5LHQDXsoHp70zigzlxbM9ubi97O1az9NYgZHniBkjoMaCgYKAZMSARESFQHGX2Mim-mXPV7VEp5MmJaQ1KEUPA0174\n"
     ]
    },
    {
     "data": {
      "text/html": [
       "\n",
       "        <iframe\n",
       "            width=\"100%\"\n",
       "            height=\"525px\"\n",
       "            src=\"http://localhost:8001/geeView/?projectID=lcms-292214&accessToken=ya29.a0Ad52N3-fdsivAVgdj8kt1oC1qQZtBdIsnJAfjXDLVeNt8kJQEgAnFqymlUb-pxp6cTIBrXqCf8Xh0LevSNdo2L7XjaV5nVmgxoqHrzN2t_XOu20CCwB-GAo4XZ2V5LHQDXsoHp70zigzlxbM9ubi97O1az9NYgZHniBkjoMaCgYKAZMSARESFQHGX2Mim-mXPV7VEp5MmJaQ1KEUPA0174\"\n",
       "            frameborder=\"0\"\n",
       "            allowfullscreen\n",
       "            \n",
       "        ></iframe>\n",
       "        "
      ],
      "text/plain": [
       "<IPython.lib.display.IFrame at 0x27ce5910810>"
      ]
     },
     "metadata": {},
     "output_type": "display_data"
    }
   ],
   "source": [
    "Map.clearMap()\n",
    "\n",
    "\n",
    "Map.addLayer(lcms.select(['Land_Cover']),{'autoViz':True,'canAreaChart':True},'LCMS Land Cover')\n",
    "Map.addLayer(lcms.select(['Land_Cover']).mode().set(lcms.first().toDictionary()),{'autoViz':True,'canAreaChart':True},'LCMS Land Cover Mode')\n",
    "\n",
    "Map.addLayer(nlcd.select(['landcover']),{'autoViz':True,'canAreaChart':True},'NLCD Land Cover')\n",
    "Map.addLayer(nlcd.select(['landcover']).mode().set(nlcd.first().toDictionary()),{'autoViz':True,'canAreaChart':True},'NLCD Land Cover Mode')\n",
    "\n",
    "\n",
    "\n",
    "Map.populateAreaChartLayerSelect()\n",
    "Map.turnOnAutoAreaCharting()\n",
    "Map.view()"
   ]
  },
  {
   "cell_type": "markdown",
   "metadata": {},
   "source": [
    "Charting Images\n",
    "\n",
    "* Sometimes you will have an image you add to the map with a min, max, and palette in the viz params that are thematic, or ordinal thematic data. If those images have no class_names, etc properties set, geeViz will try to render the chart properly using the given min, max, and palette if you specify `\"areaChartParams\":{\"reducer\":ee.Reducer.frequencyHistogram()}\n"
   ]
  },
  {
   "cell_type": "code",
   "execution_count": 11,
   "metadata": {},
   "outputs": [
    {
     "name": "stdout",
     "output_type": "stream",
     "text": [
      "Adding layer: Most Recent Fast Loss Year\n",
      "Starting webmap\n",
      "Using default refresh token for geeView\n",
      "Local web server at: http://localhost:8001/geeView/ already serving.\n",
      "cwd a:\\GEE\\gee_py_modules_package\\geeViz\\examples\n",
      "geeView URL: http://localhost:8001/geeView/?projectID=lcms-292214&accessToken=ya29.a0AXooCgu8KxbKse5gtyIqcTOWaCnuKDzUeseqekd3BitxGALiEe53vxc938yDWS9_N2GvI7_Jm-2iof5foEohWwxdustzf9OCS-dW3hPgq1XArAM_C5mbILTLd1PfXgfbYpDy26c5fVyMeJAMylbq-2BUe3i49Kr_i982UXMaCgYKAeISARESFQHGX2MiH-SL1nOQlNDqe74LQjb6Jg0174\n"
     ]
    },
    {
     "data": {
      "text/html": [
       "\n",
       "        <iframe\n",
       "            width=\"100%\"\n",
       "            height=\"525px\"\n",
       "            src=\"http://localhost:8001/geeView/?projectID=lcms-292214&accessToken=ya29.a0AXooCgu8KxbKse5gtyIqcTOWaCnuKDzUeseqekd3BitxGALiEe53vxc938yDWS9_N2GvI7_Jm-2iof5foEohWwxdustzf9OCS-dW3hPgq1XArAM_C5mbILTLd1PfXgfbYpDy26c5fVyMeJAMylbq-2BUe3i49Kr_i982UXMaCgYKAeISARESFQHGX2MiH-SL1nOQlNDqe74LQjb6Jg0174\"\n",
       "            frameborder=\"0\"\n",
       "            allowfullscreen\n",
       "            \n",
       "        ></iframe>\n",
       "        "
      ],
      "text/plain": [
       "<IPython.lib.display.IFrame at 0x27ce561f7d0>"
      ]
     },
     "metadata": {},
     "output_type": "display_data"
    }
   ],
   "source": [
    "\n",
    "Map.clearMap()\n",
    "\n",
    "def getMostRecentChange(c, code):\n",
    "    def wrapper(img):\n",
    "        yr = ee.Date(img.get(\"system:time_start\")).get(\"year\")\n",
    "        return (\n",
    "            ee.Image(yr)\n",
    "            .int16()\n",
    "            .rename([\"year\"])\n",
    "            .updateMask(img.eq(code))\n",
    "            .copyProperties(img, [\"system:time_start\"])\n",
    "        )\n",
    "\n",
    "    return c.map(wrapper)\n",
    "\n",
    "mostRecentFastLossYear = getMostRecentChange(lcms.select(['Change']),3).max()\n",
    "\n",
    "Map.addLayer(mostRecentFastLossYear, {'min':1985,'max':2022,'palette':[\"ffffe5\", \"fff7bc\", \"fee391\", \"fec44f\", \"fe9929\", \"ec7014\", \"cc4c02\"],'canAreaChart':True,'areaChartParams':{'reducer':ee.Reducer.frequencyHistogram()}}, \"Most Recent Fast Loss Year\", True)\n",
    "\n",
    "Map.turnOnAutoAreaCharting()\n",
    "Map.view()"
   ]
  },
  {
   "cell_type": "markdown",
   "metadata": {},
   "source": [
    "Charting Time Lapses \n",
    "\n",
    "* Time lapses also support area charting. All functionality is the same as the `Map.addLayer` methods.\n",
    "\n",
    "* Band names can be specified in the `areaChartParams`. If they are not specified, but `bands` is specified in the visualization parameters, those bands will be used instead. Otherwise, all bands will be shown. \n"
   ]
  },
  {
   "cell_type": "code",
   "execution_count": 13,
   "metadata": {},
   "outputs": [
    {
     "name": "stdout",
     "output_type": "stream",
     "text": [
      "Adding layer: Composites\n",
      "Starting webmap\n",
      "Using default refresh token for geeView\n",
      "Local web server at: http://localhost:8001/geeView/ already serving.\n",
      "cwd a:\\GEE\\gee_py_modules_package\\geeViz\\examples\n",
      "geeView URL: http://localhost:8001/geeView/?projectID=lcms-292214&accessToken=ya29.a0AXooCgsU3dQZN1UUDLkuHOWFsEdZlsaJXUH75VUb7JZnTRPehLDIXvju0PK53qxWNQzPAZyi7dPofBxLXhSzyJ2Dex3_OON6dQGGkeTd2XWVPzP6qymcggFLyHaUctdNKFtb5PV7Vw4MMKchdmXgXXFQmi2lpI2B7oVaidEaCgYKAY4SARESFQHGX2MilBr4RrrRHsqBfuRWe_iupQ0174\n"
     ]
    },
    {
     "data": {
      "text/html": [
       "\n",
       "        <iframe\n",
       "            width=\"100%\"\n",
       "            height=\"525px\"\n",
       "            src=\"http://localhost:8001/geeView/?projectID=lcms-292214&accessToken=ya29.a0AXooCgsU3dQZN1UUDLkuHOWFsEdZlsaJXUH75VUb7JZnTRPehLDIXvju0PK53qxWNQzPAZyi7dPofBxLXhSzyJ2Dex3_OON6dQGGkeTd2XWVPzP6qymcggFLyHaUctdNKFtb5PV7Vw4MMKchdmXgXXFQmi2lpI2B7oVaidEaCgYKAY4SARESFQHGX2MilBr4RrrRHsqBfuRWe_iupQ0174\"\n",
       "            frameborder=\"0\"\n",
       "            allowfullscreen\n",
       "            \n",
       "        ></iframe>\n",
       "        "
      ],
      "text/plain": [
       "<IPython.lib.display.IFrame at 0x27ce5914850>"
      ]
     },
     "metadata": {},
     "output_type": "display_data"
    }
   ],
   "source": [
    "Map.clearMap()\n",
    "\n",
    "composites = ee.ImageCollection(\"projects/lcms-tcc-shared/assets/CONUS/Composites/Composite-Collection-yesL7\")\n",
    "\n",
    "years = list(range(1985,2024))\n",
    "\n",
    "# Need to mosaic the tiled outputs for each year\n",
    "composites = [composites.filter(ee.Filter.calendarRange(yr,yr,'year')).mosaic().set('system:time_start',ee.Date.fromYMD(yr,6,1).millis()) for yr in years]\n",
    "composites = ee.ImageCollection(composites)\n",
    "\n",
    "# Set up visualization parameters\n",
    "viz = gil.vizParamsFalse10k\n",
    "viz['canAreaChart']=True\n",
    "viz['areaChartParams']={'bandNames':'blue,green,red,nir,swir1,swir2','palette':'00D,0D0,D00,D0D,0DD'}\n",
    "Map.addTimeLapse(composites,gil.vizParamsFalse10k,'Composites')\n",
    "\n",
    "Map.turnOnAutoAreaCharting()\n",
    "Map.view()"
   ]
  },
  {
   "cell_type": "markdown",
   "metadata": {},
   "source": [
    "Charting Thematic Data without set properties\n",
    "\n",
    "* You can chart thematic datasets that lack values, names, and palette properties by specifying the `ee.Reducer.frequencyHistogram()` as the reducer\n",
    "\n",
    "* This is not the best method however\n",
    "\n"
   ]
  },
  {
   "cell_type": "code",
   "execution_count": 19,
   "metadata": {},
   "outputs": [
    {
     "name": "stdout",
     "output_type": "stream",
     "text": [
      "Adding layer: LCMAP LC Primary\n",
      "Starting webmap\n",
      "Using default refresh token for geeView\n",
      "Local web server at: http://localhost:8001/geeView/ already serving.\n",
      "cwd a:\\GEE\\gee_py_modules_package\\geeViz\\examples\n",
      "geeView URL: http://localhost:8001/geeView/?projectID=lcms-292214&accessToken=ya29.a0AXooCgvYn9Rd5CnBmbSaEi9rf7gLlZpgGEh4djomg3aCWSzkgpoOS8HHfhEneAgxmjhCx9MOcnX8P8RplspenPRkrqUI8D-KkcFFgel4cZ1AefKTKtqVqwFCEDAbhjamZdh4rrQDziRhhtzFhGg7mWxr8ByFQulj6oC0510aCgYKASkSARESFQHGX2MiODk_ys4w0T3hanGKfU39zQ0174\n"
     ]
    },
    {
     "data": {
      "text/html": [
       "\n",
       "        <iframe\n",
       "            width=\"100%\"\n",
       "            height=\"525px\"\n",
       "            src=\"http://localhost:8001/geeView/?projectID=lcms-292214&accessToken=ya29.a0AXooCgvYn9Rd5CnBmbSaEi9rf7gLlZpgGEh4djomg3aCWSzkgpoOS8HHfhEneAgxmjhCx9MOcnX8P8RplspenPRkrqUI8D-KkcFFgel4cZ1AefKTKtqVqwFCEDAbhjamZdh4rrQDziRhhtzFhGg7mWxr8ByFQulj6oC0510aCgYKASkSARESFQHGX2MiODk_ys4w0T3hanGKfU39zQ0174\"\n",
       "            frameborder=\"0\"\n",
       "            allowfullscreen\n",
       "            \n",
       "        ></iframe>\n",
       "        "
      ],
      "text/plain": [
       "<IPython.lib.display.IFrame at 0x27ce5936f50>"
      ]
     },
     "metadata": {},
     "output_type": "display_data"
    }
   ],
   "source": [
    "# LCMAP example\n",
    "Map.clearMap()\n",
    "\n",
    "\n",
    "lcpri = ee.ImageCollection(\"projects/sat-io/open-datasets/LCMAP/LCPRI\").select(['b1'],['LC'])\n",
    "\n",
    "\n",
    "Map.addTimeLapse(lcpri,{'min':1,'max':9,'canAreaChart':True,\"areaChartParams\":{'reducer':ee.Reducer.frequencyHistogram()}},'LCMAP LC Primary')\n",
    "\n",
    "Map.turnOnAutoAreaCharting()\n",
    "Map.view()\n"
   ]
  },
  {
   "cell_type": "markdown",
   "metadata": {},
   "source": [
    "Setting properties for charting\n",
    "\n",
    "* The easiest way to chart thematic data where each class has a number, name, and color, but lack the preset properties, is to set them on-the-fly\n",
    "\n",
    "* These properties can then be used for charting and map rendering"
   ]
  },
  {
   "cell_type": "code",
   "execution_count": 18,
   "metadata": {},
   "outputs": [
    {
     "name": "stdout",
     "output_type": "stream",
     "text": [
      "Adding layer: LCMAP LC Primary\n",
      "Starting webmap\n",
      "Using default refresh token for geeView\n",
      "Local web server at: http://localhost:8001/geeView/ already serving.\n",
      "cwd a:\\GEE\\gee_py_modules_package\\geeViz\\examples\n",
      "geeView URL: http://localhost:8001/geeView/?projectID=lcms-292214&accessToken=ya29.a0Ad52N3_3k79HS1AyqhKfk9y7DI3PGCNnXRj85yZ8imYCptCcBpWVCpA484ktgSmWSFSwmpFGsnJUgj4FNRpealN87Y_2uJagO9Jb6R_FLZo1H3FPBcrtK5id-RacPkmQ4eRZWmJFEbZluO63g7HRLg2_niwJnbXIJ28_gM0aCgYKAUUSARESFQHGX2Mif9FNDOdR5TbrWPIhqJuB5Q0174\n"
     ]
    },
    {
     "data": {
      "text/html": [
       "\n",
       "        <iframe\n",
       "            width=\"100%\"\n",
       "            height=\"525px\"\n",
       "            src=\"http://localhost:8001/geeView/?projectID=lcms-292214&accessToken=ya29.a0Ad52N3_3k79HS1AyqhKfk9y7DI3PGCNnXRj85yZ8imYCptCcBpWVCpA484ktgSmWSFSwmpFGsnJUgj4FNRpealN87Y_2uJagO9Jb6R_FLZo1H3FPBcrtK5id-RacPkmQ4eRZWmJFEbZluO63g7HRLg2_niwJnbXIJ28_gM0aCgYKAUUSARESFQHGX2Mif9FNDOdR5TbrWPIhqJuB5Q0174\"\n",
       "            frameborder=\"0\"\n",
       "            allowfullscreen\n",
       "            \n",
       "        ></iframe>\n",
       "        "
      ],
      "text/plain": [
       "<IPython.lib.display.IFrame at 0x27ce594da50>"
      ]
     },
     "metadata": {},
     "output_type": "display_data"
    }
   ],
   "source": [
    "# LCMAP example\n",
    "Map.clearMap()\n",
    "\n",
    "lcpri_palette = ['E60000','A87000','E3E3C2','1D6330','476BA1','BAD9EB','FFFFFF','B3B0A3','A201FF']\n",
    "lc_names = ['Developed','Cropland','Grass/Shrub','Tree Cover','Water','Wetlands','Ice/Snow','Barren','Class Change']\n",
    "lc_numbers = list(range(1,len(lcpri_palette)+1))\n",
    "\n",
    "lcpri = ee.ImageCollection(\"projects/sat-io/open-datasets/LCMAP/LCPRI\").select(['b1'],['LC'])\n",
    "\n",
    "lcpri = lcpri.map(lambda img:img.set({'LC_class_values':lc_numbers,'LC_class_names':lc_names,'LC_class_palette':lcpri_palette}))\n",
    "\n",
    "\n",
    "Map.addTimeLapse(lcpri,{'autoViz':True,'canAreaChart':True,'areaChartParams':{'line':True,'sankey':True}},'LCMAP LC Primary')\n",
    "\n",
    "Map.turnOnAutoAreaCharting()\n",
    "Map.view()"
   ]
  },
  {
   "cell_type": "markdown",
   "metadata": {},
   "source": [
    "Comparing map output versions\n",
    "\n",
    "* One common task is to understand the differences between 2 or more model runs. This can be challenging.\n",
    "\n",
    "* This example will show three versions of LCMS products and how they relate\n",
    "\n",
    "* This approach makes comparing the maps and their respective class counts relatively easy\n",
    "\n",
    "* This idea could be adapted to comparing different thematic or continuous outputs"
   ]
  },
  {
   "cell_type": "code",
   "execution_count": 21,
   "metadata": {},
   "outputs": [
    {
     "name": "stdout",
     "output_type": "stream",
     "text": [
      "Adding layer: LCMS Change Comparison 2010\n",
      "Adding layer: LCMS Land Cover Comparison 2010\n",
      "Adding layer: LCMS Land Use Comparison 2010\n",
      "Starting webmap\n",
      "Using default refresh token for geeView\n"
     ]
    },
    {
     "name": "stderr",
     "output_type": "stream",
     "text": [
      "c:\\Users\\ihousman\\AppData\\Local\\Programs\\Python\\Python311\\Lib\\site-packages\\google\\auth\\_default.py:78: UserWarning: Your application has authenticated using end user credentials from Google Cloud SDK without a quota project. You might receive a \"quota exceeded\" or \"API not enabled\" error. See the following page for troubleshooting: https://cloud.google.com/docs/authentication/adc-troubleshooting/user-creds. \n",
      "  warnings.warn(_CLOUD_SDK_CREDENTIALS_WARNING)\n"
     ]
    },
    {
     "name": "stdout",
     "output_type": "stream",
     "text": [
      "Local web server at: http://localhost:8001/geeView/ already serving.\n",
      "cwd a:\\GEE\\gee_py_modules_package\\geeViz\\examples\n",
      "geeView URL: http://localhost:8001/geeView/?projectID=lcms-292214&accessToken=ya29.a0Ad52N38dtJvkBfaR-f486TdCVNKVe3awvzSBIt12LOdRkDmDd0UTSUbYWzztg_sHLy0khlBHbI8SCEIekah1ypLIE_Jgt3gj3D57puP6pLul0wSlAO7SfTwsN80RSga723Hr4eiRVozc-3V6JBoK7mYjUf4et-4IQ1KOhFUaCgYKAWoSARESFQHGX2Mi7r39MeXzeNafWjp3i8i6uA0174\n"
     ]
    },
    {
     "data": {
      "text/html": [
       "\n",
       "        <iframe\n",
       "            width=\"100%\"\n",
       "            height=\"525px\"\n",
       "            src=\"http://localhost:8001/geeView/?projectID=lcms-292214&accessToken=ya29.a0Ad52N38dtJvkBfaR-f486TdCVNKVe3awvzSBIt12LOdRkDmDd0UTSUbYWzztg_sHLy0khlBHbI8SCEIekah1ypLIE_Jgt3gj3D57puP6pLul0wSlAO7SfTwsN80RSga723Hr4eiRVozc-3V6JBoK7mYjUf4et-4IQ1KOhFUaCgYKAWoSARESFQHGX2Mi7r39MeXzeNafWjp3i8i6uA0174\"\n",
       "            frameborder=\"0\"\n",
       "            allowfullscreen\n",
       "            \n",
       "        ></iframe>\n",
       "        "
      ],
      "text/plain": [
       "<IPython.lib.display.IFrame at 0x27ce5977ed0>"
      ]
     },
     "metadata": {},
     "output_type": "display_data"
    }
   ],
   "source": [
    "Map.clearMap()\n",
    "\n",
    "# Bring in 3 different LCMS versions\n",
    "lcms_2020 = ee.ImageCollection(\"USFS/GTAC/LCMS/v2020-5\").filter('study_area==\"CONUS\"')\n",
    "lcms_2021 = ee.ImageCollection(\"USFS/GTAC/LCMS/v2021-7\").filter('study_area==\"CONUS\"')\n",
    "lcms_2022 = ee.ImageCollection(\"USFS/GTAC/LCMS/v2022-8\").filter('study_area==\"CONUS\"')\n",
    "lcms_2023 = ee.ImageCollection(\"USFS/GTAC/LCMS/v2023-9\").filter('study_area==\"CONUS\"')\n",
    "\n",
    "# Choose a year to compare (any year 1985-2020)\n",
    "year = 2010\n",
    "\n",
    "# Filter off the image and set that image to the version year\n",
    "lcms_2020 = lcms_2020.filter(ee.Filter.calendarRange(year,year,'year')).first().set({'year':2020,'system:time_start':ee.Date.fromYMD(2020,6,1).millis()})\n",
    "lcms_2021 = lcms_2021.filter(ee.Filter.calendarRange(year,year,'year')).first().set({'year':2021,'system:time_start':ee.Date.fromYMD(2021,6,1).millis()})\n",
    "lcms_2022 = lcms_2022.filter(ee.Filter.calendarRange(year,year,'year')).first().set({'year':2022,'system:time_start':ee.Date.fromYMD(2022,6,1).millis()})\n",
    "lcms_2023 = lcms_2023.filter(ee.Filter.calendarRange(year,year,'year')).first().set({'year':2023,'system:time_start':ee.Date.fromYMD(2023,6,1).millis()})\n",
    "\n",
    "# Construct the image collection\n",
    "c = ee.ImageCollection([lcms_2020,lcms_2021,lcms_2022,lcms_2023])\n",
    "\n",
    "# Add the collection as a timelapse\n",
    "# Will need to specify the transition years as the years used for each image, otherwise geeViz will default to only showing the first and last year\n",
    "# Note that if you specify the sankey transition periods, any periods you enter in the geeViz UI will not be used for that layer\n",
    "for bn in ['Change','Land_Cover','Land_Use']:\n",
    "  Map.addTimeLapse(c.select([bn]),{'autoViz':True,'canAreaChart':True,'areaChartParams':{'sankey':True,\n",
    "                                                                            'sankeyTransitionPeriods':[[2020,2020],[2021,2021],[2022,2022],[2023,2023]]\n",
    "                                                                            }}, f\"LCMS {bn.replace('_',' ')} Comparison {year}\")\n",
    "\n",
    "Map.turnOnAutoAreaCharting()\n",
    "Map.view()"
   ]
  },
  {
   "cell_type": "markdown",
   "metadata": {},
   "source": [
    "Other selection methods\n",
    "\n",
    "* All examples have simply used the map extent as the zone to chart\n",
    "\n",
    "* There are other methods available\n",
    "\n",
    "* This example will show how to add a featureCollection to interactively select areas to summarize\n",
    "\n",
    "* All area selection will happen in the geeViz UI, under `Tools -> Area Tools -> Select an Area on Map`\n",
    "\n"
   ]
  },
  {
   "cell_type": "code",
   "execution_count": 3,
   "metadata": {},
   "outputs": [
    {
     "name": "stdout",
     "output_type": "stream",
     "text": [
      "Adding layer: LCMS Change  \n",
      "Adding layer: LCMS Land Cover  \n",
      "Adding layer: LCMS Land Use  \n",
      "Adding layer: MTBS Fire Boundaries\n",
      "Starting webmap\n",
      "Using default refresh token for geeView\n"
     ]
    },
    {
     "name": "stderr",
     "output_type": "stream",
     "text": [
      "c:\\Users\\ihousman\\AppData\\Local\\Programs\\Python\\Python311\\Lib\\site-packages\\google\\auth\\_default.py:78: UserWarning: Your application has authenticated using end user credentials from Google Cloud SDK without a quota project. You might receive a \"quota exceeded\" or \"API not enabled\" error. See the following page for troubleshooting: https://cloud.google.com/docs/authentication/adc-troubleshooting/user-creds. \n",
      "  warnings.warn(_CLOUD_SDK_CREDENTIALS_WARNING)\n"
     ]
    },
    {
     "name": "stdout",
     "output_type": "stream",
     "text": [
      "Starting local web server at: http://localhost:8001/geeView/\n",
      "HTTP server command: \"c:\\Users\\ihousman\\AppData\\Local\\Programs\\Python\\Python311\\python.exe\" -m http.server  8001\n",
      "Done\n",
      "cwd a:\\GEE\\gee_py_modules_package\\geeViz\\examples\n",
      "geeView URL: http://localhost:8001/geeView/?projectID=lcms-292214&accessToken=ya29.a0Ad52N399-KuXw9p0ew4HPx3c11G4-WV8azHoIl_9bR4qWZFTztqWsEL4q5gMGHNC9_YOqIKwN_esLoaysrop1-iY5tfzWPmsi-qg9-jyaxHPM_05lWyS_gGuX7jmuDt4EQzlXWgjxkD3XZqbVlnEZ-KnS4l6yiNOZDil-yEaCgYKAcMSARESFQHGX2MixsWbk5XnQkRibx3frcy6KQ0174\n"
     ]
    },
    {
     "data": {
      "text/html": [
       "\n",
       "        <iframe\n",
       "            width=\"100%\"\n",
       "            height=\"525px\"\n",
       "            src=\"http://localhost:8001/geeView/?projectID=lcms-292214&accessToken=ya29.a0Ad52N399-KuXw9p0ew4HPx3c11G4-WV8azHoIl_9bR4qWZFTztqWsEL4q5gMGHNC9_YOqIKwN_esLoaysrop1-iY5tfzWPmsi-qg9-jyaxHPM_05lWyS_gGuX7jmuDt4EQzlXWgjxkD3XZqbVlnEZ-KnS4l6yiNOZDil-yEaCgYKAcMSARESFQHGX2MixsWbk5XnQkRibx3frcy6KQ0174\"\n",
       "            frameborder=\"0\"\n",
       "            allowfullscreen\n",
       "            \n",
       "        ></iframe>\n",
       "        "
      ],
      "text/plain": [
       "<IPython.lib.display.IFrame at 0x1e8223e0fd0>"
      ]
     },
     "metadata": {},
     "output_type": "display_data"
    }
   ],
   "source": [
    "Map.clearMap()\n",
    "\n",
    "\n",
    "for bn in ['Change','Land_Cover','Land_Use']:\n",
    "  Map.addLayer(lcms.select([bn]),{'autoViz':True,'canAreaChart':True}, f\"LCMS {bn.replace('_',' ')}  \")\n",
    "\n",
    "\n",
    "# Bring in MTBS burn boundaries\n",
    "mtbsBoundaries = ee.FeatureCollection(\"USFS/GTAC/MTBS/burned_area_boundaries/v1\")\n",
    "mtbsBoundaries = mtbsBoundaries.map(\n",
    "    lambda f: f.set(\"system:time_start\", f.get(\"Ig_Date\"))\n",
    ")\n",
    "\n",
    "# For area charting you can select areas to chart a number of ways. One method is using a map layer that is selectable by clicking on each feature.\n",
    "Map.addSelectLayer(\n",
    "    mtbsBoundaries,\n",
    "    {\n",
    "        \"strokeColor\": \"00F\",\n",
    "        \"layerType\": \"geeVectorImage\",\n",
    "        \"selectLayerNameProperty\": \"Incid_Name\",\n",
    "    },\n",
    "    \"MTBS Fire Boundaries\"\n",
    ")\n",
    "\n",
    "Map.turnOnSelectionAreaCharting()\n",
    "Map.view()\n"
   ]
  }
 ],
 "metadata": {
  "kernelspec": {
   "display_name": "Python 3",
   "language": "python",
   "name": "python3"
  },
  "language_info": {
   "codemirror_mode": {
    "name": "ipython",
    "version": 3
   },
   "file_extension": ".py",
   "mimetype": "text/x-python",
   "name": "python",
   "nbconvert_exporter": "python",
   "pygments_lexer": "ipython3",
   "version": "3.11.4"
  }
 },
 "nbformat": 4,
 "nbformat_minor": 2
}
