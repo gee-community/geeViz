{
 "cells": [
  {
   "attachments": {},
   "cell_type": "markdown",
   "id": "5dd7431b",
   "metadata": {},
   "source": [
    "# Starter geeViz geeView Notebook\n",
    "* Uses the stock GEE NLCD assets and extracts the palette, names, and values from image properties\n",
    "* Then uses those to color the raster and create a legend using the autoViz option setting it to True\n",
    "* Then provide a color dictionary with the format: `{value:hex_color}` ex(`{'1':'FF0','2':'F00'}`)\n",
    "* Conversion of numbers to labels is supported with the queryDict key in the viz params:\n",
    ">> Ex. `{'1':'Water','2':'Trees'}`\n",
    "* Interactive time lapses can be created from most imageCollections\n",
    "\n",
    "\n",
    "Copyright 2025 Ian Housman\n",
    "\n",
    "Licensed under the Apache License, Version 2.0 (the \"License\");\n",
    "you may not use this file except in compliance with the License.\n",
    "You may obtain a copy of the License at\n",
    "\n",
    "   http://www.apache.org/licenses/LICENSE-2.0\n",
    "\n",
    "Unless required by applicable law or agreed to in writing, software\n",
    "distributed under the License is distributed on an \"AS IS\" BASIS,\n",
    "WITHOUT WARRANTIES OR CONDITIONS OF ANY KIND, either express or implied.\n",
    "See the License for the specific language governing permissions and\n",
    "limitations under the License.\n",
    "\n",
    "[![github](https://img.shields.io/badge/-see%20sources-white?logo=github&labelColor=555)](https://github.com/gee-community/geeviz/blob/master/examples/geeViewExampleNotebook.ipynb) \n",
    "[![github](https://colab.research.google.com/assets/colab-badge.svg)](https://colab.research.google.com/github/gee-community/geeViz/blob/master/examples/geeViewExampleNotebook.ipynb)\n",
    " "
   ]
  },
  {
   "cell_type": "markdown",
   "id": "abdfadf3",
   "metadata": {},
   "source": [
    "## Importing `geeViz.geeView`"
   ]
  },
  {
   "cell_type": "code",
   "execution_count": null,
   "id": "286e03a7",
   "metadata": {},
   "outputs": [],
   "source": [
    "#Import modules\n",
    "try:\n",
    "    import  geeViz.geeView as geeView\n",
    "except:\n",
    "    !python -m pip install geeViz\n",
    "    import  geeViz.geeView as geeView\n",
    "\n",
    "ee = geeView.ee\n",
    "Map = geeView.Map\n",
    "Map.clearMap()\n",
    "print('done')"
   ]
  },
  {
   "cell_type": "markdown",
   "id": "a49aa761",
   "metadata": {},
   "source": [
    "## Adding a GEE image (NLCD) to the `Map` and viewing and querying it"
   ]
  },
  {
   "cell_type": "code",
   "execution_count": null,
   "id": "c91f7f74",
   "metadata": {},
   "outputs": [],
   "source": [
    "#Clear any layers added to Map object\n",
    "#If map is not cleared, layers are simply appended to the existing list of layers if layers have been added previously\n",
    "Map.clearMap()\n",
    "#Bring in NLCD 2011\n",
    "nlcd = ee.Image('USGS/NLCD_RELEASES/2016_REL/2011')\n",
    "\n",
    "#Add the layers to the map\n",
    "#If an image has class values, names, and a palette property available, use 'autoViz':True to pull those properties for first band of the image provided\n",
    "#Image must be a single band for thematic visualization to work properly\n",
    "#Then provide a dictionary of the values and colors ex: {value:hex_color}\n",
    "#If nothing is to be added to the legend, set 'addToLegend' to False\n",
    "Map.addLayer(nlcd.select(['landcover']),{'autoViz':True},'NLCD 2011 Landcover/Landuse',True)\n",
    "\n",
    "#Can center map on a GEE object\n",
    "Map.centerObject(nlcd)\n",
    "\n",
    "#Turn on inspector to double-click and see values of visible layers\n",
    "Map.turnOnInspector()\n",
    "\n",
    "Map.view()"
   ]
  },
  {
   "cell_type": "markdown",
   "id": "f310e46a",
   "metadata": {},
   "source": [
    "## Visualizing multiple layers on the map"
   ]
  },
  {
   "cell_type": "code",
   "execution_count": null,
   "id": "2670e5e4",
   "metadata": {},
   "outputs": [],
   "source": [
    "Map.clearMap()\n",
    "#Images or image collections can be added.  If an image collection is added, the first non null value is displayed on the map. A time series will be displayed when the layer is queried\n",
    "nlcd = ee.ImageCollection('USGS/NLCD_RELEASES/2016_REL')\n",
    "nlcd = nlcd.filter(ee.Filter.calendarRange(2000,2020,'year'))\n",
    "nlcd = nlcd.map(lambda img: img.set('bns',img.bandNames()))\n",
    "nlcd = nlcd.filter(ee.Filter.listContains('bns','landcover')).select(['landcover'])\n",
    "\n",
    "# Can optionally turn off class numbers in legend by setting 'includeClassValues':False,\n",
    "Map.addLayer(nlcd.sort('system:time_start'),{'autoViz':True,'includeClassValues':False},'NLCD Landcover/Landuse Time Series',True)\n",
    "\n",
    "# Continuous data automatically have a legend added\n",
    "nlcd = ee.Image('USGS/NLCD_RELEASES/2016_REL/2016')\n",
    "Map.addLayer(nlcd.select(['percent_tree_cover']),{'min':20,'max':80,'palette':'555,0A0','opacity':0.5,'legendLabelLeftAfter':'% TCC','legendLabelRightAfter':'% TCC'},'NLCD 2016 TCC',True)\n",
    "\n",
    "Map.turnOnInspector()\n",
    "Map.view()"
   ]
  },
  {
   "cell_type": "markdown",
   "id": "d8bc8d55",
   "metadata": {},
   "source": [
    "## Introducing map query lookup tables and custom styles"
   ]
  },
  {
   "cell_type": "code",
   "execution_count": null,
   "id": "29550202",
   "metadata": {},
   "outputs": [],
   "source": [
    "Map.clearMap()\n",
    "#Another example\n",
    "mtbs = ee.ImageCollection('projects/gtac-mtbs/assets/burn_severity_mosaics/MTBS')\n",
    "mtbs = mtbs.map(lambda img: img.updateMask(img.neq(0)).select([0],['Burn Severity']).byte())\n",
    "\n",
    "#Set up MTBS legend and color properties\n",
    "mtbsColors = ['006400','7fffd4','ffff00','ff0000','7fff00','ffffff']\n",
    "mtbsLabels = ['1 Unburned to Low','2 Low','3 Moderate','4 High','5 Increased Greenness','6 Non-Processing Area Mask']\n",
    "mtbsDict =  {mtbsLabels[i]: mtbsColors[i] for i in range(len(mtbsColors))}\n",
    "mtbsQueryDict = {'1':'Unburned to Low','2':'Low','3':'Moderate','4':'High','5':'Increased Greenness','6':'Non-Processing Area Mask'}\n",
    "severityViz = {'min':1,'max':6,'palette':mtbsColors\t,'classLegendDict':mtbsDict,'queryDict':mtbsQueryDict}\n",
    "\n",
    "#Add it to the map\n",
    "Map.addLayer(mtbs.max(),severityViz,'MTBS 1984-2017 Highest Severity',True)\n",
    "\n",
    "Map.turnOnInspector()\n",
    "Map.view()"
   ]
  },
  {
   "cell_type": "markdown",
   "id": "e2d78a0e",
   "metadata": {},
   "source": [
    "## Visualizing vectors and rasters on the map"
   ]
  },
  {
   "cell_type": "code",
   "execution_count": null,
   "id": "bda0482c",
   "metadata": {},
   "outputs": [],
   "source": [
    "#Feature collections can be added to the map as well\n",
    "#If they are very large, the geeVectorImage option is needed as the conversion from GEE object to geoJSON is too slow\n",
    "#Instead of clearing the map, this time, we'll add it to the existing map above\n",
    "perims = ee.FeatureCollection('projects/gtac-mtbs/assets/perimeters/mtbs_perims_DD')\n",
    "Map.addLayer(perims,{'strokeColor':'00F'},'MTBS Burn Perimeters',True)\n",
    "\n",
    "#Double click to see raster value of burn severity, as well as the attribute table of the feature\n",
    "Map.view()"
   ]
  },
  {
   "cell_type": "markdown",
   "id": "443cc077",
   "metadata": {},
   "source": [
    "## Visualizing GEE layers as a local geojson vector"
   ]
  },
  {
   "cell_type": "code",
   "execution_count": null,
   "id": "e3065817",
   "metadata": {},
   "outputs": [],
   "source": [
    "Map.clearMap()\n",
    "#Smaller feature collections can be added to the map as a geojson vector by specifying 'layerType':'geeVector'\n",
    "#They will render more quickly than the raterized version of the vector\n",
    "nps = ee.FeatureCollection('projects/USFS/LCMS-NFS/CONUS-Ancillary-Data/NPS_Boundaries').filter(ee.Filter.eq('PARKNAME','Yellowstone'))\n",
    "Map.addLayer(nps,{'layerType': 'geeVector'},'Yellowstone National Park',True)\n",
    "Map.centerObject(nps)\n",
    "Map.turnOnInspector()\n",
    "Map.view()"
   ]
  },
  {
   "cell_type": "markdown",
   "id": "7bddb159",
   "metadata": {},
   "source": [
    "## Using geeView's `Map.addTimeLapse` function to visualize an `imageCollection`"
   ]
  },
  {
   "cell_type": "code",
   "execution_count": null,
   "id": "ed19b1f3",
   "metadata": {},
   "outputs": [],
   "source": [
    "Map.clearMap()\n",
    "#An interactive time lapse can also be created from an annual image collection\n",
    "#Bring in the JRS Surface water data\n",
    "water = ee.ImageCollection('JRC/GSW1_0/YearlyHistory')\n",
    "\n",
    "#Here is another example of creating a lookup dictionary\n",
    "waterColors = ['ffffff','99d9ea','0000ff']\n",
    "waterLabels = ['1 Not Water','2 Seasonal Water','3 Permanent Water']\n",
    "waterDict =  {waterLabels[i]: waterColors[i] for i in range(len(waterColors))}\n",
    "waterQueryDict =  {str(i+1): waterLabels[i] for i in range(len(waterLabels))}\n",
    "\n",
    "#The lookup table is applied to the image, but only a graph is created when querying the imageCollection\n",
    "Map.addLayer(water,{'min':1,'max':3,'palette':waterColors,'classLegendDict':waterDict,'queryDict':waterQueryDict},'JRC Surface Water Time Series',False)\n",
    "Map.addLayer(water.mode(),{'min':1,'max':3,'palette':waterColors,'classLegendDict':waterDict,'queryDict':waterQueryDict},'JRC Surface Water Mode',True)\n",
    "Map.addTimeLapse(water,{'min':1,'max':3,'palette':waterColors,'classLegendDict':waterDict},'JRC Surface Water Time Lapse',False)\n",
    "Map.centerObject(water)\n",
    "Map.view()"
   ]
  }
 ],
 "metadata": {
  "kernelspec": {
   "display_name": "Python 3",
   "language": "python",
   "name": "python3"
  },
  "language_info": {
   "codemirror_mode": {
    "name": "ipython",
    "version": 3
   },
   "file_extension": ".py",
   "mimetype": "text/x-python",
   "name": "python",
   "nbconvert_exporter": "python",
   "pygments_lexer": "ipython3",
   "version": "3.11.4"
  },
  "vscode": {
   "interpreter": {
    "hash": "369f2c481f4da34e4445cda3fffd2e751bd1c4d706f27375911949ba6bb62e1c"
   }
  }
 },
 "nbformat": 4,
 "nbformat_minor": 5
}
