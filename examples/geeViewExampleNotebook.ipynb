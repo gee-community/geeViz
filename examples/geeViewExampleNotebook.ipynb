{
  "cells": [
    {
      "attachments": {},
      "cell_type": "markdown",
      "id": "5dd7431b",
      "metadata": {},
      "source": [
        "## Example of how to utilize the Python visualization tools\n",
        "* Uses the stock GEE NLCD assets and extracts the palette, names, and values from image properties\n",
        "* Then uses those to color the raster and create a legend using the autoViz option setting it to True\n",
        "* Then provide a color dictionary with the format: `{value:hex_color}` ex(`{'1':'FF0','2':'F00'}`)\n",
        "* Conversion of numbers to labels is supported with the queryDict key in the viz params:\n",
        ">> Ex. `{'1':'Water','2':'Trees'}`\n",
        "* Interactive time lapses can be created from most imageCollections\n",
        "\n",
        "\n",
        "Copyright 2024 Ian Housman\n",
        "\n",
        "Licensed under the Apache License, Version 2.0 (the \"License\");\n",
        "you may not use this file except in compliance with the License.\n",
        "You may obtain a copy of the License at\n",
        "\n",
        "   http://www.apache.org/licenses/LICENSE-2.0\n",
        "\n",
        "Unless required by applicable law or agreed to in writing, software\n",
        "distributed under the License is distributed on an \"AS IS\" BASIS,\n",
        "WITHOUT WARRANTIES OR CONDITIONS OF ANY KIND, either express or implied.\n",
        "See the License for the specific language governing permissions and\n",
        "limitations under the License.\n",
        "\n",
        "<table align=\"left\">\n",
        "    <td>\n",
        "      <a href=\"https://colab.research.google.com/github/gee-community/geeViz/blob/master/examples/geeViewExampleNotebook.ipynb\">\n",
        "        <img src=\"https://cloud.google.com/ml-engine/images/colab-logo-32px.png\" alt=\"Colab logo\"> Run in Colab\n",
        "      </a>\n",
        "    </td>\n",
        "</table>"
      ]
    },
    {
      "cell_type": "code",
      "execution_count": 1,
      "id": "286e03a7",
      "metadata": {},
      "outputs": [
        {
          "name": "stdout",
          "output_type": "stream",
          "text": [
            "Initializing GEE\n",
            "Cached project id file path: C:\\Users\\ihousman\\.config\\earthengine\\credentials.proj_id\n",
            "Cached project id: rcr-gee-2\n",
            "Successfully initialized\n",
            "geeViz package folder: c:\\Users\\ihousman\\AppData\\Local\\Programs\\Python\\Python311\\Lib\\site-packages\\geeViz\n",
            "done\n"
          ]
        }
      ],
      "source": [
        "#Import modules\n",
        "try:\n",
        "    import  geeViz.geeView as geeView\n",
        "except:\n",
        "    !python -m pip install geeViz\n",
        "    import  geeViz.geeView as geeView\n",
        "\n",
        "ee = geeView.ee\n",
        "Map = geeView.Map\n",
        "Map.clearMap()\n",
        "print('done')"
      ]
    },
    {
      "cell_type": "code",
      "execution_count": 2,
      "id": "c91f7f74",
      "metadata": {},
      "outputs": [
        {
          "name": "stdout",
          "output_type": "stream",
          "text": [
            "Adding layer: NLCD 2011 Landcover/Landuse\n",
            "Starting webmap\n",
            "Using default refresh token for geeView: C:\\Users\\ihousman/.config/earthengine/credentials\n",
            "Local web server at: http://localhost:8001/geeView/ already serving.\n",
            "cwd a:\\GEE\\gee_py_modules_package\\geeViz\\examples\n"
          ]
        },
        {
          "data": {
            "text/html": [
              "\n",
              "        <iframe\n",
              "            width=\"100%\"\n",
              "            height=\"525px\"\n",
              "            src=\"http://localhost:8001/geeView/?accessToken=ya29.a0AWY7Ckn_5fDJ1cX7ULGtKhS1mdv-c3DA0UZL3xO3kbXHrm1aURAHup-VJ7c2KYud8LLmHlPopawqrNbjL3RCTdnEcXswsbsfzc0BOrqCy_KWBYMDcwQIrlSADCKDm_tC1ntGUwzjvf5n9-4OG9xX9Q9jz1oMBVmOGjjz228aCgYKAUQSARASFQG1tDrp1x8CJNpUy8VgXVk-A9A5Qg0174\"\n",
              "            frameborder=\"0\"\n",
              "            allowfullscreen\n",
              "            \n",
              "        ></iframe>\n",
              "        "
            ],
            "text/plain": [
              "<IPython.lib.display.IFrame at 0x155e703b6d0>"
            ]
          },
          "metadata": {},
          "output_type": "display_data"
        }
      ],
      "source": [
        "#Clear any layers added to Map object\n",
        "#If map is not cleared, layers are simply appended to the existing list of layers if layers have been added previously\n",
        "Map.clearMap()\n",
        "#Bring in NLCD 2011\n",
        "nlcd = ee.Image('USGS/NLCD_RELEASES/2016_REL/2011')\n",
        "\n",
        "#Add the layers to the map\n",
        "#If an image has class values, names, and a palette property available, use 'autoViz':True to pull those properties for first band of the image provided\n",
        "#Image must be a single band for thematic visualization to work properly\n",
        "#Then provide a dictionary of the values and colors ex: {value:hex_color}\n",
        "#If nothing is to be added to the legend, set 'addToLegend' to False\n",
        "Map.addLayer(nlcd.select(['landcover']),{'autoViz':True},'NLCD 2011 Landcover/Landuse',True)\n",
        "\n",
        "#Can center map on a GEE object\n",
        "Map.centerObject(nlcd)\n",
        "\n",
        "#Turn on inspector to double-click and see values of visible layers\n",
        "Map.turnOnInspector()\n",
        "\n",
        "Map.view()"
      ]
    },
    {
      "cell_type": "code",
      "execution_count": 5,
      "id": "2670e5e4",
      "metadata": {
        "scrolled": false
      },
      "outputs": [
        {
          "name": "stdout",
          "output_type": "stream",
          "text": [
            "Adding layer: NLCD Landcover/Landuse Time Series\n",
            "Adding layer: NLCD 2016 TCC\n",
            "Starting webmap\n",
            "Using default refresh token for geeView: C:\\Users\\ihousman/.config/earthengine/credentials\n",
            "Local web server at: http://localhost:8001/geeView/ already serving.\n",
            "cwd a:\\GEE\\gee_py_modules_package\\geeViz\\examples\n"
          ]
        },
        {
          "data": {
            "text/html": [
              "\n",
              "        <iframe\n",
              "            width=\"100%\"\n",
              "            height=\"525px\"\n",
              "            src=\"http://localhost:8001/geeView/?accessToken=ya29.a0AWY7CklTDu0Uy0iqqf58NYzMOV67oTwTkeDLbqra3uuTj_vqECqMG1ISfZ4W5zlL4Dxzpmdf0DGDBADDgQZiis4MJlnvno36JNqM80wKYoGxGXhragFxk9YAtzFZQljSiSUKvclvwHgo-oFa75iZJhalZhXsJ-2IdRqhyl8aCgYKAfYSARASFQG1tDrpz73yNcXXp2pd_aBg3fqrGQ0174\"\n",
              "            frameborder=\"0\"\n",
              "            allowfullscreen\n",
              "            \n",
              "        ></iframe>\n",
              "        "
            ],
            "text/plain": [
              "<IPython.lib.display.IFrame at 0x1ec2f9969b0>"
            ]
          },
          "metadata": {},
          "output_type": "display_data"
        }
      ],
      "source": [
        "Map.clearMap()\n",
        "#Images or image collections can be added.  If an image collection is added, the first non null value is displayed on the map. A time series will be displayed when the layer is queried\n",
        "nlcd = ee.ImageCollection('USGS/NLCD_RELEASES/2016_REL')\n",
        "nlcd = nlcd.filter(ee.Filter.calendarRange(2000,2020,'year'))\n",
        "nlcd = nlcd.map(lambda img: img.set('bns',img.bandNames()))\n",
        "nlcd = nlcd.filter(ee.Filter.listContains('bns','landcover')).select(['landcover'])\n",
        "Map.addLayer(nlcd.sort('system:time_start'),{'autoViz':True},'NLCD Landcover/Landuse Time Series',True)\n",
        "\n",
        "# Continuous data automatically have a legend added\n",
        "nlcd = ee.Image('USGS/NLCD_RELEASES/2016_REL/2016')\n",
        "Map.addLayer(nlcd.select(['percent_tree_cover']),{'min':20,'max':80,'palette':'555,0A0','opacity':0.5},'NLCD 2016 TCC',True)\n",
        "\n",
        "Map.turnOnInspector()\n",
        "Map.view()"
      ]
    },
    {
      "cell_type": "code",
      "execution_count": 6,
      "id": "29550202",
      "metadata": {
        "scrolled": false
      },
      "outputs": [
        {
          "name": "stdout",
          "output_type": "stream",
          "text": [
            "Adding layer: MTBS 1984-2017 Highest Severity\n",
            "Starting webmap\n",
            "Using default refresh token for geeView: C:\\Users\\ihousman/.config/earthengine/credentials\n",
            "Local web server at: http://localhost:8001/geeView/ already serving.\n",
            "cwd a:\\GEE\\gee_py_modules_package\\geeViz\\examples\n"
          ]
        },
        {
          "data": {
            "text/html": [
              "\n",
              "        <iframe\n",
              "            width=\"100%\"\n",
              "            height=\"525px\"\n",
              "            src=\"http://localhost:8001/geeView/?accessToken=ya29.a0AWY7CkmecFQekf5EilvXnBjVJq5YTurqxIlEd7ggwCUWhgCBFO014_NaVoyHUlMH8kScWeCYpPSqlYXw1iakguh4f4JmJQTg0Hsf4AR2Q4QVs9kLVYw5qLaXc1xJNgPlXAhWAPCMVU6Mm16aH_jXjXWKOHH40eSfCcVJwXIaCgYKAagSARASFQG1tDrp3C5HTjPkrrzzPVES5RR-qg0174\"\n",
              "            frameborder=\"0\"\n",
              "            allowfullscreen\n",
              "            \n",
              "        ></iframe>\n",
              "        "
            ],
            "text/plain": [
              "<IPython.lib.display.IFrame at 0x1ec318732b0>"
            ]
          },
          "metadata": {},
          "output_type": "display_data"
        }
      ],
      "source": [
        "Map.clearMap()\n",
        "#Another example\n",
        "mtbs = ee.ImageCollection('projects/gtac-mtbs/assets/burn_severity_mosaics/MTBS')\n",
        "mtbs = mtbs.map(lambda img: img.updateMask(img.neq(0)).select([0],['Burn Severity']).byte())\n",
        "\n",
        "#Set up MTBS legend and color properties\n",
        "mtbsColors = ['006400','7fffd4','ffff00','ff0000','7fff00','ffffff']\n",
        "mtbsLabels = ['1 Unburned to Low','2 Low','3 Moderate','4 High','5 Increased Greenness','6 Non-Processing Area Mask']\n",
        "mtbsDict =  {mtbsLabels[i]: mtbsColors[i] for i in range(len(mtbsColors))}\n",
        "mtbsQueryDict = {'1':'Unburned to Low','2':'Low','3':'Moderate','4':'High','5':'Increased Greenness','6':'Non-Processing Area Mask'}\n",
        "severityViz = {'min':1,'max':6,'palette':mtbsColors\t,'classLegendDict':mtbsDict,'queryDict':mtbsQueryDict}\n",
        "\n",
        "#Add it to the map\n",
        "Map.addLayer(mtbs.max(),severityViz,'MTBS 1984-2017 Highest Severity',True)\n",
        "\n",
        "Map.turnOnInspector()\n",
        "Map.view()"
      ]
    },
    {
      "cell_type": "code",
      "execution_count": 7,
      "id": "bda0482c",
      "metadata": {
        "scrolled": true
      },
      "outputs": [
        {
          "name": "stdout",
          "output_type": "stream",
          "text": [
            "Adding layer: MTBS Burn Perimeters\n",
            "Starting webmap\n",
            "Using default refresh token for geeView: C:\\Users\\ihousman/.config/earthengine/credentials\n",
            "Local web server at: http://localhost:8001/geeView/ already serving.\n",
            "cwd a:\\GEE\\gee_py_modules_package\\geeViz\\examples\n"
          ]
        },
        {
          "data": {
            "text/html": [
              "\n",
              "        <iframe\n",
              "            width=\"100%\"\n",
              "            height=\"525px\"\n",
              "            src=\"http://localhost:8001/geeView/?accessToken=ya29.a0AWY7Ckn8l5yQeCyu11KyDwx0kQja2Jg5NoQYZ5jPg3r2PM1s1mE0WybDJSkcsI765anymlkWHYS5boIdT6bXGL-RYKxC_chbpI-VSP7vtwqGvqYUFsK5ceKn46rySL8k59uBijtKJ-HptrW0K6kIWULhBThPMvrZhIt-2RkaCgYKASoSARASFQG1tDrpJiLoGYKCPIaQf0U6pYPNwA0174\"\n",
              "            frameborder=\"0\"\n",
              "            allowfullscreen\n",
              "            \n",
              "        ></iframe>\n",
              "        "
            ],
            "text/plain": [
              "<IPython.lib.display.IFrame at 0x1ec31752cb0>"
            ]
          },
          "metadata": {},
          "output_type": "display_data"
        }
      ],
      "source": [
        "#Feature collections can be added to the map as well\n",
        "#If they are very large, the geeVectorImage option is needed as the conversion from GEE object to geoJSON is too slow\n",
        "#Instead of clearing the map, this time, we'll add it to the existing map above\n",
        "perims = ee.FeatureCollection('projects/gtac-mtbs/assets/perimeters/mtbs_perims_DD')\n",
        "Map.addLayer(perims,{'strokeColor':'00F'},'MTBS Burn Perimeters',True)\n",
        "\n",
        "#Double click to see raster value of burn severity, as well as the attribute table of the feature\n",
        "Map.view()"
      ]
    },
    {
      "cell_type": "code",
      "execution_count": 8,
      "id": "e3065817",
      "metadata": {},
      "outputs": [
        {
          "name": "stdout",
          "output_type": "stream",
          "text": [
            "Adding layer: Yellowstone National Park\n",
            "Starting webmap\n",
            "Using default refresh token for geeView: C:\\Users\\ihousman/.config/earthengine/credentials\n",
            "Local web server at: http://localhost:8001/geeView/ already serving.\n",
            "cwd a:\\GEE\\gee_py_modules_package\\geeViz\\examples\n"
          ]
        },
        {
          "data": {
            "text/html": [
              "\n",
              "        <iframe\n",
              "            width=\"100%\"\n",
              "            height=\"525px\"\n",
              "            src=\"http://localhost:8001/geeView/?accessToken=ya29.a0AWY7CkkiE_XUBgiP2O3R1JKK1IKphww-eQHXfAHEsmLA7cBk_JRUzERQuh4A6dif7CcUEtZyl6zNI7byzsvmwh2QljFdNq8G_JPs6sW70wnr-hxuZpP1WVOLJsL42mURQ5_WX_byAIxXwrSjy4QmiCRLdDNP9tZ8Mv-wgsMaCgYKAToSARASFQG1tDrpmRT2nxOF1w1qRF7oGuy-YA0174\"\n",
              "            frameborder=\"0\"\n",
              "            allowfullscreen\n",
              "            \n",
              "        ></iframe>\n",
              "        "
            ],
            "text/plain": [
              "<IPython.lib.display.IFrame at 0x1ec31873d00>"
            ]
          },
          "metadata": {},
          "output_type": "display_data"
        }
      ],
      "source": [
        "Map.clearMap()\n",
        "#Smaller feature collections can be added to the map as a geojson vector by specifying 'layerType':'geeVector'\n",
        "#They will render more quickly than the raterized version of the vector\n",
        "nps = ee.FeatureCollection('projects/USFS/LCMS-NFS/CONUS-Ancillary-Data/NPS_Boundaries').filter(ee.Filter.eq('PARKNAME','Yellowstone'))\n",
        "Map.addLayer(nps,{'layerType': 'geeVector'},'Yellowstone National Park',True)\n",
        "Map.centerObject(nps)\n",
        "Map.turnOnInspector()\n",
        "Map.view()"
      ]
    },
    {
      "cell_type": "code",
      "execution_count": 9,
      "id": "ed19b1f3",
      "metadata": {},
      "outputs": [
        {
          "name": "stdout",
          "output_type": "stream",
          "text": [
            "Adding layer: JRC Surface Water Time Series\n",
            "Adding layer: JRC Surface Water Mode\n",
            "Adding layer: JRC Surface Water Time Lapse\n",
            "Starting webmap\n",
            "Using default refresh token for geeView: C:\\Users\\ihousman/.config/earthengine/credentials\n",
            "Local web server at: http://localhost:8001/geeView/ already serving.\n",
            "cwd a:\\GEE\\gee_py_modules_package\\geeViz\\examples\n"
          ]
        },
        {
          "data": {
            "text/html": [
              "\n",
              "        <iframe\n",
              "            width=\"100%\"\n",
              "            height=\"525px\"\n",
              "            src=\"http://localhost:8001/geeView/?accessToken=ya29.a0AWY7CklWxqm4OGJ130H501a9aRa1nIYUs29BQsRPt2qhbYga1z4DHyWppLAQRZSB6PCxnrV3y02uenpD5_GGPRc9fPIYrO-ME9RH7nIVZwpeqYVFxNT8VvYMKW5o1aVrev1_ZK8cJBIilI--8zkQO4fwtbIwNVWoNzHAApIaCgYKAWoSARASFQG1tDrpC2ZvfKx8cS7vOfswtMF_HA0174\"\n",
              "            frameborder=\"0\"\n",
              "            allowfullscreen\n",
              "            \n",
              "        ></iframe>\n",
              "        "
            ],
            "text/plain": [
              "<IPython.lib.display.IFrame at 0x1ec2f996f80>"
            ]
          },
          "metadata": {},
          "output_type": "display_data"
        }
      ],
      "source": [
        "Map.clearMap()\n",
        "#An interactive time lapse can also be created from an annual image collection\n",
        "#Bring in the JRS Surface water data\n",
        "water = ee.ImageCollection('JRC/GSW1_0/YearlyHistory')\n",
        "\n",
        "#Here is another example of creating a lookup dictionary\n",
        "waterColors = ['ffffff','99d9ea','0000ff']\n",
        "waterLabels = ['1 Not Water','2 Seasonal Water','3 Permanent Water']\n",
        "waterDict =  {waterLabels[i]: waterColors[i] for i in range(len(waterColors))}\n",
        "waterQueryDict =  {str(i+1): waterLabels[i] for i in range(len(waterLabels))}\n",
        "\n",
        "#The lookup table is applied to the image, but only a graph is created when querying the imageCollection\n",
        "Map.addLayer(water,{'min':1,'max':3,'palette':waterColors,'classLegendDict':waterDict,'queryDict':waterQueryDict},'JRC Surface Water Time Series',False)\n",
        "Map.addLayer(water.mode(),{'min':1,'max':3,'palette':waterColors,'classLegendDict':waterDict,'queryDict':waterQueryDict},'JRC Surface Water Mode',True)\n",
        "Map.addTimeLapse(water,{'min':1,'max':3,'palette':waterColors,'classLegendDict':waterDict},'JRC Surface Water Time Lapse',False)\n",
        "Map.centerObject(water)\n",
        "Map.view()"
      ]
    }
  ],
  "metadata": {
    "kernelspec": {
      "display_name": "Python 3",
      "language": "python",
      "name": "python3"
    },
    "language_info": {
      "codemirror_mode": {
        "name": "ipython",
        "version": 3
      },
      "file_extension": ".py",
      "mimetype": "text/x-python",
      "name": "python",
      "nbconvert_exporter": "python",
      "pygments_lexer": "ipython3",
      "version": "3.11.4"
    },
    "vscode": {
      "interpreter": {
        "hash": "369f2c481f4da34e4445cda3fffd2e751bd1c4d706f27375911949ba6bb62e1c"
      }
    }
  },
  "nbformat": 4,
  "nbformat_minor": 5
}
