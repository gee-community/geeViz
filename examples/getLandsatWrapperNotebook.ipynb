{
 "cells": [
  {
   "attachments": {},
   "cell_type": "markdown",
   "id": "3cf7f21d",
   "metadata": {},
   "source": [
    "# Create High Quality Landsat Composites\n",
    "\n",
    "* Demonstrates various parameters and their impact for making good composites over cloud areas\n",
    "\n",
    "Copyright 2025 Ian Housman\n",
    "\n",
    "Licensed under the Apache License, Version 2.0 (the \"License\");\n",
    "you may not use this file except in compliance with the License.\n",
    "You may obtain a copy of the License at\n",
    "\n",
    "   http://www.apache.org/licenses/LICENSE-2.0\n",
    "\n",
    "Unless required by applicable law or agreed to in writing, software\n",
    "distributed under the License is distributed on an \"AS IS\" BASIS,\n",
    "WITHOUT WARRANTIES OR CONDITIONS OF ANY KIND, either express or implied.\n",
    "See the License for the specific language governing permissions and\n",
    "limitations under the License.\n",
    "\n",
    "[![github](https://img.shields.io/badge/-see%20sources-white?logo=github&labelColor=555)](https://github.com/gee-community/geeviz/blob/master/examples/getLandsatWrapperNotebook.ipynb) \n",
    "[![github](https://colab.research.google.com/assets/colab-badge.svg)](https://colab.research.google.com/github/gee-community/geeViz/blob/master/examples/getLandsatWrapperNotebook.ipynb)"
   ]
  },
  {
   "cell_type": "code",
   "execution_count": null,
   "id": "ce3c6688",
   "metadata": {},
   "outputs": [],
   "source": [
    "#Example of how to get Landsat data using the getImagesLib and view outputs using the Python visualization tools\n",
    "#Acquires Landsat data and then adds them to the viewer\n",
    "####################################################################################################\n",
    "import os,sys\n",
    "sys.path.append(os.getcwd())\n",
    "\n",
    "#Module imports\n",
    "try:\n",
    "    import geeViz.getImagesLib as getImagesLib\n",
    "except:\n",
    "    !python -m pip install geeViz\n",
    "    import geeViz.getImagesLib as getImagesLib\n",
    "\n",
    "\n",
    "ee = getImagesLib.ee\n",
    "Map = getImagesLib.Map\n",
    "\n",
    "print('done')"
   ]
  },
  {
   "cell_type": "markdown",
   "id": "ac3bf917",
   "metadata": {},
   "source": [
    "## Setting up numerous parameters available for processing Landsat data"
   ]
  },
  {
   "cell_type": "code",
   "execution_count": null,
   "id": "d4974e71",
   "metadata": {},
   "outputs": [],
   "source": [
    "#This example will use all default parameters to demonstrate how to use the basic composite functionality\n",
    "\n",
    "#First clear the map in case it has been populated with layers/commands earlier\n",
    "Map.clearMap()\n",
    "#Define user parameters:\n",
    "\n",
    "# Specify study area: Study area\n",
    "# Can be a featureCollection, feature, or geometry\n",
    "studyArea = ee.FeatureCollection('projects/lcms-292214/assets/R8/PR_USVI/Ancillary/prusvi_boundary_buff2mile').geometry().bounds()#testAreas['CA']\n",
    "\n",
    "# Update the startJulian and endJulian variables to indicate your seasonal \n",
    "# constraints. This supports wrapping for tropics and southern hemisphere.\n",
    "# If using wrapping and the majority of the days occur in the second year, the system:time_start will default \n",
    "# to June 1 of that year.Otherwise, all system:time_starts will default to June 1 of the given year\n",
    "# startJulian: Starting Julian date \n",
    "# endJulian: Ending Julian date\n",
    "startJulian = 153\n",
    "endJulian = 152\n",
    "\n",
    "# Specify start and end years for all analyses\n",
    "# More than a 3 year span should be provided for time series methods to work \n",
    "# well. If providing pre-computed stats for cloudScore and TDOM, this does not \n",
    "# matter\n",
    "startYear = 2009\n",
    "endYear = 2009\n",
    "\n",
    "#Call on master wrapper function to get Landat scenes and composites\n",
    "lsAndTs = getImagesLib.getLandsatWrapper(studyArea,startYear,endYear,startJulian,endJulian)\n",
    "\n",
    "\n",
    "#Separate into scenes and composites for subsequent analysis\n",
    "processedScenes = lsAndTs['processedScenes']\n",
    "processedComposites = lsAndTs['processedComposites']\n",
    "\n",
    "\n",
    "\n",
    "Map.clearMap()\n",
    "# Map.addLayer(processedComposites.select(['NDVI','NBR']),{'addToLegend':'false'},'Time Series (NBR and NDVI)',False)\n",
    "for year in range(startYear,endYear + 1 ):\n",
    "     t = processedComposites.filter(ee.Filter.calendarRange(year,year,'year')).mosaic()\n",
    "     Map.addLayer(t.float(),getImagesLib.vizParamsFalse,'Default Params {} {}-{}'.format(year,startJulian,endJulian),'True')\n",
    "\n",
    "Map.centerObject(ee.Geometry.Polygon(\n",
    "        [[[-65.8337045819611, 18.329538797654042],\n",
    "          [-65.8337045819611, 18.235653085671174],\n",
    "          [-65.70461522649235, 18.235653085671174],\n",
    "          [-65.70461522649235, 18.329538797654042]]], None, False))\n",
    "Map.turnOnInspector()\n",
    "Map.view()\n",
    "\n"
   ]
  },
  {
   "cell_type": "code",
   "execution_count": null,
   "id": "48dc6ee9",
   "metadata": {},
   "outputs": [],
   "source": [
    "#It is clear the default parameters do not work very well in this area\n",
    "#There are missing data and cloud artifacts\n",
    "#You can access the parameters that were used through the properties of the returned collection\n",
    "print(processedComposites.toDictionary().getInfo())\n",
    "print(processedScenes.toDictionary().getInfo())\n",
    "\n"
   ]
  },
  {
   "cell_type": "markdown",
   "id": "88b34854",
   "metadata": {},
   "source": [
    "## Improving composite outputs by including Landsat 7"
   ]
  },
  {
   "cell_type": "code",
   "execution_count": null,
   "id": "704e7fb1",
   "metadata": {},
   "outputs": [],
   "source": [
    "#Since there are not that many images available in this area for these years, let's try adding Landsat 7\n",
    "includeSLCOffL7 = True\n",
    "#Call on master wrapper function to get Landat scenes and composites\n",
    "lsAndTs = getImagesLib.getLandsatWrapper(studyArea,startYear,endYear,startJulian,endJulian,includeSLCOffL7=includeSLCOffL7)\n",
    "\n",
    "\n",
    "#Separate into scenes and composites for subsequent analysis\n",
    "processedScenes = lsAndTs['processedScenes']\n",
    "processedComposites = lsAndTs['processedComposites']\n",
    "\n",
    "#Turn off layers from previous iteration\n",
    "Map.turnOffAllLayers()\n",
    "\n",
    "# Map.addLayer(processedComposites.select(['NDVI','NBR']),{'addToLegend':'false'},'Time Series (NBR and NDVI)',False)\n",
    "for year in range(startYear,endYear + 1 ):\n",
    "     t = processedComposites.filter(ee.Filter.calendarRange(year,year,'year')).mosaic()\n",
    "     Map.addLayer(t.float(),getImagesLib.vizParamsFalse,'L7 added {} {}-{}'.format(year,startJulian,endJulian),'True')\n",
    "\n",
    "\n",
    "Map.view()\n",
    "\n",
    "#You'll notice this helps fill in the holes, but introduces many cloud-related artifacts"
   ]
  },
  {
   "cell_type": "markdown",
   "id": "5b6e6da1",
   "metadata": {},
   "source": [
    "## Improving cloud masking using the `cloudScore` method"
   ]
  },
  {
   "cell_type": "code",
   "execution_count": null,
   "id": "6a648400",
   "metadata": {},
   "outputs": [],
   "source": [
    "#Let's try to improve the cloud masking. Fmask is used by default, but misses some clouds\n",
    "#We'll try the adding in the cloudScore method\n",
    "applyCloudScore = True\n",
    "\n",
    "#Call on master wrapper function to get Landat scenes and composites\n",
    "lsAndTs = getImagesLib.getLandsatWrapper(studyArea,startYear,endYear,startJulian,endJulian,includeSLCOffL7=includeSLCOffL7,applyCloudScore=applyCloudScore)\n",
    "\n",
    "\n",
    "#Separate into scenes and composites for subsequent analysis\n",
    "processedScenes = lsAndTs['processedScenes']\n",
    "processedComposites = lsAndTs['processedComposites']\n",
    "\n",
    "#Turn off layers from previous iteration\n",
    "Map.turnOffAllLayers()\n",
    "\n",
    "# Map.addLayer(processedComposites.select(['NDVI','NBR']),{'addToLegend':'false'},'Time Series (NBR and NDVI)',False)\n",
    "for year in range(startYear,endYear + 1 ):\n",
    "     t = processedComposites.filter(ee.Filter.calendarRange(year,year,'year')).mosaic()\n",
    "     Map.addLayer(t.float(),getImagesLib.vizParamsFalse,'L7 and CloudScore added {} {}-{}'.format(year,startJulian,endJulian),'True')\n",
    "\n",
    "\n",
    "Map.view()\n",
    "\n",
    "#You'll notice this cleans up the cloud masking a lot"
   ]
  },
  {
   "cell_type": "markdown",
   "id": "ae4706b4",
   "metadata": {},
   "source": [
    "## Improving cloud shadow masking using TDOM"
   ]
  },
  {
   "cell_type": "code",
   "execution_count": null,
   "id": "262c5658",
   "metadata": {},
   "outputs": [],
   "source": [
    "#You'll still notice there are some dark areas likely due to cloud shadow masking omission\n",
    "#Fmasks's cloud shadow mask misses a lot typically. A temporal outlier method called the \n",
    "#Temporal Dark Outlier Mask (TDOM) works well with masking cloud shadows\n",
    "\n",
    "#We'll try the cloudScore method\n",
    "applyTDOM = True\n",
    "\n",
    "#Call on master wrapper function to get Landat scenes and composites\n",
    "#In order to identify dark outliers, we will extend the dates by 6 years to get a larger sample\n",
    "lsAndTs = getImagesLib.getLandsatWrapper(studyArea,startYear-3,endYear+3,startJulian,endJulian,includeSLCOffL7=includeSLCOffL7,applyCloudScore=applyCloudScore,applyTDOM=applyTDOM)\n",
    "\n",
    "\n",
    "#Separate into scenes and composites for subsequent analysis\n",
    "processedScenes = lsAndTs['processedScenes']\n",
    "processedComposites = lsAndTs['processedComposites']\n",
    "\n",
    "#Turn off layers from previous iteration\n",
    "Map.turnOffAllLayers()\n",
    "\n",
    "# Map.addLayer(processedComposites.select(['NDVI','NBR']),{'addToLegend':'false'},'Time Series (NBR and NDVI)',False)\n",
    "for year in range(startYear,endYear + 1 ):\n",
    "     t = processedComposites.filter(ee.Filter.calendarRange(year,year,'year')).mosaic()\n",
    "     Map.addLayer(t.float(),getImagesLib.vizParamsFalse,'CloudScore and TDOM added {} {}-{}'.format(year,startJulian,endJulian),'True')\n",
    "\n",
    "\n",
    "Map.view()\n",
    "\n",
    "#You'll notice this cleans up the cloud masking a lot"
   ]
  },
  {
   "attachments": {},
   "cell_type": "markdown",
   "id": "fca2146c",
   "metadata": {},
   "source": [
    "> There are many different parameters that can be changed in order to improve composites in different study areas\n",
    "> This is just one example. Other parameters include changing date ranges, and reducers"
   ]
  }
 ],
 "metadata": {
  "kernelspec": {
   "display_name": "Python 3",
   "language": "python",
   "name": "python3"
  },
  "language_info": {
   "codemirror_mode": {
    "name": "ipython",
    "version": 3
   },
   "file_extension": ".py",
   "mimetype": "text/x-python",
   "name": "python",
   "nbconvert_exporter": "python",
   "pygments_lexer": "ipython3",
   "version": "3.11.4"
  }
 },
 "nbformat": 4,
 "nbformat_minor": 5
}
