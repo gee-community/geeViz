{
  "cells": [
    {
      "attachments": {},
      "cell_type": "markdown",
      "id": "3cf7f21d",
      "metadata": {},
      "source": [
        "# Create High Quality Landsat Composites\n",
        "\n",
        "* Demonstrates various parameters and their impact for making good composites over cloud areas\n",
        "\n",
        "Copyright 2024 Ian Housman\n",
        "\n",
        "Licensed under the Apache License, Version 2.0 (the \"License\");\n",
        "you may not use this file except in compliance with the License.\n",
        "You may obtain a copy of the License at\n",
        "\n",
        "   http://www.apache.org/licenses/LICENSE-2.0\n",
        "\n",
        "Unless required by applicable law or agreed to in writing, software\n",
        "distributed under the License is distributed on an \"AS IS\" BASIS,\n",
        "WITHOUT WARRANTIES OR CONDITIONS OF ANY KIND, either express or implied.\n",
        "See the License for the specific language governing permissions and\n",
        "limitations under the License.\n",
        "\n",
        "[![github](https://img.shields.io/badge/-see%20sources-white?logo=github&labelColor=555)](https://github.com/gee-community/geeviz/blob/master/examples/getLandsatWrapperNotebook.ipynb) \n",
        "[![github](https://colab.research.google.com/assets/colab-badge.svg)](https://colab.research.google.com/github/gee-community/geeViz/blob/master/examples/getLandsatWrapperNotebook.ipynb)"
      ]
    },
    {
      "cell_type": "code",
      "execution_count": 1,
      "id": "ce3c6688",
      "metadata": {},
      "outputs": [
        {
          "name": "stdout",
          "output_type": "stream",
          "text": [
            "Initializing GEE\n",
            "Cached project id file path: C:\\Users\\ihousman\\.config\\earthengine\\credentials.proj_id\n",
            "Cached project id: lcms-292214\n",
            "Successfully initialized\n",
            "geeViz package folder: c:\\Users\\ihousman\\AppData\\Local\\Programs\\Python\\Python311\\Lib\\site-packages\\geeViz\n",
            "done\n"
          ]
        }
      ],
      "source": [
        "#Example of how to get Landsat data using the getImagesLib and view outputs using the Python visualization tools\n",
        "#Acquires Landsat data and then adds them to the viewer\n",
        "####################################################################################################\n",
        "import os,sys\n",
        "sys.path.append(os.getcwd())\n",
        "\n",
        "#Module imports\n",
        "try:\n",
        "    import geeViz.getImagesLib as getImagesLib\n",
        "except:\n",
        "    !python -m pip install geeViz\n",
        "    import geeViz.getImagesLib as getImagesLib\n",
        "\n",
        "\n",
        "ee = getImagesLib.ee\n",
        "Map = getImagesLib.Map\n",
        "\n",
        "print('done')"
      ]
    },
    {
      "cell_type": "markdown",
      "id": "ac3bf917",
      "metadata": {},
      "source": [
        "## Setting up numerous parameters available for processing Landsat data"
      ]
    },
    {
      "cell_type": "code",
      "execution_count": 2,
      "id": "d4974e71",
      "metadata": {
        "scrolled": false
      },
      "outputs": [
        {
          "name": "stdout",
          "output_type": "stream",
          "text": [
            "Get Processed Landsat: \n",
            "Start date: Jun 02 2009 , End date: Jun 01 2010\n",
            "Applying scale factors for C2 L4 data\n",
            "Applying scale factors for C2 L5 data\n",
            "Applying scale factors for C2 L8 data\n",
            "Only including SLC On Landsat 7\n",
            "Applying scale factors for C2 L7 data\n",
            "Applying scale factors for C2 L9 data\n",
            "Applying Fmask Cloud Mask\n",
            "Applying Fmask Shadow Mask\n"
          ]
        },
        {
          "ename": "TypeError",
          "evalue": "Collection.count() missing 1 required positional argument: 'property'",
          "output_type": "error",
          "traceback": [
            "\u001b[1;31m---------------------------------------------------------------------------\u001b[0m",
            "\u001b[1;31mTypeError\u001b[0m                                 Traceback (most recent call last)",
            "Cell \u001b[1;32mIn[2], line 28\u001b[0m\n\u001b[0;32m     25\u001b[0m endYear \u001b[38;5;241m=\u001b[39m \u001b[38;5;241m2009\u001b[39m\n\u001b[0;32m     27\u001b[0m \u001b[38;5;66;03m#Call on master wrapper function to get Landat scenes and composites\u001b[39;00m\n\u001b[1;32m---> 28\u001b[0m lsAndTs \u001b[38;5;241m=\u001b[39m \u001b[43mgetImagesLib\u001b[49m\u001b[38;5;241;43m.\u001b[39;49m\u001b[43mgetLandsatWrapper\u001b[49m\u001b[43m(\u001b[49m\u001b[43mstudyArea\u001b[49m\u001b[43m,\u001b[49m\u001b[43mstartYear\u001b[49m\u001b[43m,\u001b[49m\u001b[43mendYear\u001b[49m\u001b[43m,\u001b[49m\u001b[43mstartJulian\u001b[49m\u001b[43m,\u001b[49m\u001b[43mendJulian\u001b[49m\u001b[43m)\u001b[49m\n\u001b[0;32m     31\u001b[0m \u001b[38;5;66;03m#Separate into scenes and composites for subsequent analysis\u001b[39;00m\n\u001b[0;32m     32\u001b[0m processedScenes \u001b[38;5;241m=\u001b[39m lsAndTs[\u001b[38;5;124m'\u001b[39m\u001b[38;5;124mprocessedScenes\u001b[39m\u001b[38;5;124m'\u001b[39m]\n",
            "File \u001b[1;32mc:\\Users\\ihousman\\AppData\\Local\\Programs\\Python\\Python311\\Lib\\site-packages\\geeViz\\getImagesLib.py:5432\u001b[0m, in \u001b[0;36mgetLandsatWrapper\u001b[1;34m(studyArea, startYear, endYear, startJulian, endJulian, timebuffer, weights, compositingMethod, toaOrSR, includeSLCOffL7, defringeL5, applyCloudScore, applyFmaskCloudMask, applyTDOM, applyFmaskCloudShadowMask, applyFmaskSnowMask, cloudScoreThresh, performCloudScoreOffset, cloudScorePctl, zScoreThresh, shadowSumThresh, contractPixels, dilatePixels, correctIllumination, correctScale, exportComposites, outputName, exportPathRoot, crs, transform, scale, resampleMethod, preComputedCloudScoreOffset, preComputedTDOMIRMean, preComputedTDOMIRStdDev, compositingReducer, harmonizeOLI, landsatCollectionVersion, overwrite, verbose)\u001b[0m\n\u001b[0;32m   5429\u001b[0m     ls \u001b[38;5;241m=\u001b[39m ls\u001b[38;5;241m.\u001b[39mmap(\u001b[38;5;28;01mlambda\u001b[39;00m img: addZenithAzimuth(img, toaOrSR))\n\u001b[0;32m   5431\u001b[0m \u001b[38;5;66;03m# Create composite time series\u001b[39;00m\n\u001b[1;32m-> 5432\u001b[0m ts \u001b[38;5;241m=\u001b[39m \u001b[43mcompositeTimeSeries\u001b[49m\u001b[43m(\u001b[49m\n\u001b[0;32m   5433\u001b[0m \u001b[43m    \u001b[49m\u001b[43mls\u001b[49m\u001b[38;5;241;43m=\u001b[39;49m\u001b[43mls\u001b[49m\u001b[43m,\u001b[49m\n\u001b[0;32m   5434\u001b[0m \u001b[43m    \u001b[49m\u001b[43mstartYear\u001b[49m\u001b[38;5;241;43m=\u001b[39;49m\u001b[43mstartYear\u001b[49m\u001b[43m,\u001b[49m\n\u001b[0;32m   5435\u001b[0m \u001b[43m    \u001b[49m\u001b[43mendYear\u001b[49m\u001b[38;5;241;43m=\u001b[39;49m\u001b[43mendYear\u001b[49m\u001b[43m,\u001b[49m\n\u001b[0;32m   5436\u001b[0m \u001b[43m    \u001b[49m\u001b[43mstartJulian\u001b[49m\u001b[38;5;241;43m=\u001b[39;49m\u001b[43mstartJulian\u001b[49m\u001b[43m,\u001b[49m\n\u001b[0;32m   5437\u001b[0m \u001b[43m    \u001b[49m\u001b[43mendJulian\u001b[49m\u001b[38;5;241;43m=\u001b[39;49m\u001b[43mendJulian\u001b[49m\u001b[43m,\u001b[49m\n\u001b[0;32m   5438\u001b[0m \u001b[43m    \u001b[49m\u001b[43mtimebuffer\u001b[49m\u001b[38;5;241;43m=\u001b[39;49m\u001b[43mtimebuffer\u001b[49m\u001b[43m,\u001b[49m\n\u001b[0;32m   5439\u001b[0m \u001b[43m    \u001b[49m\u001b[43mweights\u001b[49m\u001b[38;5;241;43m=\u001b[39;49m\u001b[43mweights\u001b[49m\u001b[43m,\u001b[49m\n\u001b[0;32m   5440\u001b[0m \u001b[43m    \u001b[49m\u001b[43mcompositingMethod\u001b[49m\u001b[38;5;241;43m=\u001b[39;49m\u001b[43mcompositingMethod\u001b[49m\u001b[43m,\u001b[49m\n\u001b[0;32m   5441\u001b[0m \u001b[43m    \u001b[49m\u001b[43mcompositingReducer\u001b[49m\u001b[38;5;241;43m=\u001b[39;49m\u001b[43mcompositingReducer\u001b[49m\u001b[43m,\u001b[49m\n\u001b[0;32m   5442\u001b[0m \u001b[43m\u001b[49m\u001b[43m)\u001b[49m\n\u001b[0;32m   5444\u001b[0m \u001b[38;5;66;03m# Correct illumination\u001b[39;00m\n\u001b[0;32m   5445\u001b[0m \u001b[38;5;28;01mif\u001b[39;00m correctIllumination:\n",
            "File \u001b[1;32mc:\\Users\\ihousman\\AppData\\Local\\Programs\\Python\\Python311\\Lib\\site-packages\\geeViz\\getImagesLib.py:4315\u001b[0m, in \u001b[0;36mcompositeTimeSeries\u001b[1;34m(ls, startYear, endYear, startJulian, endJulian, timebuffer, weights, compositingMethod, compositingReducer)\u001b[0m\n\u001b[0;32m   4300\u001b[0m     \u001b[38;5;28;01mreturn\u001b[39;00m composite\u001b[38;5;241m.\u001b[39mset(\n\u001b[0;32m   4301\u001b[0m         {\n\u001b[0;32m   4302\u001b[0m             \u001b[38;5;124m\"\u001b[39m\u001b[38;5;124msystem:time_start\u001b[39m\u001b[38;5;124m\"\u001b[39m: ee\u001b[38;5;241m.\u001b[39mDate\u001b[38;5;241m.\u001b[39mfromYMD(year \u001b[38;5;241m+\u001b[39m yearWithMajority, \u001b[38;5;241m6\u001b[39m, \u001b[38;5;241m1\u001b[39m)\u001b[38;5;241m.\u001b[39mmillis(),\n\u001b[1;32m   (...)\u001b[0m\n\u001b[0;32m   4311\u001b[0m         }\n\u001b[0;32m   4312\u001b[0m     )\n\u001b[0;32m   4314\u001b[0m \u001b[38;5;66;03m# Iterate across each year\u001b[39;00m\n\u001b[1;32m-> 4315\u001b[0m ts \u001b[38;5;241m=\u001b[39m \u001b[43m[\u001b[49m\u001b[43myearCompositeGetter\u001b[49m\u001b[43m(\u001b[49m\u001b[43myr\u001b[49m\u001b[43m)\u001b[49m\u001b[43m \u001b[49m\u001b[38;5;28;43;01mfor\u001b[39;49;00m\u001b[43m \u001b[49m\u001b[43myr\u001b[49m\u001b[43m \u001b[49m\u001b[38;5;129;43;01min\u001b[39;49;00m\u001b[43m \u001b[49m\u001b[43mee\u001b[49m\u001b[38;5;241;43m.\u001b[39;49m\u001b[43mList\u001b[49m\u001b[38;5;241;43m.\u001b[39;49m\u001b[43msequence\u001b[49m\u001b[43m(\u001b[49m\u001b[43mstartYear\u001b[49m\u001b[43m \u001b[49m\u001b[38;5;241;43m+\u001b[39;49m\u001b[43m \u001b[49m\u001b[43mtimebuffer\u001b[49m\u001b[43m,\u001b[49m\u001b[43m \u001b[49m\u001b[43mendYear\u001b[49m\u001b[43m \u001b[49m\u001b[38;5;241;43m-\u001b[39;49m\u001b[43m \u001b[49m\u001b[43mtimebuffer\u001b[49m\u001b[43m)\u001b[49m\u001b[38;5;241;43m.\u001b[39;49m\u001b[43mgetInfo\u001b[49m\u001b[43m(\u001b[49m\u001b[43m)\u001b[49m\u001b[43m]\u001b[49m\n\u001b[0;32m   4316\u001b[0m ts \u001b[38;5;241m=\u001b[39m ee\u001b[38;5;241m.\u001b[39mImageCollection(ts)\u001b[38;5;241m.\u001b[39mset(args)\n\u001b[0;32m   4318\u001b[0m \u001b[38;5;28;01mreturn\u001b[39;00m ts\n",
            "File \u001b[1;32mc:\\Users\\ihousman\\AppData\\Local\\Programs\\Python\\Python311\\Lib\\site-packages\\geeViz\\getImagesLib.py:4315\u001b[0m, in \u001b[0;36m<listcomp>\u001b[1;34m(.0)\u001b[0m\n\u001b[0;32m   4300\u001b[0m     \u001b[38;5;28;01mreturn\u001b[39;00m composite\u001b[38;5;241m.\u001b[39mset(\n\u001b[0;32m   4301\u001b[0m         {\n\u001b[0;32m   4302\u001b[0m             \u001b[38;5;124m\"\u001b[39m\u001b[38;5;124msystem:time_start\u001b[39m\u001b[38;5;124m\"\u001b[39m: ee\u001b[38;5;241m.\u001b[39mDate\u001b[38;5;241m.\u001b[39mfromYMD(year \u001b[38;5;241m+\u001b[39m yearWithMajority, \u001b[38;5;241m6\u001b[39m, \u001b[38;5;241m1\u001b[39m)\u001b[38;5;241m.\u001b[39mmillis(),\n\u001b[1;32m   (...)\u001b[0m\n\u001b[0;32m   4311\u001b[0m         }\n\u001b[0;32m   4312\u001b[0m     )\n\u001b[0;32m   4314\u001b[0m \u001b[38;5;66;03m# Iterate across each year\u001b[39;00m\n\u001b[1;32m-> 4315\u001b[0m ts \u001b[38;5;241m=\u001b[39m [\u001b[43myearCompositeGetter\u001b[49m\u001b[43m(\u001b[49m\u001b[43myr\u001b[49m\u001b[43m)\u001b[49m \u001b[38;5;28;01mfor\u001b[39;00m yr \u001b[38;5;129;01min\u001b[39;00m ee\u001b[38;5;241m.\u001b[39mList\u001b[38;5;241m.\u001b[39msequence(startYear \u001b[38;5;241m+\u001b[39m timebuffer, endYear \u001b[38;5;241m-\u001b[39m timebuffer)\u001b[38;5;241m.\u001b[39mgetInfo()]\n\u001b[0;32m   4316\u001b[0m ts \u001b[38;5;241m=\u001b[39m ee\u001b[38;5;241m.\u001b[39mImageCollection(ts)\u001b[38;5;241m.\u001b[39mset(args)\n\u001b[0;32m   4318\u001b[0m \u001b[38;5;28;01mreturn\u001b[39;00m ts\n",
            "File \u001b[1;32mc:\\Users\\ihousman\\AppData\\Local\\Programs\\Python\\Python311\\Lib\\site-packages\\geeViz\\getImagesLib.py:4290\u001b[0m, in \u001b[0;36mcompositeTimeSeries.<locals>.yearCompositeGetter\u001b[1;34m(year)\u001b[0m\n\u001b[0;32m   4287\u001b[0m images \u001b[38;5;241m=\u001b[39m yearsTT\u001b[38;5;241m.\u001b[39mmap(yrGetter)\n\u001b[0;32m   4288\u001b[0m lsT \u001b[38;5;241m=\u001b[39m ee\u001b[38;5;241m.\u001b[39mImageCollection(ee\u001b[38;5;241m.\u001b[39mFeatureCollection(images)\u001b[38;5;241m.\u001b[39mflatten())\n\u001b[1;32m-> 4290\u001b[0m count \u001b[38;5;241m=\u001b[39m \u001b[43mlsT\u001b[49m\u001b[38;5;241;43m.\u001b[39;49m\u001b[43mselect\u001b[49m\u001b[43m(\u001b[49m\u001b[43m[\u001b[49m\u001b[38;5;241;43m0\u001b[39;49m\u001b[43m]\u001b[49m\u001b[43m)\u001b[49m\u001b[38;5;241;43m.\u001b[39;49m\u001b[43mcount\u001b[49m\u001b[43m(\u001b[49m\u001b[43m)\u001b[49m\u001b[38;5;241m.\u001b[39mrename([\u001b[38;5;124m\"\u001b[39m\u001b[38;5;124mcompositeObsCount\u001b[39m\u001b[38;5;124m\"\u001b[39m])\n\u001b[0;32m   4291\u001b[0m \u001b[38;5;66;03m# Compute median or medoid or apply reducer\u001b[39;00m\n\u001b[0;32m   4292\u001b[0m \u001b[38;5;28;01mif\u001b[39;00m compositingReducer \u001b[38;5;241m!=\u001b[39m \u001b[38;5;28;01mNone\u001b[39;00m:\n",
            "\u001b[1;31mTypeError\u001b[0m: Collection.count() missing 1 required positional argument: 'property'"
          ]
        }
      ],
      "source": [
        "#This example will use all default parameters to demonstrate how to use the basic composite functionality\n",
        "\n",
        "#First clear the map in case it has been populated with layers/commands earlier\n",
        "Map.clearMap()\n",
        "#Define user parameters:\n",
        "\n",
        "# Specify study area: Study area\n",
        "# Can be a featureCollection, feature, or geometry\n",
        "studyArea = ee.FeatureCollection('projects/lcms-292214/assets/R8/PR_USVI/Ancillary/prusvi_boundary_buff2mile').geometry().bounds()#testAreas['CA']\n",
        "\n",
        "# Update the startJulian and endJulian variables to indicate your seasonal \n",
        "# constraints. This supports wrapping for tropics and southern hemisphere.\n",
        "# If using wrapping and the majority of the days occur in the second year, the system:time_start will default \n",
        "# to June 1 of that year.Otherwise, all system:time_starts will default to June 1 of the given year\n",
        "# startJulian: Starting Julian date \n",
        "# endJulian: Ending Julian date\n",
        "startJulian = 153\n",
        "endJulian = 152\n",
        "\n",
        "# Specify start and end years for all analyses\n",
        "# More than a 3 year span should be provided for time series methods to work \n",
        "# well. If providing pre-computed stats for cloudScore and TDOM, this does not \n",
        "# matter\n",
        "startYear = 2009\n",
        "endYear = 2009\n",
        "\n",
        "#Call on master wrapper function to get Landat scenes and composites\n",
        "lsAndTs = getImagesLib.getLandsatWrapper(studyArea,startYear,endYear,startJulian,endJulian)\n",
        "\n",
        "\n",
        "#Separate into scenes and composites for subsequent analysis\n",
        "processedScenes = lsAndTs['processedScenes']\n",
        "processedComposites = lsAndTs['processedComposites']\n",
        "\n",
        "\n",
        "\n",
        "Map.clearMap()\n",
        "# Map.addLayer(processedComposites.select(['NDVI','NBR']),{'addToLegend':'false'},'Time Series (NBR and NDVI)',False)\n",
        "for year in range(startYear,endYear + 1 ):\n",
        "     t = processedComposites.filter(ee.Filter.calendarRange(year,year,'year')).mosaic()\n",
        "     Map.addLayer(t.float(),getImagesLib.vizParamsFalse,'Default Params {} {}-{}'.format(year,startJulian,endJulian),'True')\n",
        "\n",
        "Map.centerObject(ee.Geometry.Polygon(\n",
        "        [[[-65.8337045819611, 18.329538797654042],\n",
        "          [-65.8337045819611, 18.235653085671174],\n",
        "          [-65.70461522649235, 18.235653085671174],\n",
        "          [-65.70461522649235, 18.329538797654042]]], None, False))\n",
        "Map.turnOnInspector()\n",
        "Map.view()\n",
        "\n"
      ]
    },
    {
      "cell_type": "code",
      "execution_count": 3,
      "id": "48dc6ee9",
      "metadata": {},
      "outputs": [
        {
          "name": "stdout",
          "output_type": "stream",
          "text": [
            "{'compositingMethod': 'medoid', 'compositingReducer': 'None', 'endJulian': 152, 'endYear': 2009, 'startJulian': 153, 'startYear': 2009, 'timebuffer': 0, 'weights': '[1]'}\n",
            "{'addPixelQA': 'False', 'applyCloudScore': 'False', 'applyFmaskCloudMask': 'True', 'applyFmaskCloudShadowMask': 'True', 'applyFmaskSnowMask': 'False', 'applyTDOM': 'False', 'cloudScorePctl': 10, 'cloudScoreThresh': 10, 'defringeL5': 'False', 'endJulian': 152, 'endYear': 2009, 'harmonizeOLI': 'False', 'includeSLCOffL7': 'False', 'landsatCollectionVersion': 'C2', 'origin': 'Landsat', 'performCloudScoreOffset': 'True', 'preComputedCloudScoreOffset': 'None', 'preComputedTDOMIRMean': 'None', 'preComputedTDOMIRStdDev': 'None', 'resampleMethod': 'near', 'shadowSumBands': \"['nir', 'swir1']\", 'startJulian': 153, 'startYear': 2009, 'toaOrSR': 'SR', 'verbose': 'False', 'wrapOffset': 365, 'zScoreThresh': -1}\n"
          ]
        }
      ],
      "source": [
        "#It is clear the default parameters do not work very well in this area\n",
        "#There are missing data and cloud artifacts\n",
        "#You can access the parameters that were used through the properties of the returned collection\n",
        "print(processedComposites.toDictionary().getInfo())\n",
        "print(processedScenes.toDictionary().getInfo())\n",
        "\n"
      ]
    },
    {
      "cell_type": "markdown",
      "id": "88b34854",
      "metadata": {},
      "source": [
        "## Improving composite outputs by including Landsat 7"
      ]
    },
    {
      "cell_type": "code",
      "execution_count": 4,
      "id": "704e7fb1",
      "metadata": {},
      "outputs": [
        {
          "name": "stdout",
          "output_type": "stream",
          "text": [
            "Get Processed Landsat: \n",
            "Start date: Jun 02 2009 , End date: Jun 01 2010\n",
            "Applying scale factors for C2 L4 data\n",
            "Applying scale factors for C2 L5 data\n",
            "Applying scale factors for C2 L8 data\n",
            "Including All Landsat 7\n",
            "Applying scale factors for C2 L7 data\n",
            "Applying scale factors for C2 L9 data\n",
            "Applying Fmask Cloud Mask\n",
            "Applying Fmask Shadow Mask\n",
            "Adding layer: L7 added 2009 153-152\n",
            "Starting webmap\n",
            "Using default refresh token for geeView: C:\\Users\\ihousman/.config/earthengine/credentials\n",
            "Local web server at: http://localhost:8001/geeView/ already serving.\n",
            "cwd a:\\GEE\\gee_py_modules_package\\geeViz\\examples\n"
          ]
        },
        {
          "data": {
            "text/html": [
              "\n",
              "        <iframe\n",
              "            width=\"100%\"\n",
              "            height=\"525px\"\n",
              "            src=\"http://localhost:8001/geeView/?accessToken=ya29.a0AfB_byBZN1mrNXhWhikL7YwwicdYC7AIdm6lW-wGiKPsRFXq3iDw_0mr_ULmBwiGNFae7WHbefbNdnMvoECpuw_pJkavU-ST2YUvOl3cS0EeUSe806PvsHg9Ef2P7ebZxkLHdMZ4z_pUHzgpoxInj2MEQA0s1mXxAOSlIZLBUr_naCgYKAfwSARESFQGOcNnC_QHbvyt5FQF8LXj84jQYwQ0179\"\n",
              "            frameborder=\"0\"\n",
              "            allowfullscreen\n",
              "            \n",
              "        ></iframe>\n",
              "        "
            ],
            "text/plain": [
              "<IPython.lib.display.IFrame at 0x1e133247c10>"
            ]
          },
          "metadata": {},
          "output_type": "display_data"
        }
      ],
      "source": [
        "#Since there are not that many images available in this area for these years, let's try adding Landsat 7\n",
        "includeSLCOffL7 = True\n",
        "#Call on master wrapper function to get Landat scenes and composites\n",
        "lsAndTs = getImagesLib.getLandsatWrapper(studyArea,startYear,endYear,startJulian,endJulian,includeSLCOffL7=includeSLCOffL7)\n",
        "\n",
        "\n",
        "#Separate into scenes and composites for subsequent analysis\n",
        "processedScenes = lsAndTs['processedScenes']\n",
        "processedComposites = lsAndTs['processedComposites']\n",
        "\n",
        "#Turn off layers from previous iteration\n",
        "Map.turnOffAllLayers()\n",
        "\n",
        "# Map.addLayer(processedComposites.select(['NDVI','NBR']),{'addToLegend':'false'},'Time Series (NBR and NDVI)',False)\n",
        "for year in range(startYear,endYear + 1 ):\n",
        "     t = processedComposites.filter(ee.Filter.calendarRange(year,year,'year')).mosaic()\n",
        "     Map.addLayer(t.float(),getImagesLib.vizParamsFalse,'L7 added {} {}-{}'.format(year,startJulian,endJulian),'True')\n",
        "\n",
        "\n",
        "Map.view()\n",
        "\n",
        "#You'll notice this helps fill in the holes, but introduces many cloud-related artifacts"
      ]
    },
    {
      "cell_type": "markdown",
      "id": "5b6e6da1",
      "metadata": {},
      "source": [
        "## Improving cloud masking using the `cloudScore` method"
      ]
    },
    {
      "cell_type": "code",
      "execution_count": 6,
      "id": "6a648400",
      "metadata": {},
      "outputs": [
        {
          "name": "stdout",
          "output_type": "stream",
          "text": [
            "Get Processed Landsat: \n",
            "Applying scale factors for C2 L4 data\n",
            "Applying scale factors for C2 L5 data\n",
            "Applying scale factors for C2 L8 data\n",
            "Including All Landsat 7\n",
            "Applying scale factors for C2 L7 data\n",
            "Applying scale factors for C2 L9 data\n",
            "Applying Cloud Score\n",
            "Computing cloudScore offset\n",
            "Applying Fmask Cloud Mask\n",
            "Applying Fmask Shadow Mask\n",
            "Adding layer: L7 and CloudScore added 2009 153-152\n",
            "Starting webmap\n",
            "Using default refresh token for geeView: C:\\Users\\ihousman/.config/earthengine/credentials\n",
            "Local web server at: http://localhost:8001/geeView/ already serving.\n",
            "cwd a:\\GEE\\gee_py_modules_package\\geeViz\\examples\n"
          ]
        },
        {
          "data": {
            "text/html": [
              "\n",
              "        <iframe\n",
              "            width=\"100%\"\n",
              "            height=\"525px\"\n",
              "            src=\"http://localhost:8001/geeView/?accessToken=ya29.a0AWY7Ckk9GF6sOSzBSRRiv8Y-yv-YK6sWh22de8WWOmhkclmdDigJlVJ6xQXyPAdgtJRKVAKAtuRqs8KVkMQ4V8L_qPPl-IycxfWdfQezirNIxzX6Mizzi_8gc5_YdLk86cdCJh1paAgW9mazc499b5HOBuqNUYQG-_F77RAaCgYKAX4SARASFQG1tDrplvbYY7-o7iAlPL5kEtmeww0174\"\n",
              "            frameborder=\"0\"\n",
              "            allowfullscreen\n",
              "            \n",
              "        ></iframe>\n",
              "        "
            ],
            "text/plain": [
              "<IPython.lib.display.IFrame at 0x220174b0190>"
            ]
          },
          "metadata": {},
          "output_type": "display_data"
        }
      ],
      "source": [
        "#Let's try to improve the cloud masking. Fmask is used by default, but misses some clouds\n",
        "#We'll try the adding in the cloudScore method\n",
        "applyCloudScore = True\n",
        "\n",
        "#Call on master wrapper function to get Landat scenes and composites\n",
        "lsAndTs = getImagesLib.getLandsatWrapper(studyArea,startYear,endYear,startJulian,endJulian,includeSLCOffL7=includeSLCOffL7,applyCloudScore=applyCloudScore)\n",
        "\n",
        "\n",
        "#Separate into scenes and composites for subsequent analysis\n",
        "processedScenes = lsAndTs['processedScenes']\n",
        "processedComposites = lsAndTs['processedComposites']\n",
        "\n",
        "#Turn off layers from previous iteration\n",
        "Map.turnOffAllLayers()\n",
        "\n",
        "# Map.addLayer(processedComposites.select(['NDVI','NBR']),{'addToLegend':'false'},'Time Series (NBR and NDVI)',False)\n",
        "for year in range(startYear,endYear + 1 ):\n",
        "     t = processedComposites.filter(ee.Filter.calendarRange(year,year,'year')).mosaic()\n",
        "     Map.addLayer(t.float(),getImagesLib.vizParamsFalse,'L7 and CloudScore added {} {}-{}'.format(year,startJulian,endJulian),'True')\n",
        "\n",
        "\n",
        "Map.view()\n",
        "\n",
        "#You'll notice this cleans up the cloud masking a lot"
      ]
    },
    {
      "cell_type": "markdown",
      "id": "ae4706b4",
      "metadata": {},
      "source": [
        "## Improving cloud shadow masking using TDOM"
      ]
    },
    {
      "cell_type": "code",
      "execution_count": 7,
      "id": "262c5658",
      "metadata": {},
      "outputs": [
        {
          "name": "stdout",
          "output_type": "stream",
          "text": [
            "Get Processed Landsat: \n",
            "Applying scale factors for C2 L4 data\n",
            "Applying scale factors for C2 L5 data\n",
            "Applying scale factors for C2 L8 data\n",
            "Including All Landsat 7\n",
            "Applying scale factors for C2 L7 data\n",
            "Applying scale factors for C2 L9 data\n",
            "Applying Cloud Score\n",
            "Computing cloudScore offset\n",
            "Applying Fmask Cloud Mask\n",
            "Applying TDOM Shadow Mask\n",
            "Computing irMean for TDOM\n",
            "Computing irStdDev for TDOM\n",
            "Applying Fmask Shadow Mask\n",
            "Adding layer: CloudScore and TDOM added 2009 153-152\n",
            "Starting webmap\n",
            "Using default refresh token for geeView: C:\\Users\\ihousman/.config/earthengine/credentials\n",
            "Local web server at: http://localhost:8001/geeView/ already serving.\n",
            "cwd a:\\GEE\\gee_py_modules_package\\geeViz\\examples\n"
          ]
        },
        {
          "data": {
            "text/html": [
              "\n",
              "        <iframe\n",
              "            width=\"100%\"\n",
              "            height=\"525px\"\n",
              "            src=\"http://localhost:8001/geeView/?accessToken=ya29.a0AWY7CkkjAUiWVCidNln_3yK4YC-nBSCUfowMnmwD53N0aFm46kgPqd4k1a1xP45frSre_zw7L9Bl-i2Vvzhdu85EcLvW1Bpu9iAsg0T9WJkE1RT8w4fKHkKIyMZNwWg7m1tGcV0mOBjZFM9BUSlkXKMLXKr2O0OXsM8RsgUaCgYKASASARASFQG1tDrpW-jWwyopjLk-G2mZdXUtiQ0174\"\n",
              "            frameborder=\"0\"\n",
              "            allowfullscreen\n",
              "            \n",
              "        ></iframe>\n",
              "        "
            ],
            "text/plain": [
              "<IPython.lib.display.IFrame at 0x220174da470>"
            ]
          },
          "metadata": {},
          "output_type": "display_data"
        }
      ],
      "source": [
        "#You'll still notice there are some dark areas likely due to cloud shadow masking omission\n",
        "#Fmasks's cloud shadow mask misses a lot typically. A temporal outlier method called the \n",
        "#Temporal Dark Outlier Mask (TDOM) works well with masking cloud shadows\n",
        "\n",
        "#We'll try the cloudScore method\n",
        "applyTDOM = True\n",
        "\n",
        "#Call on master wrapper function to get Landat scenes and composites\n",
        "#In order to identify dark outliers, we will extend the dates by 6 years to get a larger sample\n",
        "lsAndTs = getImagesLib.getLandsatWrapper(studyArea,startYear-3,endYear+3,startJulian,endJulian,includeSLCOffL7=includeSLCOffL7,applyCloudScore=applyCloudScore,applyTDOM=applyTDOM)\n",
        "\n",
        "\n",
        "#Separate into scenes and composites for subsequent analysis\n",
        "processedScenes = lsAndTs['processedScenes']\n",
        "processedComposites = lsAndTs['processedComposites']\n",
        "\n",
        "#Turn off layers from previous iteration\n",
        "Map.turnOffAllLayers()\n",
        "\n",
        "# Map.addLayer(processedComposites.select(['NDVI','NBR']),{'addToLegend':'false'},'Time Series (NBR and NDVI)',False)\n",
        "for year in range(startYear,endYear + 1 ):\n",
        "     t = processedComposites.filter(ee.Filter.calendarRange(year,year,'year')).mosaic()\n",
        "     Map.addLayer(t.float(),getImagesLib.vizParamsFalse,'CloudScore and TDOM added {} {}-{}'.format(year,startJulian,endJulian),'True')\n",
        "\n",
        "\n",
        "Map.view()\n",
        "\n",
        "#You'll notice this cleans up the cloud masking a lot"
      ]
    },
    {
      "attachments": {},
      "cell_type": "markdown",
      "id": "fca2146c",
      "metadata": {},
      "source": [
        "> There are many different parameters that can be changed in order to improve composites in different study areas\n",
        "> This is just one example. Other parameters include changing date ranges, and reducers"
      ]
    }
  ],
  "metadata": {
    "kernelspec": {
      "display_name": "Python 3 (ipykernel)",
      "language": "python",
      "name": "python3"
    },
    "language_info": {
      "codemirror_mode": {
        "name": "ipython",
        "version": 3
      },
      "file_extension": ".py",
      "mimetype": "text/x-python",
      "name": "python",
      "nbconvert_exporter": "python",
      "pygments_lexer": "ipython3",
      "version": "3.11.4"
    }
  },
  "nbformat": 4,
  "nbformat_minor": 5
}
