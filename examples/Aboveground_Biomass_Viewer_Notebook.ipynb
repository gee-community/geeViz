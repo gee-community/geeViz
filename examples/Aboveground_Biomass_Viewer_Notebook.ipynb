{
 "cells": [
  {
   "cell_type": "markdown",
   "metadata": {},
   "source": [
    "# Visualizing Aboveground Biomass\n",
    "\n",
    "* The ESA CCI Global Forest Aboveground Biomass v5.01 provides estimates of forest above-ground biomass for the years 2010, 2015, 2016, 2017, 2018, 2019, 2020 and 2021.\n",
    "* See https://gee-community-catalog.org/projects/cci_agb/ for source documentation\n",
    "\n",
    "\n",
    "Copyright 2025 Ian Housman\n",
    "\n",
    "Licensed under the Apache License, Version 2.0 (the \"License\");\n",
    "you may not use this file except in compliance with the License.\n",
    "You may obtain a copy of the License at\n",
    "\n",
    "   http://www.apache.org/licenses/LICENSE-2.0\n",
    "\n",
    "Unless required by applicable law or agreed to in writing, software\n",
    "distributed under the License is distributed on an \"AS IS\" BASIS,\n",
    "WITHOUT WARRANTIES OR CONDITIONS OF ANY KIND, either express or implied.\n",
    "See the License for the specific language governing permissions and\n",
    "limitations under the License.\n",
    "\n",
    "[![github](https://img.shields.io/badge/-see%20sources-white?logo=github&labelColor=555)](https://github.com/gee-community/geeviz/blob/master/examples/Aboveground_Biomass_Viewer_Notebook.ipynb) \n",
    "[![github](https://colab.research.google.com/assets/colab-badge.svg)](https://colab.research.google.com/github/gee-community/geeViz/blob/master/examples/Aboveground_Biomass_Viewer_Notebook.ipynb)\n"
   ]
  },
  {
   "cell_type": "code",
   "execution_count": 1,
   "metadata": {},
   "outputs": [
    {
     "name": "stdout",
     "output_type": "stream",
     "text": [
      "Initializing GEE\n",
      "Successfully initialized\n",
      "done\n"
     ]
    }
   ],
   "source": [
    "try:\n",
    "    import  geeViz.geeView as geeView\n",
    "except:\n",
    "    !python -m pip install geeViz\n",
    "    import  geeViz.geeView as geeView\n",
    "\n",
    "import geeViz.geePalettes as palettes\n",
    "ee = geeView.ee\n",
    "Map = geeView.Map\n",
    "\n",
    "print('done')"
   ]
  },
  {
   "cell_type": "markdown",
   "metadata": {},
   "source": [
    "## Make a basic viewer\n",
    "\n",
    "* This is a slight adaptation of the example provided here: https://code.earthengine.google.com/?scriptPath=users/sat-io/awesome-gee-catalog-examples:agriculture-vegetation-forestry/\n",
    "* Map will automatically summarize the average biomass for your view extent"
   ]
  },
  {
   "cell_type": "code",
   "execution_count": 2,
   "metadata": {},
   "outputs": [
    {
     "name": "stdout",
     "output_type": "stream",
     "text": [
      "Setting click query crs to: EPSG:4326\n",
      "Setting click query scale to: 30\n",
      "Adding layer: Aboveground Biomass\n",
      "Starting webmap\n",
      "Using default refresh token for geeView\n",
      "Local web server at: http://localhost:1234/geeView/ already serving.\n",
      "cwd c:\\RCR\\geeVizBuilder\\geeViz\\examples\n",
      "geeView URL: http://localhost:1234/geeView/?projectID=rcr-gee&accessToken=ya29.a0AeXRPp4oFDROWwTr95nCQ7MsvyXW99qTgldpbE4lfRDXhv9lj6A7yYBIR2wrUcY1iuxopBq4BkHuw9BEoN01GV3RyyB2eaYlFvJqQZ8n-TusZsspZbTECGGQny1_GL47MMJUurMV49dg4zbLg2FgY34Uafrr-fr3HZDIdhZyz5e30fJ-es1waCgYKAdYSARASFQHGX2MiKIlI4Hi4exkX1ejrSa2jDQ0187&accessTokenCreationTime=1743468731233\n"
     ]
    },
    {
     "data": {
      "text/html": [
       "\n",
       "        <iframe\n",
       "            width=\"100%\"\n",
       "            height=\"525px\"\n",
       "            src=\"http://localhost:1234/geeView/?projectID=rcr-gee&accessToken=ya29.a0AeXRPp4oFDROWwTr95nCQ7MsvyXW99qTgldpbE4lfRDXhv9lj6A7yYBIR2wrUcY1iuxopBq4BkHuw9BEoN01GV3RyyB2eaYlFvJqQZ8n-TusZsspZbTECGGQny1_GL47MMJUurMV49dg4zbLg2FgY34Uafrr-fr3HZDIdhZyz5e30fJ-es1waCgYKAdYSARASFQHGX2MiKIlI4Hi4exkX1ejrSa2jDQ0187&accessTokenCreationTime=1743468731233\"\n",
       "            frameborder=\"0\"\n",
       "            allowfullscreen\n",
       "            \n",
       "        ></iframe>\n",
       "        "
      ],
      "text/plain": [
       "<IPython.lib.display.IFrame at 0x1899b8ccec0>"
      ]
     },
     "metadata": {},
     "output_type": "display_data"
    }
   ],
   "source": [
    "Map.clearMap()\n",
    "Map.port = 1234\n",
    "# Specify projection to use for zonal summaries and map querying\n",
    "# Be sure to leave one of scale or transform as None\n",
    "crs= 'EPSG:4326'\n",
    "transform = None\n",
    "scale = 30\n",
    "\n",
    "\n",
    "Map.setQueryCRS(crs)\n",
    "if transform == None:\n",
    "    Map.setQueryScale(scale)\n",
    "else:\n",
    "    Map.setQueryTransform(transform)\n",
    "Map.clearMapLayers()\n",
    "\n",
    "####################################################################\n",
    "# Adapted from: https://code.earthengine.google.com/?scriptPath=users/sat-io/awesome-gee-catalog-examples:agriculture-vegetation-forestry/ESA-CCI-ABOVEGROUND-BIOMASS\n",
    "Map.clearMap()\n",
    "\n",
    "palette = [\"#C6ECAE\",\"#A1D490\",\"#7CB970\",\"#57A751\",\"#348E32\", \"#267A29\",\"#176520\",\"#0C4E15\",\"#07320D\",\"#031807\"];\n",
    "\n",
    "agb = ee.ImageCollection(\"projects/sat-io/open-datasets/ESA/ESA_CCI_AGB\")\n",
    "Map.addTimeLapse(agb,{'bands':'AGB','min':1,'max':450,'palette':palette,'legendLabelLeftAfter':'ton/ha','legendLabelRightAfter':'tons/ha','canAreaChart':True,'areaChartParams':{'crs':crs,'transform':transform,'scale':scale,'yAxisLabel':'Mean tons/ha'},'queryParams':{'yLabel':'tons/ha'}},'Aboveground Biomass')\n",
    "\n",
    "\n",
    "Map.turnOnAutoAreaCharting()\n",
    "Map.view()"
   ]
  }
 ],
 "metadata": {
  "kernelspec": {
   "display_name": "venv",
   "language": "python",
   "name": "python3"
  },
  "language_info": {
   "codemirror_mode": {
    "name": "ipython",
    "version": 3
   },
   "file_extension": ".py",
   "mimetype": "text/x-python",
   "name": "python",
   "nbconvert_exporter": "python",
   "pygments_lexer": "ipython3",
   "version": "3.13.2"
  }
 },
 "nbformat": 4,
 "nbformat_minor": 2
}
