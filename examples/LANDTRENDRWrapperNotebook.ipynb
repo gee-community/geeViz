{
  "cells": [
    {
      "attachments": {},
      "cell_type": "markdown",
      "id": "884438f5",
      "metadata": {},
      "source": [
        "# Run LandTrendr and Visualize Outputs\n",
        "\n",
        "* Creates a time series of Landsat composites, runs LandTrendr, and visualizes outputs\n",
        "* You can optionally export these outputs\n",
        "\n",
        "Copyright 2025 Ian Housman\n",
        "\n",
        "Licensed under the Apache License, Version 2.0 (the \"License\");\n",
        "you may not use this file except in compliance with the License.\n",
        "You may obtain a copy of the License at\n",
        "\n",
        "   http://www.apache.org/licenses/LICENSE-2.0\n",
        "\n",
        "Unless required by applicable law or agreed to in writing, software\n",
        "distributed under the License is distributed on an \"AS IS\" BASIS,\n",
        "WITHOUT WARRANTIES OR CONDITIONS OF ANY KIND, either express or implied.\n",
        "See the License for the specific language governing permissions and\n",
        "limitations under the License.\n",
        "\n",
        "\n",
        "\n",
        "[![github](https://img.shields.io/badge/-see%20sources-white?logo=github&labelColor=555)](https://github.com/gee-community/geeviz/blob/master/examples/LANDTRENDRWrapperNotebook.ipynb) \n",
        "[![github](https://colab.research.google.com/assets/colab-badge.svg)](https://colab.research.google.com/github/gee-community/geeViz/blob/master/examples/LANDTRENDRWrapperNotebook.ipynb)"
      ]
    },
    {
      "cell_type": "code",
      "execution_count": 1,
      "id": "26c53654",
      "metadata": {
        "scrolled": true
      },
      "outputs": [
        {
          "name": "stdout",
          "output_type": "stream",
          "text": [
            "Initializing GEE\n",
            "Successfully initialized\n",
            "done\n"
          ]
        }
      ],
      "source": [
        "#Example of how to get Landsat data using the getImagesLib, create median composites, run LandTrendr and then filter \n",
        "#LandTrendr output into usable data depicting where, when, and the magnitude of loss and gain\n",
        "####################################################################################################\n",
        "import os,sys\n",
        "sys.path.append(os.getcwd())\n",
        "\n",
        "#Module imports\n",
        "try:\n",
        "    import geeViz.getImagesLib as gil\n",
        "except:\n",
        "    !python -m pip install geeViz\n",
        "    import geeViz.getImagesLib as gil\n",
        "\n",
        "\n",
        "import geeViz.changeDetectionLib as cdl\n",
        "ee = gil.ee\n",
        "\n",
        "#Set up to mapper objects to use\n",
        "#Can use the default one first\n",
        "Map = gil.Map\n",
        "\n",
        "\n",
        "print('done')"
      ]
    },
    {
      "cell_type": "markdown",
      "id": "d9d932ff",
      "metadata": {},
      "source": [
        "* We will first take a look at the Global Forest Change output to see what LandTrendr can potentiall provide that it cannot\n",
        "* Take note how well it does with fast, abrupt changes. The Global Forest Change product does however struggle with long-term gradual changes common in the Western US"
      ]
    },
    {
      "cell_type": "code",
      "execution_count": 4,
      "id": "b09edad2",
      "metadata": {
        "scrolled": false
      },
      "outputs": [
        {
          "name": "stdout",
          "output_type": "stream",
          "text": [
            "Adding layer: Hansen Loss Year\n",
            "Starting webmap\n",
            "Using default refresh token for geeView\n",
            "Local web server at: http://localhost:1231/geeView/ already serving.\n",
            "cwd a:\\GEE\\gee_py_modules_package\\geeViz\\examples\n",
            "geeView URL: http://localhost:1231/geeView/?projectID=nlcd-tcc&accessToken=ya29.a0AeXRPp5QMy-DIsVjbb2NStjqAPKpsV_eQMJk6wpi7Ngvo-co2338OIP-IedaCoRPPeCIMZJfdAcoAYlkam_ydkkryoC1l-PuuogLeJ5_JfxfGsMNMxdMLVMkShQ-tZWPrC-gCkLq6BN1G-lSkcnpcmKtnuF_wgOU4idP4HwkBTUaCgYKAWwSARESFQHGX2Mi0b17bTJPlPc0L7VEu0Kn2g0178&accessTokenCreationTime=1741205464270\n"
          ]
        },
        {
          "data": {
            "text/html": [
              "\n",
              "        <iframe\n",
              "            width=\"100%\"\n",
              "            height=\"525px\"\n",
              "            src=\"http://localhost:1231/geeView/?projectID=nlcd-tcc&accessToken=ya29.a0AeXRPp5QMy-DIsVjbb2NStjqAPKpsV_eQMJk6wpi7Ngvo-co2338OIP-IedaCoRPPeCIMZJfdAcoAYlkam_ydkkryoC1l-PuuogLeJ5_JfxfGsMNMxdMLVMkShQ-tZWPrC-gCkLq6BN1G-lSkcnpcmKtnuF_wgOU4idP4HwkBTUaCgYKAWwSARESFQHGX2Mi0b17bTJPlPc0L7VEu0Kn2g0178&accessTokenCreationTime=1741205464270\"\n",
              "            frameborder=\"0\"\n",
              "            allowfullscreen\n",
              "            \n",
              "        ></iframe>\n",
              "        "
            ],
            "text/plain": [
              "<IPython.lib.display.IFrame at 0x1701165e010>"
            ]
          },
          "metadata": {},
          "output_type": "display_data"
        }
      ],
      "source": [
        "####################################################################################################\n",
        "#Start function calls\n",
        "####################################################################################################\n",
        "#First, let's look at the Hansen Global Forest Change output\n",
        "#This is a great product to get an idea of where loss has occurred \n",
        "Map.port = 1231\n",
        "#First clear the map in case it has been populated with layers/commands earlier\n",
        "Map.clearMap()\n",
        "\n",
        "hansenStartYear = 2001\n",
        "hansenEndYear = 2023\n",
        "\n",
        "#Bring in Hansen data and add it to the map\n",
        "hansen = ee.Image(\"UMD/hansen/global_forest_change_2023_v1_11\").select(['lossyear']).add(2000).int16()\n",
        "hansen = hansen.updateMask(hansen.neq(2000).And(hansen.gte(hansenStartYear)).And(hansen.lte(hansenEndYear)))\n",
        "Map.addLayer(hansen,{'min':hansenStartYear,'max':hansenEndYear,'palette':cdl.lossYearPalette},'Hansen Loss Year',True)\n",
        "\n",
        "#Bring in map\n",
        "Map.turnOnInspector()\n",
        "Map.centerObject(studyArea)\n",
        "Map.view()\n"
      ]
    },
    {
      "cell_type": "markdown",
      "id": "662040f8",
      "metadata": {},
      "source": [
        "## Create Annual Median Composites\n",
        "\n",
        "* LandTrendr is intended to be run with an annual time series\n",
        "* We will first create median composites for a range of years\n",
        "\n",
        "### Set up parameters\n",
        "* Below, we will provide a number of parameters for creating composites\n",
        "* We will just use the default Landsat image processing parameters. To learn how to improve the quality of composites, see the [getLandsatWrapperNotebook.ipynb](getLandsatWrapperNotebook.ipynb)"
      ]
    },
    {
      "cell_type": "code",
      "execution_count": 2,
      "id": "62534162",
      "metadata": {
        "scrolled": true
      },
      "outputs": [],
      "source": [
        "# Define user parameters:\n",
        "\n",
        "# Specify study area: Study area\n",
        "# Can be a featureCollection, feature, or geometry\n",
        "studyArea = gil.testAreas['CA']\n",
        "\n",
        "# Update the startJulian and endJulian variables to indicate your seasonal \n",
        "# constraints. This supports wrapping for tropics and southern hemisphere.\n",
        "# If using wrapping and the majority of the days occur in the second year, the system:time_start will default \n",
        "# to June 1 of that year.Otherwise, all system:time_starts will default to June 1 of the given year\n",
        "# startJulian: Starting Julian date \n",
        "# endJulian: Ending Julian date\n",
        "startJulian = 152\n",
        "endJulian = 273\n",
        "\n",
        "# Specify start and end years for all analyses\n",
        "# More than a 3 year span should be provided for time series methods to work \n",
        "# well. If using Fmask as the cloud/cloud shadow masking method, or providing\n",
        "# pre-computed stats for cloudScore and TDOM, this does not \n",
        "# matter\n",
        "startYear = 1990  \n",
        "endYear = 2024\n",
        "\n"
      ]
    },
    {
      "cell_type": "markdown",
      "id": "c1fb9823",
      "metadata": {},
      "source": [
        "### Create Composites\n",
        "\n",
        "* Now we have some basic parameters defined, we will create  simple annual median composites\n",
        "* This method will only use the Fmask cloud and cloud shadow masking methods. To learn how to improve the quality of composites, see the [getLandsatWrapperNotebook.ipynb](getLandsatWrapperNotebook.ipynb)\n",
        "* We can visualize and inspect the composites in the Viewer. \n",
        "* Note: layer drawing and querying can be slow since all computation is being performed in GEE on-th-fly."
      ]
    },
    {
      "cell_type": "code",
      "execution_count": 4,
      "id": "8a49bd8c",
      "metadata": {
        "scrolled": true
      },
      "outputs": [
        {
          "name": "stdout",
          "output_type": "stream",
          "text": [
            "Get Processed Landsat: \n",
            "Start date: Jun 01 1990 , End date: Sep 29 2024\n",
            "Applying scale factors for C2 L4 data\n",
            "Applying scale factors for C2 L5 data\n",
            "Applying scale factors for C2 L8 data\n",
            "Only including SLC On Landsat 7\n",
            "Applying scale factors for C2 L7 data\n",
            "Applying scale factors for C2 L9 data\n",
            "Applying Fmask Cloud Mask\n",
            "Applying Fmask Shadow Mask\n",
            "Adding layer: Composite Time Series\n",
            "Starting webmap\n",
            "Using default refresh token for geeView\n",
            "Local web server at: http://localhost:8001/geeView/ already serving.\n",
            "cwd a:\\GEE\\gee_py_modules_package\\geeViz\\examples\n",
            "geeView URL: http://localhost:8001/geeView/?projectID=nlcd-tcc&accessToken=ya29.a0AeXRPp7XJBwco-XNr51PHM9PTl6ZFfJ-_dFI603HWNNZo3ivF9aWUhuw7lUAbS-Rro_YRnOxNt5y5a7I_cNpNWZwqFVJ4toS0OlC5brL56BXEa6K-7kD00njQtieIRBVDr8iOc-vTYl3UBXDHVgnTz-3X7K1CDebCB7zMGTUYX0aCgYKAaMSARESFQHGX2Mipura1U-rfBoTfqfO-gPzWw0178&accessTokenCreationTime=1741205796978\n"
          ]
        },
        {
          "data": {
            "text/html": [
              "\n",
              "        <iframe\n",
              "            width=\"100%\"\n",
              "            height=\"525px\"\n",
              "            src=\"http://localhost:8001/geeView/?projectID=nlcd-tcc&accessToken=ya29.a0AeXRPp7XJBwco-XNr51PHM9PTl6ZFfJ-_dFI603HWNNZo3ivF9aWUhuw7lUAbS-Rro_YRnOxNt5y5a7I_cNpNWZwqFVJ4toS0OlC5brL56BXEa6K-7kD00njQtieIRBVDr8iOc-vTYl3UBXDHVgnTz-3X7K1CDebCB7zMGTUYX0aCgYKAaMSARESFQHGX2Mipura1U-rfBoTfqfO-gPzWw0178&accessTokenCreationTime=1741205796978\"\n",
              "            frameborder=\"0\"\n",
              "            allowfullscreen\n",
              "            \n",
              "        ></iframe>\n",
              "        "
            ],
            "text/plain": [
              "<IPython.lib.display.IFrame at 0x1942552a510>"
            ]
          },
          "metadata": {},
          "output_type": "display_data"
        }
      ],
      "source": [
        "####################################################################################################\n",
        "#Clear the map in case it has been populated with layers/commands earlier\n",
        "Map.clearMap()\n",
        "\n",
        "#Get images and then create median composites\n",
        "allImages = gil.getProcessedLandsatScenes(studyArea,startYear,endYear,startJulian,endJulian)\n",
        "dummyImage = allImages.first()\n",
        "composites = ee.ImageCollection(ee.List.sequence(startYear,endYear)\n",
        "                                .map(lambda yr: \n",
        "                                     gil.fillEmptyCollections(\n",
        "                                         allImages.filter(ee.Filter.calendarRange(yr,yr,'year')),\n",
        "                                         dummyImage)\n",
        "                                     .median()\n",
        "                                     .set('system:time_start',ee.Date.fromYMD(yr,6,1).millis())\n",
        "                                    ))\n",
        "Map.addTimeLapse(composites,gil.vizParamsFalse,'Composite Time Series')\n",
        "\n",
        "\n",
        "#Bring in map\n",
        "Map.centerObject(studyArea)\n",
        "Map.turnOnInspector()\n",
        "Map.view()"
      ]
    },
    {
      "cell_type": "markdown",
      "id": "8802ab19",
      "metadata": {},
      "source": [
        "## Run LandTrendr\n",
        "\n",
        "### Set up LandTrendr Parameters\n",
        "\n",
        "* [LandTrendr](https://developers.google.com/earth-engine/apidocs/ee-algorithms-temporalsegmentation-landtrendr) has many parameters\n",
        "* We will set a few below. There are some additional parameters used by geeViz to help facilitate running and post-processing LandTrendr outputs to make them easier to use."
      ]
    },
    {
      "cell_type": "code",
      "execution_count": 5,
      "id": "23ae0ca5",
      "metadata": {},
      "outputs": [
        {
          "name": "stdout",
          "output_type": "stream",
          "text": [
            "Done\n"
          ]
        }
      ],
      "source": [
        "\n",
        "\n",
        "# Choose band or index\n",
        "# NBR, NDMI, and NDVI tend to work best\n",
        "# Other good options are wetness and tcAngleBG\n",
        "indexName = 'NBR'\n",
        "\n",
        "# How many significant loss and/or gain segments to include\n",
        "# Do not make less than 1\n",
        "# If you only want the first loss and/or gain, choose 1\n",
        "# Generally any past 2 are noise\n",
        "howManyToPull = 1\n",
        "\n",
        "# Parameters to identify suitable LANDTRENDR segments\n",
        "\n",
        "# Thresholds to identify loss in vegetation\n",
        "# Any segment that has a change magnitude or slope less than both of these thresholds is omitted\n",
        "lossMagThresh = -0.15\n",
        "lossSlopeThresh = -0.05\n",
        "\n",
        "\n",
        "# Thresholds to identify gain in vegetation\n",
        "# Any segment that has a change magnitude or slope greater than both of these thresholds is omitted\n",
        "gainMagThresh = 0.1\n",
        "gainSlopeThresh = 0.05\n",
        "\n",
        "slowLossDurationThresh = 3\n",
        "\n",
        "# Choose from: 'newest','oldest','largest','smallest','steepest','mostGradual','shortest','longest'\n",
        "chooseWhichLoss = 'largest'\n",
        "chooseWhichGain = 'largest'\n",
        "\n",
        "# LandTrendr Params\n",
        "# run_params ={\n",
        "#   'timeSeries': (ImageCollection) Yearly time-series from which to extract breakpoints. The first band is used to find breakpoints, and all subsequent bands are fitted using those breakpoints.\n",
        "#   'maxSegments':            6,\\ (Integer) Maximum number of segments to be fitted on the time series.\n",
        "#   'spikeThreshold':         0.9,\\ (Float, default: 0.9) Threshold for damping the spikes (1.0 means no damping).\n",
        "#   'vertexCountOvershoot':   3,\\(Integer, default: 3) The initial model can overshoot the maxSegments + 1 vertices by this amount. Later, it will be pruned down to maxSegments + 1.\n",
        "#   'preventOneYearRecovery': False,\\(Boolean, default: False): Prevent segments that represent one year recoveries.\n",
        "#   'recoveryThreshold':      0.25,\\(Float, default: 0.25) If a segment has a recovery rate faster than 1/recoveryThreshold (in years), then the segment is disallowed.\n",
        "#   'pvalThreshold':          0.05,\\(Float, default: 0.1) If the p-value of the fitted model exceeds this threshold, then the current model is discarded and another one is fitted using the Levenberg-Marquardt optimizer.\n",
        "#   'bestModelProportion':    0.75,\\(Float, default: 0.75) Allows models with more vertices to be chosen if their p-value is no more than (2 - bestModelProportion) times the p-value of the best model.\n",
        "#   'minObservationsNeeded':  6\\(Integer, default: 6) Min observations needed to perform output fitting.\n",
        "# };\n",
        "\n",
        "# Define landtrendr params\n",
        "run_params = { \\\n",
        "  'maxSegments':            6,\\\n",
        "  'spikeThreshold':         0.9,\\\n",
        "  'vertexCountOvershoot':   3,\\\n",
        "  'preventOneYearRecovery': False,\\\n",
        "  'recoveryThreshold':      0.25,\\\n",
        "  'pvalThreshold':          0.05,\\\n",
        "  'bestModelProportion':    0.75,\\\n",
        "  'minObservationsNeeded':  6\\\n",
        "}\n",
        "\n",
        "# Whether to add change outputs to map\n",
        "addToMap = True\n",
        "\n",
        "# Export params\n",
        "# Whether to export LANDTRENDR change detection (loss and gain) outputs\n",
        "exportLTLossGain = False\n",
        "\n",
        "# Whether to export LandTrendr vertex array raw output\n",
        "exportLTVertexArray = False\n",
        "\n",
        "# Set up Names for the export\n",
        "outputName = 'LT_Test'\n",
        "\n",
        "# Provide location composites will be exported to\n",
        "# This should be an asset imageCollection\n",
        "exportPathRoot = 'users/username/someCollection'\n",
        "\n",
        "# CRS- must be provided.  \n",
        "# Common crs codes: Web mercator is EPSG:4326, USGS Albers is EPSG:5070, \n",
        "# WGS84 UTM N hemisphere is EPSG:326+ zone number (zone 12 N would be EPSG:32612) and S hemisphere is EPSG:327+ zone number\n",
        "crs = 'EPSG:5070'\n",
        "\n",
        "# Specify transform if scale is None and snapping to known grid is needed\n",
        "transform = [30,0,-2361915.0,0,-30,3177735.0]\n",
        "\n",
        "# Specify scale if transform is None\n",
        "scale = None\n",
        "####################################################################################################\n",
        "#End user parameters\n",
        "####################################################################################################\n",
        "print('Done')"
      ]
    },
    {
      "cell_type": "markdown",
      "id": "1a6cc598",
      "metadata": {},
      "source": [
        "### Run LandTrendr\n",
        "\n",
        "* This will run LandTrendr using the median annual composites we created above. \n",
        "* It will then post-process the output to provide a year of the largest vegetation cover loss, gain, along with the magnitude and duration of any loss or gain. \n",
        "* You can inspect any of these layers. To see the classic raw vs LandTrendr fitted output, make sure the \"Raw and Fitted Time Series\" is turned on.\n",
        "* Note: layer drawing and querying can be slow since all computation is being performed in GEE on-th-fly. "
      ]
    },
    {
      "cell_type": "code",
      "execution_count": 6,
      "id": "149fca54",
      "metadata": {
        "scrolled": false
      },
      "outputs": [
        {
          "name": "stdout",
          "output_type": "stream",
          "text": [
            "Converting LandTrendr from array output to Gain & Loss\n",
            "Adding layer: Raw and Fitted Time Series\n",
            "Adding layer: LandTrendr NBR Loss Year\n",
            "Adding layer: LandTrendr NBR Loss Magnitude\n",
            "Adding layer: LandTrendr NBR Loss Duration\n",
            "Adding layer: LandTrendr NBR Gain Year\n",
            "Adding layer: LandTrendr NBR Gain Magnitude\n",
            "Adding layer: LandTrendr NBR Gain Duration\n",
            "Adding layer: Study Area\n",
            "Starting webmap\n",
            "Using default refresh token for geeView\n",
            "Local web server at: http://localhost:8001/geeView/ already serving.\n",
            "cwd a:\\GEE\\gee_py_modules_package\\geeViz\\examples\n",
            "geeView URL: http://localhost:8001/geeView/?projectID=nlcd-tcc&accessToken=ya29.a0AeXRPp7suyHEbMSG-0bO3LZtluvzk2xzW7J9maTpsDkhf-GYzSat6li0aWSCZGvthd86O42PNTM_3R-pfnQcqRgMscf99gyRI06OX-2dnQVFodYWz4BoJJqehLaSX7BzOuRAnpN85GQu98op07QhF5X5VkeIdjm-TmpOidQ32H8aCgYKAccSARESFQHGX2MiXSBld9eDW4-PCObpUmjrxA0178&accessTokenCreationTime=1741206123836\n"
          ]
        },
        {
          "data": {
            "text/html": [
              "\n",
              "        <iframe\n",
              "            width=\"100%\"\n",
              "            height=\"525px\"\n",
              "            src=\"http://localhost:8001/geeView/?projectID=nlcd-tcc&accessToken=ya29.a0AeXRPp7suyHEbMSG-0bO3LZtluvzk2xzW7J9maTpsDkhf-GYzSat6li0aWSCZGvthd86O42PNTM_3R-pfnQcqRgMscf99gyRI06OX-2dnQVFodYWz4BoJJqehLaSX7BzOuRAnpN85GQu98op07QhF5X5VkeIdjm-TmpOidQ32H8aCgYKAccSARESFQHGX2MiXSBld9eDW4-PCObpUmjrxA0178&accessTokenCreationTime=1741206123836\"\n",
              "            frameborder=\"0\"\n",
              "            allowfullscreen\n",
              "            \n",
              "        ></iframe>\n",
              "        "
            ],
            "text/plain": [
              "<IPython.lib.display.IFrame at 0x19426af7450>"
            ]
          },
          "metadata": {},
          "output_type": "display_data"
        }
      ],
      "source": [
        "#Clear the map in case it has been populated with layers/commands earlier\n",
        "Map.clearMap()\n",
        "# Important that the range of data values of the composites match the run_params spikeThreshold and recoveryThreshold\n",
        "# e.g. Reflectance bands that have a scale of 0-1 should have a spikeThreshold around 0.9\n",
        "# and a recoveryThreshold around 0.25\n",
        "# If the reflectance values were scaled by 10000, the spikeThreshold would be around 9000 \n",
        "# and a recoveryThreshold around 2500\n",
        "#Run LANDTRENDR\n",
        "ltOutputs = cdl.simpleLANDTRENDR(composites,startYear,endYear,indexName, run_params,lossMagThresh,lossSlopeThresh,\\\n",
        "                                                gainMagThresh,gainSlopeThresh,slowLossDurationThresh,chooseWhichLoss,\\\n",
        "                                                chooseWhichGain,addToMap,howManyToPull)\n",
        "\n",
        "#Bring in map\n",
        "Map.turnOnInspector()\n",
        "Map.centerObject(studyArea)\n",
        "Map.addLayer(studyArea, {'strokeColor': '0000FF'}, \"Study Area\", False)\n",
        "Map.view()"
      ]
    },
    {
      "cell_type": "markdown",
      "id": "b7c02ed3",
      "metadata": {},
      "source": [
        "## Exporting\n",
        "\n",
        "* Outputs can be exported to an asset for future use.\n",
        "* You can export the post-processed loss and gain change detection output for simple change detection needs and/or the raw LandTrendr output for use in more complex custom workflows such as use in machine learning."
      ]
    },
    {
      "cell_type": "code",
      "execution_count": 7,
      "id": "42a90a6b",
      "metadata": {},
      "outputs": [],
      "source": [
        "# Export outputs if selected\n",
        "if exportLTLossGain:\n",
        "  lossGainStack = ltOutputs[1]\n",
        "  #Export  stack\n",
        "  exportName = f'{outputName}_LT_LossGain_Stack_{indexName}_{startYear}_{endYear}_{startJulian}_{endJulian}'\n",
        "  exportPath = exportPathRoot + '/'+ exportName\n",
        "\n",
        "  lossGainStack = lossGainStack.set({'startYear':startYear,\n",
        "                                        'endYear':endYear,\n",
        "                                        'startJulian':startJulian,\n",
        "                                        'endJulian':endJulian,\n",
        "                                        'band':indexName})\n",
        "  lossGainStack =lossGainStack.set(run_params)\n",
        "  \n",
        "  #Set up proper resampling for each band\n",
        "  #Be sure to change if the band names for the exported image change\n",
        "  pyrObj = {'_yr_':'mode','_dur_':'mode','_mag_':'mean','_slope_':'mean'}\n",
        "  possible = ['loss','gain']\n",
        "  how_many_list = ee.List.sequence(1,howManyToPull).getInfo()\n",
        "  outObj = {}\n",
        "  for p in possible:\n",
        "    for key in pyrObj.keys():\n",
        "      for i in how_many_list:\n",
        "        i = int(i)\n",
        "        kt = indexName + '_LT_'+p + key+str(i)\n",
        "        outObj[kt]= pyrObj[key]\n",
        "\n",
        "  # print(outObj)\n",
        "  # Export output\n",
        "  gil.exportToAssetWrapper(lossGainStack,exportName,exportPath,outObj,studyArea,scale,crs,transform)\n",
        "\n",
        "\n",
        "# Export raw LandTrendr array image\n",
        "if exportLTVertexArray:\n",
        "  rawLTForExport = ltOutputs[0]\n",
        "  # Map.addLayer(rawLTForExport,{},'Raw LT For Export {}'.format(indexName),False)\n",
        "  \n",
        "  rawLTForExport = rawLTForExport.set({'startYear':startYear,\n",
        "                                        'endYear':endYear,\n",
        "                                        'startJulian':startJulian,\n",
        "                                        'endJulian':endJulian,\n",
        "                                        'band':indexName})\n",
        "  rawLTForExport =rawLTForExport.set(run_params)\n",
        "  exportName = '{}_LT_Raw_{}_{}_{}_{}_{}'.format(outputName,indexName,startYear,endYear,startJulian,endJulian)\n",
        "  exportPath = exportPathRoot + '/'+ exportName\n",
        "  gil.exportToAssetWrapper(rawLTForExport,exportName,exportPath,{'.default':'sample'},studyArea,scale,crs,transform)\n",
        "  "
      ]
    }
  ],
  "metadata": {
    "kernelspec": {
      "display_name": "Python 3",
      "language": "python",
      "name": "python3"
    },
    "language_info": {
      "codemirror_mode": {
        "name": "ipython",
        "version": 3
      },
      "file_extension": ".py",
      "mimetype": "text/x-python",
      "name": "python",
      "nbconvert_exporter": "python",
      "pygments_lexer": "ipython3",
      "version": "3.11.4"
    }
  },
  "nbformat": 4,
  "nbformat_minor": 5
}
