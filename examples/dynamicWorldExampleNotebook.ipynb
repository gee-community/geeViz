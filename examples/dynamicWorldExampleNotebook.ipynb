{
 "cells": [
  {
   "cell_type": "markdown",
   "metadata": {},
   "source": [
    "# Visualizing Dynamic World\n",
    "\n",
    "* Dynamic World data provide a global near-real time monitoring solution for land cover and land use change\n",
    "* Each Sentinel-2 image tile has a corresponding output\n",
    "* This notebook will run through how to utilize geeViz to visualize and summarize Dynamic World data \n",
    "\n",
    "\n",
    "\n",
    "Copyright 2024 Ian Housman\n",
    "\n",
    "Licensed under the Apache License, Version 2.0 (the \"License\");\n",
    "you may not use this file except in compliance with the License.\n",
    "You may obtain a copy of the License at\n",
    "\n",
    "   http://www.apache.org/licenses/LICENSE-2.0\n",
    "\n",
    "Unless required by applicable law or agreed to in writing, software\n",
    "distributed under the License is distributed on an \"AS IS\" BASIS,\n",
    "WITHOUT WARRANTIES OR CONDITIONS OF ANY KIND, either express or implied.\n",
    "See the License for the specific language governing permissions and\n",
    "limitations under the License.\n",
    "\n",
    "[![github](https://img.shields.io/badge/-see%20sources-white?logo=github&labelColor=555)](https://github.com/gee-community/geeviz/blob/master/examples/dynamicWorldExampleNotebook.ipynb) \n",
    "[![github](https://colab.research.google.com/assets/colab-badge.svg)](https://colab.research.google.com/github/gee-community/geeViz/blob/master/examples/dynamicWorldExampleNotebook.ipynb)"
   ]
  },
  {
   "cell_type": "code",
   "execution_count": 1,
   "metadata": {},
   "outputs": [
    {
     "name": "stdout",
     "output_type": "stream",
     "text": [
      "Initializing GEE\n",
      "Cached project id file path: C:\\Users\\ihousman\\.config\\earthengine\\credentials.proj_id\n",
      "Cached project id: lcms-292214\n",
      "Successfully initialized\n",
      "geeViz package folder: c:\\Users\\ihousman\\AppData\\Local\\Programs\\Python\\Python311\\Lib\\site-packages\\geeViz\n",
      "done\n"
     ]
    }
   ],
   "source": [
    "try:\n",
    "    import  geeViz.geeView as geeView\n",
    "except:\n",
    "    !python -m pip install geeViz\n",
    "    import  geeViz.geeView as geeView\n",
    "\n",
    "ee = geeView.ee\n",
    "Map = geeView.Map\n",
    "\n",
    "Map.port = 1234\n",
    "print('done')"
   ]
  },
  {
   "cell_type": "markdown",
   "metadata": {},
   "source": [
    "## Make a basic viewer\n",
    "\n",
    "* First, we'll adapt the example script to use geeViz\n",
    "* Adapted from: https://code.earthengine.google.com/?scriptPath=Examples%3ADatasets%2FGOOGLE%2FGOOGLE_DYNAMICWORLD_V1"
   ]
  },
  {
   "cell_type": "code",
   "execution_count": 2,
   "metadata": {},
   "outputs": [
    {
     "name": "stderr",
     "output_type": "stream",
     "text": [
      "c:\\Users\\ihousman\\AppData\\Local\\Programs\\Python\\Python311\\Lib\\site-packages\\ee\\deprecation.py:207: DeprecationWarning: \n",
      "\n",
      "Attention required for COPERNICUS/S2! You are using a deprecated asset.\n",
      "To ensure continued functionality, please update it.\n",
      "Learn more: https://developers.google.com/earth-engine/datasets/catalog/COPERNICUS_S2\n",
      "\n",
      "  warnings.warn(warning, category=DeprecationWarning)\n"
     ]
    },
    {
     "name": "stdout",
     "output_type": "stream",
     "text": [
      "Adding layer: Sentinel-2 L1C\n",
      "Adding layer: Dynamic World V1 - label hillshade\n",
      "Starting webmap\n",
      "Using default refresh token for geeView\n",
      "Starting local web server at: http://localhost:1234/geeView/\n",
      "HTTP server command: \"c:\\Users\\ihousman\\AppData\\Local\\Programs\\Python\\Python311\\python.exe\" -m http.server  1234\n",
      "Done\n",
      "cwd a:\\GEE\\gee_py_modules_package\\geeViz\\examples\n",
      "geeView URL: http://localhost:1234/geeView/?projectID=lcms-292214&accessToken=ya29.a0AcM612yGCqy4-XqRhQqvY_FFaYjrnoQatPaJ93ai0qIqeAtYt_yKOa0_PpRTbgMjzSmUyCEDWYS-gLn4UNL5NmPWwC1KgxJGVhOfj0FTG-s5FEnuukGbvLRYZVH1lMJsFYiIMhaKb9PgfcAwbxVxFjs8l_fuccsBd75lQBepoQMaCgYKAasSARESFQHGX2Mi1F_7ZzfGG7VXwGv70He2qQ0178\n"
     ]
    },
    {
     "data": {
      "text/html": [
       "\n",
       "        <iframe\n",
       "            width=\"100%\"\n",
       "            height=\"525px\"\n",
       "            src=\"http://localhost:1234/geeView/?projectID=lcms-292214&accessToken=ya29.a0AcM612yGCqy4-XqRhQqvY_FFaYjrnoQatPaJ93ai0qIqeAtYt_yKOa0_PpRTbgMjzSmUyCEDWYS-gLn4UNL5NmPWwC1KgxJGVhOfj0FTG-s5FEnuukGbvLRYZVH1lMJsFYiIMhaKb9PgfcAwbxVxFjs8l_fuccsBd75lQBepoQMaCgYKAasSARESFQHGX2Mi1F_7ZzfGG7VXwGv70He2qQ0178\"\n",
       "            frameborder=\"0\"\n",
       "            allowfullscreen\n",
       "            \n",
       "        ></iframe>\n",
       "        "
      ],
      "text/plain": [
       "<IPython.lib.display.IFrame at 0x1ededc4f150>"
      ]
     },
     "metadata": {},
     "output_type": "display_data"
    }
   ],
   "source": [
    "Map.clearMapLayers()\n",
    "\n",
    "\n",
    "# Construct a collection of corresponding Dynamic World and Sentinel-2 for\n",
    "# inspection. Filter the DW and S2 collections by region and date.\n",
    "START = ee.Date('2021-04-02')\n",
    "END = START.advance(1, 'day')\n",
    "\n",
    "colFilter = ee.Filter.And(\n",
    "    ee.Filter.bounds(ee.Geometry.Point(20.6729, 52.4305)),\n",
    "    ee.Filter.date(START, END))\n",
    "\n",
    "dwCol = ee.ImageCollection('GOOGLE/DYNAMICWORLD/V1').filter(colFilter)\n",
    "s2Col = ee.ImageCollection('COPERNICUS/S2').filter(colFilter)\n",
    "\n",
    "# Join corresponding DW and S2 images (by system:index).\n",
    "DwS2Col = ee.Join.saveFirst('s2_img').apply(dwCol, s2Col,\n",
    "    ee.Filter.equals(**{'leftField': 'system:index', 'rightField': 'system:index'}))\n",
    "\n",
    "# Extract an example DW image and its source S2 image.\n",
    "dwImage = ee.Image(DwS2Col.first())\n",
    "s2Image = ee.Image(dwImage.get('s2_img'))\n",
    "\n",
    "# Create a visualization that blends DW class label with probability.\n",
    "# Define list pairs of DW LULC label and color.\n",
    "CLASS_NAMES = [\n",
    "    'water', 'trees', 'grass', 'flooded_vegetation', 'crops',\n",
    "    'shrub_and_scrub', 'built', 'bare', 'snow_and_ice']\n",
    "\n",
    "VIS_PALETTE = [\n",
    "    '419bdf', '397d49', '88b053', '7a87c6', 'e49635', 'dfc35a', 'c4281b',\n",
    "    'a59b8f', 'b39fe1']\n",
    "\n",
    "# Create an RGB image of the label (most likely class) on [0, 1].\n",
    "dwRgb = dwImage.select('label').visualize(**{'min': 0, 'max': 8, 'palette': VIS_PALETTE}).divide(255)\n",
    "\n",
    "# Get the most likely class probability.\n",
    "top1Prob = dwImage.select(CLASS_NAMES).reduce(ee.Reducer.max())\n",
    "\n",
    "# Create a hillshade of the most likely class probability on [0, 1];\n",
    "top1ProbHillshade =ee.Terrain.hillshade(top1Prob.multiply(100)).divide(255)\n",
    "\n",
    "# Combine the RGB image with the hillshade.\n",
    "dwRgbHillshade = dwRgb.multiply(top1ProbHillshade);\n",
    "\n",
    "# Display the Dynamic World visualization with the source Sentinel-2 image.\n",
    "Map.setCenter(20.6729, 52.4305, 12)\n",
    "Map.addLayer(\n",
    "    s2Image, {'min': 0, 'max': 3000, 'bands': ['B4', 'B3', 'B2']}, 'Sentinel-2 L1C');\n",
    "Map.addLayer(\n",
    "    dwRgbHillshade, {'min': 0, 'max': 0.65}, 'Dynamic World V1 - label hillshade');\n",
    "\n",
    "Map.turnOnInspector()\n",
    "Map.view()"
   ]
  },
  {
   "cell_type": "markdown",
   "metadata": {},
   "source": [
    "## Visualizing Dynamic World over time\n",
    "\n",
    "* Next, we'll visualize Dynamic World as a seasonal time lapse and summarize zonal stats\n",
    "* geeViz streamlines calculating and exporting statistics \n",
    "* Once the map loads, you can use the `TOOLS` under `Area Tools` to generate charts\n",
    "* Charts can be downloaded as a PNG and the underlying data can be downloaded as a CSV\n",
    "* This example can take some time to load"
   ]
  },
  {
   "cell_type": "code",
   "execution_count": 14,
   "metadata": {},
   "outputs": [
    {
     "name": "stdout",
     "output_type": "stream",
     "text": [
      "Adding layer: Dynamic World Time-Lapse\n",
      "Starting webmap\n",
      "Using default refresh token for geeView\n",
      "Local web server at: http://localhost:1234/geeView/ already serving.\n",
      "cwd a:\\GEE\\gee_py_modules_package\\geeViz\\examples\n",
      "geeView URL: http://localhost:1234/geeView/?projectID=lcms-292214&accessToken=ya29.a0AcM612xqiGDcaycnSbAGRNruGn9HQEonDtnU8NC3ZU-4c11MRNqY2FyDVexAiOkUoJQFvOJuby2EDrQ3pYSCW9ABfTJypYe2uqcpNuz2V1zBRQnGPAy1X8gyUlhIOb8lOzeIjAhAV7AL9MHYCQHFCJKJ38TTUd7iOMm3b4YXGjEaCgYKASgSARESFQHGX2MixCTtvcDehFDfDtuskh4RcA0178\n"
     ]
    },
    {
     "data": {
      "text/html": [
       "\n",
       "        <iframe\n",
       "            width=\"100%\"\n",
       "            height=\"525px\"\n",
       "            src=\"http://localhost:1234/geeView/?projectID=lcms-292214&accessToken=ya29.a0AcM612xqiGDcaycnSbAGRNruGn9HQEonDtnU8NC3ZU-4c11MRNqY2FyDVexAiOkUoJQFvOJuby2EDrQ3pYSCW9ABfTJypYe2uqcpNuz2V1zBRQnGPAy1X8gyUlhIOb8lOzeIjAhAV7AL9MHYCQHFCJKJ38TTUd7iOMm3b4YXGjEaCgYKASgSARESFQHGX2MixCTtvcDehFDfDtuskh4RcA0178\"\n",
       "            frameborder=\"0\"\n",
       "            allowfullscreen\n",
       "            \n",
       "        ></iframe>\n",
       "        "
      ],
      "text/plain": [
       "<IPython.lib.display.IFrame at 0x1edf0c44b90>"
      ]
     },
     "metadata": {},
     "output_type": "display_data"
    }
   ],
   "source": [
    "Map.clearMap()\n",
    "\n",
    "Map.turnOffLayersWhenTimeLapseIsOn = False # Set this to False to avoid layers automatically turning off when a time lapse is turned on\n",
    "\n",
    "class_band_name = 'label'\n",
    "\n",
    "# Specify where to visualize\n",
    "study_area = ee.Geometry.Polygon(\n",
    "        [[[4.9269985485747725, 61.11936200243072],\n",
    "          [4.9269985485747725, 60.187959630772305],\n",
    "          [7.2561001110747725, 60.187959630772305],\n",
    "          [7.2561001110747725, 61.11936200243072]]], None, False)\n",
    "\n",
    "# Which years to include\n",
    "startYear = 2018\n",
    "endYear = 2023\n",
    "\n",
    "# Number of months to include in each frame of the time lapse\n",
    "nMonths = 3\n",
    "\n",
    "# Provide visualization info\n",
    "viz_dict = {f'{class_band_name}_class_names': [\n",
    "    'water', 'trees', 'grass', 'flooded_vegetation', 'crops',\n",
    "    'shrub_and_scrub', 'built', 'bare', 'snow_and_ice'],\n",
    "f'{class_band_name}_class_palette': [\n",
    "    '419bdf', '397d49', '88b053', '7a87c6', 'e49635', 'dfc35a', 'c4281b',\n",
    "    'a59b8f', 'b39fe1'],\n",
    "    f'{class_band_name}_class_values':list(range(0,9))\n",
    "}\n",
    "\n",
    "# Get DW\n",
    "dwCol = ee.ImageCollection('GOOGLE/DYNAMICWORLD/V1')\\\n",
    "        .filterBounds(study_area)\\\n",
    "        .filter(ee.Filter.calendarRange(startYear,endYear,'year'))\\\n",
    "        .select([class_band_name])\n",
    "\n",
    "# Pull projection for area charting\n",
    "proj = dwCol.first().projection().getInfo()\n",
    "crs = proj['crs']\n",
    "transform = proj['transform']\n",
    "\n",
    "# Create seasonal mode composites\n",
    "def getMonths(imgs,yr,startMonth):\n",
    "    startMonth = ee.Number(startMonth)\n",
    "    endMonth = startMonth.add(nMonths).subtract(1)\n",
    "    date = ee.Date.fromYMD(yr,startMonth,1)\n",
    "    dateString = date.format('YYYY-MM')\n",
    "    return imgs.filter(ee.Filter.calendarRange(startMonth,endMonth,'month'))\\\n",
    "        .mode().set(viz_dict).set({'system:time_start':date.millis(),'dateString':dateString})\n",
    "def getYr(yr):\n",
    "    yrImgs = dwCol.filter(ee.Filter.calendarRange(yr,yr,'year'))\n",
    "    return ee.FeatureCollection(ee.List.sequence(1,12-nMonths+1,nMonths).map(lambda m:getMonths(yrImgs,yr,m)))\n",
    "    \n",
    "# Apply above functions\n",
    "dwCompSeasonal = ee.FeatureCollection(ee.List.sequence(startYear,endYear).map(getYr)).flatten()\n",
    "dwCompSeasonal = ee.ImageCollection(dwCompSeasonal)\n",
    "dates = dwCompSeasonal.aggregate_histogram('dateString').keys().getInfo()\n",
    "\n",
    "# Add layer to map as a time lapse\n",
    "Map.addTimeLapse(dwCompSeasonal,{'autoViz':True,'canAreaChart':True,\"dateFormat\": \"YYYY-MM\",'years':dates,\n",
    "        \"advanceInterval\": \"month\",'areaChartParams':{'transform':transform,'crs':crs}},'Dynamic World Seasonal Time-Lapse')\n",
    "\n",
    "# Set up map and view it\n",
    "Map.centerObject(study_area)\n",
    "Map.turnOnAutoAreaCharting()\n",
    "Map.view()"
   ]
  },
  {
   "cell_type": "markdown",
   "metadata": {},
   "source": [
    "## Create Sankey Charts\n",
    "\n",
    "* You can also create Sankey charts and download transition matrices with geeViz\n",
    "* Currently, geeViz only supports annual time series (ImageCollection) for Sankey charts\n",
    "* Once the map loads, you can use the `TOOLS` under `Area Tools` to generate charts\n",
    "* You can customize the years to include in the sankey charts under the `Area Tools Parameters` -> `Transition Charting Periods`\n",
    "* Charts can be downloaded as a PNG and the underlying data can be downloaded as a CSV"
   ]
  },
  {
   "cell_type": "code",
   "execution_count": 18,
   "metadata": {},
   "outputs": [
    {
     "name": "stdout",
     "output_type": "stream",
     "text": [
      "Adding layer: Dynamic World Annual Time-Lapse\n",
      "Starting webmap\n",
      "Using default refresh token for geeView\n",
      "Local web server at: http://localhost:1234/geeView/ already serving.\n",
      "cwd a:\\GEE\\gee_py_modules_package\\geeViz\\examples\n",
      "geeView URL: http://localhost:1234/geeView/?projectID=lcms-292214&accessToken=ya29.a0AcM612zGxlR7g2m06p2w_g97qFinVqTn0jWBwkUd7Ajsww2oZAou5J3XU8mLwFQe70M8qw64OeJPA6b5NAoUJxq5Uzxm7IvlyvOwROguzYwXXoIuNhdZswlG7AcNILR05Ut_74LWjabkPQjKkvs1n4D7UKpntSAgsRlCAoVRCWEaCgYKAX0SARESFQHGX2MiA7fum6YIB_wnXdrpRp3weg0178\n"
     ]
    },
    {
     "data": {
      "text/html": [
       "\n",
       "        <iframe\n",
       "            width=\"100%\"\n",
       "            height=\"525px\"\n",
       "            src=\"http://localhost:1234/geeView/?projectID=lcms-292214&accessToken=ya29.a0AcM612zGxlR7g2m06p2w_g97qFinVqTn0jWBwkUd7Ajsww2oZAou5J3XU8mLwFQe70M8qw64OeJPA6b5NAoUJxq5Uzxm7IvlyvOwROguzYwXXoIuNhdZswlG7AcNILR05Ut_74LWjabkPQjKkvs1n4D7UKpntSAgsRlCAoVRCWEaCgYKAX0SARESFQHGX2MiA7fum6YIB_wnXdrpRp3weg0178\"\n",
       "            frameborder=\"0\"\n",
       "            allowfullscreen\n",
       "            \n",
       "        ></iframe>\n",
       "        "
      ],
      "text/plain": [
       "<IPython.lib.display.IFrame at 0x1edf1f951d0>"
      ]
     },
     "metadata": {},
     "output_type": "display_data"
    }
   ],
   "source": [
    "Map.clearMap()\n",
    "\n",
    "\n",
    "# Create annual mode (geeViz only supports annual time series - seasonal time series currently will not work for Sankey charts)\n",
    "def getYr(yr):\n",
    "    yrImgs = dwCol.filter(ee.Filter.calendarRange(yr,yr,'year'))\n",
    "    return yrImgs.mode().set(viz_dict).set('system:time_start',ee.Date.fromYMD(yr,6,1).millis())\n",
    "\n",
    "# Apply annual composite function\n",
    "dwCompAnnual = ee.ImageCollection(ee.List.sequence(startYear,endYear).map(getYr))\n",
    "\n",
    "\n",
    "# Add layer to map as a time lapse\n",
    "Map.addTimeLapse(dwCompAnnual,{'autoViz':True,'canAreaChart':True,\"dateFormat\": \"YYYY\",'years':list(range(startYear,endYear+1)),'areaChartParams':{'transform':transform,'crs':crs,'line':True,'sankey':True}},'Dynamic World Annual Time-Lapse')\n",
    "\n",
    "# Set up map and view it\n",
    "Map.centerObject(study_area)\n",
    "Map.turnOnAutoAreaCharting()\n",
    "Map.view()"
   ]
  }
 ],
 "metadata": {
  "kernelspec": {
   "display_name": "Python 3",
   "language": "python",
   "name": "python3"
  },
  "language_info": {
   "codemirror_mode": {
    "name": "ipython",
    "version": 3
   },
   "file_extension": ".py",
   "mimetype": "text/x-python",
   "name": "python",
   "nbconvert_exporter": "python",
   "pygments_lexer": "ipython3",
   "version": "3.11.4"
  }
 },
 "nbformat": 4,
 "nbformat_minor": 2
}
