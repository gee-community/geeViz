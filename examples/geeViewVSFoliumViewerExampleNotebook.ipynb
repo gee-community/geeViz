{
 "cells": [
  {
   "attachments": {},
   "cell_type": "markdown",
   "id": "79f72580",
   "metadata": {},
   "source": [
    "\n",
    "## Starter geeViz Folium Viewer Notebook\n",
    "### Example of how to utilize the geeViz's Folium-based viewer \n",
    "* Example of the functionality of Folium-based viewer vs the original geeView viewer\n",
    "* In general, the Folium-based viewer is better for a quick look at data on a map, but the geeView viewer works better if you need to query the data and/or need an annimated time lapse\n",
    "\n",
    "Copyright 2025 Ian Housman\n",
    "\n",
    "   Licensed under the Apache License, Version 2.0 (the \"License\");\n",
    "   you may not use this file except in compliance with the License.\n",
    "   You may obtain a copy of the License at\n",
    "\n",
    "       http://www.apache.org/licenses/LICENSE-2.0\n",
    "\n",
    "   Unless required by applicable law or agreed to in writing, software\n",
    "   distributed under the License is distributed on an \"AS IS\" BASIS,\n",
    "   WITHOUT WARRANTIES OR CONDITIONS OF ANY KIND, either express or implied.\n",
    "   See the License for the specific language governing permissions and\n",
    "   limitations under the License.\n",
    "\n",
    "\n",
    "\n",
    "[![github](https://img.shields.io/badge/-see%20sources-white?logo=github&labelColor=555)](https://github.com/gee-community/geeviz/blob/master/examples/geeViewVSFoliumViewerExampleNotebook.ipynb) \n",
    "[![github](https://colab.research.google.com/assets/colab-badge.svg)](https://colab.research.google.com/github/gee-community/geeViz/blob/master/examples/geeViewVSFoliumViewerExampleNotebook.ipynb)"
   ]
  },
  {
   "cell_type": "code",
   "execution_count": null,
   "id": "b8e5dff6",
   "metadata": {},
   "outputs": [],
   "source": [
    "# Import modules\n",
    "####################################################################################################\n",
    "try:\n",
    "    import geeViz.getImagesLib as gil\n",
    "except:\n",
    "    !python -m pip install geeViz\n",
    "    import geeViz.getImagesLib as gil\n",
    "\n",
    "\n",
    "import  geeViz.foliumView as fv\n",
    "import  geeViz.geeView as gv\n",
    "ee = gv.ee\n",
    "\n",
    "# Both have similar objects with similar methods and attributes\n",
    "foliumViewMap = fv.foliumMapper()\n",
    "geeViewMap = gv.mapper()\n",
    "\n",
    "# Set the port\n",
    "foliumViewMap.port =1234\n",
    "geeViewMap.port = 1234\n",
    "\n",
    "# Clear the map \n",
    "foliumViewMap.clearMap()\n",
    "geeViewMap.clearMap()\n",
    "####################################################################################################\n",
    "print('done')"
   ]
  },
  {
   "cell_type": "code",
   "execution_count": null,
   "id": "145cfa94",
   "metadata": {},
   "outputs": [],
   "source": [
    "foliumViewMap.clearMap()\n",
    "geeViewMap.clearMap()\n",
    "# Bring in some S2 data\n",
    "studyArea = ee.Geometry.Polygon(\n",
    "        [[[-113.21807278537877, 41.786028237932015],\n",
    "          [-113.21807278537877, 40.595571243156144],\n",
    "          [-111.82280911350377, 40.595571243156144],\n",
    "          [-111.82280911350377, 41.786028237932015]]], None, False)\n",
    "\n",
    "# Get some example images to view\n",
    "s2s = gil.superSimpleGetS2(studyArea,'2022-01-01','2023-12-31',120,150)\n",
    "postComposite = s2s.filter(ee.Filter.calendarRange(2023,2023,'year')).median()\n",
    "foliumViewMap.addLayer(postComposite,gil.vizParamsFalse10k,'S2 Median 2023')\n",
    "geeViewMap.addLayer(postComposite,gil.vizParamsFalse10k,'S2 Median 2023')\n",
    "preComposite = s2s.filter(ee.Filter.calendarRange(2022,2022,'year')).median()\n",
    "foliumViewMap.addLayer(preComposite,gil.vizParamsFalse10k,'S2 Median 2022',False)\n",
    "geeViewMap.addLayer(preComposite,gil.vizParamsFalse10k,'S2 Median 2022',False)\n",
    "\n",
    "# Center on the study area and view it\n",
    "foliumViewMap.centerObject(studyArea)\n",
    "geeViewMap.centerObject(studyArea)\n",
    "\n",
    "foliumViewMap.addLayer(studyArea,{'strokeColor':'F00','strokeWidth':5},'Study Area')\n",
    "geeViewMap.addLayer(studyArea,{'strokeColor':'F00','strokeWidth':5},'Study Area')\n",
    "####################################################################################################\n",
    "# Folium-based map currently does not support interacting (querying) the data, while geeView does\n",
    "geeViewMap.turnOnInspector()\n",
    "\n",
    "# View the map\n",
    "foliumViewMap.view()\n",
    "geeViewMap.view()"
   ]
  },
  {
   "cell_type": "code",
   "execution_count": null,
   "id": "dc168bd6",
   "metadata": {},
   "outputs": [],
   "source": [
    "# Example of how to turn off all layers in each map\n",
    "foliumViewMap.turnOffAllLayers()\n",
    "geeViewMap.turnOffAllLayers()\n",
    "\n",
    "foliumViewMap.view()\n",
    "geeViewMap.view()"
   ]
  },
  {
   "cell_type": "code",
   "execution_count": null,
   "id": "8714a906",
   "metadata": {},
   "outputs": [],
   "source": [
    "# Example of how to turn on all layers in each map\n",
    "foliumViewMap.turnOnAllLayers()\n",
    "geeViewMap.turnOnAllLayers()\n",
    "\n",
    "foliumViewMap.view()\n",
    "geeViewMap.view()"
   ]
  }
 ],
 "metadata": {
  "kernelspec": {
   "display_name": "Python 3 (ipykernel)",
   "language": "python",
   "name": "python3"
  },
  "language_info": {
   "codemirror_mode": {
    "name": "ipython",
    "version": 3
   },
   "file_extension": ".py",
   "mimetype": "text/x-python",
   "name": "python",
   "nbconvert_exporter": "python",
   "pygments_lexer": "ipython3",
   "version": "3.11.4"
  }
 },
 "nbformat": 4,
 "nbformat_minor": 5
}
