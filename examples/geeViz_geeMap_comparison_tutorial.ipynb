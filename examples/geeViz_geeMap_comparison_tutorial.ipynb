{
 "cells": [
  {
   "cell_type": "markdown",
   "metadata": {},
   "source": [
    "# A comparison between geeViz and geeMap's map visualization capabilities\n",
    "\n",
    "* Both packages provide methods to visualize and summarize EE objects as well as non-EE-based image services\n",
    "* geeViz uses the localhost in a web server. It will run in notbooks, iPython, or a regular script\n",
    "* geeMap uses iPython widgets, and therefore needs to run from a notebook or iPython\n",
    "* geeViz uses geeMap when appropriate, but still relies on its own map visualization tool for a variety of reasons\n",
    "\n",
    "* This is intended to illustrate the basic map functionality of each package. Refer to each packages examples for more in-depth demos\n",
    "\n",
    "\n",
    "[![github](https://img.shields.io/badge/-see%20sources-white?logo=github&labelColor=555)](https://github.com/gee-community/geeviz/blob/master/examples/geeViz_geeMap_comparison_tutorial.ipynb) \n",
    "[![github](https://colab.research.google.com/assets/colab-badge.svg)](https://colab.research.google.com/github/gee-community/geeViz/blob/master/examples/geeViz_geeMap_comparison_tutorial.ipynb)"
   ]
  },
  {
   "cell_type": "code",
   "execution_count": 3,
   "metadata": {},
   "outputs": [
    {
     "data": {
      "text/html": [
       "\n",
       "            <style>\n",
       "                .geemap-dark {\n",
       "                    --jp-widgets-color: white;\n",
       "                    --jp-widgets-label-color: white;\n",
       "                    --jp-ui-font-color1: white;\n",
       "                    --jp-layout-color2: #454545;\n",
       "                    background-color: #383838;\n",
       "                }\n",
       "\n",
       "                .geemap-dark .jupyter-button {\n",
       "                    --jp-layout-color3: #383838;\n",
       "                }\n",
       "\n",
       "                .geemap-colab {\n",
       "                    background-color: var(--colab-primary-surface-color, white);\n",
       "                }\n",
       "\n",
       "                .geemap-colab .jupyter-button {\n",
       "                    --jp-layout-color3: var(--colab-primary-surface-color, white);\n",
       "                }\n",
       "            </style>\n",
       "            "
      ],
      "text/plain": [
       "<IPython.core.display.HTML object>"
      ]
     },
     "metadata": {},
     "output_type": "display_data"
    }
   ],
   "source": [
    "import ee\n",
    "\n",
    "\n",
    "import geeViz.geeView as gv\n",
    "\n",
    "import geemap as gm\n",
    "\n",
    "\n",
    "\n",
    "gvMap = gv.Map\n",
    "gmMap = gm.Map()\n"
   ]
  },
  {
   "cell_type": "markdown",
   "metadata": {},
   "source": [
    "## First, we'll take a look at the two different map interfaces\n"
   ]
  },
  {
   "cell_type": "code",
   "execution_count": 2,
   "metadata": {},
   "outputs": [
    {
     "data": {
      "text/html": [
       "\n",
       "            <style>\n",
       "                .geemap-dark {\n",
       "                    --jp-widgets-color: white;\n",
       "                    --jp-widgets-label-color: white;\n",
       "                    --jp-ui-font-color1: white;\n",
       "                    --jp-layout-color2: #454545;\n",
       "                    background-color: #383838;\n",
       "                }\n",
       "\n",
       "                .geemap-dark .jupyter-button {\n",
       "                    --jp-layout-color3: #383838;\n",
       "                }\n",
       "\n",
       "                .geemap-colab {\n",
       "                    background-color: var(--colab-primary-surface-color, white);\n",
       "                }\n",
       "\n",
       "                .geemap-colab .jupyter-button {\n",
       "                    --jp-layout-color3: var(--colab-primary-surface-color, white);\n",
       "                }\n",
       "            </style>\n",
       "            "
      ],
      "text/plain": [
       "<IPython.core.display.HTML object>"
      ]
     },
     "metadata": {},
     "output_type": "display_data"
    },
    {
     "data": {
      "application/vnd.jupyter.widget-view+json": {
       "model_id": "e3e0e3add7704732b4d42d44753d28fd",
       "version_major": 2,
       "version_minor": 0
      },
      "text/plain": [
       "Map(center=[0, 0], controls=(WidgetControl(options=['position', 'transparent_bg'], widget=SearchDataGUI(childr…"
      ]
     },
     "execution_count": 2,
     "metadata": {},
     "output_type": "execute_result"
    }
   ],
   "source": [
    "# geeMap you simply call the object\n",
    "gmMap"
   ]
  },
  {
   "cell_type": "code",
   "execution_count": 3,
   "metadata": {},
   "outputs": [
    {
     "data": {
      "text/html": [
       "\n",
       "            <style>\n",
       "                .geemap-dark {\n",
       "                    --jp-widgets-color: white;\n",
       "                    --jp-widgets-label-color: white;\n",
       "                    --jp-ui-font-color1: white;\n",
       "                    --jp-layout-color2: #454545;\n",
       "                    background-color: #383838;\n",
       "                }\n",
       "\n",
       "                .geemap-dark .jupyter-button {\n",
       "                    --jp-layout-color3: #383838;\n",
       "                }\n",
       "\n",
       "                .geemap-colab {\n",
       "                    background-color: var(--colab-primary-surface-color, white);\n",
       "                }\n",
       "\n",
       "                .geemap-colab .jupyter-button {\n",
       "                    --jp-layout-color3: var(--colab-primary-surface-color, white);\n",
       "                }\n",
       "            </style>\n",
       "            "
      ],
      "text/plain": [
       "<IPython.core.display.HTML object>"
      ]
     },
     "metadata": {},
     "output_type": "display_data"
    },
    {
     "name": "stdout",
     "output_type": "stream",
     "text": [
      "Starting webmap\n",
      "Using default refresh token for geeView\n",
      "Local web server at: http://localhost:8001/geeView/ already serving.\n",
      "cwd c:\\RCR\\geeVizBuilder\\geeViz\\examples\n",
      "geeView URL: http://localhost:8001/geeView/?projectID=rcr-gee&accessToken=ya29.a0AeXRPp79juJ6x3F7UYNBdtrTgu0YJWBtC8BdKov8ZjgaU25h2P80-LZLsYvsvJkIUbxX7PIsCIS78OQSLTnKMfqg4cwfKCJWkOyWjMg4lr9KMZRwLy6ZpzEaABXCMAlKYwKNsXcByt7HKNmD6M3qqcGVWqh0BhpzvFkFH4K_PDqN8Fl2GoQAaCgYKAaESARASFQHGX2MiJ06kkMKF4SpSrlx8dF-2dA0187&accessTokenCreationTime=1743460508589\n"
     ]
    },
    {
     "data": {
      "text/html": [
       "\n",
       "        <iframe\n",
       "            width=\"100%\"\n",
       "            height=\"525px\"\n",
       "            src=\"http://localhost:8001/geeView/?projectID=rcr-gee&accessToken=ya29.a0AeXRPp79juJ6x3F7UYNBdtrTgu0YJWBtC8BdKov8ZjgaU25h2P80-LZLsYvsvJkIUbxX7PIsCIS78OQSLTnKMfqg4cwfKCJWkOyWjMg4lr9KMZRwLy6ZpzEaABXCMAlKYwKNsXcByt7HKNmD6M3qqcGVWqh0BhpzvFkFH4K_PDqN8Fl2GoQAaCgYKAaESARASFQHGX2MiJ06kkMKF4SpSrlx8dF-2dA0187&accessTokenCreationTime=1743460508589\"\n",
       "            frameborder=\"0\"\n",
       "            allowfullscreen\n",
       "            \n",
       "        ></iframe>\n",
       "        "
      ],
      "text/plain": [
       "<IPython.lib.display.IFrame at 0x2482f532120>"
      ]
     },
     "metadata": {},
     "output_type": "display_data"
    }
   ],
   "source": [
    "# geeViz you use the view method\n",
    "gvMap.view()"
   ]
  },
  {
   "cell_type": "markdown",
   "metadata": {},
   "source": [
    "## Some methods are similar between the methods available\n",
    "\n",
    "* addLayer\n",
    "* setCenter\n",
    "* centerObject"
   ]
  },
  {
   "cell_type": "code",
   "execution_count": 4,
   "metadata": {},
   "outputs": [
    {
     "data": {
      "text/html": [
       "\n",
       "            <style>\n",
       "                .geemap-dark {\n",
       "                    --jp-widgets-color: white;\n",
       "                    --jp-widgets-label-color: white;\n",
       "                    --jp-ui-font-color1: white;\n",
       "                    --jp-layout-color2: #454545;\n",
       "                    background-color: #383838;\n",
       "                }\n",
       "\n",
       "                .geemap-dark .jupyter-button {\n",
       "                    --jp-layout-color3: #383838;\n",
       "                }\n",
       "\n",
       "                .geemap-colab {\n",
       "                    background-color: var(--colab-primary-surface-color, white);\n",
       "                }\n",
       "\n",
       "                .geemap-colab .jupyter-button {\n",
       "                    --jp-layout-color3: var(--colab-primary-surface-color, white);\n",
       "                }\n",
       "            </style>\n",
       "            "
      ],
      "text/plain": [
       "<IPython.core.display.HTML object>"
      ]
     },
     "metadata": {},
     "output_type": "display_data"
    },
    {
     "name": "stdout",
     "output_type": "stream",
     "text": [
      "Starting webmap\n",
      "Using default refresh token for geeView\n",
      "Local web server at: http://localhost:8001/geeView/ already serving.\n",
      "cwd c:\\RCR\\geeVizBuilder\\geeViz\\examples\n",
      "geeView URL: http://localhost:8001/geeView/?projectID=rcr-gee&accessToken=ya29.a0AeXRPp76e_11qp4HYIVhipA0WfGCLA-EVtW66Hz452jI0FZJc9N57DjMgympVWHOgZGrBU54iYFFm_JBEA7qtEgg93Tx3kLCQqjBfDyutsfsZwwHZUybwP7kwwhjzLqp-S9IzprbK9HTSoszYK87AS03pMPj1J90gwN8YYg6tJ1RSW3_-neDaCgYKASQSARASFQHGX2Mi6vXOUf9lAHPGX9YbU2egaw0187&accessTokenCreationTime=1743460517210\n"
     ]
    },
    {
     "data": {
      "text/html": [
       "\n",
       "        <iframe\n",
       "            width=\"100%\"\n",
       "            height=\"525px\"\n",
       "            src=\"http://localhost:8001/geeView/?projectID=rcr-gee&accessToken=ya29.a0AeXRPp76e_11qp4HYIVhipA0WfGCLA-EVtW66Hz452jI0FZJc9N57DjMgympVWHOgZGrBU54iYFFm_JBEA7qtEgg93Tx3kLCQqjBfDyutsfsZwwHZUybwP7kwwhjzLqp-S9IzprbK9HTSoszYK87AS03pMPj1J90gwN8YYg6tJ1RSW3_-neDaCgYKASQSARASFQHGX2Mi6vXOUf9lAHPGX9YbU2egaw0187&accessTokenCreationTime=1743460517210\"\n",
       "            frameborder=\"0\"\n",
       "            allowfullscreen\n",
       "            \n",
       "        ></iframe>\n",
       "        "
      ],
      "text/plain": [
       "<IPython.lib.display.IFrame at 0x2482f5dccd0>"
      ]
     },
     "metadata": {},
     "output_type": "display_data"
    },
    {
     "data": {
      "application/vnd.jupyter.widget-view+json": {
       "model_id": "cee2333c50f14a58a5f26a49f0319e98",
       "version_major": 2,
       "version_minor": 0
      },
      "text/plain": [
       "Map(center=[40.64356771453405, -111.92926447956667], controls=(WidgetControl(options=['position', 'transparent…"
      ]
     },
     "execution_count": 4,
     "metadata": {},
     "output_type": "execute_result"
    }
   ],
   "source": [
    "gmMap = gm.Map()\n",
    "\n",
    "pt = ee.Geometry.Point([-111.92926447956665, 40.64356771453405])\n",
    "\n",
    "gmMap.centerObject(pt,10)\n",
    "gvMap.centerObject(pt,10)\n",
    "\n",
    "gvMap.view()\n",
    "gmMap"
   ]
  },
  {
   "cell_type": "code",
   "execution_count": 5,
   "metadata": {},
   "outputs": [
    {
     "data": {
      "text/html": [
       "\n",
       "            <style>\n",
       "                .geemap-dark {\n",
       "                    --jp-widgets-color: white;\n",
       "                    --jp-widgets-label-color: white;\n",
       "                    --jp-ui-font-color1: white;\n",
       "                    --jp-layout-color2: #454545;\n",
       "                    background-color: #383838;\n",
       "                }\n",
       "\n",
       "                .geemap-dark .jupyter-button {\n",
       "                    --jp-layout-color3: #383838;\n",
       "                }\n",
       "\n",
       "                .geemap-colab {\n",
       "                    background-color: var(--colab-primary-surface-color, white);\n",
       "                }\n",
       "\n",
       "                .geemap-colab .jupyter-button {\n",
       "                    --jp-layout-color3: var(--colab-primary-surface-color, white);\n",
       "                }\n",
       "            </style>\n",
       "            "
      ],
      "text/plain": [
       "<IPython.core.display.HTML object>"
      ]
     },
     "metadata": {},
     "output_type": "display_data"
    },
    {
     "name": "stdout",
     "output_type": "stream",
     "text": [
      "Starting webmap\n",
      "Using default refresh token for geeView\n",
      "Local web server at: http://localhost:8001/geeView/ already serving.\n",
      "cwd c:\\RCR\\geeVizBuilder\\geeViz\\examples\n",
      "geeView URL: http://localhost:8001/geeView/?projectID=rcr-gee&accessToken=ya29.a0AeXRPp5zghOUb6F7gi4Xyi6YBOxxnM2eWlEDDWMHar0Z1FiybTuVery6JVrKLFJ1IHCRlCBOTRRu_yQ5zd3sHUn8nFoN-bQbkukH8xpW7DYG4JUM_5UxjEQnIU9IDAu_jFUsXreYqozxlBuX89eVi4Am1KKi-lYLbLNm9KrqhsizgAKW-t1uaCgYKATsSARASFQHGX2MiKVGFmS83TRs5cPDiW9NYXA0187&accessTokenCreationTime=1743460526250\n"
     ]
    },
    {
     "data": {
      "text/html": [
       "\n",
       "        <iframe\n",
       "            width=\"100%\"\n",
       "            height=\"525px\"\n",
       "            src=\"http://localhost:8001/geeView/?projectID=rcr-gee&accessToken=ya29.a0AeXRPp5zghOUb6F7gi4Xyi6YBOxxnM2eWlEDDWMHar0Z1FiybTuVery6JVrKLFJ1IHCRlCBOTRRu_yQ5zd3sHUn8nFoN-bQbkukH8xpW7DYG4JUM_5UxjEQnIU9IDAu_jFUsXreYqozxlBuX89eVi4Am1KKi-lYLbLNm9KrqhsizgAKW-t1uaCgYKATsSARASFQHGX2MiKVGFmS83TRs5cPDiW9NYXA0187&accessTokenCreationTime=1743460526250\"\n",
       "            frameborder=\"0\"\n",
       "            allowfullscreen\n",
       "            \n",
       "        ></iframe>\n",
       "        "
      ],
      "text/plain": [
       "<IPython.lib.display.IFrame at 0x2482f5dec10>"
      ]
     },
     "metadata": {},
     "output_type": "display_data"
    },
    {
     "data": {
      "application/vnd.jupyter.widget-view+json": {
       "model_id": "457a84d272fe432a8586fbbea086004a",
       "version_major": 2,
       "version_minor": 0
      },
      "text/plain": [
       "Map(center=[40.64356771453405, -111.92926447956665], controls=(WidgetControl(options=['position', 'transparent…"
      ]
     },
     "execution_count": 5,
     "metadata": {},
     "output_type": "execute_result"
    }
   ],
   "source": [
    "gmMap = gm.Map()\n",
    "\n",
    "\n",
    "gmMap.setCenter(-111.92926447956665, 40.64356771453405,10)\n",
    "gvMap.setCenter(-111.92926447956665, 40.64356771453405,10)\n",
    "\n",
    "gvMap.view()\n",
    "gmMap"
   ]
  },
  {
   "cell_type": "markdown",
   "metadata": {},
   "source": [
    "* Adding layers is very similar\n",
    "    * geeMap makes the top layer on the map the bottom layer in the layer UI list, while geeViz they appear in the same order as on the map (you can reorder most map layers in geeViz with a drag and drop to reorder)"
   ]
  },
  {
   "cell_type": "code",
   "execution_count": 6,
   "metadata": {},
   "outputs": [
    {
     "data": {
      "text/html": [
       "\n",
       "            <style>\n",
       "                .geemap-dark {\n",
       "                    --jp-widgets-color: white;\n",
       "                    --jp-widgets-label-color: white;\n",
       "                    --jp-ui-font-color1: white;\n",
       "                    --jp-layout-color2: #454545;\n",
       "                    background-color: #383838;\n",
       "                }\n",
       "\n",
       "                .geemap-dark .jupyter-button {\n",
       "                    --jp-layout-color3: #383838;\n",
       "                }\n",
       "\n",
       "                .geemap-colab {\n",
       "                    background-color: var(--colab-primary-surface-color, white);\n",
       "                }\n",
       "\n",
       "                .geemap-colab .jupyter-button {\n",
       "                    --jp-layout-color3: var(--colab-primary-surface-color, white);\n",
       "                }\n",
       "            </style>\n",
       "            "
      ],
      "text/plain": [
       "<IPython.core.display.HTML object>"
      ]
     },
     "metadata": {},
     "output_type": "display_data"
    },
    {
     "name": "stdout",
     "output_type": "stream",
     "text": [
      "Adding layer: SRTM DEM\n",
      "Adding layer: Land cover\n",
      "Adding layer: Landsat 7\n",
      "Adding layer: US States\n",
      "Starting webmap\n",
      "Using default refresh token for geeView\n",
      "Local web server at: http://localhost:8001/geeView/ already serving.\n",
      "cwd c:\\RCR\\geeVizBuilder\\geeViz\\examples\n",
      "geeView URL: http://localhost:8001/geeView/?projectID=rcr-gee&accessToken=ya29.a0AeXRPp7qf5ocH_d8xV0ebj2KKyZoGIEHmrehZubi-oTjlmRBjCv_gmohtjU4eZswKe5xiTpKLCRs1ORueL8fCG2MAyRnSoQARTc3PWDmSnefQhQZhnG58wgWQ2EX0uBB5sKpgXW_wrhGwVlauzN8Ehm-hKV372Rj0r1e5wzBdeX33Keo_qMhaCgYKAa0SARASFQHGX2MinLwxaGew6B4YpWZaielYkw0187&accessTokenCreationTime=1743460535789\n"
     ]
    },
    {
     "data": {
      "text/html": [
       "\n",
       "        <iframe\n",
       "            width=\"100%\"\n",
       "            height=\"525px\"\n",
       "            src=\"http://localhost:8001/geeView/?projectID=rcr-gee&accessToken=ya29.a0AeXRPp7qf5ocH_d8xV0ebj2KKyZoGIEHmrehZubi-oTjlmRBjCv_gmohtjU4eZswKe5xiTpKLCRs1ORueL8fCG2MAyRnSoQARTc3PWDmSnefQhQZhnG58wgWQ2EX0uBB5sKpgXW_wrhGwVlauzN8Ehm-hKV372Rj0r1e5wzBdeX33Keo_qMhaCgYKAa0SARASFQHGX2MinLwxaGew6B4YpWZaielYkw0187&accessTokenCreationTime=1743460535789\"\n",
       "            frameborder=\"0\"\n",
       "            allowfullscreen\n",
       "            \n",
       "        ></iframe>\n",
       "        "
      ],
      "text/plain": [
       "<IPython.lib.display.IFrame at 0x2482f5dafd0>"
      ]
     },
     "metadata": {},
     "output_type": "display_data"
    },
    {
     "data": {
      "application/vnd.jupyter.widget-view+json": {
       "model_id": "dac53959e5094c9abbc4ffee1e97bd01",
       "version_major": 2,
       "version_minor": 0
      },
      "text/plain": [
       "Map(center=[40.64356771453405, -111.92926447956665], controls=(WidgetControl(options=['position', 'transparent…"
      ]
     },
     "execution_count": 6,
     "metadata": {},
     "output_type": "execute_result"
    }
   ],
   "source": [
    "gmMap = gm.Map()\n",
    "\n",
    "# Add Earth Engine dataset\n",
    "dem = ee.Image(\"USGS/SRTMGL1_003\")\n",
    "landcover = ee.Image(\"ESA/GLOBCOVER_L4_200901_200912_V2_3\").select(\"landcover\")\n",
    "landsat7 = ee.Image(\"LANDSAT/LE7_TOA_5YEAR/1999_2003\").select(\n",
    "    [\"B1\", \"B2\", \"B3\", \"B4\", \"B5\", \"B7\"]\n",
    ")\n",
    "states = ee.FeatureCollection(\"TIGER/2018/States\")\n",
    "\n",
    "# Set visualization parameters.\n",
    "vis_params = {\n",
    "    \"min\": 0,\n",
    "    \"max\": 4000,\n",
    "    \"palette\": [\"006633\", \"E5FFCC\", \"662A00\", \"D8D8D8\", \"F5F5F5\"],\n",
    "}\n",
    "\n",
    "# Add Earth Engine layers to Map\n",
    "gmMap.addLayer(dem, vis_params, \"SRTM DEM\", True)\n",
    "gmMap.addLayer(landcover, {}, \"Land cover\")\n",
    "gmMap.addLayer(\n",
    "    landsat7,\n",
    "    {\"bands\": [\"B4\", \"B3\", \"B2\"], \"min\": 20, \"max\": 200, \"gamma\": 2.0},\n",
    "    \"Landsat 7\",\n",
    ")\n",
    "gmMap.addLayer(states, {}, \"US States\")\n",
    "\n",
    "\n",
    "gvMap.clearMap()\n",
    "\n",
    "\n",
    "gvMap.addLayer(dem, vis_params, \"SRTM DEM\", True)\n",
    "gvMap.addLayer(landcover, {}, \"Land cover\")\n",
    "gvMap.addLayer(\n",
    "    landsat7,\n",
    "    {\"bands\": [\"B4\", \"B3\", \"B2\"], \"min\": 20, \"max\": 200, \"gamma\": 2.0},\n",
    "    \"Landsat 7\",\n",
    ")\n",
    "gvMap.addLayer(states, {}, \"US States\")\n",
    "\n",
    "gmMap.setCenter(-111.92926447956665, 40.64356771453405,10)\n",
    "gvMap.setCenter(-111.92926447956665, 40.64356771453405,10)\n",
    "\n",
    "gvMap.view()\n",
    "gmMap"
   ]
  },
  {
   "cell_type": "markdown",
   "metadata": {},
   "source": [
    "* geeMap and geeViz provide different methods creating legends\n",
    "\n",
    "* geeViz will try to populate a legend with any single-band image or imageCollection its given\n",
    "\n",
    "* If an image or imageCollection has images with _class_name, _class_value, _class_palette properties, you can use `\"autoViz\":True` to populate a legend\n",
    "\n",
    "* geeMap provides methods to create legends"
   ]
  },
  {
   "cell_type": "code",
   "execution_count": 7,
   "metadata": {},
   "outputs": [
    {
     "data": {
      "text/html": [
       "\n",
       "            <style>\n",
       "                .geemap-dark {\n",
       "                    --jp-widgets-color: white;\n",
       "                    --jp-widgets-label-color: white;\n",
       "                    --jp-ui-font-color1: white;\n",
       "                    --jp-layout-color2: #454545;\n",
       "                    background-color: #383838;\n",
       "                }\n",
       "\n",
       "                .geemap-dark .jupyter-button {\n",
       "                    --jp-layout-color3: #383838;\n",
       "                }\n",
       "\n",
       "                .geemap-colab {\n",
       "                    background-color: var(--colab-primary-surface-color, white);\n",
       "                }\n",
       "\n",
       "                .geemap-colab .jupyter-button {\n",
       "                    --jp-layout-color3: var(--colab-primary-surface-color, white);\n",
       "                }\n",
       "            </style>\n",
       "            "
      ],
      "text/plain": [
       "<IPython.core.display.HTML object>"
      ]
     },
     "metadata": {},
     "output_type": "display_data"
    },
    {
     "name": "stdout",
     "output_type": "stream",
     "text": [
      "Adding layer: NLCD Land Cover\n",
      "Starting webmap\n",
      "Using default refresh token for geeView\n",
      "Local web server at: http://localhost:8001/geeView/ already serving.\n",
      "cwd c:\\RCR\\geeVizBuilder\\geeViz\\examples\n",
      "geeView URL: http://localhost:8001/geeView/?projectID=rcr-gee&accessToken=ya29.a0AeXRPp7tcI0pd_mopUB4S_jKc6HdAn_O4ja58UWt2d0Ip4NSZidG22VGWHKX_zFSWyjUx89SEhMY56uoerHVwUuOy_HJXE2BVmgt_y6sCfdvAxCVXGlgSoAcKh4JwXeo6pai3qbObc_aGUCQ8xd1t-riB4TC8iL-WzVyNWkKs6ejkSwZbBsYaCgYKAT4SARASFQHGX2MiJWyfCa0odYfH8hAfeAdM9Q0187&accessTokenCreationTime=1743460604131\n"
     ]
    },
    {
     "data": {
      "text/html": [
       "\n",
       "        <iframe\n",
       "            width=\"100%\"\n",
       "            height=\"525px\"\n",
       "            src=\"http://localhost:8001/geeView/?projectID=rcr-gee&accessToken=ya29.a0AeXRPp7tcI0pd_mopUB4S_jKc6HdAn_O4ja58UWt2d0Ip4NSZidG22VGWHKX_zFSWyjUx89SEhMY56uoerHVwUuOy_HJXE2BVmgt_y6sCfdvAxCVXGlgSoAcKh4JwXeo6pai3qbObc_aGUCQ8xd1t-riB4TC8iL-WzVyNWkKs6ejkSwZbBsYaCgYKAT4SARASFQHGX2MiJWyfCa0odYfH8hAfeAdM9Q0187&accessTokenCreationTime=1743460604131\"\n",
       "            frameborder=\"0\"\n",
       "            allowfullscreen\n",
       "            \n",
       "        ></iframe>\n",
       "        "
      ],
      "text/plain": [
       "<IPython.lib.display.IFrame at 0x2482f79c2b0>"
      ]
     },
     "metadata": {},
     "output_type": "display_data"
    },
    {
     "data": {
      "application/vnd.jupyter.widget-view+json": {
       "model_id": "4fd01f68435e4cd7a0f0b48c23cd5eb5",
       "version_major": 2,
       "version_minor": 0
      },
      "text/plain": [
       "Map(center=[40.64356771453405, -111.92926447956665], controls=(WidgetControl(options=['position', 'transparent…"
      ]
     },
     "execution_count": 7,
     "metadata": {},
     "output_type": "execute_result"
    }
   ],
   "source": [
    "gmMap = gm.Map()\n",
    "gvMap.clearMap()\n",
    "\n",
    "legend_dict = {\n",
    "    \"11 Open Water\": \"466b9f\",\n",
    "    \"12 Perennial Ice/Snow\": \"d1def8\",\n",
    "    \"21 Developed, Open Space\": \"dec5c5\",\n",
    "    \"22 Developed, Low Intensity\": \"d99282\",\n",
    "    \"23 Developed, Medium Intensity\": \"eb0000\",\n",
    "    \"24 Developed High Intensity\": \"ab0000\",\n",
    "    \"31 Barren Land (Rock/Sand/Clay)\": \"b3ac9f\",\n",
    "    \"41 Deciduous Forest\": \"68ab5f\",\n",
    "    \"42 Evergreen Forest\": \"1c5f2c\",\n",
    "    \"43 Mixed Forest\": \"b5c58f\",\n",
    "    \"51 Dwarf Scrub\": \"af963c\",\n",
    "    \"52 Shrub/Scrub\": \"ccb879\",\n",
    "    \"71 Grassland/Herbaceous\": \"dfdfc2\",\n",
    "    \"72 Sedge/Herbaceous\": \"d1d182\",\n",
    "    \"73 Lichens\": \"a3cc51\",\n",
    "    \"74 Moss\": \"82ba9e\",\n",
    "    \"81 Pasture/Hay\": \"dcd939\",\n",
    "    \"82 Cultivated Crops\": \"ab6c28\",\n",
    "    \"90 Woody Wetlands\": \"b8d9eb\",\n",
    "    \"95 Emergent Herbaceous Wetlands\": \"6c9fb8\",\n",
    "}\n",
    "\n",
    "landcover = ee.Image(\"USGS/NLCD/NLCD2016\").select(\"landcover\")\n",
    "gmMap.addLayer(landcover, {}, \"NLCD Land Cover\")\n",
    "\n",
    "gmMap.add_legend(legend_title=\"NLCD Land Cover\", legend_dict=legend_dict)\n",
    "\n",
    "\n",
    "gvMap.addLayer(landcover,{'classLegendDict':legend_dict}, \"NLCD Land Cover\")\n",
    "\n",
    "gmMap.setCenter(-111.92926447956665, 40.64356771453405,10)\n",
    "gvMap.setCenter(-111.92926447956665, 40.64356771453405,10)\n",
    "\n",
    "\n",
    "gvMap.view()\n",
    "gmMap"
   ]
  },
  {
   "cell_type": "code",
   "execution_count": 8,
   "metadata": {},
   "outputs": [
    {
     "data": {
      "text/html": [
       "\n",
       "            <style>\n",
       "                .geemap-dark {\n",
       "                    --jp-widgets-color: white;\n",
       "                    --jp-widgets-label-color: white;\n",
       "                    --jp-ui-font-color1: white;\n",
       "                    --jp-layout-color2: #454545;\n",
       "                    background-color: #383838;\n",
       "                }\n",
       "\n",
       "                .geemap-dark .jupyter-button {\n",
       "                    --jp-layout-color3: #383838;\n",
       "                }\n",
       "\n",
       "                .geemap-colab {\n",
       "                    background-color: var(--colab-primary-surface-color, white);\n",
       "                }\n",
       "\n",
       "                .geemap-colab .jupyter-button {\n",
       "                    --jp-layout-color3: var(--colab-primary-surface-color, white);\n",
       "                }\n",
       "            </style>\n",
       "            "
      ],
      "text/plain": [
       "<IPython.core.display.HTML object>"
      ]
     },
     "metadata": {},
     "output_type": "display_data"
    },
    {
     "name": "stdout",
     "output_type": "stream",
     "text": [
      "Adding layer: MODIS Land Cover\n",
      "Starting webmap\n",
      "Using default refresh token for geeView\n",
      "Local web server at: http://localhost:8001/geeView/ already serving.\n",
      "cwd c:\\RCR\\geeVizBuilder\\geeViz\\examples\n",
      "geeView URL: http://localhost:8001/geeView/?projectID=rcr-gee&accessToken=ya29.a0AeXRPp7YH8Mlgpt31zrx-6CQ1zcctLr-IQnPnofDO8Hl1LqOsjSEQQ-RzhFqPJctNJTY5yh9yhZW_ccA177BStXuNKlvByAXa7fol2vRatIfgsvT3mk2pQnXh1QgHSFqUpnM6uEfL8XvuebK7GXYnWltNEJ2L-jMb_j_oSABGmbxzIFFNiqaaCgYKAS4SARASFQHGX2Miwb7tTjFklx55BTNsToyb_A0187&accessTokenCreationTime=1743460637775\n"
     ]
    },
    {
     "data": {
      "text/html": [
       "\n",
       "        <iframe\n",
       "            width=\"100%\"\n",
       "            height=\"525px\"\n",
       "            src=\"http://localhost:8001/geeView/?projectID=rcr-gee&accessToken=ya29.a0AeXRPp7YH8Mlgpt31zrx-6CQ1zcctLr-IQnPnofDO8Hl1LqOsjSEQQ-RzhFqPJctNJTY5yh9yhZW_ccA177BStXuNKlvByAXa7fol2vRatIfgsvT3mk2pQnXh1QgHSFqUpnM6uEfL8XvuebK7GXYnWltNEJ2L-jMb_j_oSABGmbxzIFFNiqaaCgYKAS4SARASFQHGX2Miwb7tTjFklx55BTNsToyb_A0187&accessTokenCreationTime=1743460637775\"\n",
       "            frameborder=\"0\"\n",
       "            allowfullscreen\n",
       "            \n",
       "        ></iframe>\n",
       "        "
      ],
      "text/plain": [
       "<IPython.lib.display.IFrame at 0x2482f8444d0>"
      ]
     },
     "metadata": {},
     "output_type": "display_data"
    },
    {
     "data": {
      "application/vnd.jupyter.widget-view+json": {
       "model_id": "562b794d6d84436a9f866ef9bf61db5e",
       "version_major": 2,
       "version_minor": 0
      },
      "text/plain": [
       "Map(center=[46.529, 6.746], controls=(WidgetControl(options=['position', 'transparent_bg'], widget=SearchDataG…"
      ]
     },
     "execution_count": 8,
     "metadata": {},
     "output_type": "execute_result"
    }
   ],
   "source": [
    "gmMap = gm.Map()\n",
    "gvMap.clearMap()\n",
    "\n",
    "ee_class_table = \"\"\"\n",
    "\n",
    "Value\tColor\tDescription\n",
    "0\t1c0dff\tWater\n",
    "1\t05450a\tEvergreen needleleaf forest\n",
    "2\t086a10\tEvergreen broadleaf forest\n",
    "3\t54a708\tDeciduous needleleaf forest\n",
    "4\t78d203\tDeciduous broadleaf forest\n",
    "5\t009900\tMixed forest\n",
    "6\tc6b044\tClosed shrublands\n",
    "7\tdcd159\tOpen shrublands\n",
    "8\tdade48\tWoody savannas\n",
    "9\tfbff13\tSavannas\n",
    "10\tb6ff05\tGrasslands\n",
    "11\t27ff87\tPermanent wetlands\n",
    "12\tc24f44\tCroplands\n",
    "13\ta5a5a5\tUrban and built-up\n",
    "14\tff6d4c\tCropland/natural vegetation mosaic\n",
    "15\t69fff8\tSnow and ice\n",
    "16\tf9ffa4\tBarren or sparsely vegetated\n",
    "254\tffffff\tUnclassified\n",
    "\n",
    "\"\"\"\n",
    "\n",
    "landcover = ee.Image(\"MODIS/051/MCD12Q1/2013_01_01\").select(\"Land_Cover_Type_1\")\n",
    "\n",
    "proj = landcover.projection().getInfo()\n",
    "gmMap.setCenter(6.746, 46.529, 2)\n",
    "gmMap.addLayer(landcover, {}, \"MODIS Land Cover\")\n",
    "\n",
    "legend_dict = gm.legend_from_ee(ee_class_table)\n",
    "gmMap.add_legend(legend_title=\"MODIS Global Land Cover\", legend_dict=legend_dict)\n",
    "\n",
    "gvMap.setCenter(6.746, 46.529,2)\n",
    "gvMap.addLayer(landcover, {'autoViz':True,'canAreaChart':True,'areaChartParams':{'crs':proj['crs'],'transform':proj['transform'],'minZoomSpecifiedScale':5}}, \"MODIS Land Cover\")\n",
    "\n",
    "gvMap.turnOnAutoAreaCharting()\n",
    "gvMap.view()\n",
    "gmMap"
   ]
  },
  {
   "cell_type": "markdown",
   "metadata": {},
   "source": [
    "## Using geeMap and geeViz together\n",
    "\n",
    "* Currently, geeViz is integrating the broad functionality of geeMap where appropriate.\n",
    "* We feel that many of the conversion functions and data extraction functions work well in a regular Python script, as well as in notebooks in iPython, so we can use them in geeViz as they are\n",
    "* As such, geeViz is building dependencies on geeMap"
   ]
  },
  {
   "cell_type": "code",
   "execution_count": null,
   "metadata": {},
   "outputs": [
    {
     "data": {
      "text/html": [
       "\n",
       "            <style>\n",
       "                .geemap-dark {\n",
       "                    --jp-widgets-color: white;\n",
       "                    --jp-widgets-label-color: white;\n",
       "                    --jp-ui-font-color1: white;\n",
       "                    --jp-layout-color2: #454545;\n",
       "                    background-color: #383838;\n",
       "                }\n",
       "\n",
       "                .geemap-dark .jupyter-button {\n",
       "                    --jp-layout-color3: #383838;\n",
       "                }\n",
       "\n",
       "                .geemap-colab {\n",
       "                    background-color: var(--colab-primary-surface-color, white);\n",
       "                }\n",
       "\n",
       "                .geemap-colab .jupyter-button {\n",
       "                    --jp-layout-color3: var(--colab-primary-surface-color, white);\n",
       "                }\n",
       "            </style>\n",
       "            "
      ],
      "text/plain": [
       "<IPython.core.display.HTML object>"
      ]
     },
     "metadata": {},
     "output_type": "display_data"
    },
    {
     "name": "stdout",
     "output_type": "stream",
     "text": [
      "Adding layer: Switzerland\n"
     ]
    }
   ],
   "source": [
    "\n",
    "shp = \"data/gadm41_CHE_shp/gadm41_CHE_0.shp\"\n",
    "\n",
    "ch = gm.shp_to_ee(shp)\n",
    "\n",
    "gmMap = gm.Map()\n",
    "gvMap.clearMap()\n",
    "\n",
    "gvMap.addLayer(ch,{},'Switzerland')\n",
    "gmMap.addLayer(ch,{},'Switzerland')\n",
    "\n",
    "gmMap.centerObject(ch)\n",
    "gvMap.centerObject(ch)\n",
    "gvMap.view()\n",
    "gmMap"
   ]
  }
 ],
 "metadata": {
  "kernelspec": {
   "display_name": "venv",
   "language": "python",
   "name": "python3"
  },
  "language_info": {
   "codemirror_mode": {
    "name": "ipython",
    "version": 3
   },
   "file_extension": ".py",
   "mimetype": "text/x-python",
   "name": "python",
   "nbconvert_exporter": "python",
   "pygments_lexer": "ipython3",
   "version": "3.13.2"
  }
 },
 "nbformat": 4,
 "nbformat_minor": 2
}
