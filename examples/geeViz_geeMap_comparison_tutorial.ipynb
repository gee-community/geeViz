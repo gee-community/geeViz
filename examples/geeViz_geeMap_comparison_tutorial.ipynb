{
 "cells": [
  {
   "cell_type": "markdown",
   "metadata": {},
   "source": [
    "# A comparison between geeViz and geeMap's map visualization capabilities\n",
    "\n",
    "* Both packages provide methods to visualize and summarize EE objects as well as non-EE-based image services\n",
    "* geeViz uses the localhost in a web server. It will run in notbooks, iPython, or a regular script\n",
    "* geeMap uses iPython widgets, and therefore needs to run from a notebook or iPython\n",
    "* geeViz uses geeMap when appropriate, but still relies on its own map visualization tool for a variety of reasons\n",
    "\n",
    "* This is intended to illustrate the basic map functionality of each package. Refer to each packages examples for more in-depth demos\n",
    "\n",
    "\n",
    "[![github](https://img.shields.io/badge/-see%20sources-white?logo=github&labelColor=555)](https://github.com/gee-community/geeviz/blob/master/examples/geeViz_geeMap_comparison_tutorial.ipynb) \n",
    "[![github](https://colab.research.google.com/assets/colab-badge.svg)](https://colab.research.google.com/github/gee-community/geeViz/blob/master/examples/geeViz_geeMap_comparison_tutorial.ipynb)"
   ]
  },
  {
   "cell_type": "code",
   "execution_count": null,
   "metadata": {},
   "outputs": [],
   "source": [
    "import ee\n",
    "\n",
    "\n",
    "import geeViz.geeView as gv\n",
    "\n",
    "import geemap as gm\n",
    "\n",
    "\n",
    "\n",
    "gvMap = gv.Map\n",
    "gmMap = gm.Map()\n"
   ]
  },
  {
   "cell_type": "markdown",
   "metadata": {},
   "source": [
    "## First, we'll take a look at the two different map interfaces\n"
   ]
  },
  {
   "cell_type": "code",
   "execution_count": null,
   "metadata": {},
   "outputs": [],
   "source": [
    "# geeMap you simply call the object\n",
    "gmMap"
   ]
  },
  {
   "cell_type": "code",
   "execution_count": null,
   "metadata": {},
   "outputs": [],
   "source": [
    "# geeViz you use the view method\n",
    "gvMap.view()"
   ]
  },
  {
   "cell_type": "markdown",
   "metadata": {},
   "source": [
    "## Some methods are similar between the methods available\n",
    "\n",
    "* addLayer\n",
    "* setCenter\n",
    "* centerObject"
   ]
  },
  {
   "cell_type": "code",
   "execution_count": null,
   "metadata": {},
   "outputs": [],
   "source": [
    "gmMap = gm.Map()\n",
    "\n",
    "pt = ee.Geometry.Point([-111.92926447956665, 40.64356771453405])\n",
    "\n",
    "gmMap.centerObject(pt,10)\n",
    "gvMap.centerObject(pt,10)\n",
    "\n",
    "gvMap.view()\n",
    "gmMap"
   ]
  },
  {
   "cell_type": "code",
   "execution_count": null,
   "metadata": {},
   "outputs": [],
   "source": [
    "gmMap = gm.Map()\n",
    "\n",
    "\n",
    "gmMap.setCenter(-111.92926447956665, 40.64356771453405,10)\n",
    "gvMap.setCenter(-111.92926447956665, 40.64356771453405,10)\n",
    "\n",
    "gvMap.view()\n",
    "gmMap"
   ]
  },
  {
   "cell_type": "markdown",
   "metadata": {},
   "source": [
    "* Adding layers is very similar\n",
    "    * geeMap makes the top layer on the map the bottom layer in the layer UI list, while geeViz they appear in the same order as on the map (you can reorder most map layers in geeViz with a drag and drop to reorder)"
   ]
  },
  {
   "cell_type": "code",
   "execution_count": null,
   "metadata": {},
   "outputs": [],
   "source": [
    "gmMap = gm.Map()\n",
    "\n",
    "# Add Earth Engine dataset\n",
    "dem = ee.Image(\"USGS/SRTMGL1_003\")\n",
    "landcover = ee.Image(\"ESA/GLOBCOVER_L4_200901_200912_V2_3\").select(\"landcover\")\n",
    "landsat7 = ee.Image(\"LANDSAT/LE7_TOA_5YEAR/1999_2003\").select(\n",
    "    [\"B1\", \"B2\", \"B3\", \"B4\", \"B5\", \"B7\"]\n",
    ")\n",
    "states = ee.FeatureCollection(\"TIGER/2018/States\")\n",
    "\n",
    "# Set visualization parameters.\n",
    "vis_params = {\n",
    "    \"min\": 0,\n",
    "    \"max\": 4000,\n",
    "    \"palette\": [\"006633\", \"E5FFCC\", \"662A00\", \"D8D8D8\", \"F5F5F5\"],\n",
    "}\n",
    "\n",
    "# Add Earth Engine layers to Map\n",
    "gmMap.addLayer(dem, vis_params, \"SRTM DEM\", True)\n",
    "gmMap.addLayer(landcover, {}, \"Land cover\")\n",
    "gmMap.addLayer(\n",
    "    landsat7,\n",
    "    {\"bands\": [\"B4\", \"B3\", \"B2\"], \"min\": 20, \"max\": 200, \"gamma\": 2.0},\n",
    "    \"Landsat 7\",\n",
    ")\n",
    "gmMap.addLayer(states, {}, \"US States\")\n",
    "\n",
    "\n",
    "gvMap.clearMap()\n",
    "\n",
    "\n",
    "gvMap.addLayer(dem, vis_params, \"SRTM DEM\", True)\n",
    "gvMap.addLayer(landcover, {}, \"Land cover\")\n",
    "gvMap.addLayer(\n",
    "    landsat7,\n",
    "    {\"bands\": [\"B4\", \"B3\", \"B2\"], \"min\": 20, \"max\": 200, \"gamma\": 2.0},\n",
    "    \"Landsat 7\",\n",
    ")\n",
    "gvMap.addLayer(states, {}, \"US States\")\n",
    "\n",
    "gmMap.setCenter(-111.92926447956665, 40.64356771453405,10)\n",
    "gvMap.setCenter(-111.92926447956665, 40.64356771453405,10)\n",
    "\n",
    "gvMap.view()\n",
    "gmMap"
   ]
  },
  {
   "cell_type": "markdown",
   "metadata": {},
   "source": [
    "* geeMap and geeViz provide different methods creating legends\n",
    "\n",
    "* geeViz will try to populate a legend with any single-band image or imageCollection its given\n",
    "\n",
    "* If an image or imageCollection has images with _class_name, _class_value, _class_palette properties, you can use `\"autoViz\":True` to populate a legend\n",
    "\n",
    "* geeMap provides methods to create legends"
   ]
  },
  {
   "cell_type": "code",
   "execution_count": null,
   "metadata": {},
   "outputs": [],
   "source": [
    "gmMap = gm.Map()\n",
    "gvMap.clearMap()\n",
    "\n",
    "legend_dict = {\n",
    "    \"11 Open Water\": \"466b9f\",\n",
    "    \"12 Perennial Ice/Snow\": \"d1def8\",\n",
    "    \"21 Developed, Open Space\": \"dec5c5\",\n",
    "    \"22 Developed, Low Intensity\": \"d99282\",\n",
    "    \"23 Developed, Medium Intensity\": \"eb0000\",\n",
    "    \"24 Developed High Intensity\": \"ab0000\",\n",
    "    \"31 Barren Land (Rock/Sand/Clay)\": \"b3ac9f\",\n",
    "    \"41 Deciduous Forest\": \"68ab5f\",\n",
    "    \"42 Evergreen Forest\": \"1c5f2c\",\n",
    "    \"43 Mixed Forest\": \"b5c58f\",\n",
    "    \"51 Dwarf Scrub\": \"af963c\",\n",
    "    \"52 Shrub/Scrub\": \"ccb879\",\n",
    "    \"71 Grassland/Herbaceous\": \"dfdfc2\",\n",
    "    \"72 Sedge/Herbaceous\": \"d1d182\",\n",
    "    \"73 Lichens\": \"a3cc51\",\n",
    "    \"74 Moss\": \"82ba9e\",\n",
    "    \"81 Pasture/Hay\": \"dcd939\",\n",
    "    \"82 Cultivated Crops\": \"ab6c28\",\n",
    "    \"90 Woody Wetlands\": \"b8d9eb\",\n",
    "    \"95 Emergent Herbaceous Wetlands\": \"6c9fb8\",\n",
    "}\n",
    "\n",
    "landcover = ee.Image(\"USGS/NLCD/NLCD2016\").select(\"landcover\")\n",
    "gmMap.addLayer(landcover, {}, \"NLCD Land Cover\")\n",
    "\n",
    "gmMap.add_legend(legend_title=\"NLCD Land Cover\", legend_dict=legend_dict)\n",
    "\n",
    "\n",
    "gvMap.addLayer(landcover,{'classLegendDict':legend_dict}, \"NLCD Land Cover\")\n",
    "\n",
    "gmMap.setCenter(-111.92926447956665, 40.64356771453405,10)\n",
    "gvMap.setCenter(-111.92926447956665, 40.64356771453405,10)\n",
    "\n",
    "\n",
    "gvMap.view()\n",
    "gmMap"
   ]
  },
  {
   "cell_type": "code",
   "execution_count": null,
   "metadata": {},
   "outputs": [],
   "source": [
    "gmMap = gm.Map()\n",
    "gvMap.clearMap()\n",
    "\n",
    "ee_class_table = \"\"\"\n",
    "\n",
    "Value\tColor\tDescription\n",
    "0\t1c0dff\tWater\n",
    "1\t05450a\tEvergreen needleleaf forest\n",
    "2\t086a10\tEvergreen broadleaf forest\n",
    "3\t54a708\tDeciduous needleleaf forest\n",
    "4\t78d203\tDeciduous broadleaf forest\n",
    "5\t009900\tMixed forest\n",
    "6\tc6b044\tClosed shrublands\n",
    "7\tdcd159\tOpen shrublands\n",
    "8\tdade48\tWoody savannas\n",
    "9\tfbff13\tSavannas\n",
    "10\tb6ff05\tGrasslands\n",
    "11\t27ff87\tPermanent wetlands\n",
    "12\tc24f44\tCroplands\n",
    "13\ta5a5a5\tUrban and built-up\n",
    "14\tff6d4c\tCropland/natural vegetation mosaic\n",
    "15\t69fff8\tSnow and ice\n",
    "16\tf9ffa4\tBarren or sparsely vegetated\n",
    "254\tffffff\tUnclassified\n",
    "\n",
    "\"\"\"\n",
    "\n",
    "landcover = ee.Image(\"MODIS/051/MCD12Q1/2013_01_01\").select(\"Land_Cover_Type_1\")\n",
    "\n",
    "proj = landcover.projection().getInfo()\n",
    "gmMap.setCenter(6.746, 46.529, 2)\n",
    "gmMap.addLayer(landcover, {}, \"MODIS Land Cover\")\n",
    "\n",
    "legend_dict = gm.legend_from_ee(ee_class_table)\n",
    "gmMap.add_legend(legend_title=\"MODIS Global Land Cover\", legend_dict=legend_dict)\n",
    "\n",
    "gvMap.setCenter(6.746, 46.529,2)\n",
    "gvMap.addLayer(landcover, {'autoViz':True,'canAreaChart':True,'areaChartParams':{'crs':proj['crs'],'transform':proj['transform'],'minZoomSpecifiedScale':5}}, \"MODIS Land Cover\")\n",
    "\n",
    "gvMap.turnOnAutoAreaCharting()\n",
    "gvMap.view()\n",
    "gmMap"
   ]
  },
  {
   "cell_type": "markdown",
   "metadata": {},
   "source": [
    "## Using geeMap and geeViz together\n",
    "\n",
    "* Currently, geeViz is integrating the broad functionality of geeMap where appropriate.\n",
    "* We feel that many of the conversion functions and data extraction functions work well in a regular Python script, as well as in notebooks in iPython, so we can use them in geeViz as they are\n",
    "* As such, geeViz is building dependencies on geeMap"
   ]
  },
  {
   "cell_type": "code",
   "execution_count": null,
   "metadata": {},
   "outputs": [],
   "source": [
    "\n",
    "shp = \"data/gadm41_CHE_shp/gadm41_CHE_0.shp\"\n",
    "\n",
    "ch = gm.shp_to_ee(shp)\n",
    "\n",
    "gmMap = gm.Map()\n",
    "gvMap.clearMap()\n",
    "\n",
    "gvMap.addLayer(ch,{},'Switzerland')\n",
    "gmMap.addLayer(ch,{},'Switzerland')\n",
    "\n",
    "gmMap.centerObject(ch)\n",
    "gvMap.centerObject(ch)\n",
    "gvMap.view()\n",
    "gmMap"
   ]
  }
 ],
 "metadata": {
  "kernelspec": {
   "display_name": "venv",
   "language": "python",
   "name": "python3"
  },
  "language_info": {
   "codemirror_mode": {
    "name": "ipython",
    "version": 3
   },
   "file_extension": ".py",
   "mimetype": "text/x-python",
   "name": "python",
   "nbconvert_exporter": "python",
   "pygments_lexer": "ipython3",
   "version": "3.13.2"
  }
 },
 "nbformat": 4,
 "nbformat_minor": 2
}
