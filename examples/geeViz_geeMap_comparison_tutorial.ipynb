{
 "cells": [
  {
   "cell_type": "markdown",
   "metadata": {},
   "source": [
    "# A comparison between geeViz and geeMap's map visualization capabilities\n",
    "\n",
    "* Both packages provide methods to visualize and summarize EE objects as well as non-EE-based image services\n",
    "* geeViz uses the localhost in a web server. It will run in notbooks, iPython, or a regular script\n",
    "* geeMap uses iPython widgets, and therefore needs to run from a notebook or iPython"
   ]
  },
  {
   "cell_type": "code",
   "execution_count": 1,
   "metadata": {},
   "outputs": [
    {
     "name": "stdout",
     "output_type": "stream",
     "text": [
      "geeViz package folder: c:\\Users\\ihousman\\AppData\\Local\\Programs\\Python\\Python311\\Lib\\site-packages\\geeViz\n"
     ]
    }
   ],
   "source": [
    "import ee\n",
    "\n",
    "projectID = 'lcms-292214'\n",
    "ee.Initialize(project=projectID)\n",
    "\n",
    "\n",
    "import geemap as gm\n",
    "import geeViz.geeView as gv\n",
    "\n",
    "\n",
    "gvMap = gv.Map\n",
    "gmMap = gm.Map()\n"
   ]
  },
  {
   "cell_type": "markdown",
   "metadata": {},
   "source": [
    "### First, we'll take a look at the two different map interfaces\n"
   ]
  },
  {
   "cell_type": "code",
   "execution_count": 19,
   "metadata": {},
   "outputs": [
    {
     "data": {
      "text/html": [
       "\n",
       "            <style>\n",
       "                .geemap-dark {\n",
       "                    --jp-widgets-color: white;\n",
       "                    --jp-widgets-label-color: white;\n",
       "                    --jp-ui-font-color1: white;\n",
       "                    --jp-layout-color2: #454545;\n",
       "                    background-color: #383838;\n",
       "                }\n",
       "                    \n",
       "                .geemap-dark .jupyter-button {\n",
       "                    --jp-layout-color3: #383838;\n",
       "                }\n",
       "                \n",
       "                .geemap-colab {\n",
       "                    background-color: var(--colab-primary-surface-color, white);\n",
       "                }\n",
       "                    \n",
       "                .geemap-colab .jupyter-button {\n",
       "                    --jp-layout-color3: var(--colab-primary-surface-color, white);\n",
       "                }\n",
       "            </style>\n",
       "            "
      ],
      "text/plain": [
       "<IPython.core.display.HTML object>"
      ]
     },
     "metadata": {},
     "output_type": "display_data"
    },
    {
     "data": {
      "application/vnd.jupyter.widget-view+json": {
       "model_id": "bbdec72bbfc6407ab2317655c8db8fae",
       "version_major": 2,
       "version_minor": 0
      },
      "text/plain": [
       "Map(center=[0, 0], controls=(WidgetControl(options=['position', 'transparent_bg'], widget=SearchDataGUI(childr…"
      ]
     },
     "execution_count": 19,
     "metadata": {},
     "output_type": "execute_result"
    }
   ],
   "source": [
    "# geeMap you simply call the object\n",
    "gmMap"
   ]
  },
  {
   "cell_type": "code",
   "execution_count": 20,
   "metadata": {},
   "outputs": [
    {
     "data": {
      "text/html": [
       "\n",
       "            <style>\n",
       "                .geemap-dark {\n",
       "                    --jp-widgets-color: white;\n",
       "                    --jp-widgets-label-color: white;\n",
       "                    --jp-ui-font-color1: white;\n",
       "                    --jp-layout-color2: #454545;\n",
       "                    background-color: #383838;\n",
       "                }\n",
       "                    \n",
       "                .geemap-dark .jupyter-button {\n",
       "                    --jp-layout-color3: #383838;\n",
       "                }\n",
       "                \n",
       "                .geemap-colab {\n",
       "                    background-color: var(--colab-primary-surface-color, white);\n",
       "                }\n",
       "                    \n",
       "                .geemap-colab .jupyter-button {\n",
       "                    --jp-layout-color3: var(--colab-primary-surface-color, white);\n",
       "                }\n",
       "            </style>\n",
       "            "
      ],
      "text/plain": [
       "<IPython.core.display.HTML object>"
      ]
     },
     "metadata": {},
     "output_type": "display_data"
    },
    {
     "name": "stdout",
     "output_type": "stream",
     "text": [
      "Starting webmap\n",
      "Using default refresh token for geeView\n",
      "Local web server at: http://localhost:8001/geeView/ already serving.\n",
      "cwd a:\\GEE\\gee_py_modules_package\\geeViz\\examples\n",
      "geeView URL: http://localhost:8001/geeView/?projectID=lcms-292214&accessToken=ya29.a0AXooCgsdbQ1J5iOvy6Bkykx1WUVPacnBXyU5BfyLptM8ES6KJaqIr5JwTolkMXBv2cwrjgvvRV6ZfTWcxzKH7UEW1W-E0fja8XTCxH0psg1f-NWWZuVjtGu7E7_oVKpb3TAadYNGPPVr5cCfRk38G63Pl4s0N4m4cP1gUHAaCgYKAbsSARESFQHGX2Mi-X1SjC3oAWx7B3zdgf3GTg0174\n"
     ]
    },
    {
     "data": {
      "text/html": [
       "\n",
       "        <iframe\n",
       "            width=\"100%\"\n",
       "            height=\"525px\"\n",
       "            src=\"http://localhost:8001/geeView/?projectID=lcms-292214&accessToken=ya29.a0AXooCgsdbQ1J5iOvy6Bkykx1WUVPacnBXyU5BfyLptM8ES6KJaqIr5JwTolkMXBv2cwrjgvvRV6ZfTWcxzKH7UEW1W-E0fja8XTCxH0psg1f-NWWZuVjtGu7E7_oVKpb3TAadYNGPPVr5cCfRk38G63Pl4s0N4m4cP1gUHAaCgYKAbsSARESFQHGX2Mi-X1SjC3oAWx7B3zdgf3GTg0174\"\n",
       "            frameborder=\"0\"\n",
       "            allowfullscreen\n",
       "            \n",
       "        ></iframe>\n",
       "        "
      ],
      "text/plain": [
       "<IPython.lib.display.IFrame at 0x24c08e25610>"
      ]
     },
     "metadata": {},
     "output_type": "display_data"
    }
   ],
   "source": [
    "# geeViz you use the view method\n",
    "gvMap.view()"
   ]
  },
  {
   "cell_type": "markdown",
   "metadata": {},
   "source": [
    "# Some methods are similar between the methods available\n",
    "\n",
    "* addLayer\n",
    "* centerObject"
   ]
  },
  {
   "cell_type": "code",
   "execution_count": 23,
   "metadata": {},
   "outputs": [
    {
     "data": {
      "text/html": [
       "\n",
       "            <style>\n",
       "                .geemap-dark {\n",
       "                    --jp-widgets-color: white;\n",
       "                    --jp-widgets-label-color: white;\n",
       "                    --jp-ui-font-color1: white;\n",
       "                    --jp-layout-color2: #454545;\n",
       "                    background-color: #383838;\n",
       "                }\n",
       "                    \n",
       "                .geemap-dark .jupyter-button {\n",
       "                    --jp-layout-color3: #383838;\n",
       "                }\n",
       "                \n",
       "                .geemap-colab {\n",
       "                    background-color: var(--colab-primary-surface-color, white);\n",
       "                }\n",
       "                    \n",
       "                .geemap-colab .jupyter-button {\n",
       "                    --jp-layout-color3: var(--colab-primary-surface-color, white);\n",
       "                }\n",
       "            </style>\n",
       "            "
      ],
      "text/plain": [
       "<IPython.core.display.HTML object>"
      ]
     },
     "metadata": {},
     "output_type": "display_data"
    },
    {
     "name": "stdout",
     "output_type": "stream",
     "text": [
      "Starting webmap\n",
      "Using default refresh token for geeView\n",
      "Local web server at: http://localhost:8001/geeView/ already serving.\n",
      "cwd a:\\GEE\\gee_py_modules_package\\geeViz\\examples\n",
      "geeView URL: http://localhost:8001/geeView/?projectID=lcms-292214&accessToken=ya29.a0AXooCgvftgzbnJ9bwGZotgh2njO3FC79thgjYkvjT88VY2AivEOY6FQVWEA82l5xVlYtVJk7C76JmDdpJHmGqlKL54519rnL_X7nafmjv6-tY8KJFLdDMKJygoYGG2PDdREZcFguNXvErphBDURZS1noDpEYk-g0QLy4G1gaCgYKAXsSARESFQHGX2Miw12tHIn1SDOO8n1-NGRe9Q0174\n"
     ]
    },
    {
     "data": {
      "text/html": [
       "\n",
       "        <iframe\n",
       "            width=\"100%\"\n",
       "            height=\"525px\"\n",
       "            src=\"http://localhost:8001/geeView/?projectID=lcms-292214&accessToken=ya29.a0AXooCgvftgzbnJ9bwGZotgh2njO3FC79thgjYkvjT88VY2AivEOY6FQVWEA82l5xVlYtVJk7C76JmDdpJHmGqlKL54519rnL_X7nafmjv6-tY8KJFLdDMKJygoYGG2PDdREZcFguNXvErphBDURZS1noDpEYk-g0QLy4G1gaCgYKAXsSARESFQHGX2Miw12tHIn1SDOO8n1-NGRe9Q0174\"\n",
       "            frameborder=\"0\"\n",
       "            allowfullscreen\n",
       "            \n",
       "        ></iframe>\n",
       "        "
      ],
      "text/plain": [
       "<IPython.lib.display.IFrame at 0x24c0bb5be10>"
      ]
     },
     "metadata": {},
     "output_type": "display_data"
    },
    {
     "data": {
      "application/vnd.jupyter.widget-view+json": {
       "model_id": "a751eea839664027a50100b0bf1e1f96",
       "version_major": 2,
       "version_minor": 0
      },
      "text/plain": [
       "Map(center=[40.64356771453405, -111.92926447956667], controls=(WidgetControl(options=['position', 'transparent…"
      ]
     },
     "execution_count": 23,
     "metadata": {},
     "output_type": "execute_result"
    }
   ],
   "source": [
    "gmMap = gm.Map()\n",
    "\n",
    "pt = ee.Geometry.Point([-111.92926447956665, 40.64356771453405])\n",
    "\n",
    "gmMap.centerObject(pt,10)\n",
    "gvMap.centerObject(pt,10)\n",
    "\n",
    "gvMap.view()\n",
    "gmMap"
   ]
  },
  {
   "cell_type": "markdown",
   "metadata": {},
   "source": [
    "* Adding layers is very similar\n",
    "    * geeMap makes the first to last layers added appear top to bottom in the layer list, while geeViz they appear bottom to top"
   ]
  },
  {
   "cell_type": "code",
   "execution_count": 28,
   "metadata": {},
   "outputs": [
    {
     "data": {
      "text/html": [
       "\n",
       "            <style>\n",
       "                .geemap-dark {\n",
       "                    --jp-widgets-color: white;\n",
       "                    --jp-widgets-label-color: white;\n",
       "                    --jp-ui-font-color1: white;\n",
       "                    --jp-layout-color2: #454545;\n",
       "                    background-color: #383838;\n",
       "                }\n",
       "                    \n",
       "                .geemap-dark .jupyter-button {\n",
       "                    --jp-layout-color3: #383838;\n",
       "                }\n",
       "                \n",
       "                .geemap-colab {\n",
       "                    background-color: var(--colab-primary-surface-color, white);\n",
       "                }\n",
       "                    \n",
       "                .geemap-colab .jupyter-button {\n",
       "                    --jp-layout-color3: var(--colab-primary-surface-color, white);\n",
       "                }\n",
       "            </style>\n",
       "            "
      ],
      "text/plain": [
       "<IPython.core.display.HTML object>"
      ]
     },
     "metadata": {},
     "output_type": "display_data"
    },
    {
     "name": "stdout",
     "output_type": "stream",
     "text": [
      "Adding layer: SRTM DEM\n",
      "Adding layer: Land cover\n",
      "Adding layer: Landsat 7\n",
      "Adding layer: US States\n",
      "Starting webmap\n",
      "Using default refresh token for geeView\n",
      "Local web server at: http://localhost:8001/geeView/ already serving.\n",
      "cwd a:\\GEE\\gee_py_modules_package\\geeViz\\examples\n",
      "geeView URL: http://localhost:8001/geeView/?projectID=lcms-292214&accessToken=ya29.a0AXooCgvGp2IVLi_CigjpGkrHziS6qqNYEMOGgmIuFJr-4TBDGWR9HPfPpLK7e97TS56Z5-tq-vL2v3ogUqKgupbRBdSzlUQZbhzVn8llhQuRB4eHFIAwHD3SfX4sovBSiIAH77JVWO3bG3ilkFPS2f4RcQZ14D_fvjgXOCMaCgYKAWYSARESFQHGX2MiLbNb6vQGgayaMzTMb6EWNA0174\n"
     ]
    },
    {
     "data": {
      "text/html": [
       "\n",
       "        <iframe\n",
       "            width=\"100%\"\n",
       "            height=\"525px\"\n",
       "            src=\"http://localhost:8001/geeView/?projectID=lcms-292214&accessToken=ya29.a0AXooCgvGp2IVLi_CigjpGkrHziS6qqNYEMOGgmIuFJr-4TBDGWR9HPfPpLK7e97TS56Z5-tq-vL2v3ogUqKgupbRBdSzlUQZbhzVn8llhQuRB4eHFIAwHD3SfX4sovBSiIAH77JVWO3bG3ilkFPS2f4RcQZ14D_fvjgXOCMaCgYKAWYSARESFQHGX2MiLbNb6vQGgayaMzTMb6EWNA0174\"\n",
       "            frameborder=\"0\"\n",
       "            allowfullscreen\n",
       "            \n",
       "        ></iframe>\n",
       "        "
      ],
      "text/plain": [
       "<IPython.lib.display.IFrame at 0x24c0ba554d0>"
      ]
     },
     "metadata": {},
     "output_type": "display_data"
    },
    {
     "data": {
      "application/vnd.jupyter.widget-view+json": {
       "model_id": "a42e2d101e9c4c609d33b7617b1d77c4",
       "version_major": 2,
       "version_minor": 0
      },
      "text/plain": [
       "Map(center=[0, 0], controls=(WidgetControl(options=['position', 'transparent_bg'], widget=SearchDataGUI(childr…"
      ]
     },
     "execution_count": 28,
     "metadata": {},
     "output_type": "execute_result"
    }
   ],
   "source": [
    "gmMap = gm.Map()\n",
    "\n",
    "# Add Earth Engine dataset\n",
    "dem = ee.Image(\"USGS/SRTMGL1_003\")\n",
    "landcover = ee.Image(\"ESA/GLOBCOVER_L4_200901_200912_V2_3\").select(\"landcover\")\n",
    "landsat7 = ee.Image(\"LANDSAT/LE7_TOA_5YEAR/1999_2003\").select(\n",
    "    [\"B1\", \"B2\", \"B3\", \"B4\", \"B5\", \"B7\"]\n",
    ")\n",
    "states = ee.FeatureCollection(\"TIGER/2018/States\")\n",
    "\n",
    "# Set visualization parameters.\n",
    "vis_params = {\n",
    "    \"min\": 0,\n",
    "    \"max\": 4000,\n",
    "    \"palette\": [\"006633\", \"E5FFCC\", \"662A00\", \"D8D8D8\", \"F5F5F5\"],\n",
    "}\n",
    "\n",
    "# Add Earth Engine layers to Map\n",
    "gmMap.addLayer(dem, vis_params, \"SRTM DEM\", True)\n",
    "gmMap.addLayer(landcover, {}, \"Land cover\")\n",
    "gmMap.addLayer(\n",
    "    landsat7,\n",
    "    {\"bands\": [\"B4\", \"B3\", \"B2\"], \"min\": 20, \"max\": 200, \"gamma\": 2.0},\n",
    "    \"Landsat 7\",\n",
    ")\n",
    "gmMap.addLayer(states, {}, \"US States\")\n",
    "\n",
    "\n",
    "gvMap.clearMap()\n",
    "\n",
    "\n",
    "gvMap.addLayer(dem, vis_params, \"SRTM DEM\", True)\n",
    "gvMap.addLayer(landcover, {}, \"Land cover\")\n",
    "gvMap.addLayer(\n",
    "    landsat7,\n",
    "    {\"bands\": [\"B4\", \"B3\", \"B2\"], \"min\": 20, \"max\": 200, \"gamma\": 2.0},\n",
    "    \"Landsat 7\",\n",
    ")\n",
    "gvMap.addLayer(states, {}, \"US States\")\n",
    "\n",
    "gvMap.view()\n",
    "gmMap"
   ]
  },
  {
   "cell_type": "markdown",
   "metadata": {},
   "source": [
    "* geeMap and geeViz provide different methods creating legends\n",
    "\n",
    "* geeViz will try to populate a legend with any single-band image or imageCollection its given\n",
    "\n",
    "* geeMap provides methods to create legends"
   ]
  },
  {
   "cell_type": "code",
   "execution_count": 35,
   "metadata": {},
   "outputs": [
    {
     "data": {
      "text/html": [
       "\n",
       "            <style>\n",
       "                .geemap-dark {\n",
       "                    --jp-widgets-color: white;\n",
       "                    --jp-widgets-label-color: white;\n",
       "                    --jp-ui-font-color1: white;\n",
       "                    --jp-layout-color2: #454545;\n",
       "                    background-color: #383838;\n",
       "                }\n",
       "                    \n",
       "                .geemap-dark .jupyter-button {\n",
       "                    --jp-layout-color3: #383838;\n",
       "                }\n",
       "                \n",
       "                .geemap-colab {\n",
       "                    background-color: var(--colab-primary-surface-color, white);\n",
       "                }\n",
       "                    \n",
       "                .geemap-colab .jupyter-button {\n",
       "                    --jp-layout-color3: var(--colab-primary-surface-color, white);\n",
       "                }\n",
       "            </style>\n",
       "            "
      ],
      "text/plain": [
       "<IPython.core.display.HTML object>"
      ]
     },
     "metadata": {},
     "output_type": "display_data"
    },
    {
     "name": "stdout",
     "output_type": "stream",
     "text": [
      "Adding layer: NLCD Land Cover\n",
      "Starting webmap\n",
      "Using default refresh token for geeView\n",
      "Local web server at: http://localhost:8001/geeView/ already serving.\n",
      "cwd a:\\GEE\\gee_py_modules_package\\geeViz\\examples\n",
      "geeView URL: http://localhost:8001/geeView/?projectID=lcms-292214&accessToken=ya29.a0AXooCguQ52eT9EsSmGd7tRcu7oSCWEzKLj9T3fVje3VUIPJaeEPRhDBXnA5Ko_B_NfqsoJUTmPVwqKUdVqcLtsCwXdajtScj5XpKm78H2ytCan3R0xKmzViNkYJ5MOA4R_HTOkwmw6NnS6tcp_f5EBi8G0OnU3G_54z-rR4aCgYKAT4SARESFQHGX2MiKNbn3JBDsZKdAvsWPcmXCw0174\n"
     ]
    },
    {
     "data": {
      "text/html": [
       "\n",
       "        <iframe\n",
       "            width=\"100%\"\n",
       "            height=\"525px\"\n",
       "            src=\"http://localhost:8001/geeView/?projectID=lcms-292214&accessToken=ya29.a0AXooCguQ52eT9EsSmGd7tRcu7oSCWEzKLj9T3fVje3VUIPJaeEPRhDBXnA5Ko_B_NfqsoJUTmPVwqKUdVqcLtsCwXdajtScj5XpKm78H2ytCan3R0xKmzViNkYJ5MOA4R_HTOkwmw6NnS6tcp_f5EBi8G0OnU3G_54z-rR4aCgYKAT4SARESFQHGX2MiKNbn3JBDsZKdAvsWPcmXCw0174\"\n",
       "            frameborder=\"0\"\n",
       "            allowfullscreen\n",
       "            \n",
       "        ></iframe>\n",
       "        "
      ],
      "text/plain": [
       "<IPython.lib.display.IFrame at 0x24c0bf9bb10>"
      ]
     },
     "metadata": {},
     "output_type": "display_data"
    },
    {
     "data": {
      "application/vnd.jupyter.widget-view+json": {
       "model_id": "cab25f9d6b0b43249b4d62d24191de71",
       "version_major": 2,
       "version_minor": 0
      },
      "text/plain": [
       "Map(center=[0, 0], controls=(WidgetControl(options=['position', 'transparent_bg'], widget=SearchDataGUI(childr…"
      ]
     },
     "execution_count": 35,
     "metadata": {},
     "output_type": "execute_result"
    }
   ],
   "source": [
    "gmMap = gm.Map()\n",
    "gvMap.clearMap()\n",
    "\n",
    "legend_dict = {\n",
    "    \"11 Open Water\": \"466b9f\",\n",
    "    \"12 Perennial Ice/Snow\": \"d1def8\",\n",
    "    \"21 Developed, Open Space\": \"dec5c5\",\n",
    "    \"22 Developed, Low Intensity\": \"d99282\",\n",
    "    \"23 Developed, Medium Intensity\": \"eb0000\",\n",
    "    \"24 Developed High Intensity\": \"ab0000\",\n",
    "    \"31 Barren Land (Rock/Sand/Clay)\": \"b3ac9f\",\n",
    "    \"41 Deciduous Forest\": \"68ab5f\",\n",
    "    \"42 Evergreen Forest\": \"1c5f2c\",\n",
    "    \"43 Mixed Forest\": \"b5c58f\",\n",
    "    \"51 Dwarf Scrub\": \"af963c\",\n",
    "    \"52 Shrub/Scrub\": \"ccb879\",\n",
    "    \"71 Grassland/Herbaceous\": \"dfdfc2\",\n",
    "    \"72 Sedge/Herbaceous\": \"d1d182\",\n",
    "    \"73 Lichens\": \"a3cc51\",\n",
    "    \"74 Moss\": \"82ba9e\",\n",
    "    \"81 Pasture/Hay\": \"dcd939\",\n",
    "    \"82 Cultivated Crops\": \"ab6c28\",\n",
    "    \"90 Woody Wetlands\": \"b8d9eb\",\n",
    "    \"95 Emergent Herbaceous Wetlands\": \"6c9fb8\",\n",
    "}\n",
    "\n",
    "landcover = ee.Image(\"USGS/NLCD/NLCD2016\").select(\"landcover\")\n",
    "gmMap.addLayer(landcover, {}, \"NLCD Land Cover\")\n",
    "\n",
    "gmMap.add_legend(legend_title=\"NLCD Land Cover Classification\", legend_dict=legend_dict)\n",
    "\n",
    "\n",
    "gvMap.addLayer(landcover,{'autoViz':True}, \"NLCD Land Cover\")\n",
    "\n",
    "gvMap.view()\n",
    "gmMap"
   ]
  },
  {
   "cell_type": "code",
   "execution_count": 47,
   "metadata": {},
   "outputs": [
    {
     "data": {
      "text/html": [
       "\n",
       "            <style>\n",
       "                .geemap-dark {\n",
       "                    --jp-widgets-color: white;\n",
       "                    --jp-widgets-label-color: white;\n",
       "                    --jp-ui-font-color1: white;\n",
       "                    --jp-layout-color2: #454545;\n",
       "                    background-color: #383838;\n",
       "                }\n",
       "                    \n",
       "                .geemap-dark .jupyter-button {\n",
       "                    --jp-layout-color3: #383838;\n",
       "                }\n",
       "                \n",
       "                .geemap-colab {\n",
       "                    background-color: var(--colab-primary-surface-color, white);\n",
       "                }\n",
       "                    \n",
       "                .geemap-colab .jupyter-button {\n",
       "                    --jp-layout-color3: var(--colab-primary-surface-color, white);\n",
       "                }\n",
       "            </style>\n",
       "            "
      ],
      "text/plain": [
       "<IPython.core.display.HTML object>"
      ]
     },
     "metadata": {},
     "output_type": "display_data"
    },
    {
     "name": "stdout",
     "output_type": "stream",
     "text": [
      "Adding layer: MODIS Land Cover\n",
      "Starting webmap\n",
      "Using default refresh token for geeView\n",
      "Local web server at: http://localhost:8001/geeView/ already serving.\n",
      "cwd a:\\GEE\\gee_py_modules_package\\geeViz\\examples\n",
      "geeView URL: http://localhost:8001/geeView/?projectID=lcms-292214&accessToken=ya29.a0AXooCgtA1U2R5z16kGmETOB0hb1Xm5-o920ITV34KXOyjQJ12yB-OCU2TgaDYwwzCkEvyZJjPGtDTQ4LyWEcphdUocDnaukZVjm7_PZqCO44I-M94njYiM9nRZ47ZNM-1riixMI7WxEEpkCRpO4FTeh1CPq0LcWZwU7RiTAaCgYKAUcSARESFQHGX2MijrTLvthhghV434xdQaEEFg0174\n"
     ]
    },
    {
     "data": {
      "text/html": [
       "\n",
       "        <iframe\n",
       "            width=\"100%\"\n",
       "            height=\"525px\"\n",
       "            src=\"http://localhost:8001/geeView/?projectID=lcms-292214&accessToken=ya29.a0AXooCgtA1U2R5z16kGmETOB0hb1Xm5-o920ITV34KXOyjQJ12yB-OCU2TgaDYwwzCkEvyZJjPGtDTQ4LyWEcphdUocDnaukZVjm7_PZqCO44I-M94njYiM9nRZ47ZNM-1riixMI7WxEEpkCRpO4FTeh1CPq0LcWZwU7RiTAaCgYKAUcSARESFQHGX2MijrTLvthhghV434xdQaEEFg0174\"\n",
       "            frameborder=\"0\"\n",
       "            allowfullscreen\n",
       "            \n",
       "        ></iframe>\n",
       "        "
      ],
      "text/plain": [
       "<IPython.lib.display.IFrame at 0x24c0c3c9e50>"
      ]
     },
     "metadata": {},
     "output_type": "display_data"
    },
    {
     "data": {
      "application/vnd.jupyter.widget-view+json": {
       "model_id": "d451cc37f81f41138c426209a1cb43d7",
       "version_major": 2,
       "version_minor": 0
      },
      "text/plain": [
       "Map(center=[46.529, 6.746], controls=(WidgetControl(options=['position', 'transparent_bg'], widget=SearchDataG…"
      ]
     },
     "execution_count": 47,
     "metadata": {},
     "output_type": "execute_result"
    }
   ],
   "source": [
    "gmMap = gm.Map()\n",
    "gvMap.clearMap()\n",
    "\n",
    "ee_class_table = \"\"\"\n",
    "\n",
    "Value\tColor\tDescription\n",
    "0\t1c0dff\tWater\n",
    "1\t05450a\tEvergreen needleleaf forest\n",
    "2\t086a10\tEvergreen broadleaf forest\n",
    "3\t54a708\tDeciduous needleleaf forest\n",
    "4\t78d203\tDeciduous broadleaf forest\n",
    "5\t009900\tMixed forest\n",
    "6\tc6b044\tClosed shrublands\n",
    "7\tdcd159\tOpen shrublands\n",
    "8\tdade48\tWoody savannas\n",
    "9\tfbff13\tSavannas\n",
    "10\tb6ff05\tGrasslands\n",
    "11\t27ff87\tPermanent wetlands\n",
    "12\tc24f44\tCroplands\n",
    "13\ta5a5a5\tUrban and built-up\n",
    "14\tff6d4c\tCropland/natural vegetation mosaic\n",
    "15\t69fff8\tSnow and ice\n",
    "16\tf9ffa4\tBarren or sparsely vegetated\n",
    "254\tffffff\tUnclassified\n",
    "\n",
    "\"\"\"\n",
    "\n",
    "landcover = ee.Image(\"MODIS/051/MCD12Q1/2013_01_01\").select(\"Land_Cover_Type_1\")\n",
    "\n",
    "proj = landcover.projection().getInfo()\n",
    "gmMap.setCenter(6.746, 46.529, 2)\n",
    "gmMap.addLayer(landcover, {}, \"MODIS Land Cover\")\n",
    "\n",
    "legend_dict = gm.legend_from_ee(ee_class_table)\n",
    "gmMap.add_legend(legend_title=\"MODIS Global Land Cover\", legend_dict=legend_dict)\n",
    "\n",
    "gvMap.centerObject(ee.Geometry.Point([6.746, 46.529]),2)\n",
    "gvMap.addLayer(landcover, {'autoViz':True,'canAreaChart':True,'areaChartParams':{'crs':proj['crs'],'transform':proj['transform'],'minZoomSpecifiedScale':5}}, \"MODIS Land Cover\")\n",
    "\n",
    "gvMap.turnOnAutoAreaCharting()\n",
    "gvMap.view()\n",
    "gmMap"
   ]
  },
  {
   "cell_type": "markdown",
   "metadata": {},
   "source": [
    "# Using geeMap and geeViz together\n",
    "\n",
    "* Currently, geeViz is integrating the broad functionality of geeMap where appropriate.\n",
    "* We feel that many of the conversion functions and data extraction functions work well in a regular Python script, as well as in notebooks in iPython, so we can use them in geeViz as they are\n",
    "* As such, geeViz is building dependencies on geeMap"
   ]
  },
  {
   "cell_type": "code",
   "execution_count": 6,
   "metadata": {},
   "outputs": [
    {
     "data": {
      "text/html": [
       "\n",
       "            <style>\n",
       "                .geemap-dark {\n",
       "                    --jp-widgets-color: white;\n",
       "                    --jp-widgets-label-color: white;\n",
       "                    --jp-ui-font-color1: white;\n",
       "                    --jp-layout-color2: #454545;\n",
       "                    background-color: #383838;\n",
       "                }\n",
       "                    \n",
       "                .geemap-dark .jupyter-button {\n",
       "                    --jp-layout-color3: #383838;\n",
       "                }\n",
       "                \n",
       "                .geemap-colab {\n",
       "                    background-color: var(--colab-primary-surface-color, white);\n",
       "                }\n",
       "                    \n",
       "                .geemap-colab .jupyter-button {\n",
       "                    --jp-layout-color3: var(--colab-primary-surface-color, white);\n",
       "                }\n",
       "            </style>\n",
       "            "
      ],
      "text/plain": [
       "<IPython.core.display.HTML object>"
      ]
     },
     "metadata": {},
     "output_type": "display_data"
    },
    {
     "name": "stdout",
     "output_type": "stream",
     "text": [
      "Adding layer: Switzerland\n",
      "Type: FeatureCollection geeVectorImage\n",
      "Starting webmap\n",
      "Using default refresh token for geeView\n",
      "Local web server at: http://localhost:8001/geeView/ already serving.\n",
      "cwd a:\\GEE\\gee_py_modules_package\\geeViz\\examples\n",
      "geeView URL: http://localhost:8001/geeView/?projectID=lcms-292214&accessToken=ya29.a0AXooCgvy0ncE_qzhwQdB-wMk_-r1vxz8ZNR0h9eO4MRRwyJL6Zo_XknITKx1blHwPNAQWPUrm_1dcuBOqMmXuw6mncorrh4nnyXFzuDIzFENGZ5VACKtJ-swXy58sfmGklmJTbzIfEA1jrpXhAKx0_3qyJm9WTMPog0Aa4caCgYKAUwSARESFQHGX2MiwfJArCfoCRC3wjghTojYvw0174\n"
     ]
    },
    {
     "data": {
      "text/html": [
       "\n",
       "        <iframe\n",
       "            width=\"100%\"\n",
       "            height=\"525px\"\n",
       "            src=\"http://localhost:8001/geeView/?projectID=lcms-292214&accessToken=ya29.a0AXooCgvy0ncE_qzhwQdB-wMk_-r1vxz8ZNR0h9eO4MRRwyJL6Zo_XknITKx1blHwPNAQWPUrm_1dcuBOqMmXuw6mncorrh4nnyXFzuDIzFENGZ5VACKtJ-swXy58sfmGklmJTbzIfEA1jrpXhAKx0_3qyJm9WTMPog0Aa4caCgYKAUwSARESFQHGX2MiwfJArCfoCRC3wjghTojYvw0174\"\n",
       "            frameborder=\"0\"\n",
       "            allowfullscreen\n",
       "            \n",
       "        ></iframe>\n",
       "        "
      ],
      "text/plain": [
       "<IPython.lib.display.IFrame at 0x177e92d5fd0>"
      ]
     },
     "metadata": {},
     "output_type": "display_data"
    },
    {
     "data": {
      "application/vnd.jupyter.widget-view+json": {
       "model_id": "77dda5c32d664476a40917b95b3c75ea",
       "version_major": 2,
       "version_minor": 0
      },
      "text/plain": [
       "Map(center=[0, 0], controls=(WidgetControl(options=['position', 'transparent_bg'], widget=SearchDataGUI(childr…"
      ]
     },
     "execution_count": 6,
     "metadata": {},
     "output_type": "execute_result"
    }
   ],
   "source": [
    "shp = gv.os.path.join(gv.sys.path[0],\"data/gadm41_CHE_shp/gadm41_CHE_0.shp\")\n",
    "\n",
    "ch = gm.shp_to_ee(shp)\n",
    "\n",
    "gmMap = gm.Map()\n",
    "gvMap.clearMap()\n",
    "\n",
    "gvMap.addLayer(ch,{},'Switzerland')\n",
    "gmMap.addLayer(ch,{},'Switzerland')\n",
    "\n",
    "gmMap.centerObject(ch)\n",
    "gvMap.centerObject(ch)\n",
    "gvMap.view()\n",
    "gmMap"
   ]
  },
  {
   "cell_type": "markdown",
   "metadata": {},
   "source": [
    "* Both geeMap and geeViz can handle non-GEE-based image services as well"
   ]
  },
  {
   "cell_type": "code",
   "execution_count": null,
   "metadata": {},
   "outputs": [],
   "source": []
  }
 ],
 "metadata": {
  "kernelspec": {
   "display_name": "Python 3",
   "language": "python",
   "name": "python3"
  },
  "language_info": {
   "codemirror_mode": {
    "name": "ipython",
    "version": 3
   },
   "file_extension": ".py",
   "mimetype": "text/x-python",
   "name": "python",
   "nbconvert_exporter": "python",
   "pygments_lexer": "ipython3",
   "version": "3.11.4"
  }
 },
 "nbformat": 4,
 "nbformat_minor": 2
}
